{
 "cells": [
  {
   "cell_type": "markdown",
   "id": "0286b8f2",
   "metadata": {},
   "source": [
    "# **<font color=#ffffff>Provider Segmentation**\n",
    "フレンチ • 提供者のセグメンテーション!! • 2025"
   ]
  },
  {
   "cell_type": "markdown",
   "id": "e16c589c",
   "metadata": {},
   "source": [
    "<font color=#ffffff>\n",
    "<b>1st Framework - Aug 4, 2025 • 10:58 AM (Process Draft Step 1 - Step 11)</b>\n",
    "\n",
    "<b>2nd Framework - Aug 25, 2025 • 05:36 PM (After 2nd Internship Presentation)</b>\n",
    "\n",
    "<b>3rd Framework - Aug 26, 2025 • 11:07 AM (From Step 1 to Step 2.2)</b> \n",
    "\n",
    "<b>4th Framework - Aug 27, 2025 • 02:00 PM (Step 2.3)</b>\n",
    "\n",
    "<b>5th Framework - Aug 28, 2025 • 11:47 PM (Step 2.3 Numerical - Step 3)</b>\n",
    "\n",
    "<b>6th Framework - Aug 29, 2025 • 09:11 AM (Step 3.1 Finish Handling Missing Value)</b>\n",
    "\n",
    "<b>7th Framework - Sep 1, 2025 (Step 3.2 - Step 3.5 about to delete professional_id 0 and 300)</b>\n",
    "\n",
    "<b>8th Framework - Sep 3, 2025 • 04:26 PM (Step 3.5 - Step 4.1.1)</b>\n",
    "\n",
    "<b>9th Framework - Sep 4, 2025 • 11:28 AM (Step 4.1.2 - Step 4.4)</b>\n",
    "\n",
    "<b>10th Framework - Sep 5, 2025 • 10:13 AM (Step 4.5)</b>\n",
    "\n",
    "<b>11th Framework - Sep 8, 2025 • 09:46 AM (Step 4.6 - Finished!)</b>"
   ]
  },
  {
   "cell_type": "markdown",
   "id": "b0ad6b21",
   "metadata": {
    "vscode": {
     "languageId": "html"
    }
   },
   "source": [
    "<img src=\"https://github.com/FearlessFrench/provider-segmentation/blob/main/visuals/image.png?raw=true\" width=\"500\">"
   ]
  },
  {
   "cell_type": "markdown",
   "id": "be6f2322",
   "metadata": {},
   "source": [
    "<div style=\"border-radius:10px; padding:15px; background-color:rgb(256,12,84); font-size:100%; text-align:left; color:#ffffff;\">\n",
    "\n",
    "## <b><font color=#ffffff>Objectives</font></b>\n",
    "\n",
    "<font color=#ffffff>\n",
    "\n",
    "  <h4 align=\"left\"><b>1st Phase - Exploratory Data Analysis</b></h4>\n",
    "  <ul>\n",
    "    <li><b>Exploratory Data Analysis (EDA)</b>: Visualizes data to understand its main features, find patterns and discover how different parts of data are connected.</li>\n",
    "    <li><b>Data Cleaning & Transformation</b>: Clean the dataset by handling missing values, duplicates, and outliers, preparing it for effective clustering.</li>\n",
    "    <li><b>Feature Engineering</b>: Develop new features based on the booking data and provider's behavior data to create a service provider centric dataset, setting the foundation for Provider Segmentation.</li>\n",
    "    <li><b>Data Preprocessing</b>: Undertake feature scaling and dimensionality reduction to streamline the data (if necessary), enhancing the efficiency of the clustering process.</li>\n",
    "  </ul>\n",
    "\n",
    "  <h4 align=\"left\"><b>2nd Phase - Data Modeling & Analysis</b></h4>\n",
    "  <ul>\n",
    "    <li><b>Provider Segmentation using K-Means Clustering</b>: Segment service providers into distinct groups using K-means, facilitating targeted marketing and personalized strategies.</li>\n",
    "    <li><b>Cluster Analysis & Evaluation</b>: Analyze and profile each cluster to develop targeted marketing strategies and assess the quality of the clusters formed.</li>\n",
    "    <li><b>Experimentation</b>: Implementing other clustering models such as Hierarchical Clustering, DBSCAN, etc. to find the best model for segmentation of providers.</li>\n",
    "  </ul>\n",
    "\n",
    "</div>\n"
   ]
  },
  {
   "cell_type": "markdown",
   "id": "1ee06fd0",
   "metadata": {},
   "source": [
    "<a id=\"contents_table\"></a>\n",
    "\n",
    "<div style=\"border-radius:10px; padding: 15px; background-color:#10041c; font-size:100%; text-align:left\">\n",
    "\n",
    "## <b><font color=#ffffff>Table of Contents</font></b>\n",
    "\n",
    "<font color=#ffffff>\n",
    "\n",
    "<!-- - [Popular Services](#popular_services)\n",
    "     - [Booking Geographic Distribution](#booking_geographic)\n",
    "     - [Cancellation Insights](#cancellation_insights)\n",
    "     - [Numerical Variables](#numerical_variables) -->\n",
    "<!-- - [Booking Status](#booking_status) -->\n",
    "<!-- - [Booking Trends](#booking_trends) -->\n",
    "\n",
    "**1st Phase - Exploratory Data Analysis (Data Cleaing & Transformation + Feature Engineering)**\n",
    "* [Step 1 | Setup and Initialization](#setup)\n",
    "    - [Step 1.1 | Importing Necessary Libraries](#libraries) \n",
    "    - [Step 1.2 | Loading the Dataset](#load_dataset)\n",
    "    - [Step 1.3 | Dataset Description](#data_description)\n",
    "* [Step 2 | Exploratory Data Analysis](#exploratory_analysis) \n",
    "    - [Step 2.1 | Dataset Overview](#overview) \n",
    "    - [Step 2.2 | Summary Statistics](#statistics)\n",
    "    - [Step 2.3 | Data Visualization](#visualizations)\n",
    "        - [Univariate Analysis (Single Variable)](#univariate)\n",
    "        - [Bivariate Analysis (Two Variable)](#bivariate)   \n",
    "        - [Time-based Analysis](#time-based)\n",
    "* [Step 3 | Data Cleaning & Transformation](#data_cleaning)\n",
    "    - [Step 3.1 | Handling Missing Values](#missing_values)\n",
    "    - [Step 3.2 | Handling Duplicates](#duplicates)\n",
    "    - [Step 3.3 | Treating Cancelled Bookings](#cancelled_cleaning)\n",
    "    - [Step 3.4 | Correcting Date Anomalies](#date_cleaning)\n",
    "    - [Step 3.5 | Ensuring Data Consistency](#data_consistency)\n",
    "        - [Same-day Inconsistency](#sameday_inconsistency)\n",
    "        - [Status Inconsistency](#status_inconsistency)\n",
    "        - [Geographic Inconsistency](#geographic_inconsistency)\n",
    "        - [IDs Inconsistency](#id_inconsistency)\n",
    "    - [Step 3.6 | Outlier Treatment](#outlier_cleaning)\n",
    "* [Step 4 | Feature Engineering](#feature_engineering)\n",
    "    - [Step 4.1 | RFM Features](#rfm_features)\n",
    "        - [Step 4.1.1 | Recency (R)](#recency) \n",
    "        - [Step 4.1.2 | Frequency (F)](#frequency)\n",
    "        - [Step 4.1.3 | Monetary (M)](#monetary)\n",
    "    - [Step 4.2 | Service Type Diversity](#type_diversity)\n",
    "    - [Step 4.3 | Behavioral Features](#behavioral_features)\n",
    "    - [Step 4.4 | Cancellation Insights](#cancellation_insights) \n",
    "    - [Step 4.5 | Seasonality & Trends](#seasonality_trends) \n",
    "    - [Step 4.6 | Advanced Provider Features](#advanced_features) \n",
    "    - [Step 4.7 | Export Feature Engineer Data](#export_features) \n",
    "        - [Provider Dataset Description](#provider_description)\n",
    "* [Step 5 | Data Preparation for Clustering Models](#data_preparation)\n",
    "\n",
    "\n",
    "**2nd Phase - Data Modeling & Analysis (Outdated Pipeline)**\n",
    "* [Step 6 | Outlier Detection and Treatment](#outlier_detection)\n",
    "* [Step 7 | Correlation Analysis](#correlation)\n",
    "* [Step 8 | Feature Scaling](#scaling)\n",
    "* [Step 9 | Dimensionality Reduction](#pca)\n",
    "* [Step 10 | K-Means Clustering](#kmeans) \n",
    "    - [Step 10.1 | Determining the Optimal Number of Clusters](#optimal_k) \n",
    "        - [Step 10.1.1 | Elbow Method](#elbow)\n",
    "        - [Step 10.1.2 | Silhouette Method](#silhouette)\n",
    "    - [Step 10.2 | Clustering Model - K-means](#kmeans_model)\n",
    "* [Step 11 | Clustering Evaluation](#evaluation)  \n",
    "    - [Step 11.1 | 3D Visualization of Top Principal Components](#3d_visualization)\n",
    "    - [Step 11.2 | Cluster Distribution Visualization](#cluster_distributuion) \n",
    "    - [Step 11.3 | Evaluation Metrics](#evaluations_metrics)\n",
    "* [Step 12 | Cluster Analysis and Profiling](#profiling)\n",
    "    - [Step 12.1 | Radar Chart Approach](#radar_chart)\n",
    "    - [Step 12.2 | Histogram Chart Approach](#histogram)"
   ]
  },
  {
   "cell_type": "markdown",
   "id": "4f8de01f",
   "metadata": {},
   "source": [
    "<a id=\"setup\"></a>\n",
    "\n",
    "## <b><span style='color:#ffa705'>Step 1 |</span><span style='color:#ffffff'> Setup and Initialization</span></b>\n",
    "⬆️ [Table of Contents](#contents_table)"
   ]
  },
  {
   "cell_type": "markdown",
   "id": "5967a9d7",
   "metadata": {},
   "source": [
    "<a id=\"libraries\"></a>\n",
    "\n",
    "### <b><span style='color:#ffa705'>Step 1.1 |</span><span style='color:#ffffff'> Importing Necessary Libraries</span></b>\n",
    "⬆️ [Table of Contents](#contents_table)\n",
    "\n",
    "<font color=#ffffff>\n",
    "Import all necessary libraries that will be use throughout the project.\n",
    "\n",
    "This includes libraries for data manipulation, data visualization, and others based on the specific needs of the project."
   ]
  },
  {
   "cell_type": "code",
   "execution_count": 1,
   "id": "1d6de586",
   "metadata": {},
   "outputs": [],
   "source": [
    "# Ignore warnings\n",
    "import warnings\n",
    "warnings.filterwarnings(\"ignore\")\n",
    "\n",
    "import numpy as np\n",
    "import pandas as pd\n",
    "import geopandas as gpd\n",
    "import seaborn as sns\n",
    "import matplotlib.pyplot as plt\n",
    "import matplotlib.gridspec as gridspec\n",
    "import plotly.express as px\n",
    "import plotly.graph_objects as go\n",
    "from plotly.subplots import make_subplots\n",
    "from matplotlib.colors import LinearSegmentedColormap\n",
    "from matplotlib import colors as mcolors\n",
    "from scipy.stats import linregress\n",
    "from sklearn.ensemble import IsolationForest\n",
    "from sklearn.preprocessing import StandardScaler\n",
    "from sklearn.decomposition import PCA\n",
    "from yellowbrick.cluster import KElbowVisualizer, SilhouetteVisualizer\n",
    "from sklearn.metrics import silhouette_score, calinski_harabasz_score, davies_bouldin_score\n",
    "from sklearn.cluster import KMeans\n",
    "from tabulate import tabulate\n",
    "from collections import Counter\n",
    "\n",
    "%matplotlib inline"
   ]
  },
  {
   "cell_type": "code",
   "execution_count": 2,
   "id": "79385943",
   "metadata": {},
   "outputs": [
    {
     "data": {
      "text/html": [
       "        <script type=\"text/javascript\">\n",
       "        window.PlotlyConfig = {MathJaxConfig: 'local'};\n",
       "        if (window.MathJax && window.MathJax.Hub && window.MathJax.Hub.Config) {window.MathJax.Hub.Config({SVG: {font: \"STIX-Web\"}});}\n",
       "        </script>\n",
       "        <script type=\"module\">import \"https://cdn.plot.ly/plotly-3.0.1.min\"</script>\n",
       "        "
      ]
     },
     "metadata": {},
     "output_type": "display_data"
    }
   ],
   "source": [
    "# Inintialize Plotly for use in the notebook\n",
    "from plotly.offline import init_notebook_mode\n",
    "init_notebook_mode(connected=True)"
   ]
  },
  {
   "cell_type": "code",
   "execution_count": 3,
   "id": "afa4f44d",
   "metadata": {},
   "outputs": [],
   "source": [
    "# Configure Seaborn plot styles: Set background color and use dark grid\n",
    "sns.set(rc={'axes.facecolor': '#fcf0dc'}, style='darkgrid')"
   ]
  },
  {
   "cell_type": "code",
   "execution_count": 4,
   "id": "fa68a3bf",
   "metadata": {},
   "outputs": [],
   "source": [
    "# Display all columns of booking_raw without truncation\n",
    "pd.set_option('display.max_columns', None)"
   ]
  },
  {
   "cell_type": "markdown",
   "id": "a747e0e5",
   "metadata": {},
   "source": [
    "<a id=\"load_dataset\"></a>\n",
    "\n",
    "### <b><span style='color:#ffa705'>Step 1.2 |</span><span style='color:#ffffff'> Loading the Dataset</span></b>\n",
    "⬆️ [Table of Contents](#contents_table)\n",
    "\n",
    "<font color=#ffffff>\n",
    "\n",
    "Next, load the booking and provider's behavior datasets into a pandas DataFrame which will facilitate easy manipulation and analysis."
   ]
  },
  {
   "cell_type": "code",
   "execution_count": 5,
   "id": "618a1a3b",
   "metadata": {},
   "outputs": [],
   "source": [
    "data = \"C:\\\\Users\\\\Christopher French\\\\Downloads\\\\ビニート\\\\16-24_internship_project\\\\data\\\\booking_raw.csv\"\n",
    "\n",
    "df = pd.read_csv(data)"
   ]
  },
  {
   "cell_type": "code",
   "execution_count": 6,
   "id": "f49415a8",
   "metadata": {},
   "outputs": [
    {
     "data": {
      "text/html": [
       "<div>\n",
       "<style scoped>\n",
       "    .dataframe tbody tr th:only-of-type {\n",
       "        vertical-align: middle;\n",
       "    }\n",
       "\n",
       "    .dataframe tbody tr th {\n",
       "        vertical-align: top;\n",
       "    }\n",
       "\n",
       "    .dataframe thead th {\n",
       "        text-align: right;\n",
       "    }\n",
       "</style>\n",
       "<table border=\"1\" class=\"dataframe\">\n",
       "  <thead>\n",
       "    <tr style=\"text-align: right;\">\n",
       "      <th></th>\n",
       "      <th>booking_id</th>\n",
       "      <th>user_id</th>\n",
       "      <th>is_new_customer</th>\n",
       "      <th>user_place_id</th>\n",
       "      <th>place_size</th>\n",
       "      <th>service_name</th>\n",
       "      <th>sub_service_name</th>\n",
       "      <th>extra_service</th>\n",
       "      <th>province</th>\n",
       "      <th>district</th>\n",
       "      <th>booking_date</th>\n",
       "      <th>cleaning_date</th>\n",
       "      <th>is_sameday</th>\n",
       "      <th>work_hour</th>\n",
       "      <th>additional_hour</th>\n",
       "      <th>total_price</th>\n",
       "      <th>discount_cost</th>\n",
       "      <th>credit_discount_cost</th>\n",
       "      <th>promo_code</th>\n",
       "      <th>discount_pct</th>\n",
       "      <th>booking_status</th>\n",
       "      <th>cancel_reason</th>\n",
       "      <th>professional_id</th>\n",
       "      <th>selected_professional_id</th>\n",
       "      <th>is_new_professional</th>\n",
       "      <th>rating</th>\n",
       "      <th>problem</th>\n",
       "      <th>is_claimed_booking</th>\n",
       "    </tr>\n",
       "  </thead>\n",
       "  <tbody>\n",
       "    <tr>\n",
       "      <th>0</th>\n",
       "      <td>23</td>\n",
       "      <td>31251</td>\n",
       "      <td>1</td>\n",
       "      <td>0</td>\n",
       "      <td>คอนโด 1 ห้องนอน (ไม่เกิน 40 ตร.ม.)</td>\n",
       "      <td>บริการทำความสะอาด</td>\n",
       "      <td>NaN</td>\n",
       "      <td>NaN</td>\n",
       "      <td>เชียงใหม่</td>\n",
       "      <td>NaN</td>\n",
       "      <td>2016-03-23 08:50:10</td>\n",
       "      <td>2016-03-26 13:00:00</td>\n",
       "      <td>0</td>\n",
       "      <td>2.0</td>\n",
       "      <td>0.0</td>\n",
       "      <td>400.0</td>\n",
       "      <td>0.0</td>\n",
       "      <td>0.0</td>\n",
       "      <td>NaN</td>\n",
       "      <td>NaN</td>\n",
       "      <td>เสร็จสิ้น</td>\n",
       "      <td>NaN</td>\n",
       "      <td>8</td>\n",
       "      <td>0</td>\n",
       "      <td>1</td>\n",
       "      <td>4.0</td>\n",
       "      <td>NaN</td>\n",
       "      <td>0</td>\n",
       "    </tr>\n",
       "    <tr>\n",
       "      <th>1</th>\n",
       "      <td>24</td>\n",
       "      <td>3</td>\n",
       "      <td>1</td>\n",
       "      <td>0</td>\n",
       "      <td>คอนโด 1 ห้องนอน (ไม่เกิน 50 ตร.ม.)</td>\n",
       "      <td>บริการทำความสะอาด</td>\n",
       "      <td>NaN</td>\n",
       "      <td>NaN</td>\n",
       "      <td>เชียงใหม่</td>\n",
       "      <td>NaN</td>\n",
       "      <td>2016-03-24 21:14:38</td>\n",
       "      <td>2016-03-28 13:00:00</td>\n",
       "      <td>0</td>\n",
       "      <td>2.5</td>\n",
       "      <td>0.0</td>\n",
       "      <td>500.0</td>\n",
       "      <td>0.0</td>\n",
       "      <td>0.0</td>\n",
       "      <td>NaN</td>\n",
       "      <td>NaN</td>\n",
       "      <td>เสร็จสิ้น</td>\n",
       "      <td>NaN</td>\n",
       "      <td>5</td>\n",
       "      <td>0</td>\n",
       "      <td>1</td>\n",
       "      <td>NaN</td>\n",
       "      <td>NaN</td>\n",
       "      <td>0</td>\n",
       "    </tr>\n",
       "    <tr>\n",
       "      <th>2</th>\n",
       "      <td>25</td>\n",
       "      <td>3</td>\n",
       "      <td>0</td>\n",
       "      <td>0</td>\n",
       "      <td>คอนโด 1 ห้องนอน (ไม่เกิน 50 ตร.ม.)</td>\n",
       "      <td>บริการทำความสะอาด</td>\n",
       "      <td>NaN</td>\n",
       "      <td>NaN</td>\n",
       "      <td>เชียงใหม่</td>\n",
       "      <td>NaN</td>\n",
       "      <td>2016-03-26 20:56:23</td>\n",
       "      <td>2016-03-31 17:00:00</td>\n",
       "      <td>0</td>\n",
       "      <td>2.5</td>\n",
       "      <td>0.0</td>\n",
       "      <td>500.0</td>\n",
       "      <td>0.0</td>\n",
       "      <td>0.0</td>\n",
       "      <td>NaN</td>\n",
       "      <td>NaN</td>\n",
       "      <td>เสร็จสิ้น</td>\n",
       "      <td>NaN</td>\n",
       "      <td>7</td>\n",
       "      <td>0</td>\n",
       "      <td>0</td>\n",
       "      <td>5.0</td>\n",
       "      <td>NaN</td>\n",
       "      <td>0</td>\n",
       "    </tr>\n",
       "    <tr>\n",
       "      <th>3</th>\n",
       "      <td>26</td>\n",
       "      <td>3</td>\n",
       "      <td>0</td>\n",
       "      <td>0</td>\n",
       "      <td>คอนโด 1 ห้องนอน (ไม่เกิน 40 ตร.ม.)</td>\n",
       "      <td>บริการทำความสะอาด</td>\n",
       "      <td>NaN</td>\n",
       "      <td>NaN</td>\n",
       "      <td>เชียงใหม่</td>\n",
       "      <td>NaN</td>\n",
       "      <td>2016-03-26 20:58:36</td>\n",
       "      <td>2016-03-31 13:00:00</td>\n",
       "      <td>0</td>\n",
       "      <td>2.0</td>\n",
       "      <td>0.0</td>\n",
       "      <td>400.0</td>\n",
       "      <td>0.0</td>\n",
       "      <td>0.0</td>\n",
       "      <td>NaN</td>\n",
       "      <td>NaN</td>\n",
       "      <td>เสร็จสิ้น</td>\n",
       "      <td>NaN</td>\n",
       "      <td>7</td>\n",
       "      <td>0</td>\n",
       "      <td>0</td>\n",
       "      <td>5.0</td>\n",
       "      <td>NaN</td>\n",
       "      <td>0</td>\n",
       "    </tr>\n",
       "    <tr>\n",
       "      <th>4</th>\n",
       "      <td>27</td>\n",
       "      <td>3</td>\n",
       "      <td>0</td>\n",
       "      <td>0</td>\n",
       "      <td>คอนโด 1 ห้องนอน (ไม่เกิน 50 ตร.ม.)</td>\n",
       "      <td>บริการทำความสะอาด</td>\n",
       "      <td>NaN</td>\n",
       "      <td>NaN</td>\n",
       "      <td>เชียงใหม่</td>\n",
       "      <td>NaN</td>\n",
       "      <td>2016-03-26 21:04:26</td>\n",
       "      <td>2016-04-01 13:00:00</td>\n",
       "      <td>0</td>\n",
       "      <td>2.5</td>\n",
       "      <td>0.0</td>\n",
       "      <td>500.0</td>\n",
       "      <td>0.0</td>\n",
       "      <td>0.0</td>\n",
       "      <td>NaN</td>\n",
       "      <td>NaN</td>\n",
       "      <td>เสร็จสิ้น</td>\n",
       "      <td>NaN</td>\n",
       "      <td>8</td>\n",
       "      <td>0</td>\n",
       "      <td>0</td>\n",
       "      <td>5.0</td>\n",
       "      <td>NaN</td>\n",
       "      <td>0</td>\n",
       "    </tr>\n",
       "  </tbody>\n",
       "</table>\n",
       "</div>"
      ],
      "text/plain": [
       "  booking_id  user_id  is_new_customer  user_place_id  \\\n",
       "0         23    31251                1              0   \n",
       "1         24        3                1              0   \n",
       "2         25        3                0              0   \n",
       "3         26        3                0              0   \n",
       "4         27        3                0              0   \n",
       "\n",
       "                           place_size       service_name sub_service_name  \\\n",
       "0  คอนโด 1 ห้องนอน (ไม่เกิน 40 ตร.ม.)  บริการทำความสะอาด              NaN   \n",
       "1  คอนโด 1 ห้องนอน (ไม่เกิน 50 ตร.ม.)  บริการทำความสะอาด              NaN   \n",
       "2  คอนโด 1 ห้องนอน (ไม่เกิน 50 ตร.ม.)  บริการทำความสะอาด              NaN   \n",
       "3  คอนโด 1 ห้องนอน (ไม่เกิน 40 ตร.ม.)  บริการทำความสะอาด              NaN   \n",
       "4  คอนโด 1 ห้องนอน (ไม่เกิน 50 ตร.ม.)  บริการทำความสะอาด              NaN   \n",
       "\n",
       "  extra_service   province district         booking_date        cleaning_date  \\\n",
       "0           NaN  เชียงใหม่      NaN  2016-03-23 08:50:10  2016-03-26 13:00:00   \n",
       "1           NaN  เชียงใหม่      NaN  2016-03-24 21:14:38  2016-03-28 13:00:00   \n",
       "2           NaN  เชียงใหม่      NaN  2016-03-26 20:56:23  2016-03-31 17:00:00   \n",
       "3           NaN  เชียงใหม่      NaN  2016-03-26 20:58:36  2016-03-31 13:00:00   \n",
       "4           NaN  เชียงใหม่      NaN  2016-03-26 21:04:26  2016-04-01 13:00:00   \n",
       "\n",
       "   is_sameday  work_hour  additional_hour  total_price  discount_cost  \\\n",
       "0           0        2.0              0.0        400.0            0.0   \n",
       "1           0        2.5              0.0        500.0            0.0   \n",
       "2           0        2.5              0.0        500.0            0.0   \n",
       "3           0        2.0              0.0        400.0            0.0   \n",
       "4           0        2.5              0.0        500.0            0.0   \n",
       "\n",
       "   credit_discount_cost promo_code  discount_pct booking_status cancel_reason  \\\n",
       "0                   0.0        NaN           NaN      เสร็จสิ้น           NaN   \n",
       "1                   0.0        NaN           NaN      เสร็จสิ้น           NaN   \n",
       "2                   0.0        NaN           NaN      เสร็จสิ้น           NaN   \n",
       "3                   0.0        NaN           NaN      เสร็จสิ้น           NaN   \n",
       "4                   0.0        NaN           NaN      เสร็จสิ้น           NaN   \n",
       "\n",
       "   professional_id  selected_professional_id  is_new_professional  rating  \\\n",
       "0                8                         0                    1     4.0   \n",
       "1                5                         0                    1     NaN   \n",
       "2                7                         0                    0     5.0   \n",
       "3                7                         0                    0     5.0   \n",
       "4                8                         0                    0     5.0   \n",
       "\n",
       "  problem  is_claimed_booking  \n",
       "0     NaN                   0  \n",
       "1     NaN                   0  \n",
       "2     NaN                   0  \n",
       "3     NaN                   0  \n",
       "4     NaN                   0  "
      ]
     },
     "execution_count": 6,
     "metadata": {},
     "output_type": "execute_result"
    }
   ],
   "source": [
    "df.head()"
   ]
  },
  {
   "cell_type": "markdown",
   "id": "f5be6d18",
   "metadata": {},
   "source": [
    "<a id=\"data_description\"></a>\n",
    "\n",
    "### <b><span style='color:#ffa705'>Step 1.3 |</span><span style='color:#ffffff'> Dataset Description</span></b>\n",
    "⬆️ [Table of Contents](#contents_table)\n",
    "\n",
    "<div style=\"border-radius:10px; padding: 15px; background-color:#10041c; font-size:100%; text-align:left\">\n",
    "\n",
    "| __Features__              | __Description__ |\n",
    "|     :---                  |       :---      |      \n",
    "| __booking_id__            | Code representing each unique booking transaction. |\n",
    "| __user_id__               | Uniquely identifier assigned to each customer. |\n",
    "| __is_new_customer__       | Indicates if the booking was made by a first-time customer (1 = new, 0 = old). |\n",
    "| __user_place_id__         | Unique identifier of the customer’s place of residence. |\n",
    "| __place_size__            | Size/type of place. |\n",
    "| __service_name__          | Main cleaning service requested. |\n",
    "| __sub_service_name__      | Sub-service category under the main cleaning service. |\n",
    "| __extra_service__         | Any additional cleaning services requested. |\n",
    "| __province__              | Province where the service is booked. |\n",
    "| __district__              | District where the service is booked. |\n",
    "| __booking_date__          | Date and time when the booking was made. |\n",
    "| __cleaning_date__         | Scheduled date and time for the service. |\n",
    "| __is_sameday__            | Indicates if booking and cleaning service happen on the same day (1 = yes, 0 = no). |\n",
    "| __work_hour__             | Number of cleaning hours booked. |\n",
    "| __additional_hour__       | Number of additional cleaning hours requested. |\n",
    "| __total_price__           | Total service price before discounts. |\n",
    "| __discount_cost__         | Discount applied. |\n",
    "| __credit_discount_cost__  | Discount from credits applied. |\n",
    "| __promo_code__            | Promotional code applied to the booking. |\n",
    "| __discount_pct__          | Discount percentage applied. |\n",
    "| __booking_status__        | Current booking status (e.g., completed, canceled). |\n",
    "| __cancel_reason__         | Reason for cancellation (if booking was canceled). |\n",
    "| __professional_id__       | ID of the service provider assigned to the job. |\n",
    "| __selected_professional_id__ | ID of the service provider specifically chosen by the customer (if any). |\n",
    "| __is_new_professional__   | Indicates if the assigned service provider is new (1 = new, 0 = old). |\n",
    "| __rating__                | Customer’s rating of the service (if provided). |\n",
    "| __problem__               | Reported issues related to the booking / after service. |\n",
    "| __is_claimed_booking__    | Indicates if the booking was claimed by service provider (1 = claimed, 0 = unclaimed). |\n"
   ]
  },
  {
   "cell_type": "markdown",
   "id": "a78b7428",
   "metadata": {},
   "source": [
    "<a id=\"exploratory_analysis\"></a>\n",
    "\n",
    "## <b><span style='color:#ffa705'>Step 2 |</span><span style='color:#ffffff'> Exploratory Data Analysis</span></b>\n",
    "⬆️ [Table of Contents](#contents_table)"
   ]
  },
  {
   "cell_type": "markdown",
   "id": "672f27c6",
   "metadata": {},
   "source": [
    "<font color=#ffffff>\n",
    "We need to gain a thorough understanding of the dataset before proceeding to the data cleaning and transformation stages."
   ]
  },
  {
   "cell_type": "markdown",
   "id": "df79ca1e",
   "metadata": {},
   "source": [
    "<a id=\"overview\"></a>\n",
    "\n",
    "### <b><span style='color:#ffa705'>Step 2.1 |</span><span style='color:#ffffff'> Dataset Overview</span></b>\n",
    "⬆️ [Table of Contents](#contents_table)"
   ]
  },
  {
   "cell_type": "markdown",
   "id": "7d333530",
   "metadata": {},
   "source": [
    "<font color=#ffffff>\n",
    "Perform a preliminary analysis to understand the structure and types of data columns."
   ]
  },
  {
   "cell_type": "code",
   "execution_count": 7,
   "id": "77ee75e0",
   "metadata": {},
   "outputs": [
    {
     "data": {
      "text/html": [
       "<div>\n",
       "<style scoped>\n",
       "    .dataframe tbody tr th:only-of-type {\n",
       "        vertical-align: middle;\n",
       "    }\n",
       "\n",
       "    .dataframe tbody tr th {\n",
       "        vertical-align: top;\n",
       "    }\n",
       "\n",
       "    .dataframe thead th {\n",
       "        text-align: right;\n",
       "    }\n",
       "</style>\n",
       "<table border=\"1\" class=\"dataframe\">\n",
       "  <thead>\n",
       "    <tr style=\"text-align: right;\">\n",
       "      <th></th>\n",
       "      <th>booking_id</th>\n",
       "      <th>user_id</th>\n",
       "      <th>is_new_customer</th>\n",
       "      <th>user_place_id</th>\n",
       "      <th>place_size</th>\n",
       "      <th>service_name</th>\n",
       "      <th>sub_service_name</th>\n",
       "      <th>extra_service</th>\n",
       "      <th>province</th>\n",
       "      <th>district</th>\n",
       "      <th>booking_date</th>\n",
       "      <th>cleaning_date</th>\n",
       "      <th>is_sameday</th>\n",
       "      <th>work_hour</th>\n",
       "      <th>additional_hour</th>\n",
       "      <th>total_price</th>\n",
       "      <th>discount_cost</th>\n",
       "      <th>credit_discount_cost</th>\n",
       "      <th>promo_code</th>\n",
       "      <th>discount_pct</th>\n",
       "      <th>booking_status</th>\n",
       "      <th>cancel_reason</th>\n",
       "      <th>professional_id</th>\n",
       "      <th>selected_professional_id</th>\n",
       "      <th>is_new_professional</th>\n",
       "      <th>rating</th>\n",
       "      <th>problem</th>\n",
       "      <th>is_claimed_booking</th>\n",
       "    </tr>\n",
       "  </thead>\n",
       "  <tbody>\n",
       "    <tr>\n",
       "      <th>0</th>\n",
       "      <td>23</td>\n",
       "      <td>31251</td>\n",
       "      <td>1</td>\n",
       "      <td>0</td>\n",
       "      <td>คอนโด 1 ห้องนอน (ไม่เกิน 40 ตร.ม.)</td>\n",
       "      <td>บริการทำความสะอาด</td>\n",
       "      <td>NaN</td>\n",
       "      <td>NaN</td>\n",
       "      <td>เชียงใหม่</td>\n",
       "      <td>NaN</td>\n",
       "      <td>2016-03-23 08:50:10</td>\n",
       "      <td>2016-03-26 13:00:00</td>\n",
       "      <td>0</td>\n",
       "      <td>2.0</td>\n",
       "      <td>0.0</td>\n",
       "      <td>400.0</td>\n",
       "      <td>0.0</td>\n",
       "      <td>0.0</td>\n",
       "      <td>NaN</td>\n",
       "      <td>NaN</td>\n",
       "      <td>เสร็จสิ้น</td>\n",
       "      <td>NaN</td>\n",
       "      <td>8</td>\n",
       "      <td>0</td>\n",
       "      <td>1</td>\n",
       "      <td>4.0</td>\n",
       "      <td>NaN</td>\n",
       "      <td>0</td>\n",
       "    </tr>\n",
       "    <tr>\n",
       "      <th>1</th>\n",
       "      <td>24</td>\n",
       "      <td>3</td>\n",
       "      <td>1</td>\n",
       "      <td>0</td>\n",
       "      <td>คอนโด 1 ห้องนอน (ไม่เกิน 50 ตร.ม.)</td>\n",
       "      <td>บริการทำความสะอาด</td>\n",
       "      <td>NaN</td>\n",
       "      <td>NaN</td>\n",
       "      <td>เชียงใหม่</td>\n",
       "      <td>NaN</td>\n",
       "      <td>2016-03-24 21:14:38</td>\n",
       "      <td>2016-03-28 13:00:00</td>\n",
       "      <td>0</td>\n",
       "      <td>2.5</td>\n",
       "      <td>0.0</td>\n",
       "      <td>500.0</td>\n",
       "      <td>0.0</td>\n",
       "      <td>0.0</td>\n",
       "      <td>NaN</td>\n",
       "      <td>NaN</td>\n",
       "      <td>เสร็จสิ้น</td>\n",
       "      <td>NaN</td>\n",
       "      <td>5</td>\n",
       "      <td>0</td>\n",
       "      <td>1</td>\n",
       "      <td>NaN</td>\n",
       "      <td>NaN</td>\n",
       "      <td>0</td>\n",
       "    </tr>\n",
       "    <tr>\n",
       "      <th>2</th>\n",
       "      <td>25</td>\n",
       "      <td>3</td>\n",
       "      <td>0</td>\n",
       "      <td>0</td>\n",
       "      <td>คอนโด 1 ห้องนอน (ไม่เกิน 50 ตร.ม.)</td>\n",
       "      <td>บริการทำความสะอาด</td>\n",
       "      <td>NaN</td>\n",
       "      <td>NaN</td>\n",
       "      <td>เชียงใหม่</td>\n",
       "      <td>NaN</td>\n",
       "      <td>2016-03-26 20:56:23</td>\n",
       "      <td>2016-03-31 17:00:00</td>\n",
       "      <td>0</td>\n",
       "      <td>2.5</td>\n",
       "      <td>0.0</td>\n",
       "      <td>500.0</td>\n",
       "      <td>0.0</td>\n",
       "      <td>0.0</td>\n",
       "      <td>NaN</td>\n",
       "      <td>NaN</td>\n",
       "      <td>เสร็จสิ้น</td>\n",
       "      <td>NaN</td>\n",
       "      <td>7</td>\n",
       "      <td>0</td>\n",
       "      <td>0</td>\n",
       "      <td>5.0</td>\n",
       "      <td>NaN</td>\n",
       "      <td>0</td>\n",
       "    </tr>\n",
       "    <tr>\n",
       "      <th>3</th>\n",
       "      <td>26</td>\n",
       "      <td>3</td>\n",
       "      <td>0</td>\n",
       "      <td>0</td>\n",
       "      <td>คอนโด 1 ห้องนอน (ไม่เกิน 40 ตร.ม.)</td>\n",
       "      <td>บริการทำความสะอาด</td>\n",
       "      <td>NaN</td>\n",
       "      <td>NaN</td>\n",
       "      <td>เชียงใหม่</td>\n",
       "      <td>NaN</td>\n",
       "      <td>2016-03-26 20:58:36</td>\n",
       "      <td>2016-03-31 13:00:00</td>\n",
       "      <td>0</td>\n",
       "      <td>2.0</td>\n",
       "      <td>0.0</td>\n",
       "      <td>400.0</td>\n",
       "      <td>0.0</td>\n",
       "      <td>0.0</td>\n",
       "      <td>NaN</td>\n",
       "      <td>NaN</td>\n",
       "      <td>เสร็จสิ้น</td>\n",
       "      <td>NaN</td>\n",
       "      <td>7</td>\n",
       "      <td>0</td>\n",
       "      <td>0</td>\n",
       "      <td>5.0</td>\n",
       "      <td>NaN</td>\n",
       "      <td>0</td>\n",
       "    </tr>\n",
       "    <tr>\n",
       "      <th>4</th>\n",
       "      <td>27</td>\n",
       "      <td>3</td>\n",
       "      <td>0</td>\n",
       "      <td>0</td>\n",
       "      <td>คอนโด 1 ห้องนอน (ไม่เกิน 50 ตร.ม.)</td>\n",
       "      <td>บริการทำความสะอาด</td>\n",
       "      <td>NaN</td>\n",
       "      <td>NaN</td>\n",
       "      <td>เชียงใหม่</td>\n",
       "      <td>NaN</td>\n",
       "      <td>2016-03-26 21:04:26</td>\n",
       "      <td>2016-04-01 13:00:00</td>\n",
       "      <td>0</td>\n",
       "      <td>2.5</td>\n",
       "      <td>0.0</td>\n",
       "      <td>500.0</td>\n",
       "      <td>0.0</td>\n",
       "      <td>0.0</td>\n",
       "      <td>NaN</td>\n",
       "      <td>NaN</td>\n",
       "      <td>เสร็จสิ้น</td>\n",
       "      <td>NaN</td>\n",
       "      <td>8</td>\n",
       "      <td>0</td>\n",
       "      <td>0</td>\n",
       "      <td>5.0</td>\n",
       "      <td>NaN</td>\n",
       "      <td>0</td>\n",
       "    </tr>\n",
       "    <tr>\n",
       "      <th>5</th>\n",
       "      <td>28</td>\n",
       "      <td>11</td>\n",
       "      <td>1</td>\n",
       "      <td>0</td>\n",
       "      <td>สำนักงาน</td>\n",
       "      <td>บริการทำความสะอาด</td>\n",
       "      <td>NaN</td>\n",
       "      <td>NaN</td>\n",
       "      <td>เชียงใหม่</td>\n",
       "      <td>NaN</td>\n",
       "      <td>2016-03-30 14:38:38</td>\n",
       "      <td>2016-04-01 07:30:00</td>\n",
       "      <td>0</td>\n",
       "      <td>1.5</td>\n",
       "      <td>0.0</td>\n",
       "      <td>250.0</td>\n",
       "      <td>50.0</td>\n",
       "      <td>0.0</td>\n",
       "      <td>SAVE20</td>\n",
       "      <td>20.0</td>\n",
       "      <td>เสร็จสิ้น</td>\n",
       "      <td>NaN</td>\n",
       "      <td>7</td>\n",
       "      <td>0</td>\n",
       "      <td>0</td>\n",
       "      <td>NaN</td>\n",
       "      <td>NaN</td>\n",
       "      <td>0</td>\n",
       "    </tr>\n",
       "    <tr>\n",
       "      <th>6</th>\n",
       "      <td>29</td>\n",
       "      <td>3</td>\n",
       "      <td>0</td>\n",
       "      <td>0</td>\n",
       "      <td>คอนโด 1 ห้องนอน (ไม่เกิน 50 ตร.ม.)</td>\n",
       "      <td>บริการทำความสะอาด</td>\n",
       "      <td>NaN</td>\n",
       "      <td>NaN</td>\n",
       "      <td>เชียงใหม่</td>\n",
       "      <td>NaN</td>\n",
       "      <td>2016-03-30 15:15:28</td>\n",
       "      <td>2016-04-08 14:00:00</td>\n",
       "      <td>0</td>\n",
       "      <td>2.5</td>\n",
       "      <td>0.0</td>\n",
       "      <td>500.0</td>\n",
       "      <td>0.0</td>\n",
       "      <td>0.0</td>\n",
       "      <td>NaN</td>\n",
       "      <td>NaN</td>\n",
       "      <td>เสร็จสิ้น</td>\n",
       "      <td>NaN</td>\n",
       "      <td>7</td>\n",
       "      <td>0</td>\n",
       "      <td>0</td>\n",
       "      <td>5.0</td>\n",
       "      <td>NaN</td>\n",
       "      <td>0</td>\n",
       "    </tr>\n",
       "    <tr>\n",
       "      <th>7</th>\n",
       "      <td>30</td>\n",
       "      <td>3</td>\n",
       "      <td>0</td>\n",
       "      <td>0</td>\n",
       "      <td>คอนโด 1 ห้องนอน (ไม่เกิน 50 ตร.ม.)</td>\n",
       "      <td>บริการทำความสะอาด</td>\n",
       "      <td>NaN</td>\n",
       "      <td>NaN</td>\n",
       "      <td>เชียงใหม่</td>\n",
       "      <td>NaN</td>\n",
       "      <td>2016-04-02 11:11:39</td>\n",
       "      <td>2016-04-04 14:00:00</td>\n",
       "      <td>0</td>\n",
       "      <td>2.5</td>\n",
       "      <td>0.0</td>\n",
       "      <td>500.0</td>\n",
       "      <td>0.0</td>\n",
       "      <td>0.0</td>\n",
       "      <td>NaN</td>\n",
       "      <td>NaN</td>\n",
       "      <td>ยกเลิก</td>\n",
       "      <td>NaN</td>\n",
       "      <td>0</td>\n",
       "      <td>0</td>\n",
       "      <td>0</td>\n",
       "      <td>5.0</td>\n",
       "      <td>NaN</td>\n",
       "      <td>0</td>\n",
       "    </tr>\n",
       "    <tr>\n",
       "      <th>8</th>\n",
       "      <td>31</td>\n",
       "      <td>3</td>\n",
       "      <td>0</td>\n",
       "      <td>0</td>\n",
       "      <td>คอนโด 1 ห้องนอน (ไม่เกิน 40 ตร.ม.)</td>\n",
       "      <td>บริการทำความสะอาด</td>\n",
       "      <td>NaN</td>\n",
       "      <td>NaN</td>\n",
       "      <td>เชียงใหม่</td>\n",
       "      <td>NaN</td>\n",
       "      <td>2016-04-02 11:15:12</td>\n",
       "      <td>2016-04-05 10:00:00</td>\n",
       "      <td>0</td>\n",
       "      <td>2.0</td>\n",
       "      <td>0.0</td>\n",
       "      <td>400.0</td>\n",
       "      <td>0.0</td>\n",
       "      <td>0.0</td>\n",
       "      <td>NaN</td>\n",
       "      <td>NaN</td>\n",
       "      <td>เสร็จสิ้น</td>\n",
       "      <td>NaN</td>\n",
       "      <td>7</td>\n",
       "      <td>0</td>\n",
       "      <td>0</td>\n",
       "      <td>5.0</td>\n",
       "      <td>NaN</td>\n",
       "      <td>0</td>\n",
       "    </tr>\n",
       "    <tr>\n",
       "      <th>9</th>\n",
       "      <td>32</td>\n",
       "      <td>3</td>\n",
       "      <td>0</td>\n",
       "      <td>0</td>\n",
       "      <td>คอนโด 1 ห้องนอน (ไม่เกิน 40 ตร.ม.)</td>\n",
       "      <td>บริการทำความสะอาด</td>\n",
       "      <td>NaN</td>\n",
       "      <td>NaN</td>\n",
       "      <td>เชียงใหม่</td>\n",
       "      <td>NaN</td>\n",
       "      <td>2016-04-02 11:17:28</td>\n",
       "      <td>2016-04-07 14:00:00</td>\n",
       "      <td>0</td>\n",
       "      <td>2.0</td>\n",
       "      <td>0.0</td>\n",
       "      <td>400.0</td>\n",
       "      <td>0.0</td>\n",
       "      <td>0.0</td>\n",
       "      <td>NaN</td>\n",
       "      <td>NaN</td>\n",
       "      <td>เสร็จสิ้น</td>\n",
       "      <td>NaN</td>\n",
       "      <td>7</td>\n",
       "      <td>0</td>\n",
       "      <td>0</td>\n",
       "      <td>5.0</td>\n",
       "      <td>NaN</td>\n",
       "      <td>0</td>\n",
       "    </tr>\n",
       "  </tbody>\n",
       "</table>\n",
       "</div>"
      ],
      "text/plain": [
       "  booking_id  user_id  is_new_customer  user_place_id  \\\n",
       "0         23    31251                1              0   \n",
       "1         24        3                1              0   \n",
       "2         25        3                0              0   \n",
       "3         26        3                0              0   \n",
       "4         27        3                0              0   \n",
       "5         28       11                1              0   \n",
       "6         29        3                0              0   \n",
       "7         30        3                0              0   \n",
       "8         31        3                0              0   \n",
       "9         32        3                0              0   \n",
       "\n",
       "                           place_size       service_name sub_service_name  \\\n",
       "0  คอนโด 1 ห้องนอน (ไม่เกิน 40 ตร.ม.)  บริการทำความสะอาด              NaN   \n",
       "1  คอนโด 1 ห้องนอน (ไม่เกิน 50 ตร.ม.)  บริการทำความสะอาด              NaN   \n",
       "2  คอนโด 1 ห้องนอน (ไม่เกิน 50 ตร.ม.)  บริการทำความสะอาด              NaN   \n",
       "3  คอนโด 1 ห้องนอน (ไม่เกิน 40 ตร.ม.)  บริการทำความสะอาด              NaN   \n",
       "4  คอนโด 1 ห้องนอน (ไม่เกิน 50 ตร.ม.)  บริการทำความสะอาด              NaN   \n",
       "5                            สำนักงาน  บริการทำความสะอาด              NaN   \n",
       "6  คอนโด 1 ห้องนอน (ไม่เกิน 50 ตร.ม.)  บริการทำความสะอาด              NaN   \n",
       "7  คอนโด 1 ห้องนอน (ไม่เกิน 50 ตร.ม.)  บริการทำความสะอาด              NaN   \n",
       "8  คอนโด 1 ห้องนอน (ไม่เกิน 40 ตร.ม.)  บริการทำความสะอาด              NaN   \n",
       "9  คอนโด 1 ห้องนอน (ไม่เกิน 40 ตร.ม.)  บริการทำความสะอาด              NaN   \n",
       "\n",
       "  extra_service   province district         booking_date        cleaning_date  \\\n",
       "0           NaN  เชียงใหม่      NaN  2016-03-23 08:50:10  2016-03-26 13:00:00   \n",
       "1           NaN  เชียงใหม่      NaN  2016-03-24 21:14:38  2016-03-28 13:00:00   \n",
       "2           NaN  เชียงใหม่      NaN  2016-03-26 20:56:23  2016-03-31 17:00:00   \n",
       "3           NaN  เชียงใหม่      NaN  2016-03-26 20:58:36  2016-03-31 13:00:00   \n",
       "4           NaN  เชียงใหม่      NaN  2016-03-26 21:04:26  2016-04-01 13:00:00   \n",
       "5           NaN  เชียงใหม่      NaN  2016-03-30 14:38:38  2016-04-01 07:30:00   \n",
       "6           NaN  เชียงใหม่      NaN  2016-03-30 15:15:28  2016-04-08 14:00:00   \n",
       "7           NaN  เชียงใหม่      NaN  2016-04-02 11:11:39  2016-04-04 14:00:00   \n",
       "8           NaN  เชียงใหม่      NaN  2016-04-02 11:15:12  2016-04-05 10:00:00   \n",
       "9           NaN  เชียงใหม่      NaN  2016-04-02 11:17:28  2016-04-07 14:00:00   \n",
       "\n",
       "   is_sameday  work_hour  additional_hour  total_price  discount_cost  \\\n",
       "0           0        2.0              0.0        400.0            0.0   \n",
       "1           0        2.5              0.0        500.0            0.0   \n",
       "2           0        2.5              0.0        500.0            0.0   \n",
       "3           0        2.0              0.0        400.0            0.0   \n",
       "4           0        2.5              0.0        500.0            0.0   \n",
       "5           0        1.5              0.0        250.0           50.0   \n",
       "6           0        2.5              0.0        500.0            0.0   \n",
       "7           0        2.5              0.0        500.0            0.0   \n",
       "8           0        2.0              0.0        400.0            0.0   \n",
       "9           0        2.0              0.0        400.0            0.0   \n",
       "\n",
       "   credit_discount_cost promo_code  discount_pct booking_status cancel_reason  \\\n",
       "0                   0.0        NaN           NaN      เสร็จสิ้น           NaN   \n",
       "1                   0.0        NaN           NaN      เสร็จสิ้น           NaN   \n",
       "2                   0.0        NaN           NaN      เสร็จสิ้น           NaN   \n",
       "3                   0.0        NaN           NaN      เสร็จสิ้น           NaN   \n",
       "4                   0.0        NaN           NaN      เสร็จสิ้น           NaN   \n",
       "5                   0.0     SAVE20          20.0      เสร็จสิ้น           NaN   \n",
       "6                   0.0        NaN           NaN      เสร็จสิ้น           NaN   \n",
       "7                   0.0        NaN           NaN         ยกเลิก           NaN   \n",
       "8                   0.0        NaN           NaN      เสร็จสิ้น           NaN   \n",
       "9                   0.0        NaN           NaN      เสร็จสิ้น           NaN   \n",
       "\n",
       "   professional_id  selected_professional_id  is_new_professional  rating  \\\n",
       "0                8                         0                    1     4.0   \n",
       "1                5                         0                    1     NaN   \n",
       "2                7                         0                    0     5.0   \n",
       "3                7                         0                    0     5.0   \n",
       "4                8                         0                    0     5.0   \n",
       "5                7                         0                    0     NaN   \n",
       "6                7                         0                    0     5.0   \n",
       "7                0                         0                    0     5.0   \n",
       "8                7                         0                    0     5.0   \n",
       "9                7                         0                    0     5.0   \n",
       "\n",
       "  problem  is_claimed_booking  \n",
       "0     NaN                   0  \n",
       "1     NaN                   0  \n",
       "2     NaN                   0  \n",
       "3     NaN                   0  \n",
       "4     NaN                   0  \n",
       "5     NaN                   0  \n",
       "6     NaN                   0  \n",
       "7     NaN                   0  \n",
       "8     NaN                   0  \n",
       "9     NaN                   0  "
      ]
     },
     "execution_count": 7,
     "metadata": {},
     "output_type": "execute_result"
    }
   ],
   "source": [
    "df.head(10)"
   ]
  },
  {
   "cell_type": "code",
   "execution_count": 8,
   "id": "a956f2bc",
   "metadata": {},
   "outputs": [
    {
     "name": "stdout",
     "output_type": "stream",
     "text": [
      "<class 'pandas.core.frame.DataFrame'>\n",
      "RangeIndex: 1135060 entries, 0 to 1135059\n",
      "Data columns (total 28 columns):\n",
      " #   Column                    Non-Null Count    Dtype  \n",
      "---  ------                    --------------    -----  \n",
      " 0   booking_id                1135060 non-null  object \n",
      " 1   user_id                   1135060 non-null  int64  \n",
      " 2   is_new_customer           1135060 non-null  int64  \n",
      " 3   user_place_id             1135060 non-null  int64  \n",
      " 4   place_size                1109181 non-null  object \n",
      " 5   service_name              1135060 non-null  object \n",
      " 6   sub_service_name          26417 non-null    object \n",
      " 7   extra_service             38345 non-null    object \n",
      " 8   province                  1135060 non-null  object \n",
      " 9   district                  1055083 non-null  object \n",
      " 10  booking_date              1135060 non-null  object \n",
      " 11  cleaning_date             1122742 non-null  object \n",
      " 12  is_sameday                1135060 non-null  int64  \n",
      " 13  work_hour                 1135060 non-null  float64\n",
      " 14  additional_hour           1135060 non-null  float64\n",
      " 15  total_price               1135060 non-null  float64\n",
      " 16  discount_cost             1135060 non-null  float64\n",
      " 17  credit_discount_cost      1135060 non-null  float64\n",
      " 18  promo_code                627266 non-null   object \n",
      " 19  discount_pct              627266 non-null   float64\n",
      " 20  booking_status            1135060 non-null  object \n",
      " 21  cancel_reason             29611 non-null    object \n",
      " 22  professional_id           1135060 non-null  int64  \n",
      " 23  selected_professional_id  1135060 non-null  int64  \n",
      " 24  is_new_professional       1135060 non-null  int64  \n",
      " 25  rating                    285103 non-null   float64\n",
      " 26  problem                   17128 non-null    object \n",
      " 27  is_claimed_booking        1135060 non-null  int64  \n",
      "dtypes: float64(7), int64(8), object(13)\n",
      "memory usage: 242.5+ MB\n"
     ]
    }
   ],
   "source": [
    "df.info()"
   ]
  },
  {
   "cell_type": "markdown",
   "id": "304ac42c",
   "metadata": {},
   "source": [
    "<b>Inferences</b>\n",
    "\n",
    "<font color=#ffffff>\n",
    "The dataset consists of 1,135,060 entries and 28 columns."
   ]
  },
  {
   "cell_type": "markdown",
   "id": "43cad51d",
   "metadata": {},
   "source": [
    "<a id=\"statistics\"></a>\n",
    "\n",
    "### <b><span style='color:#ffa705'>Step 2.2 |</span><span style='color:#ffffff'> Summary Statistics</span></b>\n",
    "⬆️ [Table of Contents](#contents_table)"
   ]
  },
  {
   "cell_type": "markdown",
   "id": "b5545f9f",
   "metadata": {},
   "source": [
    "<font color=#ffffff>\n",
    "Now, we're going to generate summary statistics to gain initial insights into the data distribution."
   ]
  },
  {
   "cell_type": "code",
   "execution_count": 9,
   "id": "ac5bb8b9",
   "metadata": {},
   "outputs": [
    {
     "data": {
      "text/html": [
       "<div>\n",
       "<style scoped>\n",
       "    .dataframe tbody tr th:only-of-type {\n",
       "        vertical-align: middle;\n",
       "    }\n",
       "\n",
       "    .dataframe tbody tr th {\n",
       "        vertical-align: top;\n",
       "    }\n",
       "\n",
       "    .dataframe thead th {\n",
       "        text-align: right;\n",
       "    }\n",
       "</style>\n",
       "<table border=\"1\" class=\"dataframe\">\n",
       "  <thead>\n",
       "    <tr style=\"text-align: right;\">\n",
       "      <th></th>\n",
       "      <th>count</th>\n",
       "      <th>mean</th>\n",
       "      <th>std</th>\n",
       "      <th>min</th>\n",
       "      <th>25%</th>\n",
       "      <th>50%</th>\n",
       "      <th>75%</th>\n",
       "      <th>max</th>\n",
       "    </tr>\n",
       "  </thead>\n",
       "  <tbody>\n",
       "    <tr>\n",
       "      <th>user_id</th>\n",
       "      <td>1135060.0</td>\n",
       "      <td>140907.308184</td>\n",
       "      <td>99539.725507</td>\n",
       "      <td>1.0</td>\n",
       "      <td>54733.0</td>\n",
       "      <td>129205.0</td>\n",
       "      <td>212702.00</td>\n",
       "      <td>395520.00</td>\n",
       "    </tr>\n",
       "    <tr>\n",
       "      <th>is_new_customer</th>\n",
       "      <td>1135060.0</td>\n",
       "      <td>0.128785</td>\n",
       "      <td>0.334962</td>\n",
       "      <td>0.0</td>\n",
       "      <td>0.0</td>\n",
       "      <td>0.0</td>\n",
       "      <td>0.00</td>\n",
       "      <td>1.00</td>\n",
       "    </tr>\n",
       "    <tr>\n",
       "      <th>user_place_id</th>\n",
       "      <td>1135060.0</td>\n",
       "      <td>106770.395685</td>\n",
       "      <td>84117.169406</td>\n",
       "      <td>0.0</td>\n",
       "      <td>34078.0</td>\n",
       "      <td>89672.0</td>\n",
       "      <td>167293.25</td>\n",
       "      <td>2214890.00</td>\n",
       "    </tr>\n",
       "    <tr>\n",
       "      <th>is_sameday</th>\n",
       "      <td>1135060.0</td>\n",
       "      <td>0.127385</td>\n",
       "      <td>0.333404</td>\n",
       "      <td>0.0</td>\n",
       "      <td>0.0</td>\n",
       "      <td>0.0</td>\n",
       "      <td>0.00</td>\n",
       "      <td>1.00</td>\n",
       "    </tr>\n",
       "    <tr>\n",
       "      <th>work_hour</th>\n",
       "      <td>1135060.0</td>\n",
       "      <td>3.116785</td>\n",
       "      <td>1.398128</td>\n",
       "      <td>0.0</td>\n",
       "      <td>2.0</td>\n",
       "      <td>3.0</td>\n",
       "      <td>4.00</td>\n",
       "      <td>12.00</td>\n",
       "    </tr>\n",
       "    <tr>\n",
       "      <th>additional_hour</th>\n",
       "      <td>1135060.0</td>\n",
       "      <td>0.026330</td>\n",
       "      <td>0.196581</td>\n",
       "      <td>0.0</td>\n",
       "      <td>0.0</td>\n",
       "      <td>0.0</td>\n",
       "      <td>0.00</td>\n",
       "      <td>7.00</td>\n",
       "    </tr>\n",
       "    <tr>\n",
       "      <th>total_price</th>\n",
       "      <td>1135060.0</td>\n",
       "      <td>732.850109</td>\n",
       "      <td>277.588427</td>\n",
       "      <td>-1140.0</td>\n",
       "      <td>520.0</td>\n",
       "      <td>650.0</td>\n",
       "      <td>912.00</td>\n",
       "      <td>10000.00</td>\n",
       "    </tr>\n",
       "    <tr>\n",
       "      <th>discount_cost</th>\n",
       "      <td>1135060.0</td>\n",
       "      <td>30.905815</td>\n",
       "      <td>46.477370</td>\n",
       "      <td>0.0</td>\n",
       "      <td>0.0</td>\n",
       "      <td>25.0</td>\n",
       "      <td>50.00</td>\n",
       "      <td>1600.00</td>\n",
       "    </tr>\n",
       "    <tr>\n",
       "      <th>credit_discount_cost</th>\n",
       "      <td>1135060.0</td>\n",
       "      <td>2.431315</td>\n",
       "      <td>15.504882</td>\n",
       "      <td>0.0</td>\n",
       "      <td>0.0</td>\n",
       "      <td>0.0</td>\n",
       "      <td>0.00</td>\n",
       "      <td>1780.48</td>\n",
       "    </tr>\n",
       "    <tr>\n",
       "      <th>discount_pct</th>\n",
       "      <td>627266.0</td>\n",
       "      <td>7.319031</td>\n",
       "      <td>5.921336</td>\n",
       "      <td>0.0</td>\n",
       "      <td>5.0</td>\n",
       "      <td>7.0</td>\n",
       "      <td>9.00</td>\n",
       "      <td>100.00</td>\n",
       "    </tr>\n",
       "    <tr>\n",
       "      <th>professional_id</th>\n",
       "      <td>1135060.0</td>\n",
       "      <td>5223.179458</td>\n",
       "      <td>3550.103478</td>\n",
       "      <td>0.0</td>\n",
       "      <td>2039.0</td>\n",
       "      <td>5193.0</td>\n",
       "      <td>8133.00</td>\n",
       "      <td>12719.00</td>\n",
       "    </tr>\n",
       "    <tr>\n",
       "      <th>selected_professional_id</th>\n",
       "      <td>1135060.0</td>\n",
       "      <td>2129.143497</td>\n",
       "      <td>3172.532866</td>\n",
       "      <td>0.0</td>\n",
       "      <td>0.0</td>\n",
       "      <td>0.0</td>\n",
       "      <td>3769.00</td>\n",
       "      <td>12669.00</td>\n",
       "    </tr>\n",
       "    <tr>\n",
       "      <th>is_new_professional</th>\n",
       "      <td>1135060.0</td>\n",
       "      <td>0.006221</td>\n",
       "      <td>0.078626</td>\n",
       "      <td>0.0</td>\n",
       "      <td>0.0</td>\n",
       "      <td>0.0</td>\n",
       "      <td>0.00</td>\n",
       "      <td>1.00</td>\n",
       "    </tr>\n",
       "    <tr>\n",
       "      <th>rating</th>\n",
       "      <td>285103.0</td>\n",
       "      <td>4.897730</td>\n",
       "      <td>0.468229</td>\n",
       "      <td>0.5</td>\n",
       "      <td>5.0</td>\n",
       "      <td>5.0</td>\n",
       "      <td>5.00</td>\n",
       "      <td>5.00</td>\n",
       "    </tr>\n",
       "    <tr>\n",
       "      <th>is_claimed_booking</th>\n",
       "      <td>1135060.0</td>\n",
       "      <td>0.000132</td>\n",
       "      <td>0.011495</td>\n",
       "      <td>0.0</td>\n",
       "      <td>0.0</td>\n",
       "      <td>0.0</td>\n",
       "      <td>0.00</td>\n",
       "      <td>1.00</td>\n",
       "    </tr>\n",
       "  </tbody>\n",
       "</table>\n",
       "</div>"
      ],
      "text/plain": [
       "                              count           mean           std     min  \\\n",
       "user_id                   1135060.0  140907.308184  99539.725507     1.0   \n",
       "is_new_customer           1135060.0       0.128785      0.334962     0.0   \n",
       "user_place_id             1135060.0  106770.395685  84117.169406     0.0   \n",
       "is_sameday                1135060.0       0.127385      0.333404     0.0   \n",
       "work_hour                 1135060.0       3.116785      1.398128     0.0   \n",
       "additional_hour           1135060.0       0.026330      0.196581     0.0   \n",
       "total_price               1135060.0     732.850109    277.588427 -1140.0   \n",
       "discount_cost             1135060.0      30.905815     46.477370     0.0   \n",
       "credit_discount_cost      1135060.0       2.431315     15.504882     0.0   \n",
       "discount_pct               627266.0       7.319031      5.921336     0.0   \n",
       "professional_id           1135060.0    5223.179458   3550.103478     0.0   \n",
       "selected_professional_id  1135060.0    2129.143497   3172.532866     0.0   \n",
       "is_new_professional       1135060.0       0.006221      0.078626     0.0   \n",
       "rating                     285103.0       4.897730      0.468229     0.5   \n",
       "is_claimed_booking        1135060.0       0.000132      0.011495     0.0   \n",
       "\n",
       "                              25%       50%        75%         max  \n",
       "user_id                   54733.0  129205.0  212702.00   395520.00  \n",
       "is_new_customer               0.0       0.0       0.00        1.00  \n",
       "user_place_id             34078.0   89672.0  167293.25  2214890.00  \n",
       "is_sameday                    0.0       0.0       0.00        1.00  \n",
       "work_hour                     2.0       3.0       4.00       12.00  \n",
       "additional_hour               0.0       0.0       0.00        7.00  \n",
       "total_price                 520.0     650.0     912.00    10000.00  \n",
       "discount_cost                 0.0      25.0      50.00     1600.00  \n",
       "credit_discount_cost          0.0       0.0       0.00     1780.48  \n",
       "discount_pct                  5.0       7.0       9.00      100.00  \n",
       "professional_id            2039.0    5193.0    8133.00    12719.00  \n",
       "selected_professional_id      0.0       0.0    3769.00    12669.00  \n",
       "is_new_professional           0.0       0.0       0.00        1.00  \n",
       "rating                        5.0       5.0       5.00        5.00  \n",
       "is_claimed_booking            0.0       0.0       0.00        1.00  "
      ]
     },
     "execution_count": 9,
     "metadata": {},
     "output_type": "execute_result"
    }
   ],
   "source": [
    "# Summary statistics for numerical variables\n",
    "df.describe().T"
   ]
  },
  {
   "cell_type": "code",
   "execution_count": 10,
   "id": "3102a097",
   "metadata": {},
   "outputs": [
    {
     "data": {
      "text/html": [
       "<div>\n",
       "<style scoped>\n",
       "    .dataframe tbody tr th:only-of-type {\n",
       "        vertical-align: middle;\n",
       "    }\n",
       "\n",
       "    .dataframe tbody tr th {\n",
       "        vertical-align: top;\n",
       "    }\n",
       "\n",
       "    .dataframe thead th {\n",
       "        text-align: right;\n",
       "    }\n",
       "</style>\n",
       "<table border=\"1\" class=\"dataframe\">\n",
       "  <thead>\n",
       "    <tr style=\"text-align: right;\">\n",
       "      <th></th>\n",
       "      <th>count</th>\n",
       "      <th>unique</th>\n",
       "      <th>top</th>\n",
       "      <th>freq</th>\n",
       "    </tr>\n",
       "  </thead>\n",
       "  <tbody>\n",
       "    <tr>\n",
       "      <th>booking_id</th>\n",
       "      <td>1135060</td>\n",
       "      <td>1134293</td>\n",
       "      <td>201213YFJW</td>\n",
       "      <td>15</td>\n",
       "    </tr>\n",
       "    <tr>\n",
       "      <th>place_size</th>\n",
       "      <td>1109181</td>\n",
       "      <td>8</td>\n",
       "      <td>คอนโด 1 ห้องนอน (ไม่เกิน 40 ตร.ม.)</td>\n",
       "      <td>392132</td>\n",
       "    </tr>\n",
       "    <tr>\n",
       "      <th>service_name</th>\n",
       "      <td>1135060</td>\n",
       "      <td>4</td>\n",
       "      <td>บริการทำความสะอาด</td>\n",
       "      <td>1107105</td>\n",
       "    </tr>\n",
       "    <tr>\n",
       "      <th>sub_service_name</th>\n",
       "      <td>26417</td>\n",
       "      <td>7</td>\n",
       "      <td>ไม่เกิน 40 ชิ้น</td>\n",
       "      <td>9851</td>\n",
       "    </tr>\n",
       "    <tr>\n",
       "      <th>extra_service</th>\n",
       "      <td>38345</td>\n",
       "      <td>6</td>\n",
       "      <td>ทำความสะอาดก่อนเข้าอยู่/หลังย้ายออก (ไม่ใช่ทำค...</td>\n",
       "      <td>17972</td>\n",
       "    </tr>\n",
       "    <tr>\n",
       "      <th>province</th>\n",
       "      <td>1135060</td>\n",
       "      <td>3</td>\n",
       "      <td>กรุงเทพ และปริมณฑล</td>\n",
       "      <td>974206</td>\n",
       "    </tr>\n",
       "    <tr>\n",
       "      <th>district</th>\n",
       "      <td>1055083</td>\n",
       "      <td>123</td>\n",
       "      <td>เมืองเชียงใหม่</td>\n",
       "      <td>75542</td>\n",
       "    </tr>\n",
       "    <tr>\n",
       "      <th>booking_date</th>\n",
       "      <td>1135060</td>\n",
       "      <td>936000</td>\n",
       "      <td>2019-02-01 00:00:00</td>\n",
       "      <td>901</td>\n",
       "    </tr>\n",
       "    <tr>\n",
       "      <th>cleaning_date</th>\n",
       "      <td>1122742</td>\n",
       "      <td>73129</td>\n",
       "      <td>2021-10-31 09:00:00</td>\n",
       "      <td>282</td>\n",
       "    </tr>\n",
       "    <tr>\n",
       "      <th>promo_code</th>\n",
       "      <td>627266</td>\n",
       "      <td>21399</td>\n",
       "      <td>WELCOME05</td>\n",
       "      <td>55723</td>\n",
       "    </tr>\n",
       "    <tr>\n",
       "      <th>booking_status</th>\n",
       "      <td>1135060</td>\n",
       "      <td>5</td>\n",
       "      <td>เสร็จสิ้น</td>\n",
       "      <td>1069849</td>\n",
       "    </tr>\n",
       "    <tr>\n",
       "      <th>cancel_reason</th>\n",
       "      <td>29611</td>\n",
       "      <td>7</td>\n",
       "      <td>ผู้ให้บริการไม่สะดวกรับงานนี้</td>\n",
       "      <td>7183</td>\n",
       "    </tr>\n",
       "    <tr>\n",
       "      <th>problem</th>\n",
       "      <td>17128</td>\n",
       "      <td>38</td>\n",
       "      <td>คุณภาพการให้บริการต่ำกว่า 4 ดาว</td>\n",
       "      <td>4973</td>\n",
       "    </tr>\n",
       "  </tbody>\n",
       "</table>\n",
       "</div>"
      ],
      "text/plain": [
       "                    count   unique  \\\n",
       "booking_id        1135060  1134293   \n",
       "place_size        1109181        8   \n",
       "service_name      1135060        4   \n",
       "sub_service_name    26417        7   \n",
       "extra_service       38345        6   \n",
       "province          1135060        3   \n",
       "district          1055083      123   \n",
       "booking_date      1135060   936000   \n",
       "cleaning_date     1122742    73129   \n",
       "promo_code         627266    21399   \n",
       "booking_status    1135060        5   \n",
       "cancel_reason       29611        7   \n",
       "problem             17128       38   \n",
       "\n",
       "                                                                top     freq  \n",
       "booking_id                                               201213YFJW       15  \n",
       "place_size                       คอนโด 1 ห้องนอน (ไม่เกิน 40 ตร.ม.)   392132  \n",
       "service_name                                      บริการทำความสะอาด  1107105  \n",
       "sub_service_name                                    ไม่เกิน 40 ชิ้น     9851  \n",
       "extra_service     ทำความสะอาดก่อนเข้าอยู่/หลังย้ายออก (ไม่ใช่ทำค...    17972  \n",
       "province                                         กรุงเทพ และปริมณฑล   974206  \n",
       "district                                             เมืองเชียงใหม่    75542  \n",
       "booking_date                                    2019-02-01 00:00:00      901  \n",
       "cleaning_date                                   2021-10-31 09:00:00      282  \n",
       "promo_code                                                WELCOME05    55723  \n",
       "booking_status                                            เสร็จสิ้น  1069849  \n",
       "cancel_reason                         ผู้ให้บริการไม่สะดวกรับงานนี้     7183  \n",
       "problem                             คุณภาพการให้บริการต่ำกว่า 4 ดาว     4973  "
      ]
     },
     "execution_count": 10,
     "metadata": {},
     "output_type": "execute_result"
    }
   ],
   "source": [
    "# Summary statistics for categorical variables\n",
    "df.describe(include='object').T"
   ]
  },
  {
   "cell_type": "markdown",
   "id": "ddf764ac",
   "metadata": {},
   "source": [
    "<font color=#ffffff>\n",
    "\n",
    "<b>Inferences</b>\n",
    "\n",
    "Any variables that contain 1135060 non-null entries, indicating no missing values in the dataset.\n",
    "\n",
    "While other variables with missing values would need to be addressed.\n",
    "\n",
    "<div style=\"border-radius:10px; padding: 15px; background-color:#10041c; font-size:100%; text-align:left\">\n",
    "\n",
    "<b>Numerical Variables</b>\n",
    "\n",
    "- __`user_id`__:\n",
    "   - The customer IDs range from 1 to 395520 but not in order, helping in identifying unique customers.\n",
    "\n",
    "- __`is_new_customer`__:\n",
    "   - The average first time booking customer is approximately 1.3% of all current customers\n",
    "\n",
    "- __`work_hour`__:\n",
    "   - The average length of cleaning hours in a booking order is approximately 3.12 hours.\n",
    "   - The work hour has a short range, with a minimum value of 0 and a maximum value of 12.\n",
    "   - No outliers. Since the presence of outliers is indicated by a large difference between the maximum and the 75th percentile values.\n",
    "\n",
    "- __`total_price`__:\n",
    "   - The average booking total price of the products is approximately 732.85 THB.\n",
    "   - The total price also shows a wide range, from -1140 THB to 10000 THB, which suggests the presence of errors or noise in the data, as negative prices don't make sense.\n",
    "   - High possibility of outliers, the presence of outliers is indicated by a large difference between the maximum and the 75th percentile values.\n",
    "   \n",
    "- __`professional_id`__:\n",
    "   - The service provider IDs range from 0 to 12719 but not in order, helping in identifying unique service providers.\n",
    "\n",
    "- __`rating`__:\n",
    "   - The average service rating is approximately 4.90 score.\n",
    "   - Very high in missing values, might need to address missing values as unrated.\n",
    "    \n",
    "<b>Categorical Variables</b>\n",
    "\n",
    "- __`place_size`__:\n",
    "   - There are 8 unique cleaning place sizes.\n",
    "   - The most frequent place size is \"คอนโด 1 ห้องนอน (ไม่เกิน 40 ตร.ม.)\", appearing 392,132 times.\n",
    "   - There are some missing values in this column which need to be treated.\n",
    "\n",
    "- __`cancel_reason`__:\n",
    "   - Missing values here indicates that the booking is successful.\n",
    "   - The most frequent cancel reason provide is \"ผู้ให้บริการไม่สะดวกรับงานนี้\", appearing 7,183 times"
   ]
  },
  {
   "cell_type": "markdown",
   "id": "277fab62",
   "metadata": {},
   "source": [
    "<a id=\"visualizations\"></a>\n",
    "\n",
    "### <b><span style='color:#ffa705'>Step 2.3 |</span><span style='color:#ffffff'> Data Visualization</span></b>\n",
    "⬆️ [Table of Contents](#contents_table)"
   ]
  },
  {
   "cell_type": "markdown",
   "id": "17591aee",
   "metadata": {},
   "source": [
    "<font color=#ffffff>\n",
    "\n",
    "In this step, data visualization is used to gain deeper insights into the dataset.  \n",
    "\n",
    "Visualizing the data helps to identify patterns and trends, detect outliers and anomalies, understand relationships and correlations between variables, compare distributions across different categories, and simplify complex information for easier interpretation\n",
    "\n",
    "By combining different types of visualizations (e.g., histograms, scatter plots, box plots, and heatmaps), we can uncover meaningful insights that might not be obvious from raw data alone."
   ]
  },
  {
   "cell_type": "code",
   "execution_count": 11,
   "id": "bda01f10",
   "metadata": {},
   "outputs": [],
   "source": [
    "def apply_dark_theme(fig, bg_color=\"#10041c\", text_color=\"white\"):\n",
    "    fig.update_layout(\n",
    "        plot_bgcolor=bg_color,       # plot area background\n",
    "        paper_bgcolor=bg_color,      # outside plot background\n",
    "        font=dict(color=text_color)  # all text\n",
    "    )\n",
    "    return fig"
   ]
  },
  {
   "cell_type": "markdown",
   "id": "40ea0b6f",
   "metadata": {},
   "source": [
    "<a id=\"univariate\"></a>\n",
    "\n",
    "#### <b><span style='color:#ffffff'>Univariate Analysis (Single Variable)</span></b>\n",
    "⬆️ [Table of Contents](#contents_table)"
   ]
  },
  {
   "cell_type": "markdown",
   "id": "ebb739ea",
   "metadata": {},
   "source": [
    "<a id=\"popular_services\"></a>\n",
    "\n",
    "<font color=#ffffff>\n",
    "\n",
    "##### <b>Popular Services</b>\n",
    "\n",
    "* `service_name`\n",
    "\n",
    "* `sub_service_name`\n",
    "\n",
    "* `extra_service`"
   ]
  },
  {
   "cell_type": "code",
   "execution_count": null,
   "id": "5deb8823",
   "metadata": {},
   "outputs": [],
   "source": [
    "\n",
    "def get_counts(df, col, explode_delim=None):\n",
    "    ser = df[col].dropna().astype(str)\n",
    "    if explode_delim:\n",
    "        ser = ser[ser != ''].str.split(explode_delim).explode().str.strip()\n",
    "    counts = ser.value_counts().reset_index()\n",
    "    counts.columns = [col, 'count']\n",
    "    return counts\n",
    "\n",
    "def plot_bar_counts(df, col, explode_delim=None, horiz=False, title=None):\n",
    "    counts = get_counts(df, col, explode_delim=explode_delim)\n",
    "    if horiz:\n",
    "        fig = px.bar(counts, x='count', y=col,\n",
    "                     orientation='h',\n",
    "                     text='count',\n",
    "                     title=title or f\"Popular {col}\",\n",
    "                     color_discrete_sequence=[\"#F7D04F\"])\n",
    "        fig.update_layout(yaxis={'categoryorder':'total descending'})\n",
    "    else:\n",
    "        fig = px.bar(counts, x=col, y='count',\n",
    "                     text='count',\n",
    "                     title=title or f\"Popular {col}\",\n",
    "                     #color_discrete_sequence=[\"#4A94F7\"])\n",
    "                     color=col,  # map color to the category\n",
    "                     color_discrete_sequence=px.colors.qualitative.Pastel)  # or any palette\n",
    "        fig.update_layout(xaxis_tickangle=-45)\n",
    "        \n",
    "    fig.update_traces(textposition='outside')\n",
    "    fig.update_layout(width=700, height=400)\n",
    "    fig = apply_dark_theme(fig)\n",
    "    fig.show()\n",
    "\n",
    "# Individual plots\n",
    "plot_bar_counts(df, 'service_name', horiz=False, title='Popular Main Services')\n",
    "plot_bar_counts(df, 'sub_service_name', horiz=False, title='Popular Sub-Services')\n",
    "plot_bar_counts(df, 'extra_service', explode_delim=',', horiz=True, title='Popular Extra Services')"
   ]
  },
  {
   "cell_type": "markdown",
   "id": "49666429",
   "metadata": {},
   "source": [
    "<img src=\"https://github.com/FearlessFrench/provider-segmentation/blob/main/visuals/01_Popular_Main_Services.png?raw=true\">\n",
    "<img src=\"https://github.com/FearlessFrench/provider-segmentation/blob/main/visuals/02_Popular_Sub-Services.png?raw=true\">\n",
    "<img src=\"https://github.com/FearlessFrench/provider-segmentation/blob/main/visuals/03_Popular_Extra_Services.png?raw=true\">"
   ]
  },
  {
   "cell_type": "markdown",
   "id": "6eaed394",
   "metadata": {},
   "source": [
    "<a id=\"booking_geographic\"></a>\n",
    "\n",
    "<font color=#ffffff>\n",
    "\n",
    "##### <b>Booking Geographic Distribution</b>\n",
    "\n",
    "* `province` - Chiang Mai, Bangkok, Chonburi\n",
    "\n",
    "* `district` - A total of 123 unique districts"
   ]
  },
  {
   "cell_type": "code",
   "execution_count": null,
   "id": "a434a2c3",
   "metadata": {},
   "outputs": [],
   "source": [
    "# Choropleth Map using Thailand's GeoJSON\n",
    "gdf = gpd.read_file('C:\\\\Users\\\\Christopher French\\\\Downloads\\\\ビニート\\\\16-24_internship_project\\\\data\\\\geoBoundaries-THA-ADM1_simplified.geojson')\n",
    "\n",
    "# ----------------------------------------\n",
    "# 1. Map df.province to gdf.shapeName\n",
    "# ----------------------------------------\n",
    "province_map = {\n",
    "    \"เชียงใหม่\": \"Chiang Mai Province\",\n",
    "    \"กรุงเทพ และปริมณฑล\": \"Bangkok\",\n",
    "    \"ชลบุรี\": \"Chon Buri Province\"\n",
    "}\n",
    "# Aggregate booking counts per province\n",
    "province_counts = df['province'].value_counts().reset_index()\n",
    "province_counts.columns = ['province', 'count']\n",
    "province_counts['shapeName'] = province_counts['province'].map(province_map)\n",
    "\n",
    "# ----------------------------------------\n",
    "# 2. Merge counts with GeoDataFrame\n",
    "# ----------------------------------------\n",
    "gdf_merged = gdf.copy()\n",
    "gdf_merged = gdf_merged.merge(province_counts[['shapeName','count']], on='shapeName', how='left')\n",
    "gdf_merged['count'] = gdf_merged['count'].fillna(0)\n",
    "\n",
    "# Highlight only the 3 provinces by keeping others small but visible\n",
    "highlight = [\"Chiang Mai Province\", \"Bangkok\", \"Chon Buri Province\"]\n",
    "gdf_merged['highlight_count'] = gdf_merged.apply(\n",
    "    lambda row: row['count'] if row['shapeName'] in highlight else 1, axis=1\n",
    ")\n",
    "# Log scale to improve visibility\n",
    "gdf_merged['log_count'] = np.log1p(gdf_merged['highlight_count'])\n",
    "\n",
    "# ----------------------------------------\n",
    "# 3. Plot choropleth map\n",
    "# ----------------------------------------\n",
    "fig = px.choropleth_mapbox(\n",
    "    gdf_merged,\n",
    "    geojson=gdf_merged.__geo_interface__,  # use __geo_interface__ directly\n",
    "    locations='shapeName',\n",
    "    featureidkey='properties.shapeName',\n",
    "    color='log_count',\n",
    "    color_continuous_scale=\"Viridis\",\n",
    "    mapbox_style=\"carto-positron\",\n",
    "    zoom=5,\n",
    "    center={\"lat\": 15.5, \"lon\": 100.5},\n",
    "    opacity=0.7,\n",
    "    hover_name=\"shapeName\",\n",
    "    hover_data={\"count\": True, \"log_count\": False}  # show actual booking count\n",
    ")\n",
    "\n",
    "fig.update_layout(title=\"Booking Distribution by Province (Highlighted & Log Scale)\")\n",
    "#fig.update_layout(width=700, height=400)\n",
    "fig = apply_dark_theme(fig)\n",
    "fig.show()"
   ]
  },
  {
   "cell_type": "markdown",
   "id": "df480e45",
   "metadata": {},
   "source": [
    "<img src=\"https://github.com/FearlessFrench/provider-segmentation/blob/main/visuals/04_Booking_Distribution_by_Province.png?raw=true\">"
   ]
  },
  {
   "cell_type": "markdown",
   "id": "01bc9bb8",
   "metadata": {},
   "source": [
    "<a id=\"cancellation_insights\"></a>\n",
    "\n",
    "<font color=#ffffff>\n",
    "\n",
    "##### <b>Cancellation Insights</b>\n",
    "\n",
    "* `booking_status`\n",
    "    <pre>\n",
    "    Status                       Count\n",
    "    เสร็จสิ้น                       1069849\n",
    "    ยกเลิก                        42590\n",
    "    ยังไม่ระบุวันเข้าให้บริการ           11373\n",
    "    รอเข้าให้บริการ                  11078\n",
    "    ยังไม่มีคุณแม่บ้านกดรับงาน         170\n",
    "    </pre>\n",
    "\n",
    "* `cancel_reason`\n",
    "    <pre>\n",
    "    Reason                       Count\n",
    "    ผู้ให้บริการไม่สะดวกรับงานนี้        7183\n",
    "    ฉันต้องการเปลี่ยนวัน-เวลานัดหมาย   6839\n",
    "    อื่น ๆ                         6644\n",
    "    ผู้ให้บริการตอบรับช้า              3711\n",
    "    ฉันต้องการเปลี่ยนผู้ให้บริการ        2618\n",
    "    ฉันมีธุระด่วน                    2299\n",
    "    ผู้ให้บริการแจ้งให้ฉันยกเลิก         317\n",
    "    </pre>"
   ]
  },
  {
   "cell_type": "code",
   "execution_count": null,
   "id": "93a8bd8e",
   "metadata": {},
   "outputs": [],
   "source": [
    "# booking_status\n",
    "status_counts = df['booking_status'].value_counts().reset_index()\n",
    "status_counts.columns = ['booking_status', 'count']\n",
    "\n",
    "fig_status = px.bar(\n",
    "    status_counts,\n",
    "    x='booking_status',\n",
    "    y='count',\n",
    "    text='count',\n",
    "    title='Booking Status Distribution',\n",
    "    color='booking_status',\n",
    "    color_discrete_sequence=px.colors.sequential.Viridis\n",
    ")\n",
    "fig_status.update_layout(\n",
    "    template='plotly_dark',\n",
    "    xaxis_title='Booking Status',\n",
    "    yaxis_title='Number of Bookings'\n",
    ")\n",
    "#fig_status.update_layout(width=700, height=400)\n",
    "fig_status = apply_dark_theme(fig_status)\n",
    "fig_status.show()\n",
    "\n",
    "# cancel_reason\n",
    "cancel_counts = df['cancel_reason'].value_counts().reset_index()\n",
    "cancel_counts.columns = ['cancel_reason', 'count']\n",
    "\n",
    "fig_cancel = px.bar(\n",
    "    cancel_counts,\n",
    "    x='cancel_reason',\n",
    "    y='count',\n",
    "    text='count',\n",
    "    title='Cancellation Reasons Distribution',\n",
    "    color='cancel_reason',\n",
    "    color_discrete_sequence=px.colors.sequential.Magma\n",
    ")\n",
    "fig_cancel.update_layout(\n",
    "    template='plotly_dark',\n",
    "    xaxis_title='Reason',\n",
    "    yaxis_title='Number of Cancellations'\n",
    ")\n",
    "#fig_cancel.update_layout(width=700, height=400)\n",
    "fig_cancel = apply_dark_theme(fig_cancel)\n",
    "fig_cancel.show()"
   ]
  },
  {
   "cell_type": "markdown",
   "id": "3f23f2b4",
   "metadata": {},
   "source": [
    "<img src=\"https://github.com/FearlessFrench/provider-segmentation/blob/main/visuals/05_Booking_Status_Distribution.png?raw=true\">\n",
    "<img src=\"https://github.com/FearlessFrench/provider-segmentation/blob/main/visuals/06_Cancellation_Reasons_Distribution.png?raw=true\">\n"
   ]
  },
  {
   "cell_type": "markdown",
   "id": "3c016abd",
   "metadata": {},
   "source": [
    "<a id=\"numerical_variables\"></a>\n",
    "\n",
    "<font color=#ffffff>\n",
    "\n",
    "##### <b>Numerical Variables</b>\n",
    "\n",
    "To see skewness, outliers, and spending / rating distribution.\n",
    "\n",
    "* `discount_cost`\n",
    "\n",
    "* `credit_discount_cost`\n",
    "\n",
    "* `discount_pct`\n",
    "\n",
    "* `rating`"
   ]
  },
  {
   "cell_type": "code",
   "execution_count": null,
   "id": "b043512a",
   "metadata": {},
   "outputs": [],
   "source": [
    "rating_counts = df['rating'].value_counts(dropna=False).sort_index()\n",
    "\n",
    "# Convert index to string, representing NaN clearly\n",
    "rating_counts.index = rating_counts.index.map(lambda x: 'NaN' if pd.isna(x) else str(x))\n",
    "\n",
    "fig = px.bar(\n",
    "    rating_counts,\n",
    "    x=rating_counts.values,\n",
    "    y=rating_counts.index,\n",
    "    orientation='h',\n",
    "    title=\"Distribution of Ratings (Including NaN)\",\n",
    "    labels={'x': 'Count', 'y': 'Rating'}\n",
    ")\n",
    "fig.update_layout(width=700, height=400)\n",
    "fig = apply_dark_theme(fig)\n",
    "fig.show()"
   ]
  },
  {
   "cell_type": "markdown",
   "id": "18216694",
   "metadata": {},
   "source": [
    "<img src=\"https://github.com/FearlessFrench/provider-segmentation/blob/main/visuals/07_Ratings_Distribution.png?raw=true\">"
   ]
  },
  {
   "cell_type": "markdown",
   "id": "3a46976b",
   "metadata": {},
   "source": [
    "<a id=\"bivariate\"></a>\n",
    "#### <b><span style='color:#ffffff'>Bivariate Analysis (Two Variable)</span></b>\n",
    "⬆️ [Table of Contents](#contents_table)"
   ]
  },
  {
   "cell_type": "markdown",
   "id": "1a605411",
   "metadata": {},
   "source": [
    "<a id=\"provider_income\"></a>\n",
    "\n",
    "<font color=#ffffff>\n",
    "\n",
    "##### <b>Service Provider's Income</b>\n",
    "\n",
    "* `work_hour`\n",
    "\n",
    "* `additional_hour`\n",
    "\n",
    "* `total_price`"
   ]
  },
  {
   "cell_type": "code",
   "execution_count": null,
   "id": "d807ce2e",
   "metadata": {},
   "outputs": [],
   "source": [
    "# Histogram with boxplot marginal to see distribution + outliers\n",
    "fig = px.histogram(df, x='total_price', nbins=100,\n",
    "                   marginal='box', title='Distribution of Total Income with Outliers',\n",
    "                   labels={'total_price': 'Total Income'})\n",
    "fig.update_layout(width=700, height=400)\n",
    "fig = apply_dark_theme(fig)\n",
    "fig.show()\n",
    "\n",
    "# Scatterplot vs work_hour to see relation + outliers\n",
    "fig = px.scatter(\n",
    "    df, x='work_hour', y='total_price', title='Work Hours vs Total Income',\n",
    "    labels={'work_hour': 'Work Hours', 'total_price': 'Total Income'},\n",
    "    opacity=0.6\n",
    ")\n",
    "fig.update_layout(width=700, height=400)\n",
    "fig = apply_dark_theme(fig)\n",
    "fig.show()"
   ]
  },
  {
   "cell_type": "markdown",
   "id": "120ba562",
   "metadata": {},
   "source": [
    "<img src=\"https://github.com/FearlessFrench/provider-segmentation/blob/main/visuals/08_Income_Distribution.png?raw=true\">\n",
    "<img src=\"https://github.com/FearlessFrench/provider-segmentation/blob/main/visuals/09_Income_by_Work_Hours.png?raw=true\">"
   ]
  },
  {
   "cell_type": "markdown",
   "id": "4b4ee05a",
   "metadata": {},
   "source": [
    "<a id=\"booking_status\"></a>\n",
    "\n",
    "<font color=#ffffff>\n",
    "\n",
    "##### <b>Booking Status</b>\n",
    "\n",
    "* `service_name` vs `booking_status`\n",
    "\n",
    "* `province` vs `booking_status`"
   ]
  },
  {
   "cell_type": "code",
   "execution_count": null,
   "id": "8a1e5151",
   "metadata": {},
   "outputs": [],
   "source": [
    "# service_name vs booking_status\n",
    "fig = px.histogram(\n",
    "    df, \n",
    "    x='service_name', \n",
    "    color='booking_status', \n",
    "    barmode='group',  # side-by-side bars\n",
    "    title='Booking Status per Service',\n",
    "    labels={'service_name': 'Service Name', 'count': 'Number of Bookings'},\n",
    "    height=500\n",
    ")\n",
    "fig.update_layout(xaxis_tickangle=-45)\n",
    "fig.update_layout(width=700, height=400)\n",
    "fig = apply_dark_theme(fig)\n",
    "fig.show()\n",
    "\n",
    "\n",
    "# province vs booking_status\n",
    "fig = px.histogram(\n",
    "    df, \n",
    "    x='province', \n",
    "    color='booking_status', \n",
    "    barmode='group',\n",
    "    title='Booking Status per Province',\n",
    "    labels={'province': 'Province', 'count': 'Number of Bookings'},\n",
    "    height=500\n",
    ")\n",
    "fig.update_layout(xaxis_tickangle=-45)\n",
    "fig.update_layout(width=700, height=400)\n",
    "fig = apply_dark_theme(fig)\n",
    "fig.show()"
   ]
  },
  {
   "cell_type": "markdown",
   "id": "b65e4586",
   "metadata": {},
   "source": [
    "<img src=\"https://github.com/FearlessFrench/provider-segmentation/blob/main/visuals/10_Status_by_Service.png?raw=true\">\n",
    "<img src=\"https://github.com/FearlessFrench/provider-segmentation/blob/main/visuals/11_Status_by_Province.png?raw=true\">\n"
   ]
  },
  {
   "cell_type": "markdown",
   "id": "ff5e1a3a",
   "metadata": {},
   "source": [
    "<a id=\"time-based\"></a>\n",
    "\n",
    "#### <b><span style='color:#ffffff'>Time-based Analysis</span></b>\n",
    "⬆️ [Table of Contents](#contents_table)\n",
    "\n",
    "<font color=#ffffff>\n",
    "\n",
    "Ensure the date and time columns have are in datetime."
   ]
  },
  {
   "cell_type": "code",
   "execution_count": 15,
   "id": "8f7eacbe",
   "metadata": {},
   "outputs": [],
   "source": [
    "df['booking_date'] = pd.to_datetime(df['booking_date'], errors='coerce')\n",
    "df['cleaning_date'] = pd.to_datetime(df['cleaning_date'], errors='coerce')"
   ]
  },
  {
   "cell_type": "markdown",
   "id": "dbec8d3b",
   "metadata": {},
   "source": [
    "<a id=\"booking_trends\"></a>\n",
    "\n",
    "<font color=#ffffff>\n",
    "\n",
    "##### <b>Booking Trends</b>\n",
    "\n",
    "* `booking_date`\n",
    "\n",
    "* `cleaning_date`"
   ]
  },
  {
   "cell_type": "code",
   "execution_count": null,
   "id": "d88ae401",
   "metadata": {},
   "outputs": [],
   "source": [
    "# Aggregate counts per day\n",
    "booking_counts = df.groupby(df['booking_date'].dt.date)['booking_id'].count().reset_index()\n",
    "booking_counts.columns = ['date', 'booking_count']\n",
    "\n",
    "cleaning_counts = df.groupby(df['cleaning_date'].dt.date)['booking_id'].count().reset_index()\n",
    "cleaning_counts.columns = ['date', 'cleaning_count']\n",
    "\n",
    "# Merge booking and cleaning counts on date\n",
    "time_counts = pd.merge(booking_counts, cleaning_counts, on='date', how='outer').fillna(0)\n",
    "time_counts = time_counts.sort_values('date')\n",
    "\n",
    "fig = px.line(\n",
    "    time_counts,\n",
    "    x='date',\n",
    "    y=['booking_count', 'cleaning_count'],\n",
    "    labels={'value': 'Count', 'date': 'Date', 'variable': 'Type'},\n",
    "    title='Booking vs Cleaning Counts Over Time'\n",
    ")\n",
    "fig.update_layout(\n",
    "    xaxis_title='Date',\n",
    "    yaxis_title='Number of Bookings / Cleanings',\n",
    "    legend_title='Date Type'\n",
    ")\n",
    "fig.update_layout(width=700, height=400)\n",
    "fig = apply_dark_theme(fig)\n",
    "fig.show()"
   ]
  },
  {
   "cell_type": "markdown",
   "id": "e1ee4566",
   "metadata": {},
   "source": [
    "<img src=\"https://github.com/FearlessFrench/provider-segmentation/blob/main/visuals/12_Booking_and_Cleaning_Trends.png?raw=true\">\n"
   ]
  },
  {
   "cell_type": "markdown",
   "id": "777d1edc",
   "metadata": {},
   "source": [
    "<a id=\"data_cleaning\"></a>\n",
    "\n",
    "## <b><span style='color:#ffa705'>Step 3 |</span><span style='color:#ffffff'> Data Cleaning & Transformation</span></b>\n",
    "⬆️ [Table of Contents](#contents_table)\n",
    "\n",
    "<font color=#ffffff>\n",
    "\n",
    "This step encompasses a comprehensive cleaning and transformation process to refine the dataset. It includes addressing missing values, eliminating duplicate entries, correcting anomalies in booking and behavior datasets, and other necessary adjustments to prepare the data for in-depth analysis and modeling."
   ]
  },
  {
   "cell_type": "markdown",
   "id": "0b17559c",
   "metadata": {},
   "source": [
    "<a id=\"missing_values\"></a>\n",
    "\n",
    "### <b><span style='color:#ffa705'>Step 3.1 |</span><span style='color:#ffffff'> Handling Missing Values</span></b>\n",
    "⬆️ [Table of Contents](#contents_table)\n",
    "\n",
    "<font color=#ffffff>\n",
    "\n",
    "Determine the percentage of missing values present in each column, followed by selecting the most effective strategy to address them."
   ]
  },
  {
   "cell_type": "code",
   "execution_count": 12,
   "id": "fba82971",
   "metadata": {},
   "outputs": [
    {
     "data": {
      "application/vnd.plotly.v1+json": {
       "config": {
        "plotlyServerURL": "https://plot.ly"
       },
       "data": [
        {
         "hovertemplate": "Missing Percentage (%)=%{x}<br>Columns=%{y}<br>color=%{marker.color}<extra></extra>",
         "legendgroup": "",
         "marker": {
          "color": {
           "bdata": "B72uDhld8T+BT1ekXz0CQBB4NycqLxxAq6LCY1xeRkCrosJjXF5GQL9vq6p0uFJARK5H/conWED+DkQQCllYQIsyq28Ma1hAY028n2yfWEA=",
           "dtype": "f8"
          },
          "coloraxis": "coloraxis",
          "pattern": {
           "shape": ""
          }
         },
         "name": "",
         "orientation": "h",
         "showlegend": false,
         "textposition": "auto",
         "type": "bar",
         "x": {
          "bdata": "B72uDhld8T+BT1ekXz0CQBB4NycqLxxAq6LCY1xeRkCrosJjXF5GQL9vq6p0uFJARK5H/conWED+DkQQCllYQIsyq28Ma1hAY028n2yfWEA=",
          "dtype": "f8"
         },
         "xaxis": "x",
         "y": [
          "cleaning_date",
          "place_size",
          "district",
          "promo_code",
          "discount_pct",
          "rating",
          "extra_service",
          "cancel_reason",
          "sub_service_name",
          "problem"
         ],
         "yaxis": "y"
        }
       ],
       "layout": {
        "barmode": "relative",
        "coloraxis": {
         "colorbar": {
          "title": {
           "text": "color"
          }
         },
         "colorscale": [
          [
           0,
           "rgb(247,251,255)"
          ],
          [
           0.125,
           "rgb(222,235,247)"
          ],
          [
           0.25,
           "rgb(198,219,239)"
          ],
          [
           0.375,
           "rgb(158,202,225)"
          ],
          [
           0.5,
           "rgb(107,174,214)"
          ],
          [
           0.625,
           "rgb(66,146,198)"
          ],
          [
           0.75,
           "rgb(33,113,181)"
          ],
          [
           0.875,
           "rgb(8,81,156)"
          ],
          [
           1,
           "rgb(8,48,107)"
          ]
         ]
        },
        "font": {
         "color": "white"
        },
        "height": 400,
        "legend": {
         "tracegroupgap": 0
        },
        "paper_bgcolor": "#10041c",
        "plot_bgcolor": "#10041c",
        "template": {
         "data": {
          "bar": [
           {
            "error_x": {
             "color": "#2a3f5f"
            },
            "error_y": {
             "color": "#2a3f5f"
            },
            "marker": {
             "line": {
              "color": "#E5ECF6",
              "width": 0.5
             },
             "pattern": {
              "fillmode": "overlay",
              "size": 10,
              "solidity": 0.2
             }
            },
            "type": "bar"
           }
          ],
          "barpolar": [
           {
            "marker": {
             "line": {
              "color": "#E5ECF6",
              "width": 0.5
             },
             "pattern": {
              "fillmode": "overlay",
              "size": 10,
              "solidity": 0.2
             }
            },
            "type": "barpolar"
           }
          ],
          "carpet": [
           {
            "aaxis": {
             "endlinecolor": "#2a3f5f",
             "gridcolor": "white",
             "linecolor": "white",
             "minorgridcolor": "white",
             "startlinecolor": "#2a3f5f"
            },
            "baxis": {
             "endlinecolor": "#2a3f5f",
             "gridcolor": "white",
             "linecolor": "white",
             "minorgridcolor": "white",
             "startlinecolor": "#2a3f5f"
            },
            "type": "carpet"
           }
          ],
          "choropleth": [
           {
            "colorbar": {
             "outlinewidth": 0,
             "ticks": ""
            },
            "type": "choropleth"
           }
          ],
          "contour": [
           {
            "colorbar": {
             "outlinewidth": 0,
             "ticks": ""
            },
            "colorscale": [
             [
              0,
              "#0d0887"
             ],
             [
              0.1111111111111111,
              "#46039f"
             ],
             [
              0.2222222222222222,
              "#7201a8"
             ],
             [
              0.3333333333333333,
              "#9c179e"
             ],
             [
              0.4444444444444444,
              "#bd3786"
             ],
             [
              0.5555555555555556,
              "#d8576b"
             ],
             [
              0.6666666666666666,
              "#ed7953"
             ],
             [
              0.7777777777777778,
              "#fb9f3a"
             ],
             [
              0.8888888888888888,
              "#fdca26"
             ],
             [
              1,
              "#f0f921"
             ]
            ],
            "type": "contour"
           }
          ],
          "contourcarpet": [
           {
            "colorbar": {
             "outlinewidth": 0,
             "ticks": ""
            },
            "type": "contourcarpet"
           }
          ],
          "heatmap": [
           {
            "colorbar": {
             "outlinewidth": 0,
             "ticks": ""
            },
            "colorscale": [
             [
              0,
              "#0d0887"
             ],
             [
              0.1111111111111111,
              "#46039f"
             ],
             [
              0.2222222222222222,
              "#7201a8"
             ],
             [
              0.3333333333333333,
              "#9c179e"
             ],
             [
              0.4444444444444444,
              "#bd3786"
             ],
             [
              0.5555555555555556,
              "#d8576b"
             ],
             [
              0.6666666666666666,
              "#ed7953"
             ],
             [
              0.7777777777777778,
              "#fb9f3a"
             ],
             [
              0.8888888888888888,
              "#fdca26"
             ],
             [
              1,
              "#f0f921"
             ]
            ],
            "type": "heatmap"
           }
          ],
          "histogram": [
           {
            "marker": {
             "pattern": {
              "fillmode": "overlay",
              "size": 10,
              "solidity": 0.2
             }
            },
            "type": "histogram"
           }
          ],
          "histogram2d": [
           {
            "colorbar": {
             "outlinewidth": 0,
             "ticks": ""
            },
            "colorscale": [
             [
              0,
              "#0d0887"
             ],
             [
              0.1111111111111111,
              "#46039f"
             ],
             [
              0.2222222222222222,
              "#7201a8"
             ],
             [
              0.3333333333333333,
              "#9c179e"
             ],
             [
              0.4444444444444444,
              "#bd3786"
             ],
             [
              0.5555555555555556,
              "#d8576b"
             ],
             [
              0.6666666666666666,
              "#ed7953"
             ],
             [
              0.7777777777777778,
              "#fb9f3a"
             ],
             [
              0.8888888888888888,
              "#fdca26"
             ],
             [
              1,
              "#f0f921"
             ]
            ],
            "type": "histogram2d"
           }
          ],
          "histogram2dcontour": [
           {
            "colorbar": {
             "outlinewidth": 0,
             "ticks": ""
            },
            "colorscale": [
             [
              0,
              "#0d0887"
             ],
             [
              0.1111111111111111,
              "#46039f"
             ],
             [
              0.2222222222222222,
              "#7201a8"
             ],
             [
              0.3333333333333333,
              "#9c179e"
             ],
             [
              0.4444444444444444,
              "#bd3786"
             ],
             [
              0.5555555555555556,
              "#d8576b"
             ],
             [
              0.6666666666666666,
              "#ed7953"
             ],
             [
              0.7777777777777778,
              "#fb9f3a"
             ],
             [
              0.8888888888888888,
              "#fdca26"
             ],
             [
              1,
              "#f0f921"
             ]
            ],
            "type": "histogram2dcontour"
           }
          ],
          "mesh3d": [
           {
            "colorbar": {
             "outlinewidth": 0,
             "ticks": ""
            },
            "type": "mesh3d"
           }
          ],
          "parcoords": [
           {
            "line": {
             "colorbar": {
              "outlinewidth": 0,
              "ticks": ""
             }
            },
            "type": "parcoords"
           }
          ],
          "pie": [
           {
            "automargin": true,
            "type": "pie"
           }
          ],
          "scatter": [
           {
            "fillpattern": {
             "fillmode": "overlay",
             "size": 10,
             "solidity": 0.2
            },
            "type": "scatter"
           }
          ],
          "scatter3d": [
           {
            "line": {
             "colorbar": {
              "outlinewidth": 0,
              "ticks": ""
             }
            },
            "marker": {
             "colorbar": {
              "outlinewidth": 0,
              "ticks": ""
             }
            },
            "type": "scatter3d"
           }
          ],
          "scattercarpet": [
           {
            "marker": {
             "colorbar": {
              "outlinewidth": 0,
              "ticks": ""
             }
            },
            "type": "scattercarpet"
           }
          ],
          "scattergeo": [
           {
            "marker": {
             "colorbar": {
              "outlinewidth": 0,
              "ticks": ""
             }
            },
            "type": "scattergeo"
           }
          ],
          "scattergl": [
           {
            "marker": {
             "colorbar": {
              "outlinewidth": 0,
              "ticks": ""
             }
            },
            "type": "scattergl"
           }
          ],
          "scattermap": [
           {
            "marker": {
             "colorbar": {
              "outlinewidth": 0,
              "ticks": ""
             }
            },
            "type": "scattermap"
           }
          ],
          "scattermapbox": [
           {
            "marker": {
             "colorbar": {
              "outlinewidth": 0,
              "ticks": ""
             }
            },
            "type": "scattermapbox"
           }
          ],
          "scatterpolar": [
           {
            "marker": {
             "colorbar": {
              "outlinewidth": 0,
              "ticks": ""
             }
            },
            "type": "scatterpolar"
           }
          ],
          "scatterpolargl": [
           {
            "marker": {
             "colorbar": {
              "outlinewidth": 0,
              "ticks": ""
             }
            },
            "type": "scatterpolargl"
           }
          ],
          "scatterternary": [
           {
            "marker": {
             "colorbar": {
              "outlinewidth": 0,
              "ticks": ""
             }
            },
            "type": "scatterternary"
           }
          ],
          "surface": [
           {
            "colorbar": {
             "outlinewidth": 0,
             "ticks": ""
            },
            "colorscale": [
             [
              0,
              "#0d0887"
             ],
             [
              0.1111111111111111,
              "#46039f"
             ],
             [
              0.2222222222222222,
              "#7201a8"
             ],
             [
              0.3333333333333333,
              "#9c179e"
             ],
             [
              0.4444444444444444,
              "#bd3786"
             ],
             [
              0.5555555555555556,
              "#d8576b"
             ],
             [
              0.6666666666666666,
              "#ed7953"
             ],
             [
              0.7777777777777778,
              "#fb9f3a"
             ],
             [
              0.8888888888888888,
              "#fdca26"
             ],
             [
              1,
              "#f0f921"
             ]
            ],
            "type": "surface"
           }
          ],
          "table": [
           {
            "cells": {
             "fill": {
              "color": "#EBF0F8"
             },
             "line": {
              "color": "white"
             }
            },
            "header": {
             "fill": {
              "color": "#C8D4E3"
             },
             "line": {
              "color": "white"
             }
            },
            "type": "table"
           }
          ]
         },
         "layout": {
          "annotationdefaults": {
           "arrowcolor": "#2a3f5f",
           "arrowhead": 0,
           "arrowwidth": 1
          },
          "autotypenumbers": "strict",
          "coloraxis": {
           "colorbar": {
            "outlinewidth": 0,
            "ticks": ""
           }
          },
          "colorscale": {
           "diverging": [
            [
             0,
             "#8e0152"
            ],
            [
             0.1,
             "#c51b7d"
            ],
            [
             0.2,
             "#de77ae"
            ],
            [
             0.3,
             "#f1b6da"
            ],
            [
             0.4,
             "#fde0ef"
            ],
            [
             0.5,
             "#f7f7f7"
            ],
            [
             0.6,
             "#e6f5d0"
            ],
            [
             0.7,
             "#b8e186"
            ],
            [
             0.8,
             "#7fbc41"
            ],
            [
             0.9,
             "#4d9221"
            ],
            [
             1,
             "#276419"
            ]
           ],
           "sequential": [
            [
             0,
             "#0d0887"
            ],
            [
             0.1111111111111111,
             "#46039f"
            ],
            [
             0.2222222222222222,
             "#7201a8"
            ],
            [
             0.3333333333333333,
             "#9c179e"
            ],
            [
             0.4444444444444444,
             "#bd3786"
            ],
            [
             0.5555555555555556,
             "#d8576b"
            ],
            [
             0.6666666666666666,
             "#ed7953"
            ],
            [
             0.7777777777777778,
             "#fb9f3a"
            ],
            [
             0.8888888888888888,
             "#fdca26"
            ],
            [
             1,
             "#f0f921"
            ]
           ],
           "sequentialminus": [
            [
             0,
             "#0d0887"
            ],
            [
             0.1111111111111111,
             "#46039f"
            ],
            [
             0.2222222222222222,
             "#7201a8"
            ],
            [
             0.3333333333333333,
             "#9c179e"
            ],
            [
             0.4444444444444444,
             "#bd3786"
            ],
            [
             0.5555555555555556,
             "#d8576b"
            ],
            [
             0.6666666666666666,
             "#ed7953"
            ],
            [
             0.7777777777777778,
             "#fb9f3a"
            ],
            [
             0.8888888888888888,
             "#fdca26"
            ],
            [
             1,
             "#f0f921"
            ]
           ]
          },
          "colorway": [
           "#636efa",
           "#EF553B",
           "#00cc96",
           "#ab63fa",
           "#FFA15A",
           "#19d3f3",
           "#FF6692",
           "#B6E880",
           "#FF97FF",
           "#FECB52"
          ],
          "font": {
           "color": "#2a3f5f"
          },
          "geo": {
           "bgcolor": "white",
           "lakecolor": "white",
           "landcolor": "#E5ECF6",
           "showlakes": true,
           "showland": true,
           "subunitcolor": "white"
          },
          "hoverlabel": {
           "align": "left"
          },
          "hovermode": "closest",
          "mapbox": {
           "style": "light"
          },
          "paper_bgcolor": "white",
          "plot_bgcolor": "#E5ECF6",
          "polar": {
           "angularaxis": {
            "gridcolor": "white",
            "linecolor": "white",
            "ticks": ""
           },
           "bgcolor": "#E5ECF6",
           "radialaxis": {
            "gridcolor": "white",
            "linecolor": "white",
            "ticks": ""
           }
          },
          "scene": {
           "xaxis": {
            "backgroundcolor": "#E5ECF6",
            "gridcolor": "white",
            "gridwidth": 2,
            "linecolor": "white",
            "showbackground": true,
            "ticks": "",
            "zerolinecolor": "white"
           },
           "yaxis": {
            "backgroundcolor": "#E5ECF6",
            "gridcolor": "white",
            "gridwidth": 2,
            "linecolor": "white",
            "showbackground": true,
            "ticks": "",
            "zerolinecolor": "white"
           },
           "zaxis": {
            "backgroundcolor": "#E5ECF6",
            "gridcolor": "white",
            "gridwidth": 2,
            "linecolor": "white",
            "showbackground": true,
            "ticks": "",
            "zerolinecolor": "white"
           }
          },
          "shapedefaults": {
           "line": {
            "color": "#2a3f5f"
           }
          },
          "ternary": {
           "aaxis": {
            "gridcolor": "white",
            "linecolor": "white",
            "ticks": ""
           },
           "baxis": {
            "gridcolor": "white",
            "linecolor": "white",
            "ticks": ""
           },
           "bgcolor": "#E5ECF6",
           "caxis": {
            "gridcolor": "white",
            "linecolor": "white",
            "ticks": ""
           }
          },
          "title": {
           "x": 0.05
          },
          "xaxis": {
           "automargin": true,
           "gridcolor": "white",
           "linecolor": "white",
           "ticks": "",
           "title": {
            "standoff": 15
           },
           "zerolinecolor": "white",
           "zerolinewidth": 2
          },
          "yaxis": {
           "automargin": true,
           "gridcolor": "white",
           "linecolor": "white",
           "ticks": "",
           "title": {
            "standoff": 15
           },
           "zerolinecolor": "white",
           "zerolinewidth": 2
          }
         }
        },
        "title": {
         "text": "Missing Values by Column"
        },
        "width": 700,
        "xaxis": {
         "anchor": "y",
         "domain": [
          0,
          1
         ],
         "title": {
          "text": "Missing Percentage (%)"
         }
        },
        "yaxis": {
         "anchor": "x",
         "domain": [
          0,
          1
         ],
         "tickmode": "linear",
         "title": {
          "text": "Columns"
         }
        }
       }
      },
      "text/html": [
       "<div>            <script src=\"https://cdnjs.cloudflare.com/ajax/libs/mathjax/2.7.5/MathJax.js?config=TeX-AMS-MML_SVG\"></script><script type=\"text/javascript\">if (window.MathJax && window.MathJax.Hub && window.MathJax.Hub.Config) {window.MathJax.Hub.Config({SVG: {font: \"STIX-Web\"}});}</script>                <script type=\"text/javascript\">window.PlotlyConfig = {MathJaxConfig: 'local'};</script>\n",
       "        <script charset=\"utf-8\" src=\"https://cdn.plot.ly/plotly-3.0.1.min.js\"></script>                <div id=\"bbf55379-a2b1-4957-a397-8c8baa7eabf7\" class=\"plotly-graph-div\" style=\"height:400px; width:700px;\"></div>            <script type=\"text/javascript\">                window.PLOTLYENV=window.PLOTLYENV || {};                                if (document.getElementById(\"bbf55379-a2b1-4957-a397-8c8baa7eabf7\")) {                    Plotly.newPlot(                        \"bbf55379-a2b1-4957-a397-8c8baa7eabf7\",                        [{\"hovertemplate\":\"Missing Percentage (%)=%{x}\\u003cbr\\u003eColumns=%{y}\\u003cbr\\u003ecolor=%{marker.color}\\u003cextra\\u003e\\u003c\\u002fextra\\u003e\",\"legendgroup\":\"\",\"marker\":{\"color\":{\"dtype\":\"f8\",\"bdata\":\"B72uDhld8T+BT1ekXz0CQBB4NycqLxxAq6LCY1xeRkCrosJjXF5GQL9vq6p0uFJARK5H\\u002fconWED+DkQQCllYQIsyq28Ma1hAY028n2yfWEA=\"},\"coloraxis\":\"coloraxis\",\"pattern\":{\"shape\":\"\"}},\"name\":\"\",\"orientation\":\"h\",\"showlegend\":false,\"textposition\":\"auto\",\"x\":{\"dtype\":\"f8\",\"bdata\":\"B72uDhld8T+BT1ekXz0CQBB4NycqLxxAq6LCY1xeRkCrosJjXF5GQL9vq6p0uFJARK5H\\u002fconWED+DkQQCllYQIsyq28Ma1hAY028n2yfWEA=\"},\"xaxis\":\"x\",\"y\":[\"cleaning_date\",\"place_size\",\"district\",\"promo_code\",\"discount_pct\",\"rating\",\"extra_service\",\"cancel_reason\",\"sub_service_name\",\"problem\"],\"yaxis\":\"y\",\"type\":\"bar\"}],                        {\"template\":{\"data\":{\"histogram2dcontour\":[{\"type\":\"histogram2dcontour\",\"colorbar\":{\"outlinewidth\":0,\"ticks\":\"\"},\"colorscale\":[[0.0,\"#0d0887\"],[0.1111111111111111,\"#46039f\"],[0.2222222222222222,\"#7201a8\"],[0.3333333333333333,\"#9c179e\"],[0.4444444444444444,\"#bd3786\"],[0.5555555555555556,\"#d8576b\"],[0.6666666666666666,\"#ed7953\"],[0.7777777777777778,\"#fb9f3a\"],[0.8888888888888888,\"#fdca26\"],[1.0,\"#f0f921\"]]}],\"choropleth\":[{\"type\":\"choropleth\",\"colorbar\":{\"outlinewidth\":0,\"ticks\":\"\"}}],\"histogram2d\":[{\"type\":\"histogram2d\",\"colorbar\":{\"outlinewidth\":0,\"ticks\":\"\"},\"colorscale\":[[0.0,\"#0d0887\"],[0.1111111111111111,\"#46039f\"],[0.2222222222222222,\"#7201a8\"],[0.3333333333333333,\"#9c179e\"],[0.4444444444444444,\"#bd3786\"],[0.5555555555555556,\"#d8576b\"],[0.6666666666666666,\"#ed7953\"],[0.7777777777777778,\"#fb9f3a\"],[0.8888888888888888,\"#fdca26\"],[1.0,\"#f0f921\"]]}],\"heatmap\":[{\"type\":\"heatmap\",\"colorbar\":{\"outlinewidth\":0,\"ticks\":\"\"},\"colorscale\":[[0.0,\"#0d0887\"],[0.1111111111111111,\"#46039f\"],[0.2222222222222222,\"#7201a8\"],[0.3333333333333333,\"#9c179e\"],[0.4444444444444444,\"#bd3786\"],[0.5555555555555556,\"#d8576b\"],[0.6666666666666666,\"#ed7953\"],[0.7777777777777778,\"#fb9f3a\"],[0.8888888888888888,\"#fdca26\"],[1.0,\"#f0f921\"]]}],\"contourcarpet\":[{\"type\":\"contourcarpet\",\"colorbar\":{\"outlinewidth\":0,\"ticks\":\"\"}}],\"contour\":[{\"type\":\"contour\",\"colorbar\":{\"outlinewidth\":0,\"ticks\":\"\"},\"colorscale\":[[0.0,\"#0d0887\"],[0.1111111111111111,\"#46039f\"],[0.2222222222222222,\"#7201a8\"],[0.3333333333333333,\"#9c179e\"],[0.4444444444444444,\"#bd3786\"],[0.5555555555555556,\"#d8576b\"],[0.6666666666666666,\"#ed7953\"],[0.7777777777777778,\"#fb9f3a\"],[0.8888888888888888,\"#fdca26\"],[1.0,\"#f0f921\"]]}],\"surface\":[{\"type\":\"surface\",\"colorbar\":{\"outlinewidth\":0,\"ticks\":\"\"},\"colorscale\":[[0.0,\"#0d0887\"],[0.1111111111111111,\"#46039f\"],[0.2222222222222222,\"#7201a8\"],[0.3333333333333333,\"#9c179e\"],[0.4444444444444444,\"#bd3786\"],[0.5555555555555556,\"#d8576b\"],[0.6666666666666666,\"#ed7953\"],[0.7777777777777778,\"#fb9f3a\"],[0.8888888888888888,\"#fdca26\"],[1.0,\"#f0f921\"]]}],\"mesh3d\":[{\"type\":\"mesh3d\",\"colorbar\":{\"outlinewidth\":0,\"ticks\":\"\"}}],\"scatter\":[{\"fillpattern\":{\"fillmode\":\"overlay\",\"size\":10,\"solidity\":0.2},\"type\":\"scatter\"}],\"parcoords\":[{\"type\":\"parcoords\",\"line\":{\"colorbar\":{\"outlinewidth\":0,\"ticks\":\"\"}}}],\"scatterpolargl\":[{\"type\":\"scatterpolargl\",\"marker\":{\"colorbar\":{\"outlinewidth\":0,\"ticks\":\"\"}}}],\"bar\":[{\"error_x\":{\"color\":\"#2a3f5f\"},\"error_y\":{\"color\":\"#2a3f5f\"},\"marker\":{\"line\":{\"color\":\"#E5ECF6\",\"width\":0.5},\"pattern\":{\"fillmode\":\"overlay\",\"size\":10,\"solidity\":0.2}},\"type\":\"bar\"}],\"scattergeo\":[{\"type\":\"scattergeo\",\"marker\":{\"colorbar\":{\"outlinewidth\":0,\"ticks\":\"\"}}}],\"scatterpolar\":[{\"type\":\"scatterpolar\",\"marker\":{\"colorbar\":{\"outlinewidth\":0,\"ticks\":\"\"}}}],\"histogram\":[{\"marker\":{\"pattern\":{\"fillmode\":\"overlay\",\"size\":10,\"solidity\":0.2}},\"type\":\"histogram\"}],\"scattergl\":[{\"type\":\"scattergl\",\"marker\":{\"colorbar\":{\"outlinewidth\":0,\"ticks\":\"\"}}}],\"scatter3d\":[{\"type\":\"scatter3d\",\"line\":{\"colorbar\":{\"outlinewidth\":0,\"ticks\":\"\"}},\"marker\":{\"colorbar\":{\"outlinewidth\":0,\"ticks\":\"\"}}}],\"scattermap\":[{\"type\":\"scattermap\",\"marker\":{\"colorbar\":{\"outlinewidth\":0,\"ticks\":\"\"}}}],\"scattermapbox\":[{\"type\":\"scattermapbox\",\"marker\":{\"colorbar\":{\"outlinewidth\":0,\"ticks\":\"\"}}}],\"scatterternary\":[{\"type\":\"scatterternary\",\"marker\":{\"colorbar\":{\"outlinewidth\":0,\"ticks\":\"\"}}}],\"scattercarpet\":[{\"type\":\"scattercarpet\",\"marker\":{\"colorbar\":{\"outlinewidth\":0,\"ticks\":\"\"}}}],\"carpet\":[{\"aaxis\":{\"endlinecolor\":\"#2a3f5f\",\"gridcolor\":\"white\",\"linecolor\":\"white\",\"minorgridcolor\":\"white\",\"startlinecolor\":\"#2a3f5f\"},\"baxis\":{\"endlinecolor\":\"#2a3f5f\",\"gridcolor\":\"white\",\"linecolor\":\"white\",\"minorgridcolor\":\"white\",\"startlinecolor\":\"#2a3f5f\"},\"type\":\"carpet\"}],\"table\":[{\"cells\":{\"fill\":{\"color\":\"#EBF0F8\"},\"line\":{\"color\":\"white\"}},\"header\":{\"fill\":{\"color\":\"#C8D4E3\"},\"line\":{\"color\":\"white\"}},\"type\":\"table\"}],\"barpolar\":[{\"marker\":{\"line\":{\"color\":\"#E5ECF6\",\"width\":0.5},\"pattern\":{\"fillmode\":\"overlay\",\"size\":10,\"solidity\":0.2}},\"type\":\"barpolar\"}],\"pie\":[{\"automargin\":true,\"type\":\"pie\"}]},\"layout\":{\"autotypenumbers\":\"strict\",\"colorway\":[\"#636efa\",\"#EF553B\",\"#00cc96\",\"#ab63fa\",\"#FFA15A\",\"#19d3f3\",\"#FF6692\",\"#B6E880\",\"#FF97FF\",\"#FECB52\"],\"font\":{\"color\":\"#2a3f5f\"},\"hovermode\":\"closest\",\"hoverlabel\":{\"align\":\"left\"},\"paper_bgcolor\":\"white\",\"plot_bgcolor\":\"#E5ECF6\",\"polar\":{\"bgcolor\":\"#E5ECF6\",\"angularaxis\":{\"gridcolor\":\"white\",\"linecolor\":\"white\",\"ticks\":\"\"},\"radialaxis\":{\"gridcolor\":\"white\",\"linecolor\":\"white\",\"ticks\":\"\"}},\"ternary\":{\"bgcolor\":\"#E5ECF6\",\"aaxis\":{\"gridcolor\":\"white\",\"linecolor\":\"white\",\"ticks\":\"\"},\"baxis\":{\"gridcolor\":\"white\",\"linecolor\":\"white\",\"ticks\":\"\"},\"caxis\":{\"gridcolor\":\"white\",\"linecolor\":\"white\",\"ticks\":\"\"}},\"coloraxis\":{\"colorbar\":{\"outlinewidth\":0,\"ticks\":\"\"}},\"colorscale\":{\"sequential\":[[0.0,\"#0d0887\"],[0.1111111111111111,\"#46039f\"],[0.2222222222222222,\"#7201a8\"],[0.3333333333333333,\"#9c179e\"],[0.4444444444444444,\"#bd3786\"],[0.5555555555555556,\"#d8576b\"],[0.6666666666666666,\"#ed7953\"],[0.7777777777777778,\"#fb9f3a\"],[0.8888888888888888,\"#fdca26\"],[1.0,\"#f0f921\"]],\"sequentialminus\":[[0.0,\"#0d0887\"],[0.1111111111111111,\"#46039f\"],[0.2222222222222222,\"#7201a8\"],[0.3333333333333333,\"#9c179e\"],[0.4444444444444444,\"#bd3786\"],[0.5555555555555556,\"#d8576b\"],[0.6666666666666666,\"#ed7953\"],[0.7777777777777778,\"#fb9f3a\"],[0.8888888888888888,\"#fdca26\"],[1.0,\"#f0f921\"]],\"diverging\":[[0,\"#8e0152\"],[0.1,\"#c51b7d\"],[0.2,\"#de77ae\"],[0.3,\"#f1b6da\"],[0.4,\"#fde0ef\"],[0.5,\"#f7f7f7\"],[0.6,\"#e6f5d0\"],[0.7,\"#b8e186\"],[0.8,\"#7fbc41\"],[0.9,\"#4d9221\"],[1,\"#276419\"]]},\"xaxis\":{\"gridcolor\":\"white\",\"linecolor\":\"white\",\"ticks\":\"\",\"title\":{\"standoff\":15},\"zerolinecolor\":\"white\",\"automargin\":true,\"zerolinewidth\":2},\"yaxis\":{\"gridcolor\":\"white\",\"linecolor\":\"white\",\"ticks\":\"\",\"title\":{\"standoff\":15},\"zerolinecolor\":\"white\",\"automargin\":true,\"zerolinewidth\":2},\"scene\":{\"xaxis\":{\"backgroundcolor\":\"#E5ECF6\",\"gridcolor\":\"white\",\"linecolor\":\"white\",\"showbackground\":true,\"ticks\":\"\",\"zerolinecolor\":\"white\",\"gridwidth\":2},\"yaxis\":{\"backgroundcolor\":\"#E5ECF6\",\"gridcolor\":\"white\",\"linecolor\":\"white\",\"showbackground\":true,\"ticks\":\"\",\"zerolinecolor\":\"white\",\"gridwidth\":2},\"zaxis\":{\"backgroundcolor\":\"#E5ECF6\",\"gridcolor\":\"white\",\"linecolor\":\"white\",\"showbackground\":true,\"ticks\":\"\",\"zerolinecolor\":\"white\",\"gridwidth\":2}},\"shapedefaults\":{\"line\":{\"color\":\"#2a3f5f\"}},\"annotationdefaults\":{\"arrowcolor\":\"#2a3f5f\",\"arrowhead\":0,\"arrowwidth\":1},\"geo\":{\"bgcolor\":\"white\",\"landcolor\":\"#E5ECF6\",\"subunitcolor\":\"white\",\"showland\":true,\"showlakes\":true,\"lakecolor\":\"white\"},\"title\":{\"x\":0.05},\"mapbox\":{\"style\":\"light\"}}},\"xaxis\":{\"anchor\":\"y\",\"domain\":[0.0,1.0],\"title\":{\"text\":\"Missing Percentage (%)\"}},\"yaxis\":{\"anchor\":\"x\",\"domain\":[0.0,1.0],\"title\":{\"text\":\"Columns\"},\"tickmode\":\"linear\"},\"coloraxis\":{\"colorbar\":{\"title\":{\"text\":\"color\"}},\"colorscale\":[[0.0,\"rgb(247,251,255)\"],[0.125,\"rgb(222,235,247)\"],[0.25,\"rgb(198,219,239)\"],[0.375,\"rgb(158,202,225)\"],[0.5,\"rgb(107,174,214)\"],[0.625,\"rgb(66,146,198)\"],[0.75,\"rgb(33,113,181)\"],[0.875,\"rgb(8,81,156)\"],[1.0,\"rgb(8,48,107)\"]]},\"legend\":{\"tracegroupgap\":0},\"title\":{\"text\":\"Missing Values by Column\"},\"barmode\":\"relative\",\"width\":700,\"height\":400,\"font\":{\"color\":\"white\"},\"plot_bgcolor\":\"#10041c\",\"paper_bgcolor\":\"#10041c\"},                        {\"responsive\": true}                    ).then(function(){\n",
       "                            \n",
       "var gd = document.getElementById('bbf55379-a2b1-4957-a397-8c8baa7eabf7');\n",
       "var x = new MutationObserver(function (mutations, observer) {{\n",
       "        var display = window.getComputedStyle(gd).display;\n",
       "        if (!display || display === 'none') {{\n",
       "            console.log([gd, 'removed!']);\n",
       "            Plotly.purge(gd);\n",
       "            observer.disconnect();\n",
       "        }}\n",
       "}});\n",
       "\n",
       "// Listen for the removal of the full notebook cells\n",
       "var notebookContainer = gd.closest('#notebook-container');\n",
       "if (notebookContainer) {{\n",
       "    x.observe(notebookContainer, {childList: true});\n",
       "}}\n",
       "\n",
       "// Listen for the clearing of the current output cell\n",
       "var outputEl = gd.closest('.output');\n",
       "if (outputEl) {{\n",
       "    x.observe(outputEl, {childList: true});\n",
       "}}\n",
       "\n",
       "                        })                };            </script>        </div>"
      ]
     },
     "metadata": {},
     "output_type": "display_data"
    }
   ],
   "source": [
    "# Calculating the percentage of missing values for each column\n",
    "missing_data = df.isnull().sum()\n",
    "missing_percentage = (missing_data[missing_data > 0] / df.shape[0]) * 100\n",
    "missing_percentage.sort_values(ascending=True, inplace=True)\n",
    "\n",
    "fig = px.bar(\n",
    "    x=missing_percentage.values,\n",
    "    y=missing_percentage.index,\n",
    "    orientation='h',\n",
    "    labels={'x': 'Missing Percentage (%)', 'y': 'Columns'},\n",
    "    title='Missing Values by Column',\n",
    "    color=missing_percentage.values,\n",
    "    color_continuous_scale=\"Blues\"\n",
    ")\n",
    "\n",
    "fig.update_layout(yaxis=dict(tickmode='linear'), width=700, height=400)\n",
    "fig = apply_dark_theme(fig)\n",
    "fig.show()"
   ]
  },
  {
   "cell_type": "markdown",
   "id": "85382a68",
   "metadata": {},
   "source": [
    "<div style=\"border-radius:10px; padding:15px; background-color:rgb(256,12,84); font-size:100%; text-align:left; color:#ffffff;\">\n",
    "\n",
    "#### <b><font color=#ffffff>Handling Missing Values and Inconsistencies Strategy</font></b>\n",
    "\n",
    "<font color=#ffffff>\n",
    "\n",
    "- __problem (98.491% missing values)__\n",
    "   - This column missing values indicates no problem occurs on the booking data such as \"ทำความสะอาดไม่เรียบร้อย\", \"ทำทรัพย์สินของลูกค้าเสียหาย\", \"ขอเลื่อนเวลานัดหมายการให้บริการ\", etc. Since this column acts like a report from support admin or a comment from customer, sometimes when booking_status is shown \"ยกเลิก\" but the value in problem column wasn't provided.\n",
    "\n",
    "   - There's also a close resemblance between problem and cancel_reason like df[\"problem\"] == \"ขอเลื่อนเวลานัดหมายการให้บริการ\", df[\"cancel_reason\"] == \"ฉันต้องการเปลี่ยนวัน-เวลานัดหมาย\"\n",
    "    \n",
    "- __sub_service_name (97.67% missing values)__\n",
    "   - This column acts more like a cleaning description for a booking such as ironing cloth less than 60 clothes, and bathroom size. Therefore, the missing data by this variable doesn't have much impact on the data.\n",
    "   \n",
    "- __cancel_reason (97.39% missing values)__\n",
    "   - This column should only occurs when booking_status is \"ยกเลิก\". Therefore, a missing here have possible meaning of booking_status = [\"เสร็จสิ้น\", \"รอเข้าให้บริการ\", \"ยังไม่ระบุวันเข้าให้บริการ\", \"ยังไม่มีคุณแม่บ้านกดรับงาน\"]\n",
    "\n",
    "   - Sometimes booking_status is \"ยกเลิก\" while cancel_reason wasn't provided.\n",
    "\n",
    "   - Apparently, there's also inconsistency in booking_status when cancel_reason is provided: \"ยกเลิก\" has 29,500 rows (expected), \"เสร็จสิ้น\" has 106 rows (shouldn't have cancel_reason), and \"ยังไม่ระบุวันเข้าให้บริการ\" has 5 rows (shouldn't have cancel_reason)\n",
    "\n",
    "- __extra_service (96.62% missing values)__\n",
    "   - This column is very identical to sub_service_name such as ironing cloth less than 40 clothes, and bedsheet transport service.\n",
    "\n",
    "- __rating (74.88% missing values)__\n",
    "   - This column missing data indicate that customer didn't leave a rating (0.5 - 5.0 an increments of 0.5 is standard rating system) after the cleaning service. So, NaN is meaningful as \"no feedback given\".\n",
    "\n",
    "- __discount_pct and promo_code (44.74% missing values)__\n",
    "   - These columns missing data indicate that no discount apply on the booking.\n",
    "\n",
    "- __district (7.05% missing values)__\n",
    "   - This column missing data indicate that the customer didn't specify district when booking. However, the province column has no missing data since it's mandatory to specify.\n",
    "\n",
    "- __place_size (2.28% missing values)__\n",
    "   - This column missing data indicate that the customer didn't specify place_size when booking. Nevertheless, the cleaning service or booking_status can still be \"เสร็จสิ้น\".\n",
    "\n",
    "- __cleaning_date (1.09% missing values)__\n",
    "   - This column missing data indicate that the booking_status is very likely \"ยังไม่ระบุวันเข้าให้บริการ\" (11373 rows). However, there are also cases where booking_status is \"ยกเลิก\" (941 rows), and \"รอเข้าให้บริการ\" (4 rows)\n",
    "\n",
    "Additionally, there is inconsistency between __booking_status__ and __is_claimed_booking__, __province__ and __district__.\n",
    "\n",
    "By dealing with missing values in these columns, we aim to construct a cleaner and more reliable dataset, which is essential for achieving accurate clustering and creating an effective provider segmentation."
   ]
  },
  {
   "cell_type": "code",
   "execution_count": 68,
   "id": "d0deb0e1",
   "metadata": {},
   "outputs": [
    {
     "data": {
      "text/plain": [
       "province\n",
       "กรุงเทพ และปริมณฑล        เขตจตุจักร\n",
       "ชลบุรี                      บางละมุง\n",
       "เชียงใหม่             เมืองเชียงใหม่\n",
       "Name: district, dtype: object"
      ]
     },
     "execution_count": 68,
     "metadata": {},
     "output_type": "execute_result"
    }
   ],
   "source": [
    "# Most Frequent District by Province\n",
    "df.groupby(\"province\")[\"district\"].agg(lambda x: x.mode().iloc[0])"
   ]
  },
  {
   "cell_type": "code",
   "execution_count": null,
   "id": "c8629310",
   "metadata": {},
   "outputs": [],
   "source": [
    "# ----------------------------------------\n",
    "# Handling Missing Data & Inconsistencies\n",
    "# ----------------------------------------\n",
    "\n",
    "# problem\n",
    "# 1 = has problem, 0 = no problem\n",
    "df[\"has_problem\"] = df[\"problem\"].notnull().astype(int)  # add indicator column \n",
    "df[\"problem\"] = df[\"problem\"].fillna(\"ไม่มีปัญหา\")  # fill missing with explicit label\n",
    "\n",
    "# sub_service_name\n",
    "df[\"sub_service_name\"] = df[\"sub_service_name\"].fillna(\"ไม่มีบริการย่อย\")  # fill missing with explicit label\n",
    "\n",
    "# cancel_reason\n",
    "# For rows where booking_status isn't \"ยกเลิก\", fill missing cancel_reason with \"ไม่ใช่การยกเลิก\"\n",
    "df.loc[df[\"booking_status\"] != \"ยกเลิก\", \"cancel_reason\"] = df.loc[df[\"booking_status\"] != \"ยกเลิก\", \"cancel_reason\"].fillna(\"ไม่ใช่การยกเลิก\")\n",
    "\n",
    "# For rows where booking_status is \"ยกเลิก\" and cancel_reason is missing, fill with \"ไม่ระบุสาเหตุการยกเลิก\"\n",
    "df.loc[(df[\"booking_status\"] == \"ยกเลิก\") & (df[\"cancel_reason\"].isna()), \"cancel_reason\"] = \"ไม่ระบุสาเหตุการยกเลิก\"\n",
    "\n",
    "# extra_service\n",
    "df[\"extra_service\"] = df[\"extra_service\"].fillna(\"ไม่มีบริการเสริม\")  # fill missing with explicit label\n",
    "\n",
    "# rating\n",
    "df[\"rating\"] = df[\"rating\"].fillna(\"ไม่มีการให้คะแนน\")\n",
    "\n",
    "# discount_pct & promo_code\n",
    "df[\"discount_pct\"] = df[\"discount_pct\"].fillna(0)  # missing means 0% discount\n",
    "df[\"promo_code\"] = df[\"promo_code\"].fillna(\"ไม่มีรหัสส่วนลด\")  # fill missing with explicit label\n",
    "\n",
    "# district\n",
    "df[\"district\"] = df[\"district\"].fillna(\"ไม่มีการระบุ\")\n",
    "\n",
    "# place_size\n",
    "df[\"place_size\"] = df[\"place_size\"].fillna(\"ไม่มีการระบุ\")\n",
    "\n",
    "# cleaning_date\n",
    "df[\"cleaning_date\"] = df[\"cleaning_date\"].fillna(\"ยังไม่ระบุวันเข้าให้บริการ\")"
   ]
  },
  {
   "cell_type": "code",
   "execution_count": 70,
   "id": "d7132a37",
   "metadata": {},
   "outputs": [
    {
     "name": "stdout",
     "output_type": "stream",
     "text": [
      "Total Rows with Missing Data: 0\n"
     ]
    }
   ],
   "source": [
    "# Verifying the removal of missing values\n",
    "print(f\"Total Rows with Missing Data: {df.isnull().sum().sum()}\")"
   ]
  },
  {
   "cell_type": "markdown",
   "id": "5795cfa9",
   "metadata": {},
   "source": [
    "<a id=\"duplicates\"></a>\n",
    "\n",
    "### <b><span style='color:#ffa705'>Step 3.2 |</span><span style='color:#ffffff'> Handling Duplicates</span></b>\n",
    "⬆️ [Table of Contents](#contents_table)\n",
    "\n",
    "<font color=#ffffff>\n",
    "\n",
    "Recognize duplicate rows in the dataset."
   ]
  },
  {
   "cell_type": "code",
   "execution_count": 71,
   "id": "96818aca",
   "metadata": {},
   "outputs": [
    {
     "data": {
      "text/html": [
       "<div>\n",
       "<style scoped>\n",
       "    .dataframe tbody tr th:only-of-type {\n",
       "        vertical-align: middle;\n",
       "    }\n",
       "\n",
       "    .dataframe tbody tr th {\n",
       "        vertical-align: top;\n",
       "    }\n",
       "\n",
       "    .dataframe thead th {\n",
       "        text-align: right;\n",
       "    }\n",
       "</style>\n",
       "<table border=\"1\" class=\"dataframe\">\n",
       "  <thead>\n",
       "    <tr style=\"text-align: right;\">\n",
       "      <th></th>\n",
       "      <th>booking_id</th>\n",
       "      <th>user_id</th>\n",
       "      <th>is_new_customer</th>\n",
       "      <th>user_place_id</th>\n",
       "      <th>place_size</th>\n",
       "      <th>service_name</th>\n",
       "      <th>sub_service_name</th>\n",
       "      <th>extra_service</th>\n",
       "      <th>province</th>\n",
       "      <th>district</th>\n",
       "      <th>booking_date</th>\n",
       "      <th>cleaning_date</th>\n",
       "      <th>is_sameday</th>\n",
       "      <th>work_hour</th>\n",
       "      <th>additional_hour</th>\n",
       "      <th>total_price</th>\n",
       "      <th>discount_cost</th>\n",
       "      <th>credit_discount_cost</th>\n",
       "      <th>promo_code</th>\n",
       "      <th>discount_pct</th>\n",
       "      <th>booking_status</th>\n",
       "      <th>cancel_reason</th>\n",
       "      <th>professional_id</th>\n",
       "      <th>selected_professional_id</th>\n",
       "      <th>is_new_professional</th>\n",
       "      <th>rating</th>\n",
       "      <th>problem</th>\n",
       "      <th>is_claimed_booking</th>\n",
       "      <th>has_problem</th>\n",
       "    </tr>\n",
       "  </thead>\n",
       "  <tbody>\n",
       "    <tr>\n",
       "      <th>5850</th>\n",
       "      <td>6610</td>\n",
       "      <td>134</td>\n",
       "      <td>0</td>\n",
       "      <td>0</td>\n",
       "      <td>บ้าน 2-3 ชั้น (100-200 ตร.ม.)</td>\n",
       "      <td>บริการทำความสะอาด</td>\n",
       "      <td>ไม่มีบริการย่อย</td>\n",
       "      <td>ไม่มีบริการเสริม</td>\n",
       "      <td>เชียงใหม่</td>\n",
       "      <td>ไม่มีการระบุ</td>\n",
       "      <td>2017-07-25 15:48:06</td>\n",
       "      <td>2017-08-01 08:00:00</td>\n",
       "      <td>0</td>\n",
       "      <td>2.5</td>\n",
       "      <td>0.0</td>\n",
       "      <td>475.0</td>\n",
       "      <td>23.75</td>\n",
       "      <td>0.0</td>\n",
       "      <td>HOME5</td>\n",
       "      <td>5.0</td>\n",
       "      <td>เสร็จสิ้น</td>\n",
       "      <td>ไม่ใช่การยกเลิก</td>\n",
       "      <td>65</td>\n",
       "      <td>65</td>\n",
       "      <td>0</td>\n",
       "      <td>ไม่มีการให้คะแนน</td>\n",
       "      <td>ไม่มีปัญหาเกิดขึ้น</td>\n",
       "      <td>0</td>\n",
       "      <td>0</td>\n",
       "    </tr>\n",
       "    <tr>\n",
       "      <th>5851</th>\n",
       "      <td>6610</td>\n",
       "      <td>134</td>\n",
       "      <td>0</td>\n",
       "      <td>0</td>\n",
       "      <td>บ้าน 2-3 ชั้น (100-200 ตร.ม.)</td>\n",
       "      <td>บริการทำความสะอาด</td>\n",
       "      <td>ไม่มีบริการย่อย</td>\n",
       "      <td>ไม่มีบริการเสริม</td>\n",
       "      <td>เชียงใหม่</td>\n",
       "      <td>ไม่มีการระบุ</td>\n",
       "      <td>2017-07-25 15:48:06</td>\n",
       "      <td>2017-08-01 08:00:00</td>\n",
       "      <td>0</td>\n",
       "      <td>2.5</td>\n",
       "      <td>0.0</td>\n",
       "      <td>475.0</td>\n",
       "      <td>23.75</td>\n",
       "      <td>0.0</td>\n",
       "      <td>HOME5</td>\n",
       "      <td>5.0</td>\n",
       "      <td>เสร็จสิ้น</td>\n",
       "      <td>ไม่ใช่การยกเลิก</td>\n",
       "      <td>65</td>\n",
       "      <td>65</td>\n",
       "      <td>0</td>\n",
       "      <td>ไม่มีการให้คะแนน</td>\n",
       "      <td>ไม่มีปัญหาเกิดขึ้น</td>\n",
       "      <td>0</td>\n",
       "      <td>0</td>\n",
       "    </tr>\n",
       "    <tr>\n",
       "      <th>5854</th>\n",
       "      <td>6613</td>\n",
       "      <td>134</td>\n",
       "      <td>0</td>\n",
       "      <td>0</td>\n",
       "      <td>บ้าน 2-3 ชั้น (100-200 ตร.ม.)</td>\n",
       "      <td>บริการทำความสะอาด</td>\n",
       "      <td>ไม่มีบริการย่อย</td>\n",
       "      <td>ไม่มีบริการเสริม</td>\n",
       "      <td>เชียงใหม่</td>\n",
       "      <td>ไม่มีการระบุ</td>\n",
       "      <td>2017-07-25 15:56:40</td>\n",
       "      <td>2017-08-04 07:00:00</td>\n",
       "      <td>0</td>\n",
       "      <td>2.5</td>\n",
       "      <td>0.0</td>\n",
       "      <td>475.0</td>\n",
       "      <td>23.75</td>\n",
       "      <td>0.0</td>\n",
       "      <td>HOME5</td>\n",
       "      <td>5.0</td>\n",
       "      <td>เสร็จสิ้น</td>\n",
       "      <td>ไม่ใช่การยกเลิก</td>\n",
       "      <td>65</td>\n",
       "      <td>65</td>\n",
       "      <td>0</td>\n",
       "      <td>ไม่มีการให้คะแนน</td>\n",
       "      <td>ไม่มีปัญหาเกิดขึ้น</td>\n",
       "      <td>0</td>\n",
       "      <td>0</td>\n",
       "    </tr>\n",
       "    <tr>\n",
       "      <th>5855</th>\n",
       "      <td>6613</td>\n",
       "      <td>134</td>\n",
       "      <td>0</td>\n",
       "      <td>0</td>\n",
       "      <td>บ้าน 2-3 ชั้น (100-200 ตร.ม.)</td>\n",
       "      <td>บริการทำความสะอาด</td>\n",
       "      <td>ไม่มีบริการย่อย</td>\n",
       "      <td>ไม่มีบริการเสริม</td>\n",
       "      <td>เชียงใหม่</td>\n",
       "      <td>ไม่มีการระบุ</td>\n",
       "      <td>2017-07-25 15:56:40</td>\n",
       "      <td>2017-08-04 07:00:00</td>\n",
       "      <td>0</td>\n",
       "      <td>2.5</td>\n",
       "      <td>0.0</td>\n",
       "      <td>475.0</td>\n",
       "      <td>23.75</td>\n",
       "      <td>0.0</td>\n",
       "      <td>HOME5</td>\n",
       "      <td>5.0</td>\n",
       "      <td>เสร็จสิ้น</td>\n",
       "      <td>ไม่ใช่การยกเลิก</td>\n",
       "      <td>65</td>\n",
       "      <td>65</td>\n",
       "      <td>0</td>\n",
       "      <td>ไม่มีการให้คะแนน</td>\n",
       "      <td>ไม่มีปัญหาเกิดขึ้น</td>\n",
       "      <td>0</td>\n",
       "      <td>0</td>\n",
       "    </tr>\n",
       "    <tr>\n",
       "      <th>7866</th>\n",
       "      <td>9348</td>\n",
       "      <td>4812</td>\n",
       "      <td>1</td>\n",
       "      <td>0</td>\n",
       "      <td>คอนโด 1 ห้องนอน (ไม่เกิน 40 ตร.ม.)</td>\n",
       "      <td>บริการทำความสะอาด</td>\n",
       "      <td>ไม่มีบริการย่อย</td>\n",
       "      <td>ไม่มีบริการเสริม</td>\n",
       "      <td>กรุงเทพ และปริมณฑล</td>\n",
       "      <td>ไม่มีการระบุ</td>\n",
       "      <td>2017-09-25 11:40:27</td>\n",
       "      <td>2017-09-25 15:30:00</td>\n",
       "      <td>1</td>\n",
       "      <td>2.0</td>\n",
       "      <td>0.0</td>\n",
       "      <td>500.0</td>\n",
       "      <td>100.00</td>\n",
       "      <td>0.0</td>\n",
       "      <td>SAVE20</td>\n",
       "      <td>20.0</td>\n",
       "      <td>เสร็จสิ้น</td>\n",
       "      <td>ไม่ใช่การยกเลิก</td>\n",
       "      <td>142</td>\n",
       "      <td>0</td>\n",
       "      <td>0</td>\n",
       "      <td>5.0</td>\n",
       "      <td>ไม่มีปัญหาเกิดขึ้น</td>\n",
       "      <td>0</td>\n",
       "      <td>0</td>\n",
       "    </tr>\n",
       "    <tr>\n",
       "      <th>...</th>\n",
       "      <td>...</td>\n",
       "      <td>...</td>\n",
       "      <td>...</td>\n",
       "      <td>...</td>\n",
       "      <td>...</td>\n",
       "      <td>...</td>\n",
       "      <td>...</td>\n",
       "      <td>...</td>\n",
       "      <td>...</td>\n",
       "      <td>...</td>\n",
       "      <td>...</td>\n",
       "      <td>...</td>\n",
       "      <td>...</td>\n",
       "      <td>...</td>\n",
       "      <td>...</td>\n",
       "      <td>...</td>\n",
       "      <td>...</td>\n",
       "      <td>...</td>\n",
       "      <td>...</td>\n",
       "      <td>...</td>\n",
       "      <td>...</td>\n",
       "      <td>...</td>\n",
       "      <td>...</td>\n",
       "      <td>...</td>\n",
       "      <td>...</td>\n",
       "      <td>...</td>\n",
       "      <td>...</td>\n",
       "      <td>...</td>\n",
       "      <td>...</td>\n",
       "    </tr>\n",
       "    <tr>\n",
       "      <th>1114931</th>\n",
       "      <td>25041718F3</td>\n",
       "      <td>206378</td>\n",
       "      <td>0</td>\n",
       "      <td>261081</td>\n",
       "      <td>ไม่มีการระบุ</td>\n",
       "      <td>บริการทำความสะอาด</td>\n",
       "      <td>ไม่มีบริการย่อย</td>\n",
       "      <td>ไม่มีบริการเสริม</td>\n",
       "      <td>กรุงเทพ และปริมณฑล</td>\n",
       "      <td>เขตบางซื่อ</td>\n",
       "      <td>2025-04-17 15:31:01</td>\n",
       "      <td>2025-04-18 12:00:00</td>\n",
       "      <td>0</td>\n",
       "      <td>3.0</td>\n",
       "      <td>0.0</td>\n",
       "      <td>780.0</td>\n",
       "      <td>0.00</td>\n",
       "      <td>0.0</td>\n",
       "      <td>ไม่มีรหัสส่วนลด</td>\n",
       "      <td>0.0</td>\n",
       "      <td>ยกเลิก</td>\n",
       "      <td>ฉันต้องการเปลี่ยนวัน-เวลานัดหมาย</td>\n",
       "      <td>300</td>\n",
       "      <td>0</td>\n",
       "      <td>0</td>\n",
       "      <td>ไม่มีการให้คะแนน</td>\n",
       "      <td>ไม่มีปัญหาเกิดขึ้น</td>\n",
       "      <td>0</td>\n",
       "      <td>0</td>\n",
       "    </tr>\n",
       "    <tr>\n",
       "      <th>1117336</th>\n",
       "      <td>250420KP4J</td>\n",
       "      <td>292406</td>\n",
       "      <td>0</td>\n",
       "      <td>213403</td>\n",
       "      <td>บ้าน 2-3 ชั้น (100-200 ตร.ม.)</td>\n",
       "      <td>บริการทำความสะอาด</td>\n",
       "      <td>ไม่มีบริการย่อย</td>\n",
       "      <td>ไม่มีบริการเสริม</td>\n",
       "      <td>กรุงเทพ และปริมณฑล</td>\n",
       "      <td>พุทธมณฑล</td>\n",
       "      <td>2025-04-20 14:56:01</td>\n",
       "      <td>2025-04-30 08:30:00</td>\n",
       "      <td>0</td>\n",
       "      <td>4.0</td>\n",
       "      <td>0.0</td>\n",
       "      <td>1040.0</td>\n",
       "      <td>0.00</td>\n",
       "      <td>0.0</td>\n",
       "      <td>ไม่มีรหัสส่วนลด</td>\n",
       "      <td>0.0</td>\n",
       "      <td>ยกเลิก</td>\n",
       "      <td>ฉันมีธุระด่วน</td>\n",
       "      <td>9313</td>\n",
       "      <td>9313</td>\n",
       "      <td>0</td>\n",
       "      <td>ไม่มีการให้คะแนน</td>\n",
       "      <td>ไม่มีปัญหาเกิดขึ้น</td>\n",
       "      <td>0</td>\n",
       "      <td>0</td>\n",
       "    </tr>\n",
       "    <tr>\n",
       "      <th>1117337</th>\n",
       "      <td>250420KP4J</td>\n",
       "      <td>292406</td>\n",
       "      <td>0</td>\n",
       "      <td>213403</td>\n",
       "      <td>บ้าน 2-3 ชั้น (100-200 ตร.ม.)</td>\n",
       "      <td>บริการทำความสะอาด</td>\n",
       "      <td>ไม่มีบริการย่อย</td>\n",
       "      <td>ไม่มีบริการเสริม</td>\n",
       "      <td>กรุงเทพ และปริมณฑล</td>\n",
       "      <td>พุทธมณฑล</td>\n",
       "      <td>2025-04-20 14:56:01</td>\n",
       "      <td>2025-04-30 08:30:00</td>\n",
       "      <td>0</td>\n",
       "      <td>4.0</td>\n",
       "      <td>0.0</td>\n",
       "      <td>1040.0</td>\n",
       "      <td>0.00</td>\n",
       "      <td>0.0</td>\n",
       "      <td>ไม่มีรหัสส่วนลด</td>\n",
       "      <td>0.0</td>\n",
       "      <td>ยกเลิก</td>\n",
       "      <td>ฉันมีธุระด่วน</td>\n",
       "      <td>9313</td>\n",
       "      <td>9313</td>\n",
       "      <td>0</td>\n",
       "      <td>ไม่มีการให้คะแนน</td>\n",
       "      <td>ไม่มีปัญหาเกิดขึ้น</td>\n",
       "      <td>0</td>\n",
       "      <td>0</td>\n",
       "    </tr>\n",
       "    <tr>\n",
       "      <th>1122312</th>\n",
       "      <td>250425DYB5</td>\n",
       "      <td>327089</td>\n",
       "      <td>0</td>\n",
       "      <td>280979</td>\n",
       "      <td>คอนโด 1 ห้องนอน (ไม่เกิน 40 ตร.ม.)</td>\n",
       "      <td>บริการล้างแอร์</td>\n",
       "      <td>ไม่มีบริการย่อย</td>\n",
       "      <td>ไม่มีบริการเสริม</td>\n",
       "      <td>กรุงเทพ และปริมณฑล</td>\n",
       "      <td>เขตพญาไท</td>\n",
       "      <td>2025-04-25 20:14:06</td>\n",
       "      <td>2025-04-27 09:30:00</td>\n",
       "      <td>0</td>\n",
       "      <td>1.0</td>\n",
       "      <td>0.0</td>\n",
       "      <td>750.0</td>\n",
       "      <td>0.00</td>\n",
       "      <td>0.0</td>\n",
       "      <td>ไม่มีรหัสส่วนลด</td>\n",
       "      <td>0.0</td>\n",
       "      <td>ยกเลิก</td>\n",
       "      <td>ผู้ให้บริการไม่สะดวกรับงานนี้</td>\n",
       "      <td>0</td>\n",
       "      <td>0</td>\n",
       "      <td>0</td>\n",
       "      <td>ไม่มีการให้คะแนน</td>\n",
       "      <td>ไม่มีปัญหาเกิดขึ้น</td>\n",
       "      <td>0</td>\n",
       "      <td>0</td>\n",
       "    </tr>\n",
       "    <tr>\n",
       "      <th>1122313</th>\n",
       "      <td>250425DYB5</td>\n",
       "      <td>327089</td>\n",
       "      <td>0</td>\n",
       "      <td>280979</td>\n",
       "      <td>คอนโด 1 ห้องนอน (ไม่เกิน 40 ตร.ม.)</td>\n",
       "      <td>บริการล้างแอร์</td>\n",
       "      <td>ไม่มีบริการย่อย</td>\n",
       "      <td>ไม่มีบริการเสริม</td>\n",
       "      <td>กรุงเทพ และปริมณฑล</td>\n",
       "      <td>เขตพญาไท</td>\n",
       "      <td>2025-04-25 20:14:06</td>\n",
       "      <td>2025-04-27 09:30:00</td>\n",
       "      <td>0</td>\n",
       "      <td>1.0</td>\n",
       "      <td>0.0</td>\n",
       "      <td>750.0</td>\n",
       "      <td>0.00</td>\n",
       "      <td>0.0</td>\n",
       "      <td>ไม่มีรหัสส่วนลด</td>\n",
       "      <td>0.0</td>\n",
       "      <td>ยกเลิก</td>\n",
       "      <td>ผู้ให้บริการไม่สะดวกรับงานนี้</td>\n",
       "      <td>0</td>\n",
       "      <td>0</td>\n",
       "      <td>0</td>\n",
       "      <td>ไม่มีการให้คะแนน</td>\n",
       "      <td>ไม่มีปัญหาเกิดขึ้น</td>\n",
       "      <td>0</td>\n",
       "      <td>0</td>\n",
       "    </tr>\n",
       "  </tbody>\n",
       "</table>\n",
       "<p>704 rows × 29 columns</p>\n",
       "</div>"
      ],
      "text/plain": [
       "         booking_id  user_id  is_new_customer  user_place_id  \\\n",
       "5850           6610      134                0              0   \n",
       "5851           6610      134                0              0   \n",
       "5854           6613      134                0              0   \n",
       "5855           6613      134                0              0   \n",
       "7866           9348     4812                1              0   \n",
       "...             ...      ...              ...            ...   \n",
       "1114931  25041718F3   206378                0         261081   \n",
       "1117336  250420KP4J   292406                0         213403   \n",
       "1117337  250420KP4J   292406                0         213403   \n",
       "1122312  250425DYB5   327089                0         280979   \n",
       "1122313  250425DYB5   327089                0         280979   \n",
       "\n",
       "                                 place_size       service_name  \\\n",
       "5850          บ้าน 2-3 ชั้น (100-200 ตร.ม.)  บริการทำความสะอาด   \n",
       "5851          บ้าน 2-3 ชั้น (100-200 ตร.ม.)  บริการทำความสะอาด   \n",
       "5854          บ้าน 2-3 ชั้น (100-200 ตร.ม.)  บริการทำความสะอาด   \n",
       "5855          บ้าน 2-3 ชั้น (100-200 ตร.ม.)  บริการทำความสะอาด   \n",
       "7866     คอนโด 1 ห้องนอน (ไม่เกิน 40 ตร.ม.)  บริการทำความสะอาด   \n",
       "...                                     ...                ...   \n",
       "1114931                        ไม่มีการระบุ  บริการทำความสะอาด   \n",
       "1117336       บ้าน 2-3 ชั้น (100-200 ตร.ม.)  บริการทำความสะอาด   \n",
       "1117337       บ้าน 2-3 ชั้น (100-200 ตร.ม.)  บริการทำความสะอาด   \n",
       "1122312  คอนโด 1 ห้องนอน (ไม่เกิน 40 ตร.ม.)     บริการล้างแอร์   \n",
       "1122313  คอนโด 1 ห้องนอน (ไม่เกิน 40 ตร.ม.)     บริการล้างแอร์   \n",
       "\n",
       "        sub_service_name     extra_service            province      district  \\\n",
       "5850     ไม่มีบริการย่อย  ไม่มีบริการเสริม           เชียงใหม่  ไม่มีการระบุ   \n",
       "5851     ไม่มีบริการย่อย  ไม่มีบริการเสริม           เชียงใหม่  ไม่มีการระบุ   \n",
       "5854     ไม่มีบริการย่อย  ไม่มีบริการเสริม           เชียงใหม่  ไม่มีการระบุ   \n",
       "5855     ไม่มีบริการย่อย  ไม่มีบริการเสริม           เชียงใหม่  ไม่มีการระบุ   \n",
       "7866     ไม่มีบริการย่อย  ไม่มีบริการเสริม  กรุงเทพ และปริมณฑล  ไม่มีการระบุ   \n",
       "...                  ...               ...                 ...           ...   \n",
       "1114931  ไม่มีบริการย่อย  ไม่มีบริการเสริม  กรุงเทพ และปริมณฑล    เขตบางซื่อ   \n",
       "1117336  ไม่มีบริการย่อย  ไม่มีบริการเสริม  กรุงเทพ และปริมณฑล      พุทธมณฑล   \n",
       "1117337  ไม่มีบริการย่อย  ไม่มีบริการเสริม  กรุงเทพ และปริมณฑล      พุทธมณฑล   \n",
       "1122312  ไม่มีบริการย่อย  ไม่มีบริการเสริม  กรุงเทพ และปริมณฑล      เขตพญาไท   \n",
       "1122313  ไม่มีบริการย่อย  ไม่มีบริการเสริม  กรุงเทพ และปริมณฑล      เขตพญาไท   \n",
       "\n",
       "                booking_date        cleaning_date  is_sameday  work_hour  \\\n",
       "5850     2017-07-25 15:48:06  2017-08-01 08:00:00           0        2.5   \n",
       "5851     2017-07-25 15:48:06  2017-08-01 08:00:00           0        2.5   \n",
       "5854     2017-07-25 15:56:40  2017-08-04 07:00:00           0        2.5   \n",
       "5855     2017-07-25 15:56:40  2017-08-04 07:00:00           0        2.5   \n",
       "7866     2017-09-25 11:40:27  2017-09-25 15:30:00           1        2.0   \n",
       "...                      ...                  ...         ...        ...   \n",
       "1114931  2025-04-17 15:31:01  2025-04-18 12:00:00           0        3.0   \n",
       "1117336  2025-04-20 14:56:01  2025-04-30 08:30:00           0        4.0   \n",
       "1117337  2025-04-20 14:56:01  2025-04-30 08:30:00           0        4.0   \n",
       "1122312  2025-04-25 20:14:06  2025-04-27 09:30:00           0        1.0   \n",
       "1122313  2025-04-25 20:14:06  2025-04-27 09:30:00           0        1.0   \n",
       "\n",
       "         additional_hour  total_price  discount_cost  credit_discount_cost  \\\n",
       "5850                 0.0        475.0          23.75                   0.0   \n",
       "5851                 0.0        475.0          23.75                   0.0   \n",
       "5854                 0.0        475.0          23.75                   0.0   \n",
       "5855                 0.0        475.0          23.75                   0.0   \n",
       "7866                 0.0        500.0         100.00                   0.0   \n",
       "...                  ...          ...            ...                   ...   \n",
       "1114931              0.0        780.0           0.00                   0.0   \n",
       "1117336              0.0       1040.0           0.00                   0.0   \n",
       "1117337              0.0       1040.0           0.00                   0.0   \n",
       "1122312              0.0        750.0           0.00                   0.0   \n",
       "1122313              0.0        750.0           0.00                   0.0   \n",
       "\n",
       "              promo_code  discount_pct booking_status  \\\n",
       "5850               HOME5           5.0      เสร็จสิ้น   \n",
       "5851               HOME5           5.0      เสร็จสิ้น   \n",
       "5854               HOME5           5.0      เสร็จสิ้น   \n",
       "5855               HOME5           5.0      เสร็จสิ้น   \n",
       "7866              SAVE20          20.0      เสร็จสิ้น   \n",
       "...                  ...           ...            ...   \n",
       "1114931  ไม่มีรหัสส่วนลด           0.0         ยกเลิก   \n",
       "1117336  ไม่มีรหัสส่วนลด           0.0         ยกเลิก   \n",
       "1117337  ไม่มีรหัสส่วนลด           0.0         ยกเลิก   \n",
       "1122312  ไม่มีรหัสส่วนลด           0.0         ยกเลิก   \n",
       "1122313  ไม่มีรหัสส่วนลด           0.0         ยกเลิก   \n",
       "\n",
       "                            cancel_reason  professional_id  \\\n",
       "5850                      ไม่ใช่การยกเลิก               65   \n",
       "5851                      ไม่ใช่การยกเลิก               65   \n",
       "5854                      ไม่ใช่การยกเลิก               65   \n",
       "5855                      ไม่ใช่การยกเลิก               65   \n",
       "7866                      ไม่ใช่การยกเลิก              142   \n",
       "...                                   ...              ...   \n",
       "1114931  ฉันต้องการเปลี่ยนวัน-เวลานัดหมาย              300   \n",
       "1117336                     ฉันมีธุระด่วน             9313   \n",
       "1117337                     ฉันมีธุระด่วน             9313   \n",
       "1122312     ผู้ให้บริการไม่สะดวกรับงานนี้                0   \n",
       "1122313     ผู้ให้บริการไม่สะดวกรับงานนี้                0   \n",
       "\n",
       "         selected_professional_id  is_new_professional            rating  \\\n",
       "5850                           65                    0  ไม่มีการให้คะแนน   \n",
       "5851                           65                    0  ไม่มีการให้คะแนน   \n",
       "5854                           65                    0  ไม่มีการให้คะแนน   \n",
       "5855                           65                    0  ไม่มีการให้คะแนน   \n",
       "7866                            0                    0               5.0   \n",
       "...                           ...                  ...               ...   \n",
       "1114931                         0                    0  ไม่มีการให้คะแนน   \n",
       "1117336                      9313                    0  ไม่มีการให้คะแนน   \n",
       "1117337                      9313                    0  ไม่มีการให้คะแนน   \n",
       "1122312                         0                    0  ไม่มีการให้คะแนน   \n",
       "1122313                         0                    0  ไม่มีการให้คะแนน   \n",
       "\n",
       "                    problem  is_claimed_booking  has_problem  \n",
       "5850     ไม่มีปัญหาเกิดขึ้น                   0            0  \n",
       "5851     ไม่มีปัญหาเกิดขึ้น                   0            0  \n",
       "5854     ไม่มีปัญหาเกิดขึ้น                   0            0  \n",
       "5855     ไม่มีปัญหาเกิดขึ้น                   0            0  \n",
       "7866     ไม่มีปัญหาเกิดขึ้น                   0            0  \n",
       "...                     ...                 ...          ...  \n",
       "1114931  ไม่มีปัญหาเกิดขึ้น                   0            0  \n",
       "1117336  ไม่มีปัญหาเกิดขึ้น                   0            0  \n",
       "1117337  ไม่มีปัญหาเกิดขึ้น                   0            0  \n",
       "1122312  ไม่มีปัญหาเกิดขึ้น                   0            0  \n",
       "1122313  ไม่มีปัญหาเกิดขึ้น                   0            0  \n",
       "\n",
       "[704 rows x 29 columns]"
      ]
     },
     "execution_count": 71,
     "metadata": {},
     "output_type": "execute_result"
    }
   ],
   "source": [
    "# Finding duplicate rows (keeping all instances)\n",
    "duplicate_rows = df[df.duplicated(keep=False)]\n",
    "duplicate_rows"
   ]
  },
  {
   "cell_type": "markdown",
   "id": "65b92f23",
   "metadata": {},
   "source": [
    "<div style=\"border-radius:10px; padding: 15px; background-color:rgb(256,12,84); font-size:100%; text-align:left\">\n",
    "\n",
    "#### <b><font color=#ffffff>Handling Duplicates Strategy</font></b>\n",
    "\n",
    "<font color=#ffffff>\n",
    "    \n",
    "In the context of this project, the presence of completely identical rows, including identical booking times, suggests that these might be data recording errors rather than genuine repeated bookings. Keeping these duplicate rows can introduce noise and potential inaccuracies in the clustering.\n",
    "\n",
    "Therefore, let's remove these completely identical duplicate rows from the dataset. Removing these rows will help in achieving a cleaner dataset, which in turn would aid in building more accurate service provider clusters based on their unique service providing behaviors."
   ]
  },
  {
   "cell_type": "code",
   "execution_count": 72,
   "id": "8f79d1ed",
   "metadata": {},
   "outputs": [
    {
     "name": "stdout",
     "output_type": "stream",
     "text": [
      "The dataset contains 402 duplicate rows that need to be removed.\n"
     ]
    }
   ],
   "source": [
    "# ----------------------------------------\n",
    "# Handling Duplicates Data\n",
    "# ----------------------------------------\n",
    "\n",
    "# Displaying the number of duplicate rows\n",
    "print(f\"The dataset contains {df.duplicated().sum()} duplicate rows that need to be removed.\")\n",
    "\n",
    "# Removing duplicate rows\n",
    "df.drop_duplicates(inplace=True) "
   ]
  },
  {
   "cell_type": "code",
   "execution_count": 73,
   "id": "5f23a842",
   "metadata": {},
   "outputs": [
    {
     "data": {
      "text/plain": [
       "1134658"
      ]
     },
     "execution_count": 73,
     "metadata": {},
     "output_type": "execute_result"
    }
   ],
   "source": [
    "# Getting the number of rows in the dataframe\n",
    "df.shape[0]"
   ]
  },
  {
   "cell_type": "code",
   "execution_count": 74,
   "id": "10c75c92",
   "metadata": {},
   "outputs": [
    {
     "data": {
      "text/html": [
       "<div>\n",
       "<style scoped>\n",
       "    .dataframe tbody tr th:only-of-type {\n",
       "        vertical-align: middle;\n",
       "    }\n",
       "\n",
       "    .dataframe tbody tr th {\n",
       "        vertical-align: top;\n",
       "    }\n",
       "\n",
       "    .dataframe thead th {\n",
       "        text-align: right;\n",
       "    }\n",
       "</style>\n",
       "<table border=\"1\" class=\"dataframe\">\n",
       "  <thead>\n",
       "    <tr style=\"text-align: right;\">\n",
       "      <th></th>\n",
       "      <th>booking_id</th>\n",
       "      <th>user_id</th>\n",
       "      <th>is_new_customer</th>\n",
       "      <th>user_place_id</th>\n",
       "      <th>place_size</th>\n",
       "      <th>service_name</th>\n",
       "      <th>sub_service_name</th>\n",
       "      <th>extra_service</th>\n",
       "      <th>province</th>\n",
       "      <th>district</th>\n",
       "      <th>booking_date</th>\n",
       "      <th>cleaning_date</th>\n",
       "      <th>is_sameday</th>\n",
       "      <th>work_hour</th>\n",
       "      <th>additional_hour</th>\n",
       "      <th>total_price</th>\n",
       "      <th>discount_cost</th>\n",
       "      <th>credit_discount_cost</th>\n",
       "      <th>promo_code</th>\n",
       "      <th>discount_pct</th>\n",
       "      <th>booking_status</th>\n",
       "      <th>cancel_reason</th>\n",
       "      <th>professional_id</th>\n",
       "      <th>selected_professional_id</th>\n",
       "      <th>is_new_professional</th>\n",
       "      <th>rating</th>\n",
       "      <th>problem</th>\n",
       "      <th>is_claimed_booking</th>\n",
       "      <th>has_problem</th>\n",
       "    </tr>\n",
       "  </thead>\n",
       "  <tbody>\n",
       "    <tr>\n",
       "      <th>0</th>\n",
       "      <td>23</td>\n",
       "      <td>31251</td>\n",
       "      <td>1</td>\n",
       "      <td>0</td>\n",
       "      <td>คอนโด 1 ห้องนอน (ไม่เกิน 40 ตร.ม.)</td>\n",
       "      <td>บริการทำความสะอาด</td>\n",
       "      <td>ไม่มีบริการย่อย</td>\n",
       "      <td>ไม่มีบริการเสริม</td>\n",
       "      <td>เชียงใหม่</td>\n",
       "      <td>ไม่มีการระบุ</td>\n",
       "      <td>2016-03-23 08:50:10</td>\n",
       "      <td>2016-03-26 13:00:00</td>\n",
       "      <td>0</td>\n",
       "      <td>2.0</td>\n",
       "      <td>0.0</td>\n",
       "      <td>400.0</td>\n",
       "      <td>0.0</td>\n",
       "      <td>0.0</td>\n",
       "      <td>ไม่มีรหัสส่วนลด</td>\n",
       "      <td>0.0</td>\n",
       "      <td>เสร็จสิ้น</td>\n",
       "      <td>ไม่ใช่การยกเลิก</td>\n",
       "      <td>8</td>\n",
       "      <td>0</td>\n",
       "      <td>1</td>\n",
       "      <td>4.0</td>\n",
       "      <td>ไม่มีปัญหาเกิดขึ้น</td>\n",
       "      <td>0</td>\n",
       "      <td>0</td>\n",
       "    </tr>\n",
       "  </tbody>\n",
       "</table>\n",
       "</div>"
      ],
      "text/plain": [
       "  booking_id  user_id  is_new_customer  user_place_id  \\\n",
       "0         23    31251                1              0   \n",
       "\n",
       "                           place_size       service_name sub_service_name  \\\n",
       "0  คอนโด 1 ห้องนอน (ไม่เกิน 40 ตร.ม.)  บริการทำความสะอาด  ไม่มีบริการย่อย   \n",
       "\n",
       "      extra_service   province      district         booking_date  \\\n",
       "0  ไม่มีบริการเสริม  เชียงใหม่  ไม่มีการระบุ  2016-03-23 08:50:10   \n",
       "\n",
       "         cleaning_date  is_sameday  work_hour  additional_hour  total_price  \\\n",
       "0  2016-03-26 13:00:00           0        2.0              0.0        400.0   \n",
       "\n",
       "   discount_cost  credit_discount_cost       promo_code  discount_pct  \\\n",
       "0            0.0                   0.0  ไม่มีรหัสส่วนลด           0.0   \n",
       "\n",
       "  booking_status    cancel_reason  professional_id  selected_professional_id  \\\n",
       "0      เสร็จสิ้น  ไม่ใช่การยกเลิก                8                         0   \n",
       "\n",
       "   is_new_professional rating             problem  is_claimed_booking  \\\n",
       "0                    1    4.0  ไม่มีปัญหาเกิดขึ้น                   0   \n",
       "\n",
       "   has_problem  \n",
       "0            0  "
      ]
     },
     "execution_count": 74,
     "metadata": {},
     "output_type": "execute_result"
    }
   ],
   "source": [
    "df.head(1)"
   ]
  },
  {
   "cell_type": "markdown",
   "id": "69a5f84e",
   "metadata": {},
   "source": [
    "<a id=\"cancelled_cleaning\"></a>\n",
    "\n",
    "### <b><span style='color:#ffa705'>Step 3.3 |</span><span style='color:#ffffff'> Treating Cancelled Bookings</span></b>\n",
    "⬆️ [Table of Contents](#contents_table)\n",
    "\n",
    "<font color=#ffffff>\n",
    "\n",
    "To refine our understanding of service provider behavior and preferences, we need to take into account the bookings that were cancelled.\n",
    "\n",
    "Initially, we will identify these bookings by filtering the rows where the booking_status is \"ยกเลิก\". Subsequently, we will analyze these rows to understand their common characteristics or patterns."
   ]
  },
  {
   "cell_type": "code",
   "execution_count": 75,
   "id": "5b7eb87a",
   "metadata": {},
   "outputs": [
    {
     "data": {
      "text/plain": [
       "booking_status\n",
       "เสร็จสิ้น                     1069548\n",
       "ยกเลิก                          42489\n",
       "ยังไม่ระบุวันเข้าให้บริการ      11373\n",
       "รอเข้าให้บริการ                 11078\n",
       "ยังไม่มีคุณแม่บ้านกดรับงาน        170\n",
       "Name: count, dtype: int64"
      ]
     },
     "execution_count": 75,
     "metadata": {},
     "output_type": "execute_result"
    }
   ],
   "source": [
    "df.booking_status.value_counts()"
   ]
  },
  {
   "cell_type": "code",
   "execution_count": 76,
   "metadata": {},
   "outputs": [
    {
     "data": {
      "text/plain": [
       "status\n",
       "Completed    94.261707\n",
       "Cancelled     3.744653\n",
       "Pending       1.993640\n",
       "Name: proportion, dtype: float64"
      ]
     },
     "execution_count": 76,
     "metadata": {},
     "output_type": "execute_result"
    }
   ],
   "source": [
    "status_map = {\n",
    "    \"เสร็จสิ้น\": \"Completed\",\n",
    "    \"ยกเลิก\": \"Cancelled\",\n",
    "    \"ยังไม่ระบุวันเข้าให้บริการ\": \"Pending\",\n",
    "    \"รอเข้าให้บริการ\": \"Pending\",\n",
    "    \"ยังไม่มีคุณแม่บ้านกดรับงาน\": \"Pending\"\n",
    "}\n",
    "\n",
    "# Filter out the rows with InvoiceNo starting with \"C\" and create a new column indicating the transaction status\n",
    "df[\"status\"] = df[\"booking_status\"].map(status_map)\n",
    "\n",
    "# Analyze the characteristics of these rows\n",
    "status_counts = df[\"status\"].value_counts(normalize=True) * 100\n",
    "status_counts"
   ]
  },
  {
   "cell_type": "markdown",
   "id": "0f786a3b",
   "metadata": {},
   "source": [
    "<a id=\"date_cleaning\"></a>\n",
    "\n",
    "### <b><span style='color:#ffa705'>Step 3.4 |</span><span style='color:#ffffff'> Correcting Date Anomalies</span></b>\n",
    "⬆️ [Table of Contents](#contents_table)\n",
    "\n",
    "<font color=#ffffff>\n",
    "\n",
    "The Provider Segmentation's dataset has 2 dates: df[\"booking_date\"] and df[\"cleaning_date\"].\n",
    "\n",
    "Both columns are still an \"O\" datatype. \n",
    "\n",
    "I will stick with the booking_date range because it's accurate:\n",
    "\n",
    "- __`df[\"booking_date\"].min()` >>> `'2016-03-23 08:50:10'`__ (The first ever booking in company)\n",
    "\n",
    "- __`df[\"booking_date\"].max()` >>> `'2025-05-08 15:10:48'`__ (The last date before I load the dataset)\n",
    "\n",
    "Meanwhile cleaning_date has problem like:\n",
    "\n",
    "- __`df[\"cleaning_date\"].min()` >>> `'0000-00-00 00:00:00'`__\n",
    "\n",
    "- __`df[\"cleaning_date\"].max()` >>> `'ยังไม่ระบุวันเข้าให้บริการ'`__ (From the handling missing data step)\n",
    "\n",
    "Sometimes, cleaning_date is also too far in the future like booking is in 2025 but cleaning date is 2568. This is because of wrong date format input by service provider. So basically, cleaning_date should happen after booking_date"
   ]
  },
  {
   "cell_type": "code",
   "execution_count": 77,
   "id": "0431bad5",
   "metadata": {},
   "outputs": [],
   "source": [
    "# ----------------------------------------\n",
    "# Correcting Date Anomalies\n",
    "# ----------------------------------------\n",
    "\n",
    "# Convert to datetime\n",
    "df[\"booking_date\"] = pd.to_datetime(df[\"booking_date\"], errors=\"coerce\")\n",
    "df[\"cleaning_date\"] = pd.to_datetime(df[\"cleaning_date\"], errors=\"coerce\")\n",
    "\n",
    "# \"0000-00-00 00:00:00\" → becomes NaT (already fixed by errors=\"coerce\")\n",
    "# \"ยังไม่ระบุวันเข้าให้บริการ\" → keep as NaT (already fixed by errors=\"coerce\")"
   ]
  },
  {
   "cell_type": "code",
   "execution_count": 78,
   "id": "28b208f8",
   "metadata": {},
   "outputs": [
    {
     "data": {
      "text/plain": [
       "19539     2019-10-01 09:00:00\n",
       "19686     2020-12-21 10:00:00\n",
       "19911     2019-06-07 12:00:00\n",
       "19913     2023-09-30 16:00:00\n",
       "19914     2020-08-01 12:00:00\n",
       "                  ...        \n",
       "1121097   2026-10-22 08:00:00\n",
       "1121098   2026-11-12 08:00:00\n",
       "1121099   2026-11-26 08:00:00\n",
       "1121100   2026-12-10 08:00:00\n",
       "1121101   2026-12-24 08:00:00\n",
       "Name: cleaning_date, Length: 4172, dtype: datetime64[ns]"
      ]
     },
     "execution_count": 78,
     "metadata": {},
     "output_type": "execute_result"
    }
   ],
   "source": [
    "# Check rows where booking_date and cleaning_date gap is > 1 year\n",
    "df.loc[df[\"cleaning_date\"] > df[\"booking_date\"] + pd.Timedelta(days=365), \"cleaning_date\"]"
   ]
  },
  {
   "cell_type": "code",
   "execution_count": 79,
   "id": "9498c864",
   "metadata": {},
   "outputs": [],
   "source": [
    "# if cleaning_date > booking_date + 365 days then it's an anomaly\n",
    "df.loc[df[\"cleaning_date\"] > df[\"booking_date\"] + pd.Timedelta(days=365), \"cleaning_date\"] = pd.NaT\n",
    "\n",
    "# if cleaning_date < booking_date then it's an anomaly\n",
    "df.loc[df[\"cleaning_date\"] < df[\"booking_date\"], \"cleaning_date\"] = pd.NaT"
   ]
  },
  {
   "cell_type": "markdown",
   "id": "056d0020",
   "metadata": {},
   "source": [
    "<font color=#ffffff>\n",
    "\n",
    "After this the cleaning_date is now:\n",
    "- Invalid placeholders (__`0000-00-00`__, __`\"ยังไม่ระบุวันเข้าให้บรการ\"`__) → become __`NaT`__\n",
    "\n",
    "- Wrong inputs (__`cleaning_date`__ < __`booking_date`__) → removed\n",
    "\n",
    "- Unrealistic dates (__`booking_date`__ and __`cleaning_date`__ with more than 1 year gap) → removed\n",
    "\n",
    "All that's left is dealing with __`NaT`__ rows in cleaning_date column."
   ]
  },
  {
   "cell_type": "code",
   "execution_count": 80,
   "id": "289af589",
   "metadata": {},
   "outputs": [
    {
     "data": {
      "text/plain": [
       "booking_status\n",
       "ยังไม่ระบุวันเข้าให้บริการ    11373\n",
       "เสร็จสิ้น                      4435\n",
       "ยกเลิก                         1121\n",
       "รอเข้าให้บริการ                 630\n",
       "Name: count, dtype: int64"
      ]
     },
     "execution_count": 80,
     "metadata": {},
     "output_type": "execute_result"
    }
   ],
   "source": [
    "df[df[\"cleaning_date\"].isnull() == True].booking_status.value_counts()"
   ]
  },
  {
   "cell_type": "markdown",
   "id": "3c2921f2",
   "metadata": {},
   "source": [
    "<font color=#ffffff>\n",
    "\n",
    "Rows with __`cleaning_date`__ = __`NaT`__\n",
    "\n",
    "- ยังไม่ระบุวันเข้าให้บริการ → 11373   (Not scheduled yet, so NaT is correct)\n",
    "\n",
    "- เสร็จสิ้น              → 4435   (Should have a date, but missing)\n",
    "\n",
    "- ยกเลิก               → 1121   (Canceled, so NaT is fine)\n",
    "\n",
    "- รอเข้าให้บริการ         → 630    (Pending, so NaT is fine)\n",
    "\n",
    "Since __`cleaning_date`__ is critical (e.g. service duration, scheduling features) → Option B: drop completed bookings with NaT."
   ]
  },
  {
   "cell_type": "code",
   "execution_count": 81,
   "id": "be86db96",
   "metadata": {},
   "outputs": [],
   "source": [
    "# ----------------------------------------\n",
    "# Handling Missing Cleaning Date (เสร็จสิ้น)\n",
    "# ----------------------------------------\n",
    "\n",
    "# Option A: Keep them as NaT but flag for later.\n",
    "#           Add a flag column to mark missing cleaning_date in completed bookings\n",
    "#df[\"missing_cleaning_date_flag\"] = (df[\"cleaning_date\"].isna()) & (df[\"booking_status\"] == \"เสร็จสิ้น\")\n",
    "\n",
    "# Option B: Drop them.\n",
    "#           Later analysis requires cleaning_date for completed bookings, I should drop these 4,435 rows.\n",
    "df = df.drop(df[(df[\"cleaning_date\"].isna()) & (df[\"booking_status\"] == \"เสร็จสิ้น\")].index)"
   ]
  },
  {
   "cell_type": "code",
   "execution_count": 82,
   "id": "1e272ff1",
   "metadata": {},
   "outputs": [
    {
     "name": "stdout",
     "output_type": "stream",
     "text": [
      "|---------- Booking Date Range ----------|\n",
      "2016-03-23 08:50:10 to 2025-05-08 15:10:48\n",
      "\n",
      "|--------- Cleaning Date Range ----------|\n",
      "2016-03-26 13:00:00 to 2026-04-26 09:00:00\n"
     ]
    }
   ],
   "source": [
    "print(\"|---------- Booking Date Range ----------|\")\n",
    "print(f\"{df[\"booking_date\"].min()} to {df[\"booking_date\"].max()}\")\n",
    "\n",
    "print(\"\\n|--------- Cleaning Date Range ----------|\")\n",
    "print(f\"{df[\"cleaning_date\"].min()} to {df[\"cleaning_date\"].max()}\")"
   ]
  },
  {
   "cell_type": "code",
   "execution_count": 83,
   "id": "749cfa65",
   "metadata": {},
   "outputs": [
    {
     "data": {
      "text/plain": [
       "booking_status\n",
       "ยังไม่ระบุวันเข้าให้บริการ    11373\n",
       "ยกเลิก                         1121\n",
       "รอเข้าให้บริการ                 630\n",
       "Name: count, dtype: int64"
      ]
     },
     "execution_count": 83,
     "metadata": {},
     "output_type": "execute_result"
    }
   ],
   "source": [
    "df[df[\"cleaning_date\"].isnull() == True].booking_status.value_counts()"
   ]
  },
  {
   "cell_type": "markdown",
   "id": "d05f71cc",
   "metadata": {},
   "source": [
    "<a id=\"data_consistency\"></a>\n",
    "\n",
    "### <b><span style='color:#ffa705'>Step 3.5 |</span><span style='color:#ffffff'> Ensuring Data Consistency</span></b>\n",
    "⬆️ [Table of Contents](#contents_table)\n",
    "\n",
    "<font color=#ffffff>\n",
    "\n",
    "Continue from Step 3.4 of Correcting Date Anomalies, let's check for __`is_sameday`__ inconsistency.\n",
    "\n",
    "According to Step 3.1 of Handling Missing Data & Inconsistencies, there is also inconsistency between __`booking_status`__ and __`is_claimed_booking`__, __`province`__ and __`district`__.\n",
    "\n",
    "Ultimately, I should remove __`professional_id`__ = __`0`__ (ID used in system testing) and __`professional_id`__ = __`300`__ (temporary ID used for query sensitive service provider's data)"
   ]
  },
  {
   "cell_type": "markdown",
   "id": "f0be4d2e",
   "metadata": {},
   "source": [
    "<a id=\"sameday_inconsistency\"></a>\n",
    "\n",
    "<div style=\"border-radius:10px; padding: 15px; background-color: #10041c; font-size:100%; text-align:left\">\n",
    "\n",
    "<font color=#ffffff>\n",
    "\n",
    "#### <b>Inconsistencies in `is_sameday`</b>\n",
    "\n",
    "__`is_sameday`__ - Indicates if __`booking_date`__ and __`cleaning_date`__ happen on the same day (1 = yes, 0 = no)."
   ]
  },
  {
   "cell_type": "code",
   "execution_count": 84,
   "id": "8bddb6cb",
   "metadata": {},
   "outputs": [
    {
     "data": {
      "text/plain": [
       "sameday_mismatch\n",
       "False    1130223\n",
       "Name: count, dtype: Int64"
      ]
     },
     "execution_count": 84,
     "metadata": {},
     "output_type": "execute_result"
    }
   ],
   "source": [
    "# ----------------------------------------\n",
    "# Handling Same-day Inconsistency\n",
    "# ----------------------------------------\n",
    "\n",
    "# Recompute same-day flag from the actual dates\n",
    "check_sameday = (df[\"cleaning_date\"].dt.date == df[\"booking_date\"].dt.date).astype(\"Int64\")\n",
    "\n",
    "# Compare with existing is_sameday\n",
    "df[\"sameday_mismatch\"] = (df[\"is_sameday\"] != check_sameday) & df[\"cleaning_date\"].notna()\n",
    "\n",
    "df[\"sameday_mismatch\"].value_counts()"
   ]
  },
  {
   "cell_type": "markdown",
   "id": "66a2a5dc",
   "metadata": {},
   "source": [
    "<font color=#ffffff>\n",
    "\n",
    "With the new column __`sameday_mismatch`__ to check for mismatch in __`is_sameday`__. Hence, there are no same-day anomalies!"
   ]
  },
  {
   "cell_type": "code",
   "execution_count": 20,
   "id": "d86991be",
   "metadata": {},
   "outputs": [
    {
     "data": {
      "text/plain": [
       "1130223"
      ]
     },
     "execution_count": 20,
     "metadata": {},
     "output_type": "execute_result"
    }
   ],
   "source": [
    "1130078 + 145"
   ]
  },
  {
   "cell_type": "code",
   "execution_count": 85,
   "id": "9db2ec3a",
   "metadata": {},
   "outputs": [
    {
     "data": {
      "text/plain": [
       "is_claimed_booking\n",
       "0    1130078\n",
       "1        145\n",
       "Name: count, dtype: int64"
      ]
     },
     "execution_count": 85,
     "metadata": {},
     "output_type": "execute_result"
    }
   ],
   "source": [
    "df[\"is_claimed_booking\"].value_counts()"
   ]
  },
  {
   "cell_type": "code",
   "execution_count": 86,
   "id": "4fa96509",
   "metadata": {},
   "outputs": [
    {
     "data": {
      "text/plain": [
       "booking_status\n",
       "เสร็จสิ้น                     127\n",
       "รอเข้าให้บริการ                 9\n",
       "ยังไม่ระบุวันเข้าให้บริการ      6\n",
       "ยกเลิก                          3\n",
       "Name: count, dtype: int64"
      ]
     },
     "execution_count": 86,
     "metadata": {},
     "output_type": "execute_result"
    }
   ],
   "source": [
    "df[df[\"is_claimed_booking\"] == 1].booking_status.value_counts()"
   ]
  },
  {
   "cell_type": "markdown",
   "id": "7a8a9830",
   "metadata": {},
   "source": [
    "<a id=\"status_inconsistency\"></a>\n",
    "\n",
    "<div style=\"border-radius:10px; padding: 15px; background-color: #10041c; font-size:100%; text-align:left\">\n",
    "\n",
    "<font color=#ffffff>\n",
    "\n",
    "#### <b>Inconsistencies between `booking_status` and `is_claimed_booking`</b>\n",
    "\n",
    "is_claimed_booking = 1 happens only 145 times out of >1.1M rows indicating suspicious imbalance!\n",
    "\n",
    "- Most of them are \"เสร็จสิ้น\" (127 rows), which makes sense (a claimed booking should usually be completed).\n",
    "\n",
    "- But there are cases like:\n",
    "\n",
    "    - \"รอเข้าให้บริการ\" (9 rows)\n",
    "\n",
    "    - \"ยังไม่ระบุวันเข้าให้บริการ\" (6 rows)\n",
    "\n",
    "    - \"ยกเลิก\" (3 rows)\n",
    "\n",
    "These are logical inconsistencies, because:\n",
    "\n",
    "- If a booking was __`\"ยกเลิก\"`__, __`\"ยังไม่มีคุณแม่บ้านกดรับงาน\"`__, and __`\"ยังไม่ระบุวันเข้าให้บริการ\"`__ → is_claimed_booking should be 0.\n",
    "\n",
    "- If a booking is __`\"เสร็จสิ้น\"`__ and __`\"รอเข้าให้บริการ\"`__ → is_claimed_booking should be 1."
   ]
  },
  {
   "cell_type": "code",
   "execution_count": 87,
   "id": "bcedacdc",
   "metadata": {},
   "outputs": [
    {
     "data": {
      "text/plain": [
       "professional_id\n",
       "0      11372\n",
       "300        1\n",
       "Name: count, dtype: int64"
      ]
     },
     "execution_count": 87,
     "metadata": {},
     "output_type": "execute_result"
    }
   ],
   "source": [
    "df[df[\"booking_status\"] == \"ยังไม่ระบุวันเข้าให้บริการ\"].professional_id.value_counts()"
   ]
  },
  {
   "cell_type": "code",
   "execution_count": 88,
   "id": "6797607e",
   "metadata": {},
   "outputs": [],
   "source": [
    "# ----------------------------------------\n",
    "# Handling Claimed Status Inconsistency\n",
    "# ----------------------------------------\n",
    "\n",
    "# is_claimed_booking == 0 where booking status ∈ {\"ยกเลิก\", \"ยังไม่มีคุณแม่บ้านกดรับงาน\", \"ยังไม่ระบุวันเข้าให้บริการ\"}\n",
    "# is_claimed_booking == 1 where booking status ∈ {\"เสร็จสิ้น\", \"รอเข้าให้บริการ\"}\n",
    "df.loc[df['booking_status'].isin([\"ยกเลิก\", \"ยังไม่มีคุณแม่บ้านกดรับงาน\", \"ยังไม่ระบุวันเข้าให้บริการ\"]), 'is_claimed_booking'] = 0\n",
    "df.loc[df['booking_status'].isin([\"เสร็จสิ้น\", \"รอเข้าให้บริการ\"]), 'is_claimed_booking'] = 1"
   ]
  },
  {
   "cell_type": "code",
   "execution_count": 89,
   "id": "32bf996e",
   "metadata": {},
   "outputs": [
    {
     "data": {
      "text/plain": [
       "is_claimed_booking\n",
       "1    1076191\n",
       "0      54032\n",
       "Name: count, dtype: int64"
      ]
     },
     "execution_count": 89,
     "metadata": {},
     "output_type": "execute_result"
    }
   ],
   "source": [
    "df[\"is_claimed_booking\"].value_counts()"
   ]
  },
  {
   "cell_type": "code",
   "execution_count": 90,
   "id": "b167c58d",
   "metadata": {},
   "outputs": [
    {
     "data": {
      "text/plain": [
       "booking_status\n",
       "ยกเลิก                        42489\n",
       "ยังไม่ระบุวันเข้าให้บริการ    11373\n",
       "ยังไม่มีคุณแม่บ้านกดรับงาน      170\n",
       "Name: count, dtype: int64"
      ]
     },
     "execution_count": 90,
     "metadata": {},
     "output_type": "execute_result"
    }
   ],
   "source": [
    "df[df[\"is_claimed_booking\"] == 0][\"booking_status\"].value_counts()"
   ]
  },
  {
   "cell_type": "code",
   "execution_count": 91,
   "id": "64b62e75",
   "metadata": {},
   "outputs": [
    {
     "data": {
      "text/plain": [
       "booking_status\n",
       "เสร็จสิ้น          1065113\n",
       "รอเข้าให้บริการ      11078\n",
       "Name: count, dtype: int64"
      ]
     },
     "execution_count": 91,
     "metadata": {},
     "output_type": "execute_result"
    }
   ],
   "source": [
    "df[df[\"is_claimed_booking\"] == 1][\"booking_status\"].value_counts()"
   ]
  },
  {
   "cell_type": "markdown",
   "id": "0a8c4d76",
   "metadata": {},
   "source": [
    "<a id=\"geographic_inconsistency\"></a>\n",
    "\n",
    "<div style=\"border-radius:10px; padding: 15px; background-color: #10041c; font-size:100%; text-align:left\">\n",
    "\n",
    "<font color=#ffffff>\n",
    "\n",
    "#### <b>Inconsistencies between `province` and `district`</b>\n",
    "\n",
    "These inconsistencies often come from:\n",
    "\n",
    "- __Data entry errors__ (e.g. provider picked wrong province but right district).\n",
    "\n",
    "- __ETL merge issues__ (district copied into wrong province).\n",
    "\n",
    "- __Business logic shortcuts__ (sometimes everything near Bangkok gets lumped into \"กรุงเทพ และปริมณฑล\")"
   ]
  },
  {
   "cell_type": "code",
   "execution_count": 92,
   "id": "2a24015a",
   "metadata": {},
   "outputs": [
    {
     "data": {
      "text/plain": [
       "array(['เชียงใหม่', 'กรุงเทพ และปริมณฑล', 'ชลบุรี'], dtype=object)"
      ]
     },
     "execution_count": 92,
     "metadata": {},
     "output_type": "execute_result"
    }
   ],
   "source": [
    "df.province.unique()"
   ]
  },
  {
   "cell_type": "code",
   "execution_count": 93,
   "id": "645b48be",
   "metadata": {},
   "outputs": [
    {
     "name": "stdout",
     "output_type": "stream",
     "text": [
      "|----- Chiang Mai District Inconsistencies -----|\n",
      "พุทธมณฑล, เขตลาดกระบัง, กระทุ่มแบน, เขตราชเทวี,\n",
      "เขตสวนหลวง, เขตบางรัก, เขตห้วยขวาง, ปากเกร็ด,\n",
      "เขตประเวศ, เมืองชลบุรี, เมืองสมุทรปราการ, เขตบางกอกใหญ่,\n",
      "คลองหลวง, เขตธนบุรี, บางละมุง, เขตสายไหม,\n",
      "เขตปทุมวัน\n",
      "\n",
      "|----- Bangkok District Inconsistencies -----|\n",
      "เมืองเชียงใหม่, สารภี, สันกำแพง, บางละมุง, \n",
      "เมืองชลบุรี, สันทราย, ศรีราชา, แม่ริม, \n",
      "หางดง, ดอยสะเก็ด, สัตหีบ\n",
      "\n",
      "|----- Chon Buri District Inconsistencies -----|\n",
      "เขตห้วยขวาง, เขตภาษีเจริญ, เขตสวนหลวง, เขตทุ่งครุ, \n",
      "เขตวังทองหลาง, เขตบางแค, เขตบางรัก, เมืองนนทบุรี, \n",
      "ลำลูกกา, บางบ่อ, เขตราชเทวี, เมืองสมุทรปราการ,\n",
      "สามพราน, บางใหญ่, เขตหนองแขม, เขตสาทร, \n",
      "เขตดอนเมือง, บางพลี\n"
     ]
    }
   ],
   "source": [
    "print(\"|----- Chiang Mai District Inconsistencies -----|\")\n",
    "print('''พุทธมณฑล, เขตลาดกระบัง, กระทุ่มแบน, เขตราชเทวี,\n",
    "เขตสวนหลวง, เขตบางรัก, เขตห้วยขวาง, ปากเกร็ด,\n",
    "เขตประเวศ, เมืองชลบุรี, เมืองสมุทรปราการ, เขตบางกอกใหญ่,\n",
    "คลองหลวง, เขตธนบุรี, บางละมุง, เขตสายไหม,\n",
    "เขตปทุมวัน''')\n",
    "\n",
    "print(\"\\n|----- Bangkok District Inconsistencies -----|\")\n",
    "print('''เมืองเชียงใหม่, สารภี, สันกำแพง, บางละมุง, \n",
    "เมืองชลบุรี, สันทราย, ศรีราชา, แม่ริม, \n",
    "หางดง, ดอยสะเก็ด, สัตหีบ''')\n",
    "\n",
    "print(\"\\n|----- Chon Buri District Inconsistencies -----|\")\n",
    "print('''เขตห้วยขวาง, เขตภาษีเจริญ, เขตสวนหลวง, เขตทุ่งครุ, \n",
    "เขตวังทองหลาง, เขตบางแค, เขตบางรัก, เมืองนนทบุรี, \n",
    "ลำลูกกา, บางบ่อ, เขตราชเทวี, เมืองสมุทรปราการ,\n",
    "สามพราน, บางใหญ่, เขตหนองแขม, เขตสาทร, \n",
    "เขตดอนเมือง, บางพลี''')"
   ]
  },
  {
   "cell_type": "code",
   "execution_count": 94,
   "id": "7b105411",
   "metadata": {},
   "outputs": [],
   "source": [
    "# ----------------------------------------\n",
    "# Handling Province-District Inconsistency\n",
    "# ----------------------------------------\n",
    "\n",
    "# Lists of inconsistent districts for each province\n",
    "chiangmai_bad = [\"พุทธมณฑล\", \"เขตลาดกระบัง\", \"กระทุ่มแบน\", \"เขตราชเทวี\",\n",
    "                 \"เขตสวนหลวง\", \"เขตบางรัก\", \"เขตห้วยขวาง\", \"ปากเกร็ด\",\n",
    "                 \"เขตประเวศ\", \"เมืองชลบุรี\", \"เมืองสมุทรปราการ\", \"เขตบางกอกใหญ่\",\n",
    "                 \"คลองหลวง\", \"เขตธนบุรี\", \"บางละมุง\", \"เขตสายไหม\",\n",
    "                 \"เขตปทุมวัน\"]\n",
    "bangkok_bad = [\"เมืองเชียงใหม่\", \"สารภี\", \"สันกำแพง\", \"บางละมุง\",\n",
    "               \"เมืองชลบุรี\", \"สันทราย\", \"ศรีราชา\", \"แม่ริม\",\n",
    "               \"หางดง\", \"ดอยสะเก็ด\", \"สัตหีบ\"]\n",
    "chonburi_bad = [\"เขตห้วยขวาง\", \"เขตภาษีเจริญ\", \"เขตสวนหลวง\", \"เขตทุ่งครุ\",\n",
    "                \"เขตวังทองหลาง\", \"เขตบางแค\", \"เขตบางรัก\", \"เมืองนนทบุรี\",\n",
    "                \"ลำลูกกา\", \"บางบ่อ\", \"เขตราชเทวี\", \"เมืองสมุทรปราการ\",\n",
    "                \"สามพราน\", \"บางใหญ่\", \"เขตหนองแขม\", \"เขตสาทร\",\n",
    "                \"เขตดอนเมือง\", \"บางพลี\"]\n",
    "\n",
    "# Set inconsistent districts to \"ไม่มีการระบุ\"\n",
    "#df.loc[(df[\"province\"] == \"เชียงใหม่\") & (df[\"district\"].isin(chiangmai_bad)), \"district\"] = \"ไม่มีการระบุ\"\n",
    "#df.loc[(df[\"province\"] == \"กรุงเทพ และปริมณฑล\") & (df[\"district\"].isin(bangkok_bad)), \"district\"] = \"ไม่มีการระบุ\"\n",
    "#df.loc[(df[\"province\"] == \"ชลบุรี\") & (df[\"district\"].isin(chonburi_bad)), \"district\"] = \"ไม่มีการระบุ\"\n",
    "\n",
    "# Easier to maintain if we add more provinces later\n",
    "bad_districts = {\"เชียงใหม่\": chiangmai_bad,\n",
    "                 \"กรุงเทพ และปริมณฑล\": bangkok_bad,\n",
    "                 \"ชลบุรี\": chonburi_bad}\n",
    "\n",
    "for province, bad_list in bad_districts.items():\n",
    "    df.loc[(df[\"province\"] == province) & (df[\"district\"].isin(bad_list)), \"district\"] = \"ไม่มีการระบุ\""
   ]
  },
  {
   "cell_type": "markdown",
   "id": "5a870ce3",
   "metadata": {},
   "source": [
    "<a id=\"id_inconsistency\"></a>\n",
    "\n",
    "<div style=\"border-radius:10px; padding: 15px; background-color: #10041c; font-size:100%; text-align:left\">\n",
    "\n",
    "<font color=#ffffff>\n",
    "\n",
    "#### <b>Remove Professional System / Test Artifact IDs</b>\n",
    "\n",
    "Drop rows where service provider are 0 and 300 which are not real providers, since they would inject noise into segmentation.\n",
    "\n",
    "- __`professional_id == 0`__ (artificial service provider for testing system).\n",
    "\n",
    "- __`professional_id == 300`__ (temporary id for querying provider with sensitive data)."
   ]
  },
  {
   "cell_type": "code",
   "execution_count": 95,
   "id": "df0ded73",
   "metadata": {},
   "outputs": [
    {
     "data": {
      "text/plain": [
       "booking_status\n",
       "ยกเลิก                        35647\n",
       "ยังไม่ระบุวันเข้าให้บริการ    11373\n",
       "รอเข้าให้บริการ                 736\n",
       "ยังไม่มีคุณแม่บ้านกดรับงาน      170\n",
       "เสร็จสิ้น                        97\n",
       "Name: count, dtype: int64"
      ]
     },
     "execution_count": 95,
     "metadata": {},
     "output_type": "execute_result"
    }
   ],
   "source": [
    "df[df[\"professional_id\"].isin([0, 300]) == True].booking_status.value_counts()"
   ]
  },
  {
   "cell_type": "code",
   "execution_count": 96,
   "id": "f223ef3a",
   "metadata": {},
   "outputs": [],
   "source": [
    "# ----------------------------------------\n",
    "# Removing Invalid professional_id\n",
    "# ----------------------------------------\n",
    "\n",
    "# Remove system / test IDs\n",
    "df = df[~df[\"professional_id\"].isin([0, 300])]"
   ]
  },
  {
   "cell_type": "markdown",
   "id": "c558123d",
   "metadata": {},
   "source": [
    "<a id=\"outlier_cleaning\"></a>\n",
    "\n",
    "### <b><span style='color:#ffa705'>Step 3.6 |</span><span style='color:#ffffff'> Outlier Treatment</span></b>\n",
    "⬆️ [Table of Contents](#contents_table)\n",
    "\n",
    "<font color=#ffffff>\n",
    "\n",
    "In K-Means Clustering, the algorithm is sensitive to both the scale of data and the presence of outliers, as they can significantly influence the position of centroids, potentially leading to incorrect cluster assignments. However, considering the context of this project where the final goal is to segment service provider by behavior and preferences through K-Means Clustering, it would be more prudent to address the issue of outliers __after the feature engineering phase__ where we create a customer-centric dataset. At this stage, removing outliers might eliminate valuable information that could play a crucial role in segmenting service providers later on. Therefore, we will postpone the outlier treatment and proceed to the next stage for now."
   ]
  },
  {
   "cell_type": "code",
   "execution_count": 47,
   "id": "7b97c31f",
   "metadata": {},
   "outputs": [],
   "source": [
    "# Resetting the index of the cleaned dataset\n",
    "df.reset_index(drop=True, inplace=True)"
   ]
  },
  {
   "cell_type": "code",
   "execution_count": 48,
   "id": "7a303d95",
   "metadata": {},
   "outputs": [
    {
     "data": {
      "text/plain": [
       "1082200"
      ]
     },
     "execution_count": 48,
     "metadata": {},
     "output_type": "execute_result"
    }
   ],
   "source": [
    "# Getting the number of rows in the dataframe\n",
    "df.shape[0]"
   ]
  },
  {
   "cell_type": "code",
   "execution_count": 49,
   "id": "81202be0",
   "metadata": {},
   "outputs": [],
   "source": [
    "# Save a cleaned dataset for the next step\n",
    "df.to_csv(\"booking_raw_cleaned.csv\", index=False)"
   ]
  },
  {
   "cell_type": "markdown",
   "id": "3135a4ba",
   "metadata": {},
   "source": [
    "<a id=\"feature_engineering\"></a>\n",
    "\n",
    "## <b><span style='color:#ffa705'>Step 4 |</span><span style='color:#ffffff'> Feature Engineering</span></b>\n",
    "⬆️ [Table of Contents](#contents_table)\n",
    "\n",
    "<font color=#ffffff>\n",
    "\n",
    "This step I'm going to **extract meaningful features** from service provider data to support provider segmentation models (e.g., K-Means, Hierarchical Clustering, DBSCAN).\n",
    "\n",
    "In order to create a comprehensive service provider-centric dataset for clustering, the following features can be engineered from the available data."
   ]
  },
  {
   "cell_type": "code",
   "execution_count": 36,
   "id": "5038eef5",
   "metadata": {},
   "outputs": [],
   "source": [
    "cleaned_data = \"C:\\\\Users\\\\Christopher French\\\\Downloads\\\\ビニート\\\\16-24_internship_project\\\\data\\\\booking_raw_cleaned.csv\"\n",
    "\n",
    "df = pd.read_csv(cleaned_data)\n",
    "\n",
    "# After reading the cleaned CSV, convert date columns to datetime\n",
    "df[\"booking_date\"] = pd.to_datetime(df[\"booking_date\"], errors=\"coerce\")\n",
    "df[\"cleaning_date\"] = pd.to_datetime(df[\"cleaning_date\"], errors=\"coerce\")"
   ]
  },
  {
   "cell_type": "code",
   "execution_count": 37,
   "id": "4b78c33e",
   "metadata": {},
   "outputs": [
    {
     "name": "stdout",
     "output_type": "stream",
     "text": [
      "<class 'pandas.core.frame.DataFrame'>\n",
      "RangeIndex: 1082200 entries, 0 to 1082199\n",
      "Data columns (total 31 columns):\n",
      " #   Column                    Non-Null Count    Dtype         \n",
      "---  ------                    --------------    -----         \n",
      " 0   booking_id                1082200 non-null  object        \n",
      " 1   user_id                   1082200 non-null  int64         \n",
      " 2   is_new_customer           1082200 non-null  int64         \n",
      " 3   user_place_id             1082200 non-null  int64         \n",
      " 4   place_size                1082200 non-null  object        \n",
      " 5   service_name              1082200 non-null  object        \n",
      " 6   sub_service_name          1082200 non-null  object        \n",
      " 7   extra_service             1082200 non-null  object        \n",
      " 8   province                  1082200 non-null  object        \n",
      " 9   district                  1082200 non-null  object        \n",
      " 10  booking_date              1082200 non-null  datetime64[ns]\n",
      " 11  cleaning_date             1081755 non-null  datetime64[ns]\n",
      " 12  is_sameday                1082200 non-null  int64         \n",
      " 13  work_hour                 1082200 non-null  float64       \n",
      " 14  additional_hour           1082200 non-null  float64       \n",
      " 15  total_price               1082200 non-null  float64       \n",
      " 16  discount_cost             1082200 non-null  float64       \n",
      " 17  credit_discount_cost      1082200 non-null  float64       \n",
      " 18  promo_code                1082200 non-null  object        \n",
      " 19  discount_pct              1082200 non-null  float64       \n",
      " 20  booking_status            1082200 non-null  object        \n",
      " 21  cancel_reason             1082200 non-null  object        \n",
      " 22  professional_id           1082200 non-null  int64         \n",
      " 23  selected_professional_id  1082200 non-null  int64         \n",
      " 24  is_new_professional       1082200 non-null  int64         \n",
      " 25  rating                    1082200 non-null  object        \n",
      " 26  problem                   1082200 non-null  object        \n",
      " 27  is_claimed_booking        1082200 non-null  int64         \n",
      " 28  has_problem               1082200 non-null  int64         \n",
      " 29  status                    1082200 non-null  object        \n",
      " 30  sameday_mismatch          1082200 non-null  bool          \n",
      "dtypes: bool(1), datetime64[ns](2), float64(6), int64(9), object(13)\n",
      "memory usage: 248.7+ MB\n"
     ]
    }
   ],
   "source": [
    "df.info()"
   ]
  },
  {
   "cell_type": "markdown",
   "id": "bb767d49",
   "metadata": {},
   "source": [
    "<a id=\"rfm_features\"></a>\n",
    "\n",
    "### <b><span style='color:#ffa705'>Step 4.1 |</span><span style='color:#ffffff'> RFM Features</span></b>\n",
    "⬆️ [Table of Contents](#contents_table)"
   ]
  },
  {
   "cell_type": "markdown",
   "id": "8a05c545",
   "metadata": {},
   "source": [
    "<div style=\"border-radius:10px; padding: 15px; background-color: #10041c; font-size:100%; text-align:left\">\n",
    "\n",
    "<font color=#ffffff>\n",
    "\n",
    "RFM is a method used for analyzing provider value and segmenting the provider base. It is an acronym that stands for:\n",
    "\n",
    "- __Recency (R):__ This metric indicates how recently a provider has made a purchase. A lower recency value means the provider has provided service more recently, indicating higher engagement with the company.\n",
    "\n",
    "- __Frequency (F):__ This metric signifies how often a provider makes a service providing within a certain period. A higher frequency value indicates a provider who interacts with the customer more often, suggesting higher loyalty or satisfaction.\n",
    "\n",
    "- __Monetary (M):__ This metric represents the total amount of money a provider has earned over a certain period. providers who have a higher monetary value have contributed more to the business, indicating their potential high lifetime value.\n",
    "\n",
    "Together, these metrics help in understanding a provider's behavior, which is pivotal in personalizing marketing strategies and improving relation."
   ]
  },
  {
   "cell_type": "markdown",
   "id": "97d82240",
   "metadata": {},
   "source": [
    "<a id=\"recency\"></a>\n",
    "\n",
    "#### <b><span style='color:#ffa705'>Step 4.1.1 |</span><span style='color:#ffffff'> Recency (R)</span></b>\n",
    "⬆️ [Table of Contents](#contents_table)"
   ]
  },
  {
   "cell_type": "markdown",
   "id": "714de0dc",
   "metadata": {},
   "source": [
    "<div style=\"border-radius:10px; padding: 15px; background-color: #10041c; font-size:100%; text-align:left\">\n",
    "\n",
    "<font color=#ffffff>\n",
    "\n",
    "In this step, we focus on understanding how recently a service provider has complete a cleaning service. This is a crucial aspect of provider segmentation as it helps in identifying the engagement level of service providers. Here, I am going to define the following feature:\n",
    "\n",
    "- __last_completed_cleaning_date__: The last cleaning date after the last booking date in the `df[\"booking_date\"]` of the service provider.\n",
    "\n",
    "- __days_since_last_service__: This feature represents the number of days that have passed since the provider's last service. A lower value indicates that the provider has provided service recently, implying a higher engagement level with the business, whereas a higher value may indicate a lapse or decreased engagement. By understanding the recency of services, businesses can tailor their marketing strategies to re-engage providers who have not provided service in a while, potentially increasing service provider retention and fostering loyalty."
   ]
  },
  {
   "cell_type": "code",
   "execution_count": 38,
   "id": "e330caae",
   "metadata": {},
   "outputs": [],
   "source": [
    "# Use booking_date for latest_date reference\n",
    "latest_date = df[\"booking_date\"].max()\n",
    "completed = df[df[\"booking_status\"] == \"เสร็จสิ้น\"]\n",
    "\n",
    "provider_data = (\n",
    "    completed.groupby(\"professional_id\")[\"cleaning_date\"]\n",
    "    .max()\n",
    "    .reset_index()\n",
    "    .rename(columns={\"cleaning_date\": \"last_completed_cleaning_date\"})\n",
    ")\n",
    "provider_data[\"days_since_last_service\"] = (\n",
    "    latest_date - provider_data[\"last_completed_cleaning_date\"]\n",
    ").dt.days"
   ]
  },
  {
   "cell_type": "code",
   "execution_count": 39,
   "id": "379c06fe",
   "metadata": {},
   "outputs": [
    {
     "data": {
      "text/html": [
       "<div>\n",
       "<style scoped>\n",
       "    .dataframe tbody tr th:only-of-type {\n",
       "        vertical-align: middle;\n",
       "    }\n",
       "\n",
       "    .dataframe tbody tr th {\n",
       "        vertical-align: top;\n",
       "    }\n",
       "\n",
       "    .dataframe thead th {\n",
       "        text-align: right;\n",
       "    }\n",
       "</style>\n",
       "<table border=\"1\" class=\"dataframe\">\n",
       "  <thead>\n",
       "    <tr style=\"text-align: right;\">\n",
       "      <th></th>\n",
       "      <th>professional_id</th>\n",
       "      <th>last_completed_cleaning_date</th>\n",
       "      <th>days_since_last_service</th>\n",
       "    </tr>\n",
       "  </thead>\n",
       "  <tbody>\n",
       "    <tr>\n",
       "      <th>0</th>\n",
       "      <td>5</td>\n",
       "      <td>2022-08-05 16:00:00</td>\n",
       "      <td>1006</td>\n",
       "    </tr>\n",
       "    <tr>\n",
       "      <th>1</th>\n",
       "      <td>6</td>\n",
       "      <td>2017-07-29 13:00:00</td>\n",
       "      <td>2840</td>\n",
       "    </tr>\n",
       "    <tr>\n",
       "      <th>2</th>\n",
       "      <td>7</td>\n",
       "      <td>2017-01-21 12:00:00</td>\n",
       "      <td>3029</td>\n",
       "    </tr>\n",
       "    <tr>\n",
       "      <th>3</th>\n",
       "      <td>8</td>\n",
       "      <td>2016-04-01 13:00:00</td>\n",
       "      <td>3324</td>\n",
       "    </tr>\n",
       "    <tr>\n",
       "      <th>4</th>\n",
       "      <td>9</td>\n",
       "      <td>2018-01-01 14:30:00</td>\n",
       "      <td>2684</td>\n",
       "    </tr>\n",
       "    <tr>\n",
       "      <th>...</th>\n",
       "      <td>...</td>\n",
       "      <td>...</td>\n",
       "      <td>...</td>\n",
       "    </tr>\n",
       "    <tr>\n",
       "      <th>7254</th>\n",
       "      <td>12691</td>\n",
       "      <td>2025-05-08 12:30:00</td>\n",
       "      <td>0</td>\n",
       "    </tr>\n",
       "    <tr>\n",
       "      <th>7255</th>\n",
       "      <td>12698</td>\n",
       "      <td>2025-05-05 19:00:00</td>\n",
       "      <td>2</td>\n",
       "    </tr>\n",
       "    <tr>\n",
       "      <th>7256</th>\n",
       "      <td>12699</td>\n",
       "      <td>2025-05-05 12:30:00</td>\n",
       "      <td>3</td>\n",
       "    </tr>\n",
       "    <tr>\n",
       "      <th>7257</th>\n",
       "      <td>12703</td>\n",
       "      <td>2025-05-07 09:00:00</td>\n",
       "      <td>1</td>\n",
       "    </tr>\n",
       "    <tr>\n",
       "      <th>7258</th>\n",
       "      <td>12704</td>\n",
       "      <td>2025-05-08 13:30:00</td>\n",
       "      <td>0</td>\n",
       "    </tr>\n",
       "  </tbody>\n",
       "</table>\n",
       "<p>7259 rows × 3 columns</p>\n",
       "</div>"
      ],
      "text/plain": [
       "      professional_id last_completed_cleaning_date  days_since_last_service\n",
       "0                   5          2022-08-05 16:00:00                     1006\n",
       "1                   6          2017-07-29 13:00:00                     2840\n",
       "2                   7          2017-01-21 12:00:00                     3029\n",
       "3                   8          2016-04-01 13:00:00                     3324\n",
       "4                   9          2018-01-01 14:30:00                     2684\n",
       "...               ...                          ...                      ...\n",
       "7254            12691          2025-05-08 12:30:00                        0\n",
       "7255            12698          2025-05-05 19:00:00                        2\n",
       "7256            12699          2025-05-05 12:30:00                        3\n",
       "7257            12703          2025-05-07 09:00:00                        1\n",
       "7258            12704          2025-05-08 13:30:00                        0\n",
       "\n",
       "[7259 rows x 3 columns]"
      ]
     },
     "execution_count": 39,
     "metadata": {},
     "output_type": "execute_result"
    }
   ],
   "source": [
    "# provider_data now contains one row per provider\n",
    "provider_data"
   ]
  },
  {
   "cell_type": "markdown",
   "id": "8d8cfbb3",
   "metadata": {},
   "source": [
    "<div style=\"border-radius:10px; padding: 15px; background-color: #10041c; font-size:100%; text-align:left\">\n",
    "\n",
    "<font color=#ffffff>\n",
    "\n",
    "__Note:__ I've named the service provider-centric dataframe as __provider_data__, which will eventually contain all the provider-based features we plan to create."
   ]
  },
  {
   "cell_type": "markdown",
   "id": "b978162e",
   "metadata": {},
   "source": [
    "<a id=\"frequency\"></a>\n",
    "\n",
    "#### <b><span style='color:#ffa705'>Step 4.1.2 |</span><span style='color:#ffffff'> Frequency (F)</span></b>\n",
    "⬆️ [Table of Contents](#contents_table)"
   ]
  },
  {
   "cell_type": "markdown",
   "id": "95c34882",
   "metadata": {},
   "source": [
    "<div style=\"border-radius:10px; padding: 15px; background-color: #10041c; font-size:100%; text-align:left\">\n",
    "\n",
    "<font color=#ffffff>\n",
    "\n",
    "In this step, I am going to create two features that quantify the frequency of a service provider's engagement with the customer:\n",
    "\n",
    "- __total_service_provided__: This feature indicates the total number of services (`df[\"booking_status\"]` is `\"เสร็จสิ้น\"`) provided across all booking. It gives an insight into the service provider's behavior in terms of the volume of service provided.\n",
    "\n",
    "- __total_service_cancelled__: This feature indicates the total number of services (`df[\"booking_status\"]` is `\"ยกเลิก\"`) cancelled across all booking.\n",
    "    \n",
    "This feature will be crucial in segmenting customers based on their service providing frequency, which is a key aspect in determining provider segments for targeted marketing."
   ]
  },
  {
   "cell_type": "code",
   "execution_count": 40,
   "id": "2153b729",
   "metadata": {},
   "outputs": [
    {
     "data": {
      "text/html": [
       "<div>\n",
       "<style scoped>\n",
       "    .dataframe tbody tr th:only-of-type {\n",
       "        vertical-align: middle;\n",
       "    }\n",
       "\n",
       "    .dataframe tbody tr th {\n",
       "        vertical-align: top;\n",
       "    }\n",
       "\n",
       "    .dataframe thead th {\n",
       "        text-align: right;\n",
       "    }\n",
       "</style>\n",
       "<table border=\"1\" class=\"dataframe\">\n",
       "  <thead>\n",
       "    <tr style=\"text-align: right;\">\n",
       "      <th></th>\n",
       "      <th>professional_id</th>\n",
       "      <th>last_completed_cleaning_date</th>\n",
       "      <th>days_since_last_service</th>\n",
       "      <th>total_service_provided</th>\n",
       "      <th>total_service_cancelled</th>\n",
       "    </tr>\n",
       "  </thead>\n",
       "  <tbody>\n",
       "    <tr>\n",
       "      <th>0</th>\n",
       "      <td>5</td>\n",
       "      <td>2022-08-05 16:00:00</td>\n",
       "      <td>1006</td>\n",
       "      <td>31</td>\n",
       "      <td>283</td>\n",
       "    </tr>\n",
       "    <tr>\n",
       "      <th>1</th>\n",
       "      <td>6</td>\n",
       "      <td>2017-07-29 13:00:00</td>\n",
       "      <td>2840</td>\n",
       "      <td>5</td>\n",
       "      <td>4</td>\n",
       "    </tr>\n",
       "    <tr>\n",
       "      <th>2</th>\n",
       "      <td>7</td>\n",
       "      <td>2017-01-21 12:00:00</td>\n",
       "      <td>3029</td>\n",
       "      <td>415</td>\n",
       "      <td>2</td>\n",
       "    </tr>\n",
       "    <tr>\n",
       "      <th>3</th>\n",
       "      <td>8</td>\n",
       "      <td>2016-04-01 13:00:00</td>\n",
       "      <td>3324</td>\n",
       "      <td>2</td>\n",
       "      <td>0</td>\n",
       "    </tr>\n",
       "    <tr>\n",
       "      <th>4</th>\n",
       "      <td>9</td>\n",
       "      <td>2018-01-01 14:30:00</td>\n",
       "      <td>2684</td>\n",
       "      <td>96</td>\n",
       "      <td>1</td>\n",
       "    </tr>\n",
       "    <tr>\n",
       "      <th>...</th>\n",
       "      <td>...</td>\n",
       "      <td>...</td>\n",
       "      <td>...</td>\n",
       "      <td>...</td>\n",
       "      <td>...</td>\n",
       "    </tr>\n",
       "    <tr>\n",
       "      <th>7254</th>\n",
       "      <td>12691</td>\n",
       "      <td>2025-05-08 12:30:00</td>\n",
       "      <td>0</td>\n",
       "      <td>4</td>\n",
       "      <td>0</td>\n",
       "    </tr>\n",
       "    <tr>\n",
       "      <th>7255</th>\n",
       "      <td>12698</td>\n",
       "      <td>2025-05-05 19:00:00</td>\n",
       "      <td>2</td>\n",
       "      <td>3</td>\n",
       "      <td>0</td>\n",
       "    </tr>\n",
       "    <tr>\n",
       "      <th>7256</th>\n",
       "      <td>12699</td>\n",
       "      <td>2025-05-05 12:30:00</td>\n",
       "      <td>3</td>\n",
       "      <td>2</td>\n",
       "      <td>0</td>\n",
       "    </tr>\n",
       "    <tr>\n",
       "      <th>7257</th>\n",
       "      <td>12703</td>\n",
       "      <td>2025-05-07 09:00:00</td>\n",
       "      <td>1</td>\n",
       "      <td>1</td>\n",
       "      <td>0</td>\n",
       "    </tr>\n",
       "    <tr>\n",
       "      <th>7258</th>\n",
       "      <td>12704</td>\n",
       "      <td>2025-05-08 13:30:00</td>\n",
       "      <td>0</td>\n",
       "      <td>4</td>\n",
       "      <td>0</td>\n",
       "    </tr>\n",
       "  </tbody>\n",
       "</table>\n",
       "<p>7259 rows × 5 columns</p>\n",
       "</div>"
      ],
      "text/plain": [
       "      professional_id last_completed_cleaning_date  days_since_last_service  \\\n",
       "0                   5          2022-08-05 16:00:00                     1006   \n",
       "1                   6          2017-07-29 13:00:00                     2840   \n",
       "2                   7          2017-01-21 12:00:00                     3029   \n",
       "3                   8          2016-04-01 13:00:00                     3324   \n",
       "4                   9          2018-01-01 14:30:00                     2684   \n",
       "...               ...                          ...                      ...   \n",
       "7254            12691          2025-05-08 12:30:00                        0   \n",
       "7255            12698          2025-05-05 19:00:00                        2   \n",
       "7256            12699          2025-05-05 12:30:00                        3   \n",
       "7257            12703          2025-05-07 09:00:00                        1   \n",
       "7258            12704          2025-05-08 13:30:00                        0   \n",
       "\n",
       "      total_service_provided  total_service_cancelled  \n",
       "0                         31                      283  \n",
       "1                          5                        4  \n",
       "2                        415                        2  \n",
       "3                          2                        0  \n",
       "4                         96                        1  \n",
       "...                      ...                      ...  \n",
       "7254                       4                        0  \n",
       "7255                       3                        0  \n",
       "7256                       2                        0  \n",
       "7257                       1                        0  \n",
       "7258                       4                        0  \n",
       "\n",
       "[7259 rows x 5 columns]"
      ]
     },
     "execution_count": 40,
     "metadata": {},
     "output_type": "execute_result"
    }
   ],
   "source": [
    "# Calculate the total number of provided service made by each provider\n",
    "total_service = (\n",
    "    df[df[\"booking_status\"] == \"เสร็จสิ้น\"]\n",
    "    .groupby(\"professional_id\")[\"booking_id\"]\n",
    "    .count()\n",
    "    .reset_index()\n",
    "    .rename(columns={\"booking_id\": \"total_service_provided\"})\n",
    ")\n",
    "\n",
    "# Calculate the total number of cancelled service made by each provider\n",
    "total_cancelled = (\n",
    "    df[df[\"booking_status\"] == \"ยกเลิก\"]\n",
    "    .groupby(\"professional_id\")[\"booking_id\"]\n",
    "    .count()\n",
    "    .reset_index()\n",
    "    .rename(columns={\"booking_id\": \"total_service_cancelled\"})\n",
    ")\n",
    "\n",
    "# Merge the new features into the provider_data dataframe\n",
    "provider_data = provider_data.merge(total_service, on=\"professional_id\", how=\"left\")\n",
    "provider_data = provider_data.merge(total_cancelled, on=\"professional_id\", how=\"left\")\n",
    "\n",
    "# Clean any missing values by filling with 0\n",
    "provider_data[\"total_service_provided\"] = provider_data[\"total_service_provided\"].fillna(0).astype(int)\n",
    "provider_data[\"total_service_cancelled\"] = provider_data[\"total_service_cancelled\"].fillna(0).astype(int)\n",
    "\n",
    "provider_data"
   ]
  },
  {
   "cell_type": "markdown",
   "id": "4b795442",
   "metadata": {},
   "source": [
    "<a id=\"monetary\"></a>\n",
    "\n",
    "#### <b><span style='color:#ffa705'>Step 4.1.3 |</span><span style='color:#ffffff'> Monetary (M)</span></b>\n",
    "⬆️ [Table of Contents](#contents_table)"
   ]
  },
  {
   "cell_type": "markdown",
   "id": "f549f37a",
   "metadata": {},
   "source": [
    "<div style=\"border-radius:10px; padding: 15px; background-color: #10041c; font-size:100%; text-align:left\">\n",
    "\n",
    "<font color=#ffffff>\n",
    "\n",
    "In this step, I am going to create two features that represent the monetary aspect of customer's transactions:\n",
    "\n",
    "- __total_revenue__: This feature represents the total amount of money earned by each provider. It is calculated as the sum of the `df[\"total_price\"]`. This feature is crucial as it helps in identifying the total revenue generated by each provider, which is a direct indicator of a service provider's value to the business.\n",
    "\n",
    "- __total_service_hour__: This feature represents the total service hour by each provider. It is calculated as the sum of the product of `df[\"work_hour\"]` and `df[\"additional_hour\"]`.\n",
    "\n",
    "- __average_revenue__: This feature is calculated as the __total_revenue__ divided by the total claimed booking for each provider. It indicates the average revenue of a booking carried out by a provider. This metric is useful in understanding the servicing behavior of providers per booking, which can assist in tailoring marketing strategies and offers to different provider segments based on their average servicing patterns."
   ]
  },
  {
   "cell_type": "code",
   "execution_count": 41,
   "id": "c318e267",
   "metadata": {},
   "outputs": [
    {
     "data": {
      "text/html": [
       "<div>\n",
       "<style scoped>\n",
       "    .dataframe tbody tr th:only-of-type {\n",
       "        vertical-align: middle;\n",
       "    }\n",
       "\n",
       "    .dataframe tbody tr th {\n",
       "        vertical-align: top;\n",
       "    }\n",
       "\n",
       "    .dataframe thead th {\n",
       "        text-align: right;\n",
       "    }\n",
       "</style>\n",
       "<table border=\"1\" class=\"dataframe\">\n",
       "  <thead>\n",
       "    <tr style=\"text-align: right;\">\n",
       "      <th></th>\n",
       "      <th>professional_id</th>\n",
       "      <th>last_completed_cleaning_date</th>\n",
       "      <th>days_since_last_service</th>\n",
       "      <th>total_service_provided</th>\n",
       "      <th>total_service_cancelled</th>\n",
       "      <th>total_revenue</th>\n",
       "      <th>total_service_hour</th>\n",
       "      <th>average_revenue</th>\n",
       "    </tr>\n",
       "  </thead>\n",
       "  <tbody>\n",
       "    <tr>\n",
       "      <th>0</th>\n",
       "      <td>5</td>\n",
       "      <td>2022-08-05 16:00:00</td>\n",
       "      <td>1006</td>\n",
       "      <td>31</td>\n",
       "      <td>283</td>\n",
       "      <td>23863.55</td>\n",
       "      <td>93.5</td>\n",
       "      <td>769.791935</td>\n",
       "    </tr>\n",
       "    <tr>\n",
       "      <th>1</th>\n",
       "      <td>6</td>\n",
       "      <td>2017-07-29 13:00:00</td>\n",
       "      <td>2840</td>\n",
       "      <td>5</td>\n",
       "      <td>4</td>\n",
       "      <td>1384.44</td>\n",
       "      <td>10.0</td>\n",
       "      <td>276.888000</td>\n",
       "    </tr>\n",
       "    <tr>\n",
       "      <th>2</th>\n",
       "      <td>7</td>\n",
       "      <td>2017-01-21 12:00:00</td>\n",
       "      <td>3029</td>\n",
       "      <td>415</td>\n",
       "      <td>2</td>\n",
       "      <td>152059.19</td>\n",
       "      <td>844.5</td>\n",
       "      <td>366.407687</td>\n",
       "    </tr>\n",
       "    <tr>\n",
       "      <th>3</th>\n",
       "      <td>8</td>\n",
       "      <td>2016-04-01 13:00:00</td>\n",
       "      <td>3324</td>\n",
       "      <td>2</td>\n",
       "      <td>0</td>\n",
       "      <td>900.00</td>\n",
       "      <td>4.5</td>\n",
       "      <td>450.000000</td>\n",
       "    </tr>\n",
       "    <tr>\n",
       "      <th>4</th>\n",
       "      <td>9</td>\n",
       "      <td>2018-01-01 14:30:00</td>\n",
       "      <td>2684</td>\n",
       "      <td>96</td>\n",
       "      <td>1</td>\n",
       "      <td>76797.50</td>\n",
       "      <td>319.5</td>\n",
       "      <td>799.973958</td>\n",
       "    </tr>\n",
       "    <tr>\n",
       "      <th>...</th>\n",
       "      <td>...</td>\n",
       "      <td>...</td>\n",
       "      <td>...</td>\n",
       "      <td>...</td>\n",
       "      <td>...</td>\n",
       "      <td>...</td>\n",
       "      <td>...</td>\n",
       "      <td>...</td>\n",
       "    </tr>\n",
       "    <tr>\n",
       "      <th>7254</th>\n",
       "      <td>12691</td>\n",
       "      <td>2025-05-08 12:30:00</td>\n",
       "      <td>0</td>\n",
       "      <td>4</td>\n",
       "      <td>0</td>\n",
       "      <td>1669.50</td>\n",
       "      <td>8.5</td>\n",
       "      <td>417.375000</td>\n",
       "    </tr>\n",
       "    <tr>\n",
       "      <th>7255</th>\n",
       "      <td>12698</td>\n",
       "      <td>2025-05-05 19:00:00</td>\n",
       "      <td>2</td>\n",
       "      <td>3</td>\n",
       "      <td>0</td>\n",
       "      <td>1560.00</td>\n",
       "      <td>6.0</td>\n",
       "      <td>520.000000</td>\n",
       "    </tr>\n",
       "    <tr>\n",
       "      <th>7256</th>\n",
       "      <td>12699</td>\n",
       "      <td>2025-05-05 12:30:00</td>\n",
       "      <td>3</td>\n",
       "      <td>2</td>\n",
       "      <td>0</td>\n",
       "      <td>1410.00</td>\n",
       "      <td>5.5</td>\n",
       "      <td>705.000000</td>\n",
       "    </tr>\n",
       "    <tr>\n",
       "      <th>7257</th>\n",
       "      <td>12703</td>\n",
       "      <td>2025-05-07 09:00:00</td>\n",
       "      <td>1</td>\n",
       "      <td>1</td>\n",
       "      <td>0</td>\n",
       "      <td>1248.00</td>\n",
       "      <td>6.0</td>\n",
       "      <td>1248.000000</td>\n",
       "    </tr>\n",
       "    <tr>\n",
       "      <th>7258</th>\n",
       "      <td>12704</td>\n",
       "      <td>2025-05-08 13:30:00</td>\n",
       "      <td>0</td>\n",
       "      <td>4</td>\n",
       "      <td>0</td>\n",
       "      <td>2040.00</td>\n",
       "      <td>8.5</td>\n",
       "      <td>510.000000</td>\n",
       "    </tr>\n",
       "  </tbody>\n",
       "</table>\n",
       "<p>7259 rows × 8 columns</p>\n",
       "</div>"
      ],
      "text/plain": [
       "      professional_id last_completed_cleaning_date  days_since_last_service  \\\n",
       "0                   5          2022-08-05 16:00:00                     1006   \n",
       "1                   6          2017-07-29 13:00:00                     2840   \n",
       "2                   7          2017-01-21 12:00:00                     3029   \n",
       "3                   8          2016-04-01 13:00:00                     3324   \n",
       "4                   9          2018-01-01 14:30:00                     2684   \n",
       "...               ...                          ...                      ...   \n",
       "7254            12691          2025-05-08 12:30:00                        0   \n",
       "7255            12698          2025-05-05 19:00:00                        2   \n",
       "7256            12699          2025-05-05 12:30:00                        3   \n",
       "7257            12703          2025-05-07 09:00:00                        1   \n",
       "7258            12704          2025-05-08 13:30:00                        0   \n",
       "\n",
       "      total_service_provided  total_service_cancelled  total_revenue  \\\n",
       "0                         31                      283       23863.55   \n",
       "1                          5                        4        1384.44   \n",
       "2                        415                        2      152059.19   \n",
       "3                          2                        0         900.00   \n",
       "4                         96                        1       76797.50   \n",
       "...                      ...                      ...            ...   \n",
       "7254                       4                        0        1669.50   \n",
       "7255                       3                        0        1560.00   \n",
       "7256                       2                        0        1410.00   \n",
       "7257                       1                        0        1248.00   \n",
       "7258                       4                        0        2040.00   \n",
       "\n",
       "      total_service_hour  average_revenue  \n",
       "0                   93.5       769.791935  \n",
       "1                   10.0       276.888000  \n",
       "2                  844.5       366.407687  \n",
       "3                    4.5       450.000000  \n",
       "4                  319.5       799.973958  \n",
       "...                  ...              ...  \n",
       "7254                 8.5       417.375000  \n",
       "7255                 6.0       520.000000  \n",
       "7256                 5.5       705.000000  \n",
       "7257                 6.0      1248.000000  \n",
       "7258                 8.5       510.000000  \n",
       "\n",
       "[7259 rows x 8 columns]"
      ]
     },
     "execution_count": 41,
     "metadata": {},
     "output_type": "execute_result"
    }
   ],
   "source": [
    "# Calculate total_revenue for each provider (sum of total_price for completed bookings)\n",
    "total_revenue = (\n",
    "    df[df[\"booking_status\"] == \"เสร็จสิ้น\"]\n",
    "    .groupby(\"professional_id\")[\"total_price\"]\n",
    "    .sum()\n",
    "    .reset_index()\n",
    "    .rename(columns={\"total_price\": \"total_revenue\"})\n",
    ")\n",
    "\n",
    "# Calculate total_service_hour for each provider (sum of work_hour + additional_hour for completed bookings)\n",
    "total_service_hour = (\n",
    "    df[df[\"booking_status\"] == \"เสร็จสิ้น\"]\n",
    "    .assign(service_hour=lambda x: x[\"work_hour\"] + x[\"additional_hour\"])\n",
    "    .groupby(\"professional_id\")[\"service_hour\"]\n",
    "    .sum()\n",
    "    .reset_index()\n",
    "    .rename(columns={\"service_hour\": \"total_service_hour\"})\n",
    ")\n",
    "\n",
    "# Merge these features into provider_data\n",
    "provider_data = provider_data.merge(total_revenue, on=\"professional_id\", how=\"left\")\n",
    "provider_data = provider_data.merge(total_service_hour, on=\"professional_id\", how=\"left\")\n",
    "\n",
    "provider_data[\"total_revenue\"] = provider_data[\"total_revenue\"].fillna(0)\n",
    "provider_data[\"total_service_hour\"] = provider_data[\"total_service_hour\"].fillna(0)\n",
    "\n",
    "# Calculate average_revenue (total_revenue / total_service_provided)\n",
    "provider_data[\"average_revenue\"] = provider_data.apply(\n",
    "    lambda row: row[\"total_revenue\"] / row[\"total_service_provided\"] if row[\"total_service_provided\"] > 0 else 0,\n",
    "    axis=1\n",
    ")\n",
    "\n",
    "provider_data"
   ]
  },
  {
   "cell_type": "markdown",
   "id": "4e950cd6",
   "metadata": {},
   "source": [
    "<a id=\"type_diversity\"></a>\n",
    "\n",
    "### <b><span style='color:#ffa705'>Step 4.2 |</span><span style='color:#ffffff'> Service Type Diversity</span></b>\n",
    "⬆️ [Table of Contents](#contents_table)"
   ]
  },
  {
   "cell_type": "code",
   "execution_count": 42,
   "id": "93cfe293",
   "metadata": {},
   "outputs": [
    {
     "data": {
      "text/plain": [
       "service_name\n",
       "บริการทำความสะอาด           1057001\n",
       "บริการรีดผ้า                  18094\n",
       "บริการทำความสะอาดห้องน้ำ       5733\n",
       "บริการล้างแอร์                 1372\n",
       "Name: count, dtype: int64"
      ]
     },
     "execution_count": 42,
     "metadata": {},
     "output_type": "execute_result"
    }
   ],
   "source": [
    "df[\"service_name\"].value_counts()"
   ]
  },
  {
   "cell_type": "markdown",
   "id": "fe052d51",
   "metadata": {},
   "source": [
    "<div style=\"border-radius:10px; padding: 15px; background-color: #10041cff; font-size:100%; text-align:left\">\n",
    "\n",
    "In this step, we are going to understand the diversity in the service providing behavior of providers.\n",
    "\n",
    "- __unique_services_provided__: This feature represents the number of distinct services provided by a service provider through `df[\"service_name\"]`. A higher value indicates that the provider has a diverse preference, providing a wide range of services, while a lower value might indicate a focused or specific preference."
   ]
  },
  {
   "cell_type": "code",
   "execution_count": 43,
   "id": "c6884814",
   "metadata": {},
   "outputs": [
    {
     "data": {
      "text/html": [
       "<div>\n",
       "<style scoped>\n",
       "    .dataframe tbody tr th:only-of-type {\n",
       "        vertical-align: middle;\n",
       "    }\n",
       "\n",
       "    .dataframe tbody tr th {\n",
       "        vertical-align: top;\n",
       "    }\n",
       "\n",
       "    .dataframe thead th {\n",
       "        text-align: right;\n",
       "    }\n",
       "</style>\n",
       "<table border=\"1\" class=\"dataframe\">\n",
       "  <thead>\n",
       "    <tr style=\"text-align: right;\">\n",
       "      <th></th>\n",
       "      <th>professional_id</th>\n",
       "      <th>last_completed_cleaning_date</th>\n",
       "      <th>days_since_last_service</th>\n",
       "      <th>total_service_provided</th>\n",
       "      <th>total_service_cancelled</th>\n",
       "      <th>total_revenue</th>\n",
       "      <th>total_service_hour</th>\n",
       "      <th>average_revenue</th>\n",
       "      <th>unique_services_provided</th>\n",
       "    </tr>\n",
       "  </thead>\n",
       "  <tbody>\n",
       "    <tr>\n",
       "      <th>0</th>\n",
       "      <td>5</td>\n",
       "      <td>2022-08-05 16:00:00</td>\n",
       "      <td>1006</td>\n",
       "      <td>31</td>\n",
       "      <td>283</td>\n",
       "      <td>23863.55</td>\n",
       "      <td>93.5</td>\n",
       "      <td>769.791935</td>\n",
       "      <td>1</td>\n",
       "    </tr>\n",
       "    <tr>\n",
       "      <th>1</th>\n",
       "      <td>6</td>\n",
       "      <td>2017-07-29 13:00:00</td>\n",
       "      <td>2840</td>\n",
       "      <td>5</td>\n",
       "      <td>4</td>\n",
       "      <td>1384.44</td>\n",
       "      <td>10.0</td>\n",
       "      <td>276.888000</td>\n",
       "      <td>1</td>\n",
       "    </tr>\n",
       "    <tr>\n",
       "      <th>2</th>\n",
       "      <td>7</td>\n",
       "      <td>2017-01-21 12:00:00</td>\n",
       "      <td>3029</td>\n",
       "      <td>415</td>\n",
       "      <td>2</td>\n",
       "      <td>152059.19</td>\n",
       "      <td>844.5</td>\n",
       "      <td>366.407687</td>\n",
       "      <td>1</td>\n",
       "    </tr>\n",
       "    <tr>\n",
       "      <th>3</th>\n",
       "      <td>8</td>\n",
       "      <td>2016-04-01 13:00:00</td>\n",
       "      <td>3324</td>\n",
       "      <td>2</td>\n",
       "      <td>0</td>\n",
       "      <td>900.00</td>\n",
       "      <td>4.5</td>\n",
       "      <td>450.000000</td>\n",
       "      <td>1</td>\n",
       "    </tr>\n",
       "    <tr>\n",
       "      <th>4</th>\n",
       "      <td>9</td>\n",
       "      <td>2018-01-01 14:30:00</td>\n",
       "      <td>2684</td>\n",
       "      <td>96</td>\n",
       "      <td>1</td>\n",
       "      <td>76797.50</td>\n",
       "      <td>319.5</td>\n",
       "      <td>799.973958</td>\n",
       "      <td>1</td>\n",
       "    </tr>\n",
       "    <tr>\n",
       "      <th>...</th>\n",
       "      <td>...</td>\n",
       "      <td>...</td>\n",
       "      <td>...</td>\n",
       "      <td>...</td>\n",
       "      <td>...</td>\n",
       "      <td>...</td>\n",
       "      <td>...</td>\n",
       "      <td>...</td>\n",
       "      <td>...</td>\n",
       "    </tr>\n",
       "    <tr>\n",
       "      <th>7254</th>\n",
       "      <td>12691</td>\n",
       "      <td>2025-05-08 12:30:00</td>\n",
       "      <td>0</td>\n",
       "      <td>4</td>\n",
       "      <td>0</td>\n",
       "      <td>1669.50</td>\n",
       "      <td>8.5</td>\n",
       "      <td>417.375000</td>\n",
       "      <td>2</td>\n",
       "    </tr>\n",
       "    <tr>\n",
       "      <th>7255</th>\n",
       "      <td>12698</td>\n",
       "      <td>2025-05-05 19:00:00</td>\n",
       "      <td>2</td>\n",
       "      <td>3</td>\n",
       "      <td>0</td>\n",
       "      <td>1560.00</td>\n",
       "      <td>6.0</td>\n",
       "      <td>520.000000</td>\n",
       "      <td>1</td>\n",
       "    </tr>\n",
       "    <tr>\n",
       "      <th>7256</th>\n",
       "      <td>12699</td>\n",
       "      <td>2025-05-05 12:30:00</td>\n",
       "      <td>3</td>\n",
       "      <td>2</td>\n",
       "      <td>0</td>\n",
       "      <td>1410.00</td>\n",
       "      <td>5.5</td>\n",
       "      <td>705.000000</td>\n",
       "      <td>2</td>\n",
       "    </tr>\n",
       "    <tr>\n",
       "      <th>7257</th>\n",
       "      <td>12703</td>\n",
       "      <td>2025-05-07 09:00:00</td>\n",
       "      <td>1</td>\n",
       "      <td>1</td>\n",
       "      <td>0</td>\n",
       "      <td>1248.00</td>\n",
       "      <td>6.0</td>\n",
       "      <td>1248.000000</td>\n",
       "      <td>1</td>\n",
       "    </tr>\n",
       "    <tr>\n",
       "      <th>7258</th>\n",
       "      <td>12704</td>\n",
       "      <td>2025-05-08 13:30:00</td>\n",
       "      <td>0</td>\n",
       "      <td>4</td>\n",
       "      <td>0</td>\n",
       "      <td>2040.00</td>\n",
       "      <td>8.5</td>\n",
       "      <td>510.000000</td>\n",
       "      <td>2</td>\n",
       "    </tr>\n",
       "  </tbody>\n",
       "</table>\n",
       "<p>7259 rows × 9 columns</p>\n",
       "</div>"
      ],
      "text/plain": [
       "      professional_id last_completed_cleaning_date  days_since_last_service  \\\n",
       "0                   5          2022-08-05 16:00:00                     1006   \n",
       "1                   6          2017-07-29 13:00:00                     2840   \n",
       "2                   7          2017-01-21 12:00:00                     3029   \n",
       "3                   8          2016-04-01 13:00:00                     3324   \n",
       "4                   9          2018-01-01 14:30:00                     2684   \n",
       "...               ...                          ...                      ...   \n",
       "7254            12691          2025-05-08 12:30:00                        0   \n",
       "7255            12698          2025-05-05 19:00:00                        2   \n",
       "7256            12699          2025-05-05 12:30:00                        3   \n",
       "7257            12703          2025-05-07 09:00:00                        1   \n",
       "7258            12704          2025-05-08 13:30:00                        0   \n",
       "\n",
       "      total_service_provided  total_service_cancelled  total_revenue  \\\n",
       "0                         31                      283       23863.55   \n",
       "1                          5                        4        1384.44   \n",
       "2                        415                        2      152059.19   \n",
       "3                          2                        0         900.00   \n",
       "4                         96                        1       76797.50   \n",
       "...                      ...                      ...            ...   \n",
       "7254                       4                        0        1669.50   \n",
       "7255                       3                        0        1560.00   \n",
       "7256                       2                        0        1410.00   \n",
       "7257                       1                        0        1248.00   \n",
       "7258                       4                        0        2040.00   \n",
       "\n",
       "      total_service_hour  average_revenue  unique_services_provided  \n",
       "0                   93.5       769.791935                         1  \n",
       "1                   10.0       276.888000                         1  \n",
       "2                  844.5       366.407687                         1  \n",
       "3                    4.5       450.000000                         1  \n",
       "4                  319.5       799.973958                         1  \n",
       "...                  ...              ...                       ...  \n",
       "7254                 8.5       417.375000                         2  \n",
       "7255                 6.0       520.000000                         1  \n",
       "7256                 5.5       705.000000                         2  \n",
       "7257                 6.0      1248.000000                         1  \n",
       "7258                 8.5       510.000000                         2  \n",
       "\n",
       "[7259 rows x 9 columns]"
      ]
     },
     "execution_count": 43,
     "metadata": {},
     "output_type": "execute_result"
    }
   ],
   "source": [
    "# Calculate the number of unique services provided by each provider\n",
    "unique_services = (\n",
    "    df[df[\"booking_status\"] == \"เสร็จสิ้น\"]\n",
    "    .groupby(\"professional_id\")[\"service_name\"]\n",
    "    .nunique()\n",
    "    .reset_index()\n",
    "    .rename(columns={\"service_name\": \"unique_services_provided\"})\n",
    ")\n",
    "\n",
    "# Merge into provider_data\n",
    "provider_data = provider_data.merge(unique_services, on=\"professional_id\", how=\"left\")\n",
    "provider_data[\"unique_services_provided\"] = provider_data[\"unique_services_provided\"].fillna(0).astype(int)\n",
    "\n",
    "provider_data"
   ]
  },
  {
   "cell_type": "markdown",
   "id": "34809ac4",
   "metadata": {},
   "source": [
    "<a id=\"behavioral_features\"></a>\n",
    "\n",
    "### <b><span style='color:#ffa705'>Step 4.3 |</span><span style='color:#ffffff'> Behavioral Features</span></b>\n",
    "⬆️ [Table of Contents](#contents_table)"
   ]
  },
  {
   "cell_type": "markdown",
   "id": "35d6e626",
   "metadata": {},
   "source": [
    "<div style=\"border-radius:10px; padding: 15px; background-color: #10041cff; font-size:100%; text-align:left\">\n",
    "\n",
    "<font color=#ffffff>\n",
    "\n",
    "In this step, we aim to understand and capture the service providing patterns and behaviors of providers. These features will give us insights into the providers' preferences regarding when they like to provide service, which can be crucial information for personalizing their cleaning experience.\n",
    "\n",
    "- __average_days_between_services__: This feature represents the average number of days a provider waits before making another cleaning service. Understanding this can help in predicting when the customer is likely to make their next cleaning service.\n",
    "\n",
    "- __favorite_cleaning_day__: This denotes the day of the week when the service provider cleans the most. This information can help in identifying the preferred cleaning days of different provider segments, which can be used to optimize marketing strategies and promotions for different days of the week.\n",
    "    \n",
    "- __favorite_cleaning_hour__: This refers to the hour of the day when the service provider cleans the most. Identifying the favorite cleaning hour can aid in optimizing the timing of marketing campaigns and promotions to align with the times when different provider segments are most active.\n",
    "    \n",
    "By including these behavioral features in our dataset, we can create a more rounded view of our providers, which will potentially enhance the effectiveness of the clustering algorithm, leading to more meaningful provider segments."
   ]
  },
  {
   "cell_type": "code",
   "execution_count": 44,
   "id": "fcced2fc",
   "metadata": {},
   "outputs": [
    {
     "data": {
      "text/html": [
       "<div>\n",
       "<style scoped>\n",
       "    .dataframe tbody tr th:only-of-type {\n",
       "        vertical-align: middle;\n",
       "    }\n",
       "\n",
       "    .dataframe tbody tr th {\n",
       "        vertical-align: top;\n",
       "    }\n",
       "\n",
       "    .dataframe thead th {\n",
       "        text-align: right;\n",
       "    }\n",
       "</style>\n",
       "<table border=\"1\" class=\"dataframe\">\n",
       "  <thead>\n",
       "    <tr style=\"text-align: right;\">\n",
       "      <th></th>\n",
       "      <th>professional_id</th>\n",
       "      <th>last_completed_cleaning_date</th>\n",
       "      <th>days_since_last_service</th>\n",
       "      <th>total_service_provided</th>\n",
       "      <th>total_service_cancelled</th>\n",
       "      <th>total_revenue</th>\n",
       "      <th>total_service_hour</th>\n",
       "      <th>average_revenue</th>\n",
       "      <th>unique_services_provided</th>\n",
       "      <th>average_days_between_services</th>\n",
       "      <th>favorite_cleaning_day</th>\n",
       "      <th>favorite_cleaning_hour</th>\n",
       "    </tr>\n",
       "  </thead>\n",
       "  <tbody>\n",
       "    <tr>\n",
       "      <th>0</th>\n",
       "      <td>5</td>\n",
       "      <td>2022-08-05 16:00:00</td>\n",
       "      <td>1006</td>\n",
       "      <td>31</td>\n",
       "      <td>283</td>\n",
       "      <td>23863.55</td>\n",
       "      <td>93.5</td>\n",
       "      <td>769.791935</td>\n",
       "      <td>1</td>\n",
       "      <td>77.033333</td>\n",
       "      <td>Wednesday</td>\n",
       "      <td>10</td>\n",
       "    </tr>\n",
       "    <tr>\n",
       "      <th>1</th>\n",
       "      <td>6</td>\n",
       "      <td>2017-07-29 13:00:00</td>\n",
       "      <td>2840</td>\n",
       "      <td>5</td>\n",
       "      <td>4</td>\n",
       "      <td>1384.44</td>\n",
       "      <td>10.0</td>\n",
       "      <td>276.888000</td>\n",
       "      <td>1</td>\n",
       "      <td>118.000000</td>\n",
       "      <td>Saturday</td>\n",
       "      <td>17</td>\n",
       "    </tr>\n",
       "    <tr>\n",
       "      <th>2</th>\n",
       "      <td>7</td>\n",
       "      <td>2017-01-21 12:00:00</td>\n",
       "      <td>3029</td>\n",
       "      <td>415</td>\n",
       "      <td>2</td>\n",
       "      <td>152059.19</td>\n",
       "      <td>844.5</td>\n",
       "      <td>366.407687</td>\n",
       "      <td>1</td>\n",
       "      <td>0.323671</td>\n",
       "      <td>Tuesday</td>\n",
       "      <td>12</td>\n",
       "    </tr>\n",
       "    <tr>\n",
       "      <th>3</th>\n",
       "      <td>8</td>\n",
       "      <td>2016-04-01 13:00:00</td>\n",
       "      <td>3324</td>\n",
       "      <td>2</td>\n",
       "      <td>0</td>\n",
       "      <td>900.00</td>\n",
       "      <td>4.5</td>\n",
       "      <td>450.000000</td>\n",
       "      <td>1</td>\n",
       "      <td>6.000000</td>\n",
       "      <td>Saturday</td>\n",
       "      <td>13</td>\n",
       "    </tr>\n",
       "    <tr>\n",
       "      <th>4</th>\n",
       "      <td>9</td>\n",
       "      <td>2018-01-01 14:30:00</td>\n",
       "      <td>2684</td>\n",
       "      <td>96</td>\n",
       "      <td>1</td>\n",
       "      <td>76797.50</td>\n",
       "      <td>319.5</td>\n",
       "      <td>799.973958</td>\n",
       "      <td>1</td>\n",
       "      <td>6.368421</td>\n",
       "      <td>Monday</td>\n",
       "      <td>13</td>\n",
       "    </tr>\n",
       "    <tr>\n",
       "      <th>...</th>\n",
       "      <td>...</td>\n",
       "      <td>...</td>\n",
       "      <td>...</td>\n",
       "      <td>...</td>\n",
       "      <td>...</td>\n",
       "      <td>...</td>\n",
       "      <td>...</td>\n",
       "      <td>...</td>\n",
       "      <td>...</td>\n",
       "      <td>...</td>\n",
       "      <td>...</td>\n",
       "      <td>...</td>\n",
       "    </tr>\n",
       "    <tr>\n",
       "      <th>7254</th>\n",
       "      <td>12691</td>\n",
       "      <td>2025-05-08 12:30:00</td>\n",
       "      <td>0</td>\n",
       "      <td>4</td>\n",
       "      <td>0</td>\n",
       "      <td>1669.50</td>\n",
       "      <td>8.5</td>\n",
       "      <td>417.375000</td>\n",
       "      <td>2</td>\n",
       "      <td>1.333333</td>\n",
       "      <td>Sunday</td>\n",
       "      <td>10</td>\n",
       "    </tr>\n",
       "    <tr>\n",
       "      <th>7255</th>\n",
       "      <td>12698</td>\n",
       "      <td>2025-05-05 19:00:00</td>\n",
       "      <td>2</td>\n",
       "      <td>3</td>\n",
       "      <td>0</td>\n",
       "      <td>1560.00</td>\n",
       "      <td>6.0</td>\n",
       "      <td>520.000000</td>\n",
       "      <td>1</td>\n",
       "      <td>0.000000</td>\n",
       "      <td>Monday</td>\n",
       "      <td>15</td>\n",
       "    </tr>\n",
       "    <tr>\n",
       "      <th>7256</th>\n",
       "      <td>12699</td>\n",
       "      <td>2025-05-05 12:30:00</td>\n",
       "      <td>3</td>\n",
       "      <td>2</td>\n",
       "      <td>0</td>\n",
       "      <td>1410.00</td>\n",
       "      <td>5.5</td>\n",
       "      <td>705.000000</td>\n",
       "      <td>2</td>\n",
       "      <td>1.000000</td>\n",
       "      <td>Saturday</td>\n",
       "      <td>13</td>\n",
       "    </tr>\n",
       "    <tr>\n",
       "      <th>7257</th>\n",
       "      <td>12703</td>\n",
       "      <td>2025-05-07 09:00:00</td>\n",
       "      <td>1</td>\n",
       "      <td>1</td>\n",
       "      <td>0</td>\n",
       "      <td>1248.00</td>\n",
       "      <td>6.0</td>\n",
       "      <td>1248.000000</td>\n",
       "      <td>1</td>\n",
       "      <td>0.000000</td>\n",
       "      <td>Wednesday</td>\n",
       "      <td>9</td>\n",
       "    </tr>\n",
       "    <tr>\n",
       "      <th>7258</th>\n",
       "      <td>12704</td>\n",
       "      <td>2025-05-08 13:30:00</td>\n",
       "      <td>0</td>\n",
       "      <td>4</td>\n",
       "      <td>0</td>\n",
       "      <td>2040.00</td>\n",
       "      <td>8.5</td>\n",
       "      <td>510.000000</td>\n",
       "      <td>2</td>\n",
       "      <td>0.666667</td>\n",
       "      <td>Monday</td>\n",
       "      <td>13</td>\n",
       "    </tr>\n",
       "  </tbody>\n",
       "</table>\n",
       "<p>7259 rows × 12 columns</p>\n",
       "</div>"
      ],
      "text/plain": [
       "      professional_id last_completed_cleaning_date  days_since_last_service  \\\n",
       "0                   5          2022-08-05 16:00:00                     1006   \n",
       "1                   6          2017-07-29 13:00:00                     2840   \n",
       "2                   7          2017-01-21 12:00:00                     3029   \n",
       "3                   8          2016-04-01 13:00:00                     3324   \n",
       "4                   9          2018-01-01 14:30:00                     2684   \n",
       "...               ...                          ...                      ...   \n",
       "7254            12691          2025-05-08 12:30:00                        0   \n",
       "7255            12698          2025-05-05 19:00:00                        2   \n",
       "7256            12699          2025-05-05 12:30:00                        3   \n",
       "7257            12703          2025-05-07 09:00:00                        1   \n",
       "7258            12704          2025-05-08 13:30:00                        0   \n",
       "\n",
       "      total_service_provided  total_service_cancelled  total_revenue  \\\n",
       "0                         31                      283       23863.55   \n",
       "1                          5                        4        1384.44   \n",
       "2                        415                        2      152059.19   \n",
       "3                          2                        0         900.00   \n",
       "4                         96                        1       76797.50   \n",
       "...                      ...                      ...            ...   \n",
       "7254                       4                        0        1669.50   \n",
       "7255                       3                        0        1560.00   \n",
       "7256                       2                        0        1410.00   \n",
       "7257                       1                        0        1248.00   \n",
       "7258                       4                        0        2040.00   \n",
       "\n",
       "      total_service_hour  average_revenue  unique_services_provided  \\\n",
       "0                   93.5       769.791935                         1   \n",
       "1                   10.0       276.888000                         1   \n",
       "2                  844.5       366.407687                         1   \n",
       "3                    4.5       450.000000                         1   \n",
       "4                  319.5       799.973958                         1   \n",
       "...                  ...              ...                       ...   \n",
       "7254                 8.5       417.375000                         2   \n",
       "7255                 6.0       520.000000                         1   \n",
       "7256                 5.5       705.000000                         2   \n",
       "7257                 6.0      1248.000000                         1   \n",
       "7258                 8.5       510.000000                         2   \n",
       "\n",
       "      average_days_between_services favorite_cleaning_day  \\\n",
       "0                         77.033333             Wednesday   \n",
       "1                        118.000000              Saturday   \n",
       "2                          0.323671               Tuesday   \n",
       "3                          6.000000              Saturday   \n",
       "4                          6.368421                Monday   \n",
       "...                             ...                   ...   \n",
       "7254                       1.333333                Sunday   \n",
       "7255                       0.000000                Monday   \n",
       "7256                       1.000000              Saturday   \n",
       "7257                       0.000000             Wednesday   \n",
       "7258                       0.666667                Monday   \n",
       "\n",
       "      favorite_cleaning_hour  \n",
       "0                         10  \n",
       "1                         17  \n",
       "2                         12  \n",
       "3                         13  \n",
       "4                         13  \n",
       "...                      ...  \n",
       "7254                      10  \n",
       "7255                      15  \n",
       "7256                      13  \n",
       "7257                       9  \n",
       "7258                      13  \n",
       "\n",
       "[7259 rows x 12 columns]"
      ]
     },
     "execution_count": 44,
     "metadata": {},
     "output_type": "execute_result"
    }
   ],
   "source": [
    "# ------------------------------\n",
    "# Behavioral Features\n",
    "# ------------------------------\n",
    "\n",
    "# Only use completed bookings for behavioral features\n",
    "completed = df[df[\"booking_status\"] == \"เสร็จสิ้น\"].copy()\n",
    "\n",
    "# Average days between cleaning services\n",
    "def avg_days_between_services(group):\n",
    "    dates = group.sort_values().dropna()\n",
    "    if len(dates) < 2:\n",
    "        return 0\n",
    "    gaps = dates.diff().dt.days.dropna()\n",
    "    return gaps.mean()\n",
    "\n",
    "avg_days = (\n",
    "    completed.groupby(\"professional_id\")[\"cleaning_date\"]\n",
    "    .apply(avg_days_between_services)\n",
    "    .reset_index()\n",
    "    .rename(columns={\"cleaning_date\": \"average_days_between_services\"})\n",
    ")\n",
    "\n",
    "# Favorite cleaning day\n",
    "completed[\"cleaning_weekday\"] = completed[\"cleaning_date\"].dt.day_name()\n",
    "fav_day = (\n",
    "    completed.groupby(\"professional_id\")[\"cleaning_weekday\"]\n",
    "    .agg(lambda x: x.value_counts().idxmax())\n",
    "    .reset_index()\n",
    "    .rename(columns={\"cleaning_weekday\": \"favorite_cleaning_day\"})\n",
    ")\n",
    "\n",
    "# Favorite cleaning hour\n",
    "completed[\"cleaning_hour\"] = completed[\"cleaning_date\"].dt.hour\n",
    "fav_hour = (\n",
    "    completed.groupby(\"professional_id\")[\"cleaning_hour\"]\n",
    "    .agg(lambda x: x.value_counts().idxmax())\n",
    "    .reset_index()\n",
    "    .rename(columns={\"cleaning_hour\": \"favorite_cleaning_hour\"})\n",
    ")\n",
    "\n",
    "# Merge all features into provider_data\n",
    "provider_data = provider_data.merge(avg_days, on=\"professional_id\", how=\"left\")\n",
    "provider_data = provider_data.merge(fav_day, on=\"professional_id\", how=\"left\")\n",
    "provider_data = provider_data.merge(fav_hour, on=\"professional_id\", how=\"left\")\n",
    "\n",
    "provider_data[\"average_days_between_services\"] = provider_data[\"average_days_between_services\"].fillna(0)\n",
    "provider_data[\"favorite_cleaning_day\"] = provider_data[\"favorite_cleaning_day\"].fillna(\"Unknown\")\n",
    "provider_data[\"favorite_cleaning_hour\"] = provider_data[\"favorite_cleaning_hour\"].fillna(-1)\n",
    "\n",
    "provider_data"
   ]
  },
  {
   "cell_type": "markdown",
   "id": "a1cc8d4e",
   "metadata": {},
   "source": [
    "<a id=\"cancellation_insights\"></a>\n",
    "\n",
    "### <b><span style='color:#ffa705'>Step 4.4 |</span><span style='color:#ffffff'> Cancellation Insights</span></b>\n",
    "⬆️ [Table of Contents](#contents_table)"
   ]
  },
  {
   "cell_type": "markdown",
   "id": "cce39653",
   "metadata": {},
   "source": [
    "<div style=\"border-radius:10px; padding: 15px; background-color: #10041cff; font-size:100%; text-align:left\">\n",
    "\n",
    "<font color=#ffffff>\n",
    "\n",
    "In this step, I am going to delve deeper into the cancellation patterns of service providers to gain insights that can enhance our provider segmentation model.\n",
    "\n",
    "- __cancellation_frequency__: This metric represents the total number of bookings a provider has cancelled `df[\"booking_status\"] == \"ยกเลิก\"`. Understanding the frequency of cancellations can help us identify providers who are more likely to cancel bookings. This could be an indicator of dissatisfaction or other issues, along with understanding their cancel reason in `df[\"cancel_reason\"]`.\n",
    "\n",
    "- __cancellation_rate__: This represents the proportion of bookings that a provider has cancelled out of all their bookings. This metric gives a normalized view of cancellation behavior. A high cancellation rate might be indicative of an unsatisfied provider segment. By identifying these segments, we can develop targeted strategies to improve their cleaning experience and potentially reduce the cancellation rate.\n",
    "\n",
    "By incorporating these cancellation insights into our dataset, we can build a more comprehensive view of service provider behavior, which could potentially aid in creating more effective and nuanced provider segmentation."
   ]
  },
  {
   "cell_type": "code",
   "execution_count": 45,
   "id": "0210fee6",
   "metadata": {},
   "outputs": [
    {
     "data": {
      "text/html": [
       "<div>\n",
       "<style scoped>\n",
       "    .dataframe tbody tr th:only-of-type {\n",
       "        vertical-align: middle;\n",
       "    }\n",
       "\n",
       "    .dataframe tbody tr th {\n",
       "        vertical-align: top;\n",
       "    }\n",
       "\n",
       "    .dataframe thead th {\n",
       "        text-align: right;\n",
       "    }\n",
       "</style>\n",
       "<table border=\"1\" class=\"dataframe\">\n",
       "  <thead>\n",
       "    <tr style=\"text-align: right;\">\n",
       "      <th></th>\n",
       "      <th>professional_id</th>\n",
       "      <th>last_completed_cleaning_date</th>\n",
       "      <th>days_since_last_service</th>\n",
       "      <th>total_service_provided</th>\n",
       "      <th>total_service_cancelled</th>\n",
       "      <th>total_revenue</th>\n",
       "      <th>total_service_hour</th>\n",
       "      <th>average_revenue</th>\n",
       "      <th>unique_services_provided</th>\n",
       "      <th>average_days_between_services</th>\n",
       "      <th>favorite_cleaning_day</th>\n",
       "      <th>favorite_cleaning_hour</th>\n",
       "      <th>total_bookings</th>\n",
       "    </tr>\n",
       "  </thead>\n",
       "  <tbody>\n",
       "    <tr>\n",
       "      <th>0</th>\n",
       "      <td>5</td>\n",
       "      <td>2022-08-05 16:00:00</td>\n",
       "      <td>1006</td>\n",
       "      <td>31</td>\n",
       "      <td>283</td>\n",
       "      <td>23863.55</td>\n",
       "      <td>93.5</td>\n",
       "      <td>769.791935</td>\n",
       "      <td>1</td>\n",
       "      <td>77.033333</td>\n",
       "      <td>Wednesday</td>\n",
       "      <td>10</td>\n",
       "      <td>406</td>\n",
       "    </tr>\n",
       "    <tr>\n",
       "      <th>1</th>\n",
       "      <td>6</td>\n",
       "      <td>2017-07-29 13:00:00</td>\n",
       "      <td>2840</td>\n",
       "      <td>5</td>\n",
       "      <td>4</td>\n",
       "      <td>1384.44</td>\n",
       "      <td>10.0</td>\n",
       "      <td>276.888000</td>\n",
       "      <td>1</td>\n",
       "      <td>118.000000</td>\n",
       "      <td>Saturday</td>\n",
       "      <td>17</td>\n",
       "      <td>9</td>\n",
       "    </tr>\n",
       "    <tr>\n",
       "      <th>2</th>\n",
       "      <td>7</td>\n",
       "      <td>2017-01-21 12:00:00</td>\n",
       "      <td>3029</td>\n",
       "      <td>415</td>\n",
       "      <td>2</td>\n",
       "      <td>152059.19</td>\n",
       "      <td>844.5</td>\n",
       "      <td>366.407687</td>\n",
       "      <td>1</td>\n",
       "      <td>0.323671</td>\n",
       "      <td>Tuesday</td>\n",
       "      <td>12</td>\n",
       "      <td>426</td>\n",
       "    </tr>\n",
       "    <tr>\n",
       "      <th>3</th>\n",
       "      <td>8</td>\n",
       "      <td>2016-04-01 13:00:00</td>\n",
       "      <td>3324</td>\n",
       "      <td>2</td>\n",
       "      <td>0</td>\n",
       "      <td>900.00</td>\n",
       "      <td>4.5</td>\n",
       "      <td>450.000000</td>\n",
       "      <td>1</td>\n",
       "      <td>6.000000</td>\n",
       "      <td>Saturday</td>\n",
       "      <td>13</td>\n",
       "      <td>2</td>\n",
       "    </tr>\n",
       "    <tr>\n",
       "      <th>4</th>\n",
       "      <td>9</td>\n",
       "      <td>2018-01-01 14:30:00</td>\n",
       "      <td>2684</td>\n",
       "      <td>96</td>\n",
       "      <td>1</td>\n",
       "      <td>76797.50</td>\n",
       "      <td>319.5</td>\n",
       "      <td>799.973958</td>\n",
       "      <td>1</td>\n",
       "      <td>6.368421</td>\n",
       "      <td>Monday</td>\n",
       "      <td>13</td>\n",
       "      <td>97</td>\n",
       "    </tr>\n",
       "    <tr>\n",
       "      <th>...</th>\n",
       "      <td>...</td>\n",
       "      <td>...</td>\n",
       "      <td>...</td>\n",
       "      <td>...</td>\n",
       "      <td>...</td>\n",
       "      <td>...</td>\n",
       "      <td>...</td>\n",
       "      <td>...</td>\n",
       "      <td>...</td>\n",
       "      <td>...</td>\n",
       "      <td>...</td>\n",
       "      <td>...</td>\n",
       "      <td>...</td>\n",
       "    </tr>\n",
       "    <tr>\n",
       "      <th>7254</th>\n",
       "      <td>12691</td>\n",
       "      <td>2025-05-08 12:30:00</td>\n",
       "      <td>0</td>\n",
       "      <td>4</td>\n",
       "      <td>0</td>\n",
       "      <td>1669.50</td>\n",
       "      <td>8.5</td>\n",
       "      <td>417.375000</td>\n",
       "      <td>2</td>\n",
       "      <td>1.333333</td>\n",
       "      <td>Sunday</td>\n",
       "      <td>10</td>\n",
       "      <td>4</td>\n",
       "    </tr>\n",
       "    <tr>\n",
       "      <th>7255</th>\n",
       "      <td>12698</td>\n",
       "      <td>2025-05-05 19:00:00</td>\n",
       "      <td>2</td>\n",
       "      <td>3</td>\n",
       "      <td>0</td>\n",
       "      <td>1560.00</td>\n",
       "      <td>6.0</td>\n",
       "      <td>520.000000</td>\n",
       "      <td>1</td>\n",
       "      <td>0.000000</td>\n",
       "      <td>Monday</td>\n",
       "      <td>15</td>\n",
       "      <td>3</td>\n",
       "    </tr>\n",
       "    <tr>\n",
       "      <th>7256</th>\n",
       "      <td>12699</td>\n",
       "      <td>2025-05-05 12:30:00</td>\n",
       "      <td>3</td>\n",
       "      <td>2</td>\n",
       "      <td>0</td>\n",
       "      <td>1410.00</td>\n",
       "      <td>5.5</td>\n",
       "      <td>705.000000</td>\n",
       "      <td>2</td>\n",
       "      <td>1.000000</td>\n",
       "      <td>Saturday</td>\n",
       "      <td>13</td>\n",
       "      <td>2</td>\n",
       "    </tr>\n",
       "    <tr>\n",
       "      <th>7257</th>\n",
       "      <td>12703</td>\n",
       "      <td>2025-05-07 09:00:00</td>\n",
       "      <td>1</td>\n",
       "      <td>1</td>\n",
       "      <td>0</td>\n",
       "      <td>1248.00</td>\n",
       "      <td>6.0</td>\n",
       "      <td>1248.000000</td>\n",
       "      <td>1</td>\n",
       "      <td>0.000000</td>\n",
       "      <td>Wednesday</td>\n",
       "      <td>9</td>\n",
       "      <td>2</td>\n",
       "    </tr>\n",
       "    <tr>\n",
       "      <th>7258</th>\n",
       "      <td>12704</td>\n",
       "      <td>2025-05-08 13:30:00</td>\n",
       "      <td>0</td>\n",
       "      <td>4</td>\n",
       "      <td>0</td>\n",
       "      <td>2040.00</td>\n",
       "      <td>8.5</td>\n",
       "      <td>510.000000</td>\n",
       "      <td>2</td>\n",
       "      <td>0.666667</td>\n",
       "      <td>Monday</td>\n",
       "      <td>13</td>\n",
       "      <td>4</td>\n",
       "    </tr>\n",
       "  </tbody>\n",
       "</table>\n",
       "<p>7259 rows × 13 columns</p>\n",
       "</div>"
      ],
      "text/plain": [
       "      professional_id last_completed_cleaning_date  days_since_last_service  \\\n",
       "0                   5          2022-08-05 16:00:00                     1006   \n",
       "1                   6          2017-07-29 13:00:00                     2840   \n",
       "2                   7          2017-01-21 12:00:00                     3029   \n",
       "3                   8          2016-04-01 13:00:00                     3324   \n",
       "4                   9          2018-01-01 14:30:00                     2684   \n",
       "...               ...                          ...                      ...   \n",
       "7254            12691          2025-05-08 12:30:00                        0   \n",
       "7255            12698          2025-05-05 19:00:00                        2   \n",
       "7256            12699          2025-05-05 12:30:00                        3   \n",
       "7257            12703          2025-05-07 09:00:00                        1   \n",
       "7258            12704          2025-05-08 13:30:00                        0   \n",
       "\n",
       "      total_service_provided  total_service_cancelled  total_revenue  \\\n",
       "0                         31                      283       23863.55   \n",
       "1                          5                        4        1384.44   \n",
       "2                        415                        2      152059.19   \n",
       "3                          2                        0         900.00   \n",
       "4                         96                        1       76797.50   \n",
       "...                      ...                      ...            ...   \n",
       "7254                       4                        0        1669.50   \n",
       "7255                       3                        0        1560.00   \n",
       "7256                       2                        0        1410.00   \n",
       "7257                       1                        0        1248.00   \n",
       "7258                       4                        0        2040.00   \n",
       "\n",
       "      total_service_hour  average_revenue  unique_services_provided  \\\n",
       "0                   93.5       769.791935                         1   \n",
       "1                   10.0       276.888000                         1   \n",
       "2                  844.5       366.407687                         1   \n",
       "3                    4.5       450.000000                         1   \n",
       "4                  319.5       799.973958                         1   \n",
       "...                  ...              ...                       ...   \n",
       "7254                 8.5       417.375000                         2   \n",
       "7255                 6.0       520.000000                         1   \n",
       "7256                 5.5       705.000000                         2   \n",
       "7257                 6.0      1248.000000                         1   \n",
       "7258                 8.5       510.000000                         2   \n",
       "\n",
       "      average_days_between_services favorite_cleaning_day  \\\n",
       "0                         77.033333             Wednesday   \n",
       "1                        118.000000              Saturday   \n",
       "2                          0.323671               Tuesday   \n",
       "3                          6.000000              Saturday   \n",
       "4                          6.368421                Monday   \n",
       "...                             ...                   ...   \n",
       "7254                       1.333333                Sunday   \n",
       "7255                       0.000000                Monday   \n",
       "7256                       1.000000              Saturday   \n",
       "7257                       0.000000             Wednesday   \n",
       "7258                       0.666667                Monday   \n",
       "\n",
       "      favorite_cleaning_hour  total_bookings  \n",
       "0                         10             406  \n",
       "1                         17               9  \n",
       "2                         12             426  \n",
       "3                         13               2  \n",
       "4                         13              97  \n",
       "...                      ...             ...  \n",
       "7254                      10               4  \n",
       "7255                      15               3  \n",
       "7256                      13               2  \n",
       "7257                       9               2  \n",
       "7258                      13               4  \n",
       "\n",
       "[7259 rows x 13 columns]"
      ]
     },
     "execution_count": 45,
     "metadata": {},
     "output_type": "execute_result"
    }
   ],
   "source": [
    "# ------------------------------\n",
    "# Cancellation Insights\n",
    "# ------------------------------\n",
    "\n",
    "# total number of cancelled bookings per provider\n",
    "#cancellation_frequency = (\n",
    "#    df[df[\"booking_status\"] == \"ยกเลิก\"]\n",
    "#    .groupby(\"professional_id\")[\"booking_id\"]\n",
    "#    .count()\n",
    "#    .reset_index()\n",
    "#    .rename(columns={\"booking_id\": \"cancellation_frequency\"})\n",
    "#)\n",
    "\n",
    "# total number of bookings per provider (any status)\n",
    "total_bookings = (\n",
    "    df.groupby(\"professional_id\")[\"booking_id\"]\n",
    "    .count()\n",
    "    .reset_index()\n",
    "    .rename(columns={\"booking_id\": \"total_bookings\"})\n",
    ")\n",
    "\n",
    "# Merge into provider dataframe\n",
    "#provider_data = provider_data.merge(cancellation_frequency, on=\"professional_id\", how=\"left\")\n",
    "provider_data = provider_data.merge(total_bookings, on=\"professional_id\", how=\"left\")\n",
    "#provider_data[\"cancellation_frequency\"] = provider_data[\"cancellation_frequency\"].fillna(0).astype(int)\n",
    "provider_data[\"total_bookings\"] = provider_data[\"total_bookings\"].fillna(0).astype(int)\n",
    "\n",
    "# Proportion of cancelled bookings\n",
    "#provider_data[\"cancellation_rate\"] = provider_data.apply(\n",
    "#    lambda row: row[\"cancellation_frequency\"] / row[\"total_bookings\"] if row[\"total_bookings\"] > 0 else 0,\n",
    "#    axis=1\n",
    "#)\n",
    "\n",
    "provider_data"
   ]
  },
  {
   "cell_type": "markdown",
   "id": "0858d380",
   "metadata": {},
   "source": [
    "<a id=\"seasonality_trends\"></a>\n",
    "\n",
    "### <b><span style='color:#ffa705'>Step 4.5 |</span><span style='color:#ffffff'> Seasonality & Trends</span></b>\n",
    "⬆️ [Table of Contents](#contents_table)"
   ]
  },
  {
   "cell_type": "markdown",
   "id": "946dfbcc",
   "metadata": {},
   "source": [
    "<div style=\"border-radius:10px; padding: 15px; background-color: #10041cff; font-size:100%; text-align:left\">\n",
    "\n",
    "<font color=#ffffff>\n",
    "\n",
    "In this step, I will delve into the seasonality and trends in service providers' cleaning behaviors, which can offer invaluable insights for tailoring marketing strategies and enhancing provider satisfaction.\n",
    "\n",
    "- __monthly_revenue_mean__: This is the average amount a provider earns monthly. It helps us gauge the general earning revenue of each provider. A higher mean indicates a provider who earns more, potentially showing a more active service provider, whereas a lower mean might indicate a more part-time provider.\n",
    "\n",
    "    \n",
    "- __monthly_revenue_std__: This feature indicates the variability in a service provider's monthly earning. A higher value signals that the provider's earning fluctuates significantly month-to-month, perhaps indicating sporadic large revenues. In contrast, a lower value suggests more stable, consistent earning revenues. Understanding this variability can help in crafting personalized promotions during periods they are expected to earn more.\n",
    "\n",
    "    \n",
    "- __revenue_trend__: This reflects the trend in a provider's earning over time, calculated as the slope of the linear trend line fitted to their earning data. A positive value indicates an increasing trend in earning, possibly pointing to growing loyalty or satisfaction. Conversely, a negative trend might signal decreasing interest or satisfaction, highlighting a need for re-engagement strategies. A near-zero value signifies stable spending habits. Recognizing these trends can help in developing strategies to either maintain or alter their cleaning service patterns, enhancing the effectiveness of marketing campaigns.\n",
    "\n",
    "By incorporating these detailed insights into our provider segmentation model, we can create more precise and actionable provider groups, facilitating the development of highly targeted marketing strategies and promotions."
   ]
  },
  {
   "cell_type": "code",
   "execution_count": 46,
   "id": "164c6e83",
   "metadata": {},
   "outputs": [],
   "source": [
    "# --------------------------------------------------\n",
    "# Seasonality & Trends Features for Providers\n",
    "# --------------------------------------------------\n",
    "\n",
    "# Only use completed bookings for revenue features\n",
    "completed = df[df[\"booking_status\"] == \"เสร็จสิ้น\"].copy()\n",
    "completed[\"year\"] = completed[\"cleaning_date\"].dt.year\n",
    "completed[\"month\"] = completed[\"cleaning_date\"].dt.month\n",
    "\n",
    "# Monthly revenue per provider\n",
    "monthly_revenue = (\n",
    "    completed.groupby([\"professional_id\", \"year\", \"month\"])[\"total_price\"]\n",
    "    .sum()\n",
    "    .reset_index()\n",
    "    .rename(columns={\"total_price\": \"monthly_revenue\"})\n",
    ")\n",
    "\n",
    "\n",
    "# Monthly mean and std\n",
    "monthly_stats = (\n",
    "    monthly_revenue.groupby(\"professional_id\")[\"monthly_revenue\"]\n",
    "    .agg(monthly_revenue_mean=\"mean\", monthly_revenue_std=\"std\")\n",
    "    .reset_index()\n",
    ")\n",
    "monthly_stats[\"monthly_revenue_std\"] = monthly_stats[\"monthly_revenue_std\"].fillna(0)\n",
    "\n",
    "\n",
    "# Revenue trend (slope of monthly revenue over time)\n",
    "def calc_trend(revenues):\n",
    "    if len(revenues) > 1:\n",
    "        x = np.arange(len(revenues))\n",
    "        slope, _, _, _, _ = linregress(x, revenues)\n",
    "        return slope\n",
    "    else:\n",
    "        return 0\n",
    "\n",
    "trend = (\n",
    "    monthly_revenue.groupby(\"professional_id\")[\"monthly_revenue\"]\n",
    "    .apply(calc_trend)\n",
    "    .reset_index()\n",
    "    .rename(columns={\"monthly_revenue\": \"revenue_trend\"})\n",
    ")\n",
    "\n",
    "\n",
    "# Merge all features into provider_data\n",
    "provider_data = provider_data.merge(monthly_stats, on=\"professional_id\", how=\"left\")\n",
    "provider_data = provider_data.merge(trend, on=\"professional_id\", how=\"left\")\n",
    "\n",
    "provider_data[\"monthly_revenue_mean\"] = provider_data[\"monthly_revenue_mean\"].fillna(0)\n",
    "provider_data[\"monthly_revenue_std\"] = provider_data[\"monthly_revenue_std\"].fillna(0)\n",
    "provider_data[\"revenue_trend\"] = provider_data[\"revenue_trend\"].fillna(0)"
   ]
  },
  {
   "cell_type": "markdown",
   "id": "9b0b7053",
   "metadata": {},
   "source": [
    "<a id=\"advanced_features\"></a>\n",
    "\n",
    "### <b><span style='color:#ffa705'>Step 4.6 |</span><span style='color:#ffffff'> Advanced Provider Features</span></b>\n",
    "⬆️ [Table of Contents](#contents_table)"
   ]
  },
  {
   "cell_type": "markdown",
   "id": "0bbcba86",
   "metadata": {},
   "source": [
    "<div style=\"border-radius:10px; padding: 15px; background-color: #10041cff; font-size:100%; text-align:left\">\n",
    "\n",
    "<font color=#ffffff>\n",
    "\n",
    "Let's feature engineering the following features!\n",
    "\n",
    "- __avg_rating__ (float): from `df[\"rating\"]`\n",
    "    \n",
    "- __avg_booking_per_month__ (integer): from `df[\"booking_date\"]` where `df[\"is_claimed_booking\"] == 1`\n",
    "    \n",
    "- __avg_income_per_month__ (float): from `df[\"total_price\"]` and `df[\"cleaning_date\"]` where `df[\"booking_status\"] == \"เสร็จสิ้น\"`\n",
    "\n",
    "- __avg_work_hour_per_month__ (integer): from `df[\"work_hour\"]` + `df[\"additional_hour\"]` and `df[\"cleaning_date\"]` where `df[\"booking_status\"] == \"เสร็จสิ้น\"`\n",
    "\n",
    "- __latest_month_booking__ (integer): Total booking count from latest month `df[\"cleaning_date\"]`\n",
    "\n",
    "- __latest_month_rating__ (float): An average rating from the latest month `df[\"cleaning_date\"]`\n",
    "\n",
    "- __latest_diff_avg_booking__ (float): Example values for this feature such as -2.773536, -0.223067\t, 0.344186, 0.091446, 2.660314\n",
    "\n",
    "- __booking_ratio_latest_to_previous__ (float): A total booking ratio between the latest month and the month before in `df[\"cleaning_date\"]`\n",
    "\n",
    "- __work_hour_ratio_latest_to_previous__ (float): from `df[\"work_hour\"]` + `df[\"additional_hour\"]` ratio between the latest month and the month before in `df[\"cleaning_date\"]`\n",
    "\n",
    "- __total_active_days__ (integer): A provider is consider inactive if he/she has stop providing service for 90 days according to `df[\"booking_date\"]`.\n",
    "\n",
    "- __active_months_ratio__ (float): Example values for this feature such as 0.445870, 0.149808, 0.828884, 0.985758, 0.841626\n",
    "\n",
    "- __booking_std__ (float): A booking standard deviation of the service provider.\n",
    "\n",
    "- __work_hour_std__ (float): from `df[\"work_hour\"]` + `df[\"additional_hour\"]`\n",
    "\n",
    "- __income_std__ (float): from df[\"total_price\"]\n",
    "\n",
    "- __tenures__ (integer): A total unique district count in `df[\"district\"]` (that is not \"ไม่มีการระบุ\") of the service provider.\n",
    "\n",
    "- __province__ (category): Shows most active `df[\"province\"]` this provider is in, and also mapping to English as the following: \"เชียงใหม่\" to \"Chiang Mai\", \"กรุงเทพ และปริมณฑล\" to \"Bangkok\", and \"ชลบุรี\" to \"Chonburi\"\n",
    "\n",
    "- __join_date__ (date): Use the first date from `df[\"booking_date\"]` showing the provider's first join date."
   ]
  },
  {
   "cell_type": "code",
   "execution_count": 47,
   "id": "d9412dd1",
   "metadata": {},
   "outputs": [],
   "source": [
    "# ------------------------------\n",
    "# Advanced Provider Features\n",
    "# ------------------------------\n",
    "\n",
    "# --- Average Rating ---\n",
    "def safe_float(x):\n",
    "    try:\n",
    "        return float(x)\n",
    "    except:\n",
    "        return np.nan\n",
    "\n",
    "completed = df[df[\"booking_status\"] == \"เสร็จสิ้น\"].copy()\n",
    "completed[\"rating_num\"] = completed[\"rating\"].apply(safe_float)\n",
    "avg_rating = (\n",
    "    completed.groupby(\"professional_id\")[\"rating_num\"]\n",
    "    .mean()\n",
    "    .reset_index()\n",
    "    .rename(columns={\"rating_num\": \"avg_rating\"})\n",
    ")\n",
    "provider_data = provider_data.merge(avg_rating, on=\"professional_id\", how=\"left\")\n",
    "provider_data[\"avg_rating\"] = provider_data[\"avg_rating\"].fillna(0)\n",
    "#provider_data[\"avg_rating\"] = provider_data[\"avg_rating\"].astype(float)  # keep NaN\n",
    "\n",
    "# --- Average Booking Per Month (claimed bookings only) ---\n",
    "claimed = df[df[\"is_claimed_booking\"] == 1].copy()\n",
    "claimed[\"year_month\"] = claimed[\"booking_date\"].dt.to_period(\"M\")\n",
    "booking_monthly = (\n",
    "    claimed.groupby([\"professional_id\", \"year_month\"])[\"booking_id\"]\n",
    "    .count()\n",
    "    .reset_index()\n",
    ")\n",
    "avg_booking_per_month = (\n",
    "    booking_monthly.groupby(\"professional_id\")[\"booking_id\"]\n",
    "    .mean()\n",
    "    .reset_index()\n",
    "    .rename(columns={\"booking_id\": \"avg_booking_per_month\"})\n",
    ")\n",
    "provider_data = provider_data.merge(avg_booking_per_month, on=\"professional_id\", how=\"left\")\n",
    "provider_data[\"avg_booking_per_month\"] = provider_data[\"avg_booking_per_month\"].fillna(0).astype(int)\n",
    "\n",
    "\n",
    "# --- Average Income Per Month ---\n",
    "completed[\"year_month\"] = completed[\"cleaning_date\"].dt.to_period(\"M\")\n",
    "income_monthly = (\n",
    "    completed.groupby([\"professional_id\", \"year_month\"])[\"total_price\"]\n",
    "    .sum()\n",
    "    .reset_index()\n",
    ")\n",
    "avg_income_per_month = (\n",
    "    income_monthly.groupby(\"professional_id\")[\"total_price\"]\n",
    "    .mean()\n",
    "    .reset_index()\n",
    "    .rename(columns={\"total_price\": \"avg_income_per_month\"})\n",
    ")\n",
    "provider_data = provider_data.merge(avg_income_per_month, on=\"professional_id\", how=\"left\")\n",
    "provider_data[\"avg_income_per_month\"] = provider_data[\"avg_income_per_month\"].fillna(0)\n",
    "\n",
    "# --- Average Work Hour Per Month ---\n",
    "completed[\"work_hour_sum\"] = completed[\"work_hour\"] + completed[\"additional_hour\"]\n",
    "work_hour_monthly = (\n",
    "    completed.groupby([\"professional_id\", \"year_month\"])[\"work_hour_sum\"]\n",
    "    .sum()\n",
    "    .reset_index()\n",
    ")\n",
    "avg_work_hour_per_month = (\n",
    "    work_hour_monthly.groupby(\"professional_id\")[\"work_hour_sum\"]\n",
    "    .mean()\n",
    "    .reset_index()\n",
    "    .rename(columns={\"work_hour_sum\": \"avg_work_hour_per_month\"})\n",
    ")\n",
    "provider_data = provider_data.merge(avg_work_hour_per_month, on=\"professional_id\", how=\"left\")\n",
    "provider_data[\"avg_work_hour_per_month\"] = provider_data[\"avg_work_hour_per_month\"].fillna(0).astype(int)\n",
    "\n",
    "\n",
    "# --- Latest Month Booking & Rating ---\n",
    "def get_latest_month(group):\n",
    "    if group[\"cleaning_date\"].isnull().all():\n",
    "        return pd.NaT\n",
    "    return group[\"cleaning_date\"].max().to_period(\"M\")\n",
    "\n",
    "latest_month = completed.groupby(\"professional_id\").apply(get_latest_month).reset_index()\n",
    "latest_month.columns = [\"professional_id\", \"latest_month\"]\n",
    "\n",
    "\n",
    "# Booking count in latest month\n",
    "completed[\"year_month\"] = completed[\"cleaning_date\"].dt.to_period(\"M\")\n",
    "latest_month_booking = completed.merge(latest_month, left_on=[\"professional_id\", \"year_month\"], right_on=[\"professional_id\", \"latest_month\"])\n",
    "latest_month_booking_count = (\n",
    "    latest_month_booking.groupby(\"professional_id\")[\"booking_id\"]\n",
    "    .count()\n",
    "    .reset_index()\n",
    "    .rename(columns={\"booking_id\": \"latest_month_booking\"})\n",
    ")\n",
    "provider_data = provider_data.merge(latest_month_booking_count, on=\"professional_id\", how=\"left\")\n",
    "provider_data[\"latest_month_booking\"] = provider_data[\"latest_month_booking\"].fillna(0).astype(int)\n",
    "\n",
    "\n",
    "# Latest month average rating\n",
    "latest_month_rating = (\n",
    "    latest_month_booking.groupby(\"professional_id\")[\"rating_num\"]\n",
    "    .mean()\n",
    "    .reset_index()\n",
    "    .rename(columns={\"rating_num\": \"latest_month_rating\"})\n",
    ")\n",
    "provider_data = provider_data.merge(latest_month_rating, on=\"professional_id\", how=\"left\")\n",
    "provider_data[\"latest_month_rating\"] = provider_data[\"latest_month_rating\"].fillna(0)\n",
    "\n",
    "\n",
    "# --- Latest Diff Avg Booking ---\n",
    "# Difference between latest month booking and average per month\n",
    "provider_data[\"latest_diff_avg_booking\"] = provider_data[\"latest_month_booking\"] - provider_data[\"avg_booking_per_month\"]\n",
    "\n",
    "\n",
    "# --- Booking Ratio Latest to Previous ---\n",
    "def booking_ratio_func(group):\n",
    "    counts = group.groupby(\"year_month\")[\"booking_id\"].count().sort_index()\n",
    "    if len(counts) < 2:\n",
    "        return 0\n",
    "    return counts.iloc[-1] / counts.iloc[-2] if counts.iloc[-2] > 0 else np.nan\n",
    "\n",
    "booking_ratio = (\n",
    "    completed.groupby(\"professional_id\").apply(booking_ratio_func)\n",
    "    .reset_index()\n",
    "    .rename(columns={0: \"booking_ratio_latest_to_previous\"})\n",
    ")\n",
    "provider_data = provider_data.merge(booking_ratio, on=\"professional_id\", how=\"left\")\n",
    "provider_data[\"booking_ratio_latest_to_previous\"] = provider_data[\"booking_ratio_latest_to_previous\"].fillna(0)\n",
    "\n",
    "\n",
    "# --- Work Hour Ratio Latest to Previous ---\n",
    "def work_hour_ratio_func(group):\n",
    "    sums = group.groupby(\"year_month\")[\"work_hour_sum\"].sum().sort_index()\n",
    "    if len(sums) < 2:\n",
    "        return 0\n",
    "    return sums.iloc[-1] / sums.iloc[-2] if sums.iloc[-2] > 0 else np.nan\n",
    "\n",
    "work_hour_ratio = (\n",
    "    completed.groupby(\"professional_id\").apply(work_hour_ratio_func)\n",
    "    .reset_index()\n",
    "    .rename(columns={0: \"work_hour_ratio_latest_to_previous\"})\n",
    ")\n",
    "provider_data = provider_data.merge(work_hour_ratio, on=\"professional_id\", how=\"left\")\n",
    "provider_data[\"work_hour_ratio_latest_to_previous\"] = provider_data[\"work_hour_ratio_latest_to_previous\"].fillna(0)\n",
    "\n",
    "\n",
    "# --- Total Active Days ---\n",
    "def total_active_days_func(group):\n",
    "    dates = group[\"booking_date\"].sort_values().dropna().unique()\n",
    "    if len(dates) < 2:\n",
    "        return 0\n",
    "    gaps = pd.Series(pd.to_datetime(dates)).diff().dt.days\n",
    "    return gaps[gaps > 90].count() + 1  # +1 for the first active period\n",
    "\n",
    "active_days = (\n",
    "    df.groupby(\"professional_id\").apply(total_active_days_func)\n",
    "    .reset_index()\n",
    "    .rename(columns={0: \"total_active_days\"})\n",
    ")\n",
    "provider_data = provider_data.merge(active_days, on=\"professional_id\", how=\"left\")\n",
    "provider_data[\"total_active_days\"] = provider_data[\"total_active_days\"].fillna(0).astype(int)\n",
    "\n",
    "\n",
    "# --- Active Months Ratio ---\n",
    "def active_months_ratio_func(group):\n",
    "    months = group[\"booking_date\"].dt.to_period(\"M\").nunique()\n",
    "    total_months = (\n",
    "        (group[\"booking_date\"].max().to_period(\"M\") - group[\"booking_date\"].min().to_period(\"M\")).n + 1\n",
    "        if months > 0 else 0\n",
    "    )\n",
    "    return months / total_months if total_months > 0 else 0\n",
    "\n",
    "active_months_ratio = (\n",
    "    df.groupby(\"professional_id\").apply(active_months_ratio_func)\n",
    "    .reset_index()\n",
    "    .rename(columns={0: \"active_months_ratio\"})\n",
    ")\n",
    "provider_data = provider_data.merge(active_months_ratio, on=\"professional_id\", how=\"left\")\n",
    "provider_data[\"active_months_ratio\"] = provider_data[\"active_months_ratio\"].fillna(0)\n",
    "\n",
    "\n",
    "# --- Booking Std ---\n",
    "booking_std = (\n",
    "    booking_monthly.groupby(\"professional_id\")[\"booking_id\"]\n",
    "    .std()\n",
    "    .reset_index()\n",
    "    .rename(columns={\"booking_id\": \"booking_std\"})\n",
    ")\n",
    "provider_data = provider_data.merge(booking_std, on=\"professional_id\", how=\"left\")\n",
    "provider_data[\"booking_std\"] = provider_data[\"booking_std\"].fillna(0)\n",
    "\n",
    "\n",
    "# --- Rating Std ---\n",
    "rating_std = (\n",
    "    completed.groupby(\"professional_id\")[\"rating_num\"]\n",
    "    .std()\n",
    "    .reset_index()\n",
    "    .rename(columns={\"rating_num\": \"rating_std\"})\n",
    ")\n",
    "provider_data = provider_data.merge(rating_std, on=\"professional_id\", how=\"left\")\n",
    "provider_data[\"rating_std\"] = provider_data[\"rating_std\"].fillna(0)\n",
    "\n",
    "\n",
    "# --- Work Hour Std ---\n",
    "work_hour_std = (\n",
    "    work_hour_monthly.groupby(\"professional_id\")[\"work_hour_sum\"]\n",
    "    .std()\n",
    "    .reset_index()\n",
    "    .rename(columns={\"work_hour_sum\": \"work_hour_std\"})\n",
    ")\n",
    "provider_data = provider_data.merge(work_hour_std, on=\"professional_id\", how=\"left\")\n",
    "provider_data[\"work_hour_std\"] = provider_data[\"work_hour_std\"].fillna(0)\n",
    "\n",
    "\n",
    "# --- Income Std ---\n",
    "income_std = (\n",
    "    income_monthly.groupby(\"professional_id\")[\"total_price\"]\n",
    "    .std()\n",
    "    .reset_index()\n",
    "    .rename(columns={\"total_price\": \"income_std\"})\n",
    ")\n",
    "provider_data = provider_data.merge(income_std, on=\"professional_id\", how=\"left\")\n",
    "provider_data[\"income_std\"] = provider_data[\"income_std\"].fillna(0)\n",
    "\n",
    "\n",
    "# --- Tenures (unique districts, not \"ไม่มีการระบุ\") ---\n",
    "districts = df[df[\"district\"] != \"ไม่มีการระบุ\"]\n",
    "tenures = (\n",
    "    districts.groupby(\"professional_id\")[\"district\"]\n",
    "    .nunique()\n",
    "    .reset_index()\n",
    "    .rename(columns={\"district\": \"tenures\"})\n",
    ")\n",
    "provider_data = provider_data.merge(tenures, on=\"professional_id\", how=\"left\")\n",
    "provider_data[\"tenures\"] = provider_data[\"tenures\"].fillna(0).astype(int)\n",
    "\n",
    "\n",
    "# --- Province (most active, mapped to English) ---\n",
    "province_map = {\n",
    "    \"เชียงใหม่\": \"Chiang Mai\",\n",
    "    \"กรุงเทพ และปริมณฑล\": \"Bangkok\",\n",
    "    \"ชลบุรี\": \"Chonburi\"\n",
    "}\n",
    "def most_active_province(group):\n",
    "    prov = group[\"province\"].mode()\n",
    "    return province_map.get(prov.iloc[0], prov.iloc[0]) if not prov.empty else \"Unknown\"\n",
    "\n",
    "province = (\n",
    "    df.groupby(\"professional_id\").apply(most_active_province)\n",
    "    .reset_index()\n",
    "    .rename(columns={0: \"province\"})\n",
    ")\n",
    "provider_data = provider_data.merge(province, on=\"professional_id\", how=\"left\")\n",
    "\n",
    "\n",
    "# --- Join Date (first booking_date) ---\n",
    "join_date = (\n",
    "    df.groupby(\"professional_id\")[\"booking_date\"]\n",
    "    .min()\n",
    "    .reset_index()\n",
    "    .rename(columns={\"booking_date\": \"join_date\"})\n",
    ")\n",
    "provider_data = provider_data.merge(join_date, on=\"professional_id\", how=\"left\")"
   ]
  },
  {
   "cell_type": "code",
   "execution_count": 48,
   "id": "e7ef2ab3",
   "metadata": {},
   "outputs": [
    {
     "data": {
      "text/html": [
       "<div>\n",
       "<style scoped>\n",
       "    .dataframe tbody tr th:only-of-type {\n",
       "        vertical-align: middle;\n",
       "    }\n",
       "\n",
       "    .dataframe tbody tr th {\n",
       "        vertical-align: top;\n",
       "    }\n",
       "\n",
       "    .dataframe thead th {\n",
       "        text-align: right;\n",
       "    }\n",
       "</style>\n",
       "<table border=\"1\" class=\"dataframe\">\n",
       "  <thead>\n",
       "    <tr style=\"text-align: right;\">\n",
       "      <th></th>\n",
       "      <th>professional_id</th>\n",
       "      <th>last_completed_cleaning_date</th>\n",
       "      <th>days_since_last_service</th>\n",
       "      <th>total_service_provided</th>\n",
       "      <th>total_service_cancelled</th>\n",
       "      <th>total_revenue</th>\n",
       "      <th>total_service_hour</th>\n",
       "      <th>average_revenue</th>\n",
       "      <th>unique_services_provided</th>\n",
       "      <th>average_days_between_services</th>\n",
       "      <th>favorite_cleaning_day</th>\n",
       "      <th>favorite_cleaning_hour</th>\n",
       "      <th>total_bookings</th>\n",
       "      <th>monthly_revenue_mean</th>\n",
       "      <th>monthly_revenue_std</th>\n",
       "      <th>revenue_trend</th>\n",
       "      <th>avg_rating</th>\n",
       "      <th>avg_booking_per_month</th>\n",
       "      <th>avg_income_per_month</th>\n",
       "      <th>avg_work_hour_per_month</th>\n",
       "      <th>latest_month_booking</th>\n",
       "      <th>latest_month_rating</th>\n",
       "      <th>latest_diff_avg_booking</th>\n",
       "      <th>booking_ratio_latest_to_previous</th>\n",
       "      <th>work_hour_ratio_latest_to_previous</th>\n",
       "      <th>total_active_days</th>\n",
       "      <th>active_months_ratio</th>\n",
       "      <th>booking_std</th>\n",
       "      <th>rating_std</th>\n",
       "      <th>work_hour_std</th>\n",
       "      <th>income_std</th>\n",
       "      <th>tenures</th>\n",
       "      <th>province</th>\n",
       "      <th>join_date</th>\n",
       "    </tr>\n",
       "  </thead>\n",
       "  <tbody>\n",
       "    <tr>\n",
       "      <th>0</th>\n",
       "      <td>5</td>\n",
       "      <td>2022-08-05 16:00:00</td>\n",
       "      <td>1006</td>\n",
       "      <td>31</td>\n",
       "      <td>283</td>\n",
       "      <td>23863.55</td>\n",
       "      <td>93.5</td>\n",
       "      <td>769.791935</td>\n",
       "      <td>1</td>\n",
       "      <td>77.033333</td>\n",
       "      <td>Wednesday</td>\n",
       "      <td>10</td>\n",
       "      <td>406</td>\n",
       "      <td>2169.413636</td>\n",
       "      <td>2129.786383</td>\n",
       "      <td>3.561545</td>\n",
       "      <td>5.000000</td>\n",
       "      <td>3</td>\n",
       "      <td>2169.413636</td>\n",
       "      <td>8</td>\n",
       "      <td>1</td>\n",
       "      <td>0.0</td>\n",
       "      <td>-2</td>\n",
       "      <td>0.500000</td>\n",
       "      <td>0.500000</td>\n",
       "      <td>5</td>\n",
       "      <td>0.754545</td>\n",
       "      <td>4.034387</td>\n",
       "      <td>0.000000</td>\n",
       "      <td>8.935883</td>\n",
       "      <td>2129.786383</td>\n",
       "      <td>20</td>\n",
       "      <td>Chiang Mai</td>\n",
       "      <td>2016-03-24 21:14:38</td>\n",
       "    </tr>\n",
       "    <tr>\n",
       "      <th>1</th>\n",
       "      <td>6</td>\n",
       "      <td>2017-07-29 13:00:00</td>\n",
       "      <td>2840</td>\n",
       "      <td>5</td>\n",
       "      <td>4</td>\n",
       "      <td>1384.44</td>\n",
       "      <td>10.0</td>\n",
       "      <td>276.888000</td>\n",
       "      <td>1</td>\n",
       "      <td>118.000000</td>\n",
       "      <td>Saturday</td>\n",
       "      <td>17</td>\n",
       "      <td>9</td>\n",
       "      <td>692.220000</td>\n",
       "      <td>271.840131</td>\n",
       "      <td>-384.440000</td>\n",
       "      <td>4.500000</td>\n",
       "      <td>2</td>\n",
       "      <td>692.220000</td>\n",
       "      <td>5</td>\n",
       "      <td>1</td>\n",
       "      <td>0.0</td>\n",
       "      <td>-1</td>\n",
       "      <td>0.250000</td>\n",
       "      <td>0.250000</td>\n",
       "      <td>3</td>\n",
       "      <td>0.057471</td>\n",
       "      <td>2.121320</td>\n",
       "      <td>0.000000</td>\n",
       "      <td>4.242641</td>\n",
       "      <td>271.840131</td>\n",
       "      <td>0</td>\n",
       "      <td>Chiang Mai</td>\n",
       "      <td>2016-04-09 16:32:13</td>\n",
       "    </tr>\n",
       "    <tr>\n",
       "      <th>2</th>\n",
       "      <td>7</td>\n",
       "      <td>2017-01-21 12:00:00</td>\n",
       "      <td>3029</td>\n",
       "      <td>415</td>\n",
       "      <td>2</td>\n",
       "      <td>152059.19</td>\n",
       "      <td>844.5</td>\n",
       "      <td>366.407687</td>\n",
       "      <td>1</td>\n",
       "      <td>0.323671</td>\n",
       "      <td>Tuesday</td>\n",
       "      <td>12</td>\n",
       "      <td>426</td>\n",
       "      <td>13823.562727</td>\n",
       "      <td>7174.030599</td>\n",
       "      <td>1214.511909</td>\n",
       "      <td>4.981949</td>\n",
       "      <td>38</td>\n",
       "      <td>13823.562727</td>\n",
       "      <td>76</td>\n",
       "      <td>23</td>\n",
       "      <td>5.0</td>\n",
       "      <td>-15</td>\n",
       "      <td>0.410714</td>\n",
       "      <td>0.357143</td>\n",
       "      <td>1</td>\n",
       "      <td>1.000000</td>\n",
       "      <td>26.078204</td>\n",
       "      <td>0.093440</td>\n",
       "      <td>38.204295</td>\n",
       "      <td>7174.030599</td>\n",
       "      <td>0</td>\n",
       "      <td>Chiang Mai</td>\n",
       "      <td>2016-03-26 20:56:23</td>\n",
       "    </tr>\n",
       "    <tr>\n",
       "      <th>3</th>\n",
       "      <td>8</td>\n",
       "      <td>2016-04-01 13:00:00</td>\n",
       "      <td>3324</td>\n",
       "      <td>2</td>\n",
       "      <td>0</td>\n",
       "      <td>900.00</td>\n",
       "      <td>4.5</td>\n",
       "      <td>450.000000</td>\n",
       "      <td>1</td>\n",
       "      <td>6.000000</td>\n",
       "      <td>Saturday</td>\n",
       "      <td>13</td>\n",
       "      <td>2</td>\n",
       "      <td>450.000000</td>\n",
       "      <td>70.710678</td>\n",
       "      <td>100.000000</td>\n",
       "      <td>4.500000</td>\n",
       "      <td>2</td>\n",
       "      <td>450.000000</td>\n",
       "      <td>2</td>\n",
       "      <td>1</td>\n",
       "      <td>5.0</td>\n",
       "      <td>-1</td>\n",
       "      <td>1.000000</td>\n",
       "      <td>1.250000</td>\n",
       "      <td>1</td>\n",
       "      <td>1.000000</td>\n",
       "      <td>0.000000</td>\n",
       "      <td>0.707107</td>\n",
       "      <td>0.353553</td>\n",
       "      <td>70.710678</td>\n",
       "      <td>0</td>\n",
       "      <td>Chiang Mai</td>\n",
       "      <td>2016-03-23 08:50:10</td>\n",
       "    </tr>\n",
       "    <tr>\n",
       "      <th>4</th>\n",
       "      <td>9</td>\n",
       "      <td>2018-01-01 14:30:00</td>\n",
       "      <td>2684</td>\n",
       "      <td>96</td>\n",
       "      <td>1</td>\n",
       "      <td>76797.50</td>\n",
       "      <td>319.5</td>\n",
       "      <td>799.973958</td>\n",
       "      <td>1</td>\n",
       "      <td>6.368421</td>\n",
       "      <td>Monday</td>\n",
       "      <td>13</td>\n",
       "      <td>97</td>\n",
       "      <td>3657.023810</td>\n",
       "      <td>1722.928170</td>\n",
       "      <td>86.053571</td>\n",
       "      <td>4.833333</td>\n",
       "      <td>4</td>\n",
       "      <td>3657.023810</td>\n",
       "      <td>15</td>\n",
       "      <td>1</td>\n",
       "      <td>0.0</td>\n",
       "      <td>-3</td>\n",
       "      <td>0.125000</td>\n",
       "      <td>0.125000</td>\n",
       "      <td>1</td>\n",
       "      <td>0.952381</td>\n",
       "      <td>2.117595</td>\n",
       "      <td>0.485071</td>\n",
       "      <td>6.798109</td>\n",
       "      <td>1722.928170</td>\n",
       "      <td>1</td>\n",
       "      <td>Bangkok</td>\n",
       "      <td>2016-04-02 20:51:31</td>\n",
       "    </tr>\n",
       "    <tr>\n",
       "      <th>...</th>\n",
       "      <td>...</td>\n",
       "      <td>...</td>\n",
       "      <td>...</td>\n",
       "      <td>...</td>\n",
       "      <td>...</td>\n",
       "      <td>...</td>\n",
       "      <td>...</td>\n",
       "      <td>...</td>\n",
       "      <td>...</td>\n",
       "      <td>...</td>\n",
       "      <td>...</td>\n",
       "      <td>...</td>\n",
       "      <td>...</td>\n",
       "      <td>...</td>\n",
       "      <td>...</td>\n",
       "      <td>...</td>\n",
       "      <td>...</td>\n",
       "      <td>...</td>\n",
       "      <td>...</td>\n",
       "      <td>...</td>\n",
       "      <td>...</td>\n",
       "      <td>...</td>\n",
       "      <td>...</td>\n",
       "      <td>...</td>\n",
       "      <td>...</td>\n",
       "      <td>...</td>\n",
       "      <td>...</td>\n",
       "      <td>...</td>\n",
       "      <td>...</td>\n",
       "      <td>...</td>\n",
       "      <td>...</td>\n",
       "      <td>...</td>\n",
       "      <td>...</td>\n",
       "      <td>...</td>\n",
       "    </tr>\n",
       "    <tr>\n",
       "      <th>7254</th>\n",
       "      <td>12691</td>\n",
       "      <td>2025-05-08 12:30:00</td>\n",
       "      <td>0</td>\n",
       "      <td>4</td>\n",
       "      <td>0</td>\n",
       "      <td>1669.50</td>\n",
       "      <td>8.5</td>\n",
       "      <td>417.375000</td>\n",
       "      <td>2</td>\n",
       "      <td>1.333333</td>\n",
       "      <td>Sunday</td>\n",
       "      <td>10</td>\n",
       "      <td>4</td>\n",
       "      <td>1669.500000</td>\n",
       "      <td>0.000000</td>\n",
       "      <td>0.000000</td>\n",
       "      <td>0.000000</td>\n",
       "      <td>4</td>\n",
       "      <td>1669.500000</td>\n",
       "      <td>8</td>\n",
       "      <td>4</td>\n",
       "      <td>0.0</td>\n",
       "      <td>0</td>\n",
       "      <td>0.000000</td>\n",
       "      <td>0.000000</td>\n",
       "      <td>1</td>\n",
       "      <td>1.000000</td>\n",
       "      <td>0.000000</td>\n",
       "      <td>0.000000</td>\n",
       "      <td>0.000000</td>\n",
       "      <td>0.000000</td>\n",
       "      <td>1</td>\n",
       "      <td>Chiang Mai</td>\n",
       "      <td>2025-05-02 21:53:55</td>\n",
       "    </tr>\n",
       "    <tr>\n",
       "      <th>7255</th>\n",
       "      <td>12698</td>\n",
       "      <td>2025-05-05 19:00:00</td>\n",
       "      <td>2</td>\n",
       "      <td>3</td>\n",
       "      <td>0</td>\n",
       "      <td>1560.00</td>\n",
       "      <td>6.0</td>\n",
       "      <td>520.000000</td>\n",
       "      <td>1</td>\n",
       "      <td>0.000000</td>\n",
       "      <td>Monday</td>\n",
       "      <td>15</td>\n",
       "      <td>3</td>\n",
       "      <td>1560.000000</td>\n",
       "      <td>0.000000</td>\n",
       "      <td>0.000000</td>\n",
       "      <td>0.000000</td>\n",
       "      <td>3</td>\n",
       "      <td>1560.000000</td>\n",
       "      <td>6</td>\n",
       "      <td>3</td>\n",
       "      <td>0.0</td>\n",
       "      <td>0</td>\n",
       "      <td>0.000000</td>\n",
       "      <td>0.000000</td>\n",
       "      <td>1</td>\n",
       "      <td>1.000000</td>\n",
       "      <td>0.000000</td>\n",
       "      <td>0.000000</td>\n",
       "      <td>0.000000</td>\n",
       "      <td>0.000000</td>\n",
       "      <td>1</td>\n",
       "      <td>Bangkok</td>\n",
       "      <td>2025-05-04 12:44:03</td>\n",
       "    </tr>\n",
       "    <tr>\n",
       "      <th>7256</th>\n",
       "      <td>12699</td>\n",
       "      <td>2025-05-05 12:30:00</td>\n",
       "      <td>3</td>\n",
       "      <td>2</td>\n",
       "      <td>0</td>\n",
       "      <td>1410.00</td>\n",
       "      <td>5.5</td>\n",
       "      <td>705.000000</td>\n",
       "      <td>2</td>\n",
       "      <td>1.000000</td>\n",
       "      <td>Saturday</td>\n",
       "      <td>13</td>\n",
       "      <td>2</td>\n",
       "      <td>1410.000000</td>\n",
       "      <td>0.000000</td>\n",
       "      <td>0.000000</td>\n",
       "      <td>5.000000</td>\n",
       "      <td>2</td>\n",
       "      <td>1410.000000</td>\n",
       "      <td>5</td>\n",
       "      <td>2</td>\n",
       "      <td>5.0</td>\n",
       "      <td>0</td>\n",
       "      <td>0.000000</td>\n",
       "      <td>0.000000</td>\n",
       "      <td>1</td>\n",
       "      <td>1.000000</td>\n",
       "      <td>0.000000</td>\n",
       "      <td>0.000000</td>\n",
       "      <td>0.000000</td>\n",
       "      <td>0.000000</td>\n",
       "      <td>2</td>\n",
       "      <td>Bangkok</td>\n",
       "      <td>2025-05-03 00:50:38</td>\n",
       "    </tr>\n",
       "    <tr>\n",
       "      <th>7257</th>\n",
       "      <td>12703</td>\n",
       "      <td>2025-05-07 09:00:00</td>\n",
       "      <td>1</td>\n",
       "      <td>1</td>\n",
       "      <td>0</td>\n",
       "      <td>1248.00</td>\n",
       "      <td>6.0</td>\n",
       "      <td>1248.000000</td>\n",
       "      <td>1</td>\n",
       "      <td>0.000000</td>\n",
       "      <td>Wednesday</td>\n",
       "      <td>9</td>\n",
       "      <td>2</td>\n",
       "      <td>1248.000000</td>\n",
       "      <td>0.000000</td>\n",
       "      <td>0.000000</td>\n",
       "      <td>0.000000</td>\n",
       "      <td>2</td>\n",
       "      <td>1248.000000</td>\n",
       "      <td>6</td>\n",
       "      <td>1</td>\n",
       "      <td>0.0</td>\n",
       "      <td>-1</td>\n",
       "      <td>0.000000</td>\n",
       "      <td>0.000000</td>\n",
       "      <td>1</td>\n",
       "      <td>1.000000</td>\n",
       "      <td>0.000000</td>\n",
       "      <td>0.000000</td>\n",
       "      <td>0.000000</td>\n",
       "      <td>0.000000</td>\n",
       "      <td>1</td>\n",
       "      <td>Bangkok</td>\n",
       "      <td>2025-05-06 12:44:30</td>\n",
       "    </tr>\n",
       "    <tr>\n",
       "      <th>7258</th>\n",
       "      <td>12704</td>\n",
       "      <td>2025-05-08 13:30:00</td>\n",
       "      <td>0</td>\n",
       "      <td>4</td>\n",
       "      <td>0</td>\n",
       "      <td>2040.00</td>\n",
       "      <td>8.5</td>\n",
       "      <td>510.000000</td>\n",
       "      <td>2</td>\n",
       "      <td>0.666667</td>\n",
       "      <td>Monday</td>\n",
       "      <td>13</td>\n",
       "      <td>4</td>\n",
       "      <td>2040.000000</td>\n",
       "      <td>0.000000</td>\n",
       "      <td>0.000000</td>\n",
       "      <td>5.000000</td>\n",
       "      <td>4</td>\n",
       "      <td>2040.000000</td>\n",
       "      <td>8</td>\n",
       "      <td>4</td>\n",
       "      <td>5.0</td>\n",
       "      <td>0</td>\n",
       "      <td>0.000000</td>\n",
       "      <td>0.000000</td>\n",
       "      <td>1</td>\n",
       "      <td>1.000000</td>\n",
       "      <td>0.000000</td>\n",
       "      <td>0.000000</td>\n",
       "      <td>0.000000</td>\n",
       "      <td>0.000000</td>\n",
       "      <td>4</td>\n",
       "      <td>Bangkok</td>\n",
       "      <td>2025-05-05 12:09:01</td>\n",
       "    </tr>\n",
       "  </tbody>\n",
       "</table>\n",
       "<p>7259 rows × 34 columns</p>\n",
       "</div>"
      ],
      "text/plain": [
       "      professional_id last_completed_cleaning_date  days_since_last_service  \\\n",
       "0                   5          2022-08-05 16:00:00                     1006   \n",
       "1                   6          2017-07-29 13:00:00                     2840   \n",
       "2                   7          2017-01-21 12:00:00                     3029   \n",
       "3                   8          2016-04-01 13:00:00                     3324   \n",
       "4                   9          2018-01-01 14:30:00                     2684   \n",
       "...               ...                          ...                      ...   \n",
       "7254            12691          2025-05-08 12:30:00                        0   \n",
       "7255            12698          2025-05-05 19:00:00                        2   \n",
       "7256            12699          2025-05-05 12:30:00                        3   \n",
       "7257            12703          2025-05-07 09:00:00                        1   \n",
       "7258            12704          2025-05-08 13:30:00                        0   \n",
       "\n",
       "      total_service_provided  total_service_cancelled  total_revenue  \\\n",
       "0                         31                      283       23863.55   \n",
       "1                          5                        4        1384.44   \n",
       "2                        415                        2      152059.19   \n",
       "3                          2                        0         900.00   \n",
       "4                         96                        1       76797.50   \n",
       "...                      ...                      ...            ...   \n",
       "7254                       4                        0        1669.50   \n",
       "7255                       3                        0        1560.00   \n",
       "7256                       2                        0        1410.00   \n",
       "7257                       1                        0        1248.00   \n",
       "7258                       4                        0        2040.00   \n",
       "\n",
       "      total_service_hour  average_revenue  unique_services_provided  \\\n",
       "0                   93.5       769.791935                         1   \n",
       "1                   10.0       276.888000                         1   \n",
       "2                  844.5       366.407687                         1   \n",
       "3                    4.5       450.000000                         1   \n",
       "4                  319.5       799.973958                         1   \n",
       "...                  ...              ...                       ...   \n",
       "7254                 8.5       417.375000                         2   \n",
       "7255                 6.0       520.000000                         1   \n",
       "7256                 5.5       705.000000                         2   \n",
       "7257                 6.0      1248.000000                         1   \n",
       "7258                 8.5       510.000000                         2   \n",
       "\n",
       "      average_days_between_services favorite_cleaning_day  \\\n",
       "0                         77.033333             Wednesday   \n",
       "1                        118.000000              Saturday   \n",
       "2                          0.323671               Tuesday   \n",
       "3                          6.000000              Saturday   \n",
       "4                          6.368421                Monday   \n",
       "...                             ...                   ...   \n",
       "7254                       1.333333                Sunday   \n",
       "7255                       0.000000                Monday   \n",
       "7256                       1.000000              Saturday   \n",
       "7257                       0.000000             Wednesday   \n",
       "7258                       0.666667                Monday   \n",
       "\n",
       "      favorite_cleaning_hour  total_bookings  monthly_revenue_mean  \\\n",
       "0                         10             406           2169.413636   \n",
       "1                         17               9            692.220000   \n",
       "2                         12             426          13823.562727   \n",
       "3                         13               2            450.000000   \n",
       "4                         13              97           3657.023810   \n",
       "...                      ...             ...                   ...   \n",
       "7254                      10               4           1669.500000   \n",
       "7255                      15               3           1560.000000   \n",
       "7256                      13               2           1410.000000   \n",
       "7257                       9               2           1248.000000   \n",
       "7258                      13               4           2040.000000   \n",
       "\n",
       "      monthly_revenue_std  revenue_trend  avg_rating  avg_booking_per_month  \\\n",
       "0             2129.786383       3.561545    5.000000                      3   \n",
       "1              271.840131    -384.440000    4.500000                      2   \n",
       "2             7174.030599    1214.511909    4.981949                     38   \n",
       "3               70.710678     100.000000    4.500000                      2   \n",
       "4             1722.928170      86.053571    4.833333                      4   \n",
       "...                   ...            ...         ...                    ...   \n",
       "7254             0.000000       0.000000    0.000000                      4   \n",
       "7255             0.000000       0.000000    0.000000                      3   \n",
       "7256             0.000000       0.000000    5.000000                      2   \n",
       "7257             0.000000       0.000000    0.000000                      2   \n",
       "7258             0.000000       0.000000    5.000000                      4   \n",
       "\n",
       "      avg_income_per_month  avg_work_hour_per_month  latest_month_booking  \\\n",
       "0              2169.413636                        8                     1   \n",
       "1               692.220000                        5                     1   \n",
       "2             13823.562727                       76                    23   \n",
       "3               450.000000                        2                     1   \n",
       "4              3657.023810                       15                     1   \n",
       "...                    ...                      ...                   ...   \n",
       "7254           1669.500000                        8                     4   \n",
       "7255           1560.000000                        6                     3   \n",
       "7256           1410.000000                        5                     2   \n",
       "7257           1248.000000                        6                     1   \n",
       "7258           2040.000000                        8                     4   \n",
       "\n",
       "      latest_month_rating  latest_diff_avg_booking  \\\n",
       "0                     0.0                       -2   \n",
       "1                     0.0                       -1   \n",
       "2                     5.0                      -15   \n",
       "3                     5.0                       -1   \n",
       "4                     0.0                       -3   \n",
       "...                   ...                      ...   \n",
       "7254                  0.0                        0   \n",
       "7255                  0.0                        0   \n",
       "7256                  5.0                        0   \n",
       "7257                  0.0                       -1   \n",
       "7258                  5.0                        0   \n",
       "\n",
       "      booking_ratio_latest_to_previous  work_hour_ratio_latest_to_previous  \\\n",
       "0                             0.500000                            0.500000   \n",
       "1                             0.250000                            0.250000   \n",
       "2                             0.410714                            0.357143   \n",
       "3                             1.000000                            1.250000   \n",
       "4                             0.125000                            0.125000   \n",
       "...                                ...                                 ...   \n",
       "7254                          0.000000                            0.000000   \n",
       "7255                          0.000000                            0.000000   \n",
       "7256                          0.000000                            0.000000   \n",
       "7257                          0.000000                            0.000000   \n",
       "7258                          0.000000                            0.000000   \n",
       "\n",
       "      total_active_days  active_months_ratio  booking_std  rating_std  \\\n",
       "0                     5             0.754545     4.034387    0.000000   \n",
       "1                     3             0.057471     2.121320    0.000000   \n",
       "2                     1             1.000000    26.078204    0.093440   \n",
       "3                     1             1.000000     0.000000    0.707107   \n",
       "4                     1             0.952381     2.117595    0.485071   \n",
       "...                 ...                  ...          ...         ...   \n",
       "7254                  1             1.000000     0.000000    0.000000   \n",
       "7255                  1             1.000000     0.000000    0.000000   \n",
       "7256                  1             1.000000     0.000000    0.000000   \n",
       "7257                  1             1.000000     0.000000    0.000000   \n",
       "7258                  1             1.000000     0.000000    0.000000   \n",
       "\n",
       "      work_hour_std   income_std  tenures    province           join_date  \n",
       "0          8.935883  2129.786383       20  Chiang Mai 2016-03-24 21:14:38  \n",
       "1          4.242641   271.840131        0  Chiang Mai 2016-04-09 16:32:13  \n",
       "2         38.204295  7174.030599        0  Chiang Mai 2016-03-26 20:56:23  \n",
       "3          0.353553    70.710678        0  Chiang Mai 2016-03-23 08:50:10  \n",
       "4          6.798109  1722.928170        1     Bangkok 2016-04-02 20:51:31  \n",
       "...             ...          ...      ...         ...                 ...  \n",
       "7254       0.000000     0.000000        1  Chiang Mai 2025-05-02 21:53:55  \n",
       "7255       0.000000     0.000000        1     Bangkok 2025-05-04 12:44:03  \n",
       "7256       0.000000     0.000000        2     Bangkok 2025-05-03 00:50:38  \n",
       "7257       0.000000     0.000000        1     Bangkok 2025-05-06 12:44:30  \n",
       "7258       0.000000     0.000000        4     Bangkok 2025-05-05 12:09:01  \n",
       "\n",
       "[7259 rows x 34 columns]"
      ]
     },
     "execution_count": 48,
     "metadata": {},
     "output_type": "execute_result"
    }
   ],
   "source": [
    "provider_data"
   ]
  },
  {
   "cell_type": "markdown",
   "id": "5b796493",
   "metadata": {},
   "source": [
    "<a id=\"export_features\"></a>\n",
    "\n",
    "### <b><span style='color:#ffa705'>Step 4.7 |</span><span style='color:#ffffff'> Export Feature Engineer Data</span></b>\n",
    "⬆️ [Table of Contents](#contents_table)"
   ]
  },
  {
   "cell_type": "code",
   "execution_count": 49,
   "id": "a48dd9d7",
   "metadata": {},
   "outputs": [],
   "source": [
    "#provider_data.to_csv(\"feature_engineer_data.csv\", index=False)"
   ]
  },
  {
   "cell_type": "markdown",
   "id": "8944a3cf",
   "metadata": {},
   "source": [
    "<div style=\"border-radius:10px; padding: 15px; background-color: #10041cff; font-size:100%; text-align:left\">\n",
    "\n",
    "<font color=#ffffff>\n",
    "\n",
    "We've done a great job so far! We have created a dataset that focuses on our providers, using a variety of new features that give us a deeper understanding of their service providing patterns and preferences."
   ]
  },
  {
   "cell_type": "code",
   "execution_count": 50,
   "id": "398c9312",
   "metadata": {},
   "outputs": [
    {
     "data": {
      "text/html": [
       "<div>\n",
       "<style scoped>\n",
       "    .dataframe tbody tr th:only-of-type {\n",
       "        vertical-align: middle;\n",
       "    }\n",
       "\n",
       "    .dataframe tbody tr th {\n",
       "        vertical-align: top;\n",
       "    }\n",
       "\n",
       "    .dataframe thead th {\n",
       "        text-align: right;\n",
       "    }\n",
       "</style>\n",
       "<table border=\"1\" class=\"dataframe\">\n",
       "  <thead>\n",
       "    <tr style=\"text-align: right;\">\n",
       "      <th></th>\n",
       "      <th>professional_id</th>\n",
       "      <th>last_completed_cleaning_date</th>\n",
       "      <th>days_since_last_service</th>\n",
       "      <th>total_service_provided</th>\n",
       "      <th>total_service_cancelled</th>\n",
       "      <th>total_revenue</th>\n",
       "      <th>total_service_hour</th>\n",
       "      <th>average_revenue</th>\n",
       "      <th>unique_services_provided</th>\n",
       "      <th>average_days_between_services</th>\n",
       "      <th>favorite_cleaning_day</th>\n",
       "      <th>favorite_cleaning_hour</th>\n",
       "      <th>total_bookings</th>\n",
       "      <th>monthly_revenue_mean</th>\n",
       "      <th>monthly_revenue_std</th>\n",
       "      <th>revenue_trend</th>\n",
       "      <th>avg_rating</th>\n",
       "      <th>avg_booking_per_month</th>\n",
       "      <th>avg_income_per_month</th>\n",
       "      <th>avg_work_hour_per_month</th>\n",
       "      <th>latest_month_booking</th>\n",
       "      <th>latest_month_rating</th>\n",
       "      <th>latest_diff_avg_booking</th>\n",
       "      <th>booking_ratio_latest_to_previous</th>\n",
       "      <th>work_hour_ratio_latest_to_previous</th>\n",
       "      <th>total_active_days</th>\n",
       "      <th>active_months_ratio</th>\n",
       "      <th>booking_std</th>\n",
       "      <th>rating_std</th>\n",
       "      <th>work_hour_std</th>\n",
       "      <th>income_std</th>\n",
       "      <th>tenures</th>\n",
       "      <th>province</th>\n",
       "      <th>join_date</th>\n",
       "    </tr>\n",
       "  </thead>\n",
       "  <tbody>\n",
       "    <tr>\n",
       "      <th>0</th>\n",
       "      <td>5</td>\n",
       "      <td>2022-08-05 16:00:00</td>\n",
       "      <td>1006</td>\n",
       "      <td>31</td>\n",
       "      <td>283</td>\n",
       "      <td>23863.55</td>\n",
       "      <td>93.5</td>\n",
       "      <td>769.791935</td>\n",
       "      <td>1</td>\n",
       "      <td>77.033333</td>\n",
       "      <td>Wednesday</td>\n",
       "      <td>10</td>\n",
       "      <td>406</td>\n",
       "      <td>2169.413636</td>\n",
       "      <td>2129.786383</td>\n",
       "      <td>3.561545</td>\n",
       "      <td>5.000000</td>\n",
       "      <td>3</td>\n",
       "      <td>2169.413636</td>\n",
       "      <td>8</td>\n",
       "      <td>1</td>\n",
       "      <td>0.0</td>\n",
       "      <td>-2</td>\n",
       "      <td>0.500000</td>\n",
       "      <td>0.500000</td>\n",
       "      <td>5</td>\n",
       "      <td>0.754545</td>\n",
       "      <td>4.034387</td>\n",
       "      <td>0.000000</td>\n",
       "      <td>8.935883</td>\n",
       "      <td>2129.786383</td>\n",
       "      <td>20</td>\n",
       "      <td>Chiang Mai</td>\n",
       "      <td>2016-03-24 21:14:38</td>\n",
       "    </tr>\n",
       "    <tr>\n",
       "      <th>1</th>\n",
       "      <td>6</td>\n",
       "      <td>2017-07-29 13:00:00</td>\n",
       "      <td>2840</td>\n",
       "      <td>5</td>\n",
       "      <td>4</td>\n",
       "      <td>1384.44</td>\n",
       "      <td>10.0</td>\n",
       "      <td>276.888000</td>\n",
       "      <td>1</td>\n",
       "      <td>118.000000</td>\n",
       "      <td>Saturday</td>\n",
       "      <td>17</td>\n",
       "      <td>9</td>\n",
       "      <td>692.220000</td>\n",
       "      <td>271.840131</td>\n",
       "      <td>-384.440000</td>\n",
       "      <td>4.500000</td>\n",
       "      <td>2</td>\n",
       "      <td>692.220000</td>\n",
       "      <td>5</td>\n",
       "      <td>1</td>\n",
       "      <td>0.0</td>\n",
       "      <td>-1</td>\n",
       "      <td>0.250000</td>\n",
       "      <td>0.250000</td>\n",
       "      <td>3</td>\n",
       "      <td>0.057471</td>\n",
       "      <td>2.121320</td>\n",
       "      <td>0.000000</td>\n",
       "      <td>4.242641</td>\n",
       "      <td>271.840131</td>\n",
       "      <td>0</td>\n",
       "      <td>Chiang Mai</td>\n",
       "      <td>2016-04-09 16:32:13</td>\n",
       "    </tr>\n",
       "    <tr>\n",
       "      <th>2</th>\n",
       "      <td>7</td>\n",
       "      <td>2017-01-21 12:00:00</td>\n",
       "      <td>3029</td>\n",
       "      <td>415</td>\n",
       "      <td>2</td>\n",
       "      <td>152059.19</td>\n",
       "      <td>844.5</td>\n",
       "      <td>366.407687</td>\n",
       "      <td>1</td>\n",
       "      <td>0.323671</td>\n",
       "      <td>Tuesday</td>\n",
       "      <td>12</td>\n",
       "      <td>426</td>\n",
       "      <td>13823.562727</td>\n",
       "      <td>7174.030599</td>\n",
       "      <td>1214.511909</td>\n",
       "      <td>4.981949</td>\n",
       "      <td>38</td>\n",
       "      <td>13823.562727</td>\n",
       "      <td>76</td>\n",
       "      <td>23</td>\n",
       "      <td>5.0</td>\n",
       "      <td>-15</td>\n",
       "      <td>0.410714</td>\n",
       "      <td>0.357143</td>\n",
       "      <td>1</td>\n",
       "      <td>1.000000</td>\n",
       "      <td>26.078204</td>\n",
       "      <td>0.093440</td>\n",
       "      <td>38.204295</td>\n",
       "      <td>7174.030599</td>\n",
       "      <td>0</td>\n",
       "      <td>Chiang Mai</td>\n",
       "      <td>2016-03-26 20:56:23</td>\n",
       "    </tr>\n",
       "    <tr>\n",
       "      <th>3</th>\n",
       "      <td>8</td>\n",
       "      <td>2016-04-01 13:00:00</td>\n",
       "      <td>3324</td>\n",
       "      <td>2</td>\n",
       "      <td>0</td>\n",
       "      <td>900.00</td>\n",
       "      <td>4.5</td>\n",
       "      <td>450.000000</td>\n",
       "      <td>1</td>\n",
       "      <td>6.000000</td>\n",
       "      <td>Saturday</td>\n",
       "      <td>13</td>\n",
       "      <td>2</td>\n",
       "      <td>450.000000</td>\n",
       "      <td>70.710678</td>\n",
       "      <td>100.000000</td>\n",
       "      <td>4.500000</td>\n",
       "      <td>2</td>\n",
       "      <td>450.000000</td>\n",
       "      <td>2</td>\n",
       "      <td>1</td>\n",
       "      <td>5.0</td>\n",
       "      <td>-1</td>\n",
       "      <td>1.000000</td>\n",
       "      <td>1.250000</td>\n",
       "      <td>1</td>\n",
       "      <td>1.000000</td>\n",
       "      <td>0.000000</td>\n",
       "      <td>0.707107</td>\n",
       "      <td>0.353553</td>\n",
       "      <td>70.710678</td>\n",
       "      <td>0</td>\n",
       "      <td>Chiang Mai</td>\n",
       "      <td>2016-03-23 08:50:10</td>\n",
       "    </tr>\n",
       "    <tr>\n",
       "      <th>4</th>\n",
       "      <td>9</td>\n",
       "      <td>2018-01-01 14:30:00</td>\n",
       "      <td>2684</td>\n",
       "      <td>96</td>\n",
       "      <td>1</td>\n",
       "      <td>76797.50</td>\n",
       "      <td>319.5</td>\n",
       "      <td>799.973958</td>\n",
       "      <td>1</td>\n",
       "      <td>6.368421</td>\n",
       "      <td>Monday</td>\n",
       "      <td>13</td>\n",
       "      <td>97</td>\n",
       "      <td>3657.023810</td>\n",
       "      <td>1722.928170</td>\n",
       "      <td>86.053571</td>\n",
       "      <td>4.833333</td>\n",
       "      <td>4</td>\n",
       "      <td>3657.023810</td>\n",
       "      <td>15</td>\n",
       "      <td>1</td>\n",
       "      <td>0.0</td>\n",
       "      <td>-3</td>\n",
       "      <td>0.125000</td>\n",
       "      <td>0.125000</td>\n",
       "      <td>1</td>\n",
       "      <td>0.952381</td>\n",
       "      <td>2.117595</td>\n",
       "      <td>0.485071</td>\n",
       "      <td>6.798109</td>\n",
       "      <td>1722.928170</td>\n",
       "      <td>1</td>\n",
       "      <td>Bangkok</td>\n",
       "      <td>2016-04-02 20:51:31</td>\n",
       "    </tr>\n",
       "  </tbody>\n",
       "</table>\n",
       "</div>"
      ],
      "text/plain": [
       "   professional_id last_completed_cleaning_date  days_since_last_service  \\\n",
       "0                5          2022-08-05 16:00:00                     1006   \n",
       "1                6          2017-07-29 13:00:00                     2840   \n",
       "2                7          2017-01-21 12:00:00                     3029   \n",
       "3                8          2016-04-01 13:00:00                     3324   \n",
       "4                9          2018-01-01 14:30:00                     2684   \n",
       "\n",
       "   total_service_provided  total_service_cancelled  total_revenue  \\\n",
       "0                      31                      283       23863.55   \n",
       "1                       5                        4        1384.44   \n",
       "2                     415                        2      152059.19   \n",
       "3                       2                        0         900.00   \n",
       "4                      96                        1       76797.50   \n",
       "\n",
       "   total_service_hour  average_revenue  unique_services_provided  \\\n",
       "0                93.5       769.791935                         1   \n",
       "1                10.0       276.888000                         1   \n",
       "2               844.5       366.407687                         1   \n",
       "3                 4.5       450.000000                         1   \n",
       "4               319.5       799.973958                         1   \n",
       "\n",
       "   average_days_between_services favorite_cleaning_day  \\\n",
       "0                      77.033333             Wednesday   \n",
       "1                     118.000000              Saturday   \n",
       "2                       0.323671               Tuesday   \n",
       "3                       6.000000              Saturday   \n",
       "4                       6.368421                Monday   \n",
       "\n",
       "   favorite_cleaning_hour  total_bookings  monthly_revenue_mean  \\\n",
       "0                      10             406           2169.413636   \n",
       "1                      17               9            692.220000   \n",
       "2                      12             426          13823.562727   \n",
       "3                      13               2            450.000000   \n",
       "4                      13              97           3657.023810   \n",
       "\n",
       "   monthly_revenue_std  revenue_trend  avg_rating  avg_booking_per_month  \\\n",
       "0          2129.786383       3.561545    5.000000                      3   \n",
       "1           271.840131    -384.440000    4.500000                      2   \n",
       "2          7174.030599    1214.511909    4.981949                     38   \n",
       "3            70.710678     100.000000    4.500000                      2   \n",
       "4          1722.928170      86.053571    4.833333                      4   \n",
       "\n",
       "   avg_income_per_month  avg_work_hour_per_month  latest_month_booking  \\\n",
       "0           2169.413636                        8                     1   \n",
       "1            692.220000                        5                     1   \n",
       "2          13823.562727                       76                    23   \n",
       "3            450.000000                        2                     1   \n",
       "4           3657.023810                       15                     1   \n",
       "\n",
       "   latest_month_rating  latest_diff_avg_booking  \\\n",
       "0                  0.0                       -2   \n",
       "1                  0.0                       -1   \n",
       "2                  5.0                      -15   \n",
       "3                  5.0                       -1   \n",
       "4                  0.0                       -3   \n",
       "\n",
       "   booking_ratio_latest_to_previous  work_hour_ratio_latest_to_previous  \\\n",
       "0                          0.500000                            0.500000   \n",
       "1                          0.250000                            0.250000   \n",
       "2                          0.410714                            0.357143   \n",
       "3                          1.000000                            1.250000   \n",
       "4                          0.125000                            0.125000   \n",
       "\n",
       "   total_active_days  active_months_ratio  booking_std  rating_std  \\\n",
       "0                  5             0.754545     4.034387    0.000000   \n",
       "1                  3             0.057471     2.121320    0.000000   \n",
       "2                  1             1.000000    26.078204    0.093440   \n",
       "3                  1             1.000000     0.000000    0.707107   \n",
       "4                  1             0.952381     2.117595    0.485071   \n",
       "\n",
       "   work_hour_std   income_std  tenures    province           join_date  \n",
       "0       8.935883  2129.786383       20  Chiang Mai 2016-03-24 21:14:38  \n",
       "1       4.242641   271.840131        0  Chiang Mai 2016-04-09 16:32:13  \n",
       "2      38.204295  7174.030599        0  Chiang Mai 2016-03-26 20:56:23  \n",
       "3       0.353553    70.710678        0  Chiang Mai 2016-03-23 08:50:10  \n",
       "4       6.798109  1722.928170        1     Bangkok 2016-04-02 20:51:31  "
      ]
     },
     "execution_count": 50,
     "metadata": {},
     "output_type": "execute_result"
    }
   ],
   "source": [
    "provider_data.head()"
   ]
  },
  {
   "cell_type": "code",
   "execution_count": 51,
   "id": "cebbbcad",
   "metadata": {},
   "outputs": [
    {
     "data": {
      "text/plain": [
       "Index(['professional_id', 'last_completed_cleaning_date',\n",
       "       'days_since_last_service', 'total_service_provided',\n",
       "       'total_service_cancelled', 'total_revenue', 'total_service_hour',\n",
       "       'average_revenue', 'unique_services_provided',\n",
       "       'average_days_between_services', 'favorite_cleaning_day',\n",
       "       'favorite_cleaning_hour', 'total_bookings', 'monthly_revenue_mean',\n",
       "       'monthly_revenue_std', 'revenue_trend', 'avg_rating',\n",
       "       'avg_booking_per_month', 'avg_income_per_month',\n",
       "       'avg_work_hour_per_month', 'latest_month_booking',\n",
       "       'latest_month_rating', 'latest_diff_avg_booking',\n",
       "       'booking_ratio_latest_to_previous',\n",
       "       'work_hour_ratio_latest_to_previous', 'total_active_days',\n",
       "       'active_months_ratio', 'booking_std', 'rating_std', 'work_hour_std',\n",
       "       'income_std', 'tenures', 'province', 'join_date'],\n",
       "      dtype='object')"
      ]
     },
     "execution_count": 51,
     "metadata": {},
     "output_type": "execute_result"
    }
   ],
   "source": [
    "provider_data.columns"
   ]
  },
  {
   "cell_type": "markdown",
   "id": "7579bd71",
   "metadata": {},
   "source": [
    "<a id=\"provider_description\"></a>\n",
    "\n",
    "<div style=\"border-radius:10px; padding: 15px; background-color: rgb(256,12,84); font-size:100%; text-align:left\">\n",
    "\n",
    "#### <b><font color=#ffffff>Provider Dataset Description</h2></b>\n",
    "\n",
    "<font color=#ffffff>\n",
    "\n",
    "| __Variable__                       | __Description__ |\n",
    "|     :---                           |       :---      |\n",
    "| __professional_id__                | Identifier uniquely assigned to each provider, used to distinguish individual providers. |\n",
    "| __last_completed_cleaning_date__   | Timestamp of the last provider's cleaning date. |\n",
    "| __days_since_last_service__        | The number of days that have passed since the provider's last service. |\n",
    "| __total_service_provided__         | The total number of complete booking made by the provider. |\n",
    "| __total_service_cancelled__        | The total number of cancel booking by the provider. |\n",
    "| __total_revenue__                  | The total amount of money the provider has earn across all bookings. |\n",
    "| __total_service_hour__             | The total number of service providing hour. |\n",
    "| __average_revenue__                | The average money the provider has earn. |\n",
    "| __unique_services_provided__       | The number of services type provided by the provider. |\n",
    "| __average_days_between_services__  | The average number of days it took for the provider to provide cleaning services. |\n",
    "| __favorite_cleaning_day__          | The day of the week when the provider prefers to provide service, represented categorically (Sunday, Monday, Tuesday, ..., Saturday). |\n",
    "| __favorite_cleaning_hour__         | The most frequent clean service hour of the day by the provider. |\n",
    "| __total_bookings__                 | Total number of bookings claimed by the service provider. |\n",
    "| __monthly_revenue_mean__           | The average money earn monthly by the provider. |\n",
    "| __monthly_revenue_std__            | The variability in a provider's monthly earning |\n",
    "| __revenue_trend__                  | This reflects the trend in a provider's earning over time, calculated as the slope of the linear trend line fitted to their earning data. |\n",
    "| __avg_rating__                     | Average service rating of the provider. |\n",
    "| __avg_booking_per_month__          | Average booking per month (claimed bookings only). |\n",
    "| __avg_income_per_month__           | Average income per month. |\n",
    "| __avg_work_hour_per_month__        | Average work hour per month. |\n",
    "| __latest_month_booking__           | Total booking from the latest month. |\n",
    "| __latest_diff_avg_booking__        | Difference between latest month booking and average per month. |\n",
    "| __booking_ratio_latest_to_previous__ | Booking ratio between the latest month and the month before. |\n",
    "| __work_hour_ratio_latest_to_previous__ | Work hour ratio between the latest month and the month before. |\n",
    "| __total_active_days__              | Total active days (threshold <= 90 days). |\n",
    "| __active_months_ratio__            | Active months ratio. |\n",
    "| __booking_std__                    | Booking's standard deviation. |\n",
    "| __rating_std__                     | Rating's standard deviation. |\n",
    "| __work_hour_std__                  | Work hour's standard deviation. |\n",
    "| __income_std__                     | Income's standard deviation. |\n",
    "| __tenures__                        | Total unique districts, not \"ไม่มีการระบุ\". |\n",
    "| __province__                       | Province that the service provider stationed. |\n",
    "| __join_date__                      | Join date is the first booking date. |"
   ]
  },
  {
   "cell_type": "code",
   "execution_count": 52,
   "id": "a799419d",
   "metadata": {},
   "outputs": [
    {
     "name": "stdout",
     "output_type": "stream",
     "text": [
      "<class 'pandas.core.frame.DataFrame'>\n",
      "RangeIndex: 7259 entries, 0 to 7258\n",
      "Data columns (total 34 columns):\n",
      " #   Column                              Non-Null Count  Dtype         \n",
      "---  ------                              --------------  -----         \n",
      " 0   professional_id                     7259 non-null   int64         \n",
      " 1   last_completed_cleaning_date        7259 non-null   datetime64[ns]\n",
      " 2   days_since_last_service             7259 non-null   int64         \n",
      " 3   total_service_provided              7259 non-null   int64         \n",
      " 4   total_service_cancelled             7259 non-null   int64         \n",
      " 5   total_revenue                       7259 non-null   float64       \n",
      " 6   total_service_hour                  7259 non-null   float64       \n",
      " 7   average_revenue                     7259 non-null   float64       \n",
      " 8   unique_services_provided            7259 non-null   int64         \n",
      " 9   average_days_between_services       7259 non-null   float64       \n",
      " 10  favorite_cleaning_day               7259 non-null   object        \n",
      " 11  favorite_cleaning_hour              7259 non-null   int32         \n",
      " 12  total_bookings                      7259 non-null   int64         \n",
      " 13  monthly_revenue_mean                7259 non-null   float64       \n",
      " 14  monthly_revenue_std                 7259 non-null   float64       \n",
      " 15  revenue_trend                       7259 non-null   float64       \n",
      " 16  avg_rating                          7259 non-null   float64       \n",
      " 17  avg_booking_per_month               7259 non-null   int64         \n",
      " 18  avg_income_per_month                7259 non-null   float64       \n",
      " 19  avg_work_hour_per_month             7259 non-null   int64         \n",
      " 20  latest_month_booking                7259 non-null   int64         \n",
      " 21  latest_month_rating                 7259 non-null   float64       \n",
      " 22  latest_diff_avg_booking             7259 non-null   int64         \n",
      " 23  booking_ratio_latest_to_previous    7259 non-null   float64       \n",
      " 24  work_hour_ratio_latest_to_previous  7259 non-null   float64       \n",
      " 25  total_active_days                   7259 non-null   int64         \n",
      " 26  active_months_ratio                 7259 non-null   float64       \n",
      " 27  booking_std                         7259 non-null   float64       \n",
      " 28  rating_std                          7259 non-null   float64       \n",
      " 29  work_hour_std                       7259 non-null   float64       \n",
      " 30  income_std                          7259 non-null   float64       \n",
      " 31  tenures                             7259 non-null   int64         \n",
      " 32  province                            7259 non-null   object        \n",
      " 33  join_date                           7259 non-null   datetime64[ns]\n",
      "dtypes: datetime64[ns](2), float64(17), int32(1), int64(12), object(2)\n",
      "memory usage: 1.9+ MB\n"
     ]
    }
   ],
   "source": [
    "provider_data.info()"
   ]
  },
  {
   "cell_type": "markdown",
   "id": "52e414b8",
   "metadata": {},
   "source": [
    "<a id=\"data_preparation\"></a>\n",
    "\n",
    "## <b><span style='color:#ffa705'>Step 5 |</span><span style='color:#ffffff'> Data Preparation for Clustering Models</span></b>\n",
    "⬆️ [Table of Contents](#contents_table)\n",
    "\n",
    "<font color=#ffffff>\n",
    "\n",
    "Prepare the provider data for the 2nd Phase of Provider Segmentation Modelling via Clustering."
   ]
  },
  {
   "cell_type": "code",
   "execution_count": 53,
   "id": "437d934b",
   "metadata": {},
   "outputs": [],
   "source": [
    "# Read feature engineer data\n",
    "#provider_data = pd.read_csv(\"C:\\\\Users\\\\Christopher French\\\\Downloads\\\\ビニート\\\\16-24_internship_project\\\\data\\\\feature_engineer_data.csv\")"
   ]
  },
  {
   "cell_type": "code",
   "execution_count": 54,
   "id": "505ba9ec",
   "metadata": {},
   "outputs": [],
   "source": [
    "# Reorder columns\n",
    "new_order = ['professional_id', 'total_bookings', 'total_service_provided',\n",
    "             'total_service_cancelled', 'avg_rating', 'total_revenue', \n",
    "             'total_service_hour', 'avg_booking_per_month', 'avg_income_per_month',\n",
    "             'avg_work_hour_per_month', 'latest_month_booking', 'latest_month_rating', \n",
    "             'latest_diff_avg_booking', 'booking_ratio_latest_to_previous', 'work_hour_ratio_latest_to_previous', \n",
    "             'total_active_days', 'active_months_ratio', 'booking_std', \n",
    "             'rating_std', 'work_hour_std', 'income_std',\n",
    "             'tenures', 'province', 'unique_services_provided', \n",
    "             'favorite_cleaning_day', 'favorite_cleaning_hour', 'join_date', \n",
    "             'last_completed_cleaning_date', 'days_since_last_service']\n",
    "providers = provider_data[new_order]"
   ]
  },
  {
   "cell_type": "code",
   "execution_count": 55,
   "id": "1009997b",
   "metadata": {},
   "outputs": [],
   "source": [
    "# Rename columns\n",
    "providers = providers.rename(columns={'total_revenue': 'total_income'})\n",
    "providers = providers.rename(columns={'total_service_hour': 'total_work_hour'})\n",
    "providers = providers.rename(columns={'unique_services_provided': 'total_unique_service'})"
   ]
  },
  {
   "cell_type": "code",
   "execution_count": 56,
   "id": "eaffcffe",
   "metadata": {},
   "outputs": [],
   "source": [
    "# Convert join_date and last_completed_cleaning_date to date only (no time)\n",
    "providers['join_date'] = pd.to_datetime(providers['join_date']).dt.date\n",
    "providers['last_completed_cleaning_date'] = pd.to_datetime(providers['last_completed_cleaning_date']).dt.date"
   ]
  },
  {
   "cell_type": "code",
   "execution_count": 57,
   "id": "87e17540",
   "metadata": {},
   "outputs": [
    {
     "data": {
      "text/html": [
       "<div>\n",
       "<style scoped>\n",
       "    .dataframe tbody tr th:only-of-type {\n",
       "        vertical-align: middle;\n",
       "    }\n",
       "\n",
       "    .dataframe tbody tr th {\n",
       "        vertical-align: top;\n",
       "    }\n",
       "\n",
       "    .dataframe thead th {\n",
       "        text-align: right;\n",
       "    }\n",
       "</style>\n",
       "<table border=\"1\" class=\"dataframe\">\n",
       "  <thead>\n",
       "    <tr style=\"text-align: right;\">\n",
       "      <th></th>\n",
       "      <th>professional_id</th>\n",
       "      <th>total_bookings</th>\n",
       "      <th>total_service_provided</th>\n",
       "      <th>total_service_cancelled</th>\n",
       "      <th>avg_rating</th>\n",
       "      <th>total_income</th>\n",
       "      <th>total_work_hour</th>\n",
       "      <th>avg_booking_per_month</th>\n",
       "      <th>avg_income_per_month</th>\n",
       "      <th>avg_work_hour_per_month</th>\n",
       "      <th>latest_month_booking</th>\n",
       "      <th>latest_month_rating</th>\n",
       "      <th>latest_diff_avg_booking</th>\n",
       "      <th>booking_ratio_latest_to_previous</th>\n",
       "      <th>work_hour_ratio_latest_to_previous</th>\n",
       "      <th>total_active_days</th>\n",
       "      <th>active_months_ratio</th>\n",
       "      <th>booking_std</th>\n",
       "      <th>rating_std</th>\n",
       "      <th>work_hour_std</th>\n",
       "      <th>income_std</th>\n",
       "      <th>tenures</th>\n",
       "      <th>province</th>\n",
       "      <th>total_unique_service</th>\n",
       "      <th>favorite_cleaning_day</th>\n",
       "      <th>favorite_cleaning_hour</th>\n",
       "      <th>join_date</th>\n",
       "      <th>last_completed_cleaning_date</th>\n",
       "      <th>days_since_last_service</th>\n",
       "    </tr>\n",
       "  </thead>\n",
       "  <tbody>\n",
       "    <tr>\n",
       "      <th>0</th>\n",
       "      <td>5</td>\n",
       "      <td>406</td>\n",
       "      <td>31</td>\n",
       "      <td>283</td>\n",
       "      <td>5.000000</td>\n",
       "      <td>23863.55</td>\n",
       "      <td>93.5</td>\n",
       "      <td>3</td>\n",
       "      <td>2169.413636</td>\n",
       "      <td>8</td>\n",
       "      <td>1</td>\n",
       "      <td>0.0</td>\n",
       "      <td>-2</td>\n",
       "      <td>0.500000</td>\n",
       "      <td>0.500000</td>\n",
       "      <td>5</td>\n",
       "      <td>0.754545</td>\n",
       "      <td>4.034387</td>\n",
       "      <td>0.000000</td>\n",
       "      <td>8.935883</td>\n",
       "      <td>2129.786383</td>\n",
       "      <td>20</td>\n",
       "      <td>Chiang Mai</td>\n",
       "      <td>1</td>\n",
       "      <td>Wednesday</td>\n",
       "      <td>10</td>\n",
       "      <td>2016-03-24</td>\n",
       "      <td>2022-08-05</td>\n",
       "      <td>1006</td>\n",
       "    </tr>\n",
       "    <tr>\n",
       "      <th>1</th>\n",
       "      <td>6</td>\n",
       "      <td>9</td>\n",
       "      <td>5</td>\n",
       "      <td>4</td>\n",
       "      <td>4.500000</td>\n",
       "      <td>1384.44</td>\n",
       "      <td>10.0</td>\n",
       "      <td>2</td>\n",
       "      <td>692.220000</td>\n",
       "      <td>5</td>\n",
       "      <td>1</td>\n",
       "      <td>0.0</td>\n",
       "      <td>-1</td>\n",
       "      <td>0.250000</td>\n",
       "      <td>0.250000</td>\n",
       "      <td>3</td>\n",
       "      <td>0.057471</td>\n",
       "      <td>2.121320</td>\n",
       "      <td>0.000000</td>\n",
       "      <td>4.242641</td>\n",
       "      <td>271.840131</td>\n",
       "      <td>0</td>\n",
       "      <td>Chiang Mai</td>\n",
       "      <td>1</td>\n",
       "      <td>Saturday</td>\n",
       "      <td>17</td>\n",
       "      <td>2016-04-09</td>\n",
       "      <td>2017-07-29</td>\n",
       "      <td>2840</td>\n",
       "    </tr>\n",
       "    <tr>\n",
       "      <th>2</th>\n",
       "      <td>7</td>\n",
       "      <td>426</td>\n",
       "      <td>415</td>\n",
       "      <td>2</td>\n",
       "      <td>4.981949</td>\n",
       "      <td>152059.19</td>\n",
       "      <td>844.5</td>\n",
       "      <td>38</td>\n",
       "      <td>13823.562727</td>\n",
       "      <td>76</td>\n",
       "      <td>23</td>\n",
       "      <td>5.0</td>\n",
       "      <td>-15</td>\n",
       "      <td>0.410714</td>\n",
       "      <td>0.357143</td>\n",
       "      <td>1</td>\n",
       "      <td>1.000000</td>\n",
       "      <td>26.078204</td>\n",
       "      <td>0.093440</td>\n",
       "      <td>38.204295</td>\n",
       "      <td>7174.030599</td>\n",
       "      <td>0</td>\n",
       "      <td>Chiang Mai</td>\n",
       "      <td>1</td>\n",
       "      <td>Tuesday</td>\n",
       "      <td>12</td>\n",
       "      <td>2016-03-26</td>\n",
       "      <td>2017-01-21</td>\n",
       "      <td>3029</td>\n",
       "    </tr>\n",
       "    <tr>\n",
       "      <th>3</th>\n",
       "      <td>8</td>\n",
       "      <td>2</td>\n",
       "      <td>2</td>\n",
       "      <td>0</td>\n",
       "      <td>4.500000</td>\n",
       "      <td>900.00</td>\n",
       "      <td>4.5</td>\n",
       "      <td>2</td>\n",
       "      <td>450.000000</td>\n",
       "      <td>2</td>\n",
       "      <td>1</td>\n",
       "      <td>5.0</td>\n",
       "      <td>-1</td>\n",
       "      <td>1.000000</td>\n",
       "      <td>1.250000</td>\n",
       "      <td>1</td>\n",
       "      <td>1.000000</td>\n",
       "      <td>0.000000</td>\n",
       "      <td>0.707107</td>\n",
       "      <td>0.353553</td>\n",
       "      <td>70.710678</td>\n",
       "      <td>0</td>\n",
       "      <td>Chiang Mai</td>\n",
       "      <td>1</td>\n",
       "      <td>Saturday</td>\n",
       "      <td>13</td>\n",
       "      <td>2016-03-23</td>\n",
       "      <td>2016-04-01</td>\n",
       "      <td>3324</td>\n",
       "    </tr>\n",
       "    <tr>\n",
       "      <th>4</th>\n",
       "      <td>9</td>\n",
       "      <td>97</td>\n",
       "      <td>96</td>\n",
       "      <td>1</td>\n",
       "      <td>4.833333</td>\n",
       "      <td>76797.50</td>\n",
       "      <td>319.5</td>\n",
       "      <td>4</td>\n",
       "      <td>3657.023810</td>\n",
       "      <td>15</td>\n",
       "      <td>1</td>\n",
       "      <td>0.0</td>\n",
       "      <td>-3</td>\n",
       "      <td>0.125000</td>\n",
       "      <td>0.125000</td>\n",
       "      <td>1</td>\n",
       "      <td>0.952381</td>\n",
       "      <td>2.117595</td>\n",
       "      <td>0.485071</td>\n",
       "      <td>6.798109</td>\n",
       "      <td>1722.928170</td>\n",
       "      <td>1</td>\n",
       "      <td>Bangkok</td>\n",
       "      <td>1</td>\n",
       "      <td>Monday</td>\n",
       "      <td>13</td>\n",
       "      <td>2016-04-02</td>\n",
       "      <td>2018-01-01</td>\n",
       "      <td>2684</td>\n",
       "    </tr>\n",
       "    <tr>\n",
       "      <th>...</th>\n",
       "      <td>...</td>\n",
       "      <td>...</td>\n",
       "      <td>...</td>\n",
       "      <td>...</td>\n",
       "      <td>...</td>\n",
       "      <td>...</td>\n",
       "      <td>...</td>\n",
       "      <td>...</td>\n",
       "      <td>...</td>\n",
       "      <td>...</td>\n",
       "      <td>...</td>\n",
       "      <td>...</td>\n",
       "      <td>...</td>\n",
       "      <td>...</td>\n",
       "      <td>...</td>\n",
       "      <td>...</td>\n",
       "      <td>...</td>\n",
       "      <td>...</td>\n",
       "      <td>...</td>\n",
       "      <td>...</td>\n",
       "      <td>...</td>\n",
       "      <td>...</td>\n",
       "      <td>...</td>\n",
       "      <td>...</td>\n",
       "      <td>...</td>\n",
       "      <td>...</td>\n",
       "      <td>...</td>\n",
       "      <td>...</td>\n",
       "      <td>...</td>\n",
       "    </tr>\n",
       "    <tr>\n",
       "      <th>7254</th>\n",
       "      <td>12691</td>\n",
       "      <td>4</td>\n",
       "      <td>4</td>\n",
       "      <td>0</td>\n",
       "      <td>0.000000</td>\n",
       "      <td>1669.50</td>\n",
       "      <td>8.5</td>\n",
       "      <td>4</td>\n",
       "      <td>1669.500000</td>\n",
       "      <td>8</td>\n",
       "      <td>4</td>\n",
       "      <td>0.0</td>\n",
       "      <td>0</td>\n",
       "      <td>0.000000</td>\n",
       "      <td>0.000000</td>\n",
       "      <td>1</td>\n",
       "      <td>1.000000</td>\n",
       "      <td>0.000000</td>\n",
       "      <td>0.000000</td>\n",
       "      <td>0.000000</td>\n",
       "      <td>0.000000</td>\n",
       "      <td>1</td>\n",
       "      <td>Chiang Mai</td>\n",
       "      <td>2</td>\n",
       "      <td>Sunday</td>\n",
       "      <td>10</td>\n",
       "      <td>2025-05-02</td>\n",
       "      <td>2025-05-08</td>\n",
       "      <td>0</td>\n",
       "    </tr>\n",
       "    <tr>\n",
       "      <th>7255</th>\n",
       "      <td>12698</td>\n",
       "      <td>3</td>\n",
       "      <td>3</td>\n",
       "      <td>0</td>\n",
       "      <td>0.000000</td>\n",
       "      <td>1560.00</td>\n",
       "      <td>6.0</td>\n",
       "      <td>3</td>\n",
       "      <td>1560.000000</td>\n",
       "      <td>6</td>\n",
       "      <td>3</td>\n",
       "      <td>0.0</td>\n",
       "      <td>0</td>\n",
       "      <td>0.000000</td>\n",
       "      <td>0.000000</td>\n",
       "      <td>1</td>\n",
       "      <td>1.000000</td>\n",
       "      <td>0.000000</td>\n",
       "      <td>0.000000</td>\n",
       "      <td>0.000000</td>\n",
       "      <td>0.000000</td>\n",
       "      <td>1</td>\n",
       "      <td>Bangkok</td>\n",
       "      <td>1</td>\n",
       "      <td>Monday</td>\n",
       "      <td>15</td>\n",
       "      <td>2025-05-04</td>\n",
       "      <td>2025-05-05</td>\n",
       "      <td>2</td>\n",
       "    </tr>\n",
       "    <tr>\n",
       "      <th>7256</th>\n",
       "      <td>12699</td>\n",
       "      <td>2</td>\n",
       "      <td>2</td>\n",
       "      <td>0</td>\n",
       "      <td>5.000000</td>\n",
       "      <td>1410.00</td>\n",
       "      <td>5.5</td>\n",
       "      <td>2</td>\n",
       "      <td>1410.000000</td>\n",
       "      <td>5</td>\n",
       "      <td>2</td>\n",
       "      <td>5.0</td>\n",
       "      <td>0</td>\n",
       "      <td>0.000000</td>\n",
       "      <td>0.000000</td>\n",
       "      <td>1</td>\n",
       "      <td>1.000000</td>\n",
       "      <td>0.000000</td>\n",
       "      <td>0.000000</td>\n",
       "      <td>0.000000</td>\n",
       "      <td>0.000000</td>\n",
       "      <td>2</td>\n",
       "      <td>Bangkok</td>\n",
       "      <td>2</td>\n",
       "      <td>Saturday</td>\n",
       "      <td>13</td>\n",
       "      <td>2025-05-03</td>\n",
       "      <td>2025-05-05</td>\n",
       "      <td>3</td>\n",
       "    </tr>\n",
       "    <tr>\n",
       "      <th>7257</th>\n",
       "      <td>12703</td>\n",
       "      <td>2</td>\n",
       "      <td>1</td>\n",
       "      <td>0</td>\n",
       "      <td>0.000000</td>\n",
       "      <td>1248.00</td>\n",
       "      <td>6.0</td>\n",
       "      <td>2</td>\n",
       "      <td>1248.000000</td>\n",
       "      <td>6</td>\n",
       "      <td>1</td>\n",
       "      <td>0.0</td>\n",
       "      <td>-1</td>\n",
       "      <td>0.000000</td>\n",
       "      <td>0.000000</td>\n",
       "      <td>1</td>\n",
       "      <td>1.000000</td>\n",
       "      <td>0.000000</td>\n",
       "      <td>0.000000</td>\n",
       "      <td>0.000000</td>\n",
       "      <td>0.000000</td>\n",
       "      <td>1</td>\n",
       "      <td>Bangkok</td>\n",
       "      <td>1</td>\n",
       "      <td>Wednesday</td>\n",
       "      <td>9</td>\n",
       "      <td>2025-05-06</td>\n",
       "      <td>2025-05-07</td>\n",
       "      <td>1</td>\n",
       "    </tr>\n",
       "    <tr>\n",
       "      <th>7258</th>\n",
       "      <td>12704</td>\n",
       "      <td>4</td>\n",
       "      <td>4</td>\n",
       "      <td>0</td>\n",
       "      <td>5.000000</td>\n",
       "      <td>2040.00</td>\n",
       "      <td>8.5</td>\n",
       "      <td>4</td>\n",
       "      <td>2040.000000</td>\n",
       "      <td>8</td>\n",
       "      <td>4</td>\n",
       "      <td>5.0</td>\n",
       "      <td>0</td>\n",
       "      <td>0.000000</td>\n",
       "      <td>0.000000</td>\n",
       "      <td>1</td>\n",
       "      <td>1.000000</td>\n",
       "      <td>0.000000</td>\n",
       "      <td>0.000000</td>\n",
       "      <td>0.000000</td>\n",
       "      <td>0.000000</td>\n",
       "      <td>4</td>\n",
       "      <td>Bangkok</td>\n",
       "      <td>2</td>\n",
       "      <td>Monday</td>\n",
       "      <td>13</td>\n",
       "      <td>2025-05-05</td>\n",
       "      <td>2025-05-08</td>\n",
       "      <td>0</td>\n",
       "    </tr>\n",
       "  </tbody>\n",
       "</table>\n",
       "<p>7259 rows × 29 columns</p>\n",
       "</div>"
      ],
      "text/plain": [
       "      professional_id  total_bookings  total_service_provided  \\\n",
       "0                   5             406                      31   \n",
       "1                   6               9                       5   \n",
       "2                   7             426                     415   \n",
       "3                   8               2                       2   \n",
       "4                   9              97                      96   \n",
       "...               ...             ...                     ...   \n",
       "7254            12691               4                       4   \n",
       "7255            12698               3                       3   \n",
       "7256            12699               2                       2   \n",
       "7257            12703               2                       1   \n",
       "7258            12704               4                       4   \n",
       "\n",
       "      total_service_cancelled  avg_rating  total_income  total_work_hour  \\\n",
       "0                         283    5.000000      23863.55             93.5   \n",
       "1                           4    4.500000       1384.44             10.0   \n",
       "2                           2    4.981949     152059.19            844.5   \n",
       "3                           0    4.500000        900.00              4.5   \n",
       "4                           1    4.833333      76797.50            319.5   \n",
       "...                       ...         ...           ...              ...   \n",
       "7254                        0    0.000000       1669.50              8.5   \n",
       "7255                        0    0.000000       1560.00              6.0   \n",
       "7256                        0    5.000000       1410.00              5.5   \n",
       "7257                        0    0.000000       1248.00              6.0   \n",
       "7258                        0    5.000000       2040.00              8.5   \n",
       "\n",
       "      avg_booking_per_month  avg_income_per_month  avg_work_hour_per_month  \\\n",
       "0                         3           2169.413636                        8   \n",
       "1                         2            692.220000                        5   \n",
       "2                        38          13823.562727                       76   \n",
       "3                         2            450.000000                        2   \n",
       "4                         4           3657.023810                       15   \n",
       "...                     ...                   ...                      ...   \n",
       "7254                      4           1669.500000                        8   \n",
       "7255                      3           1560.000000                        6   \n",
       "7256                      2           1410.000000                        5   \n",
       "7257                      2           1248.000000                        6   \n",
       "7258                      4           2040.000000                        8   \n",
       "\n",
       "      latest_month_booking  latest_month_rating  latest_diff_avg_booking  \\\n",
       "0                        1                  0.0                       -2   \n",
       "1                        1                  0.0                       -1   \n",
       "2                       23                  5.0                      -15   \n",
       "3                        1                  5.0                       -1   \n",
       "4                        1                  0.0                       -3   \n",
       "...                    ...                  ...                      ...   \n",
       "7254                     4                  0.0                        0   \n",
       "7255                     3                  0.0                        0   \n",
       "7256                     2                  5.0                        0   \n",
       "7257                     1                  0.0                       -1   \n",
       "7258                     4                  5.0                        0   \n",
       "\n",
       "      booking_ratio_latest_to_previous  work_hour_ratio_latest_to_previous  \\\n",
       "0                             0.500000                            0.500000   \n",
       "1                             0.250000                            0.250000   \n",
       "2                             0.410714                            0.357143   \n",
       "3                             1.000000                            1.250000   \n",
       "4                             0.125000                            0.125000   \n",
       "...                                ...                                 ...   \n",
       "7254                          0.000000                            0.000000   \n",
       "7255                          0.000000                            0.000000   \n",
       "7256                          0.000000                            0.000000   \n",
       "7257                          0.000000                            0.000000   \n",
       "7258                          0.000000                            0.000000   \n",
       "\n",
       "      total_active_days  active_months_ratio  booking_std  rating_std  \\\n",
       "0                     5             0.754545     4.034387    0.000000   \n",
       "1                     3             0.057471     2.121320    0.000000   \n",
       "2                     1             1.000000    26.078204    0.093440   \n",
       "3                     1             1.000000     0.000000    0.707107   \n",
       "4                     1             0.952381     2.117595    0.485071   \n",
       "...                 ...                  ...          ...         ...   \n",
       "7254                  1             1.000000     0.000000    0.000000   \n",
       "7255                  1             1.000000     0.000000    0.000000   \n",
       "7256                  1             1.000000     0.000000    0.000000   \n",
       "7257                  1             1.000000     0.000000    0.000000   \n",
       "7258                  1             1.000000     0.000000    0.000000   \n",
       "\n",
       "      work_hour_std   income_std  tenures    province  total_unique_service  \\\n",
       "0          8.935883  2129.786383       20  Chiang Mai                     1   \n",
       "1          4.242641   271.840131        0  Chiang Mai                     1   \n",
       "2         38.204295  7174.030599        0  Chiang Mai                     1   \n",
       "3          0.353553    70.710678        0  Chiang Mai                     1   \n",
       "4          6.798109  1722.928170        1     Bangkok                     1   \n",
       "...             ...          ...      ...         ...                   ...   \n",
       "7254       0.000000     0.000000        1  Chiang Mai                     2   \n",
       "7255       0.000000     0.000000        1     Bangkok                     1   \n",
       "7256       0.000000     0.000000        2     Bangkok                     2   \n",
       "7257       0.000000     0.000000        1     Bangkok                     1   \n",
       "7258       0.000000     0.000000        4     Bangkok                     2   \n",
       "\n",
       "     favorite_cleaning_day  favorite_cleaning_hour   join_date  \\\n",
       "0                Wednesday                      10  2016-03-24   \n",
       "1                 Saturday                      17  2016-04-09   \n",
       "2                  Tuesday                      12  2016-03-26   \n",
       "3                 Saturday                      13  2016-03-23   \n",
       "4                   Monday                      13  2016-04-02   \n",
       "...                    ...                     ...         ...   \n",
       "7254                Sunday                      10  2025-05-02   \n",
       "7255                Monday                      15  2025-05-04   \n",
       "7256              Saturday                      13  2025-05-03   \n",
       "7257             Wednesday                       9  2025-05-06   \n",
       "7258                Monday                      13  2025-05-05   \n",
       "\n",
       "     last_completed_cleaning_date  days_since_last_service  \n",
       "0                      2022-08-05                     1006  \n",
       "1                      2017-07-29                     2840  \n",
       "2                      2017-01-21                     3029  \n",
       "3                      2016-04-01                     3324  \n",
       "4                      2018-01-01                     2684  \n",
       "...                           ...                      ...  \n",
       "7254                   2025-05-08                        0  \n",
       "7255                   2025-05-05                        2  \n",
       "7256                   2025-05-05                        3  \n",
       "7257                   2025-05-07                        1  \n",
       "7258                   2025-05-08                        0  \n",
       "\n",
       "[7259 rows x 29 columns]"
      ]
     },
     "execution_count": 57,
     "metadata": {},
     "output_type": "execute_result"
    }
   ],
   "source": [
    "providers"
   ]
  },
  {
   "cell_type": "code",
   "execution_count": 58,
   "id": "b0f7c8f8",
   "metadata": {},
   "outputs": [],
   "source": [
    "# Export data for use in Clustering Models\n",
    "#providers.to_csv(\"providers.csv\", index=False)"
   ]
  },
  {
   "cell_type": "markdown",
   "id": "5b9cdaed",
   "metadata": {},
   "source": [
    "<div style=\"border-radius:10px; padding: 15px; background-color: #10041cff; font-size:100%; text-align:left\">\n",
    "\n",
    "<font color=#ffffff>\n",
    "\n",
    "#### <b>1st Phase - COMPLETED!!</b>\n",
    "\n",
    "For __2nd Phase (New Pipeline)__, please switch to the __`provider_segmentation_clustering_real_data_v11.ipynb`__. By initializing __`providers.csv`__ data we can now start __Data Modelling & Analysis via Clustering__!"
   ]
  },
  {
   "cell_type": "markdown",
   "id": "29bc3e41",
   "metadata": {},
   "source": [
    "<div style=\"border-radius:10px; padding:15px; background-color:rgb(256,12,84); font-size:100%; text-align:left; color:#ffffff;\">\n",
    "\n",
    "<font color=#ffffff>\n",
    "\n",
    "#### <b>Feature Extraction Insights</b>\n",
    "\n",
    "Some interesting feature extracted for Executives Presentation on Sep 12, 2025."
   ]
  },
  {
   "cell_type": "code",
   "execution_count": 67,
   "id": "a7989da4",
   "metadata": {},
   "outputs": [],
   "source": [
    "df = pd.read_csv(\"C:/Users/Christopher French/Downloads/ビニート/16-24_internship_project/data/providers.csv\")"
   ]
  },
  {
   "cell_type": "code",
   "execution_count": 60,
   "id": "2592b67e",
   "metadata": {},
   "outputs": [],
   "source": [
    "# to clipboard (only head rows)\n",
    "#df.head().to_clipboard(index=False)"
   ]
  },
  {
   "cell_type": "code",
   "execution_count": 68,
   "id": "6731aaa5",
   "metadata": {},
   "outputs": [],
   "source": [
    "# Display feature extract insight for presentation\n",
    "\n",
    "# favorite_cleaning_day distribution\n",
    "day_counts = df['favorite_cleaning_day'].value_counts().reset_index()\n",
    "\n",
    "# favorite_cleaning_hour distribution\n",
    "hour_counts = df['favorite_cleaning_hour'].value_counts().reset_index()\n",
    "\n",
    "# avg_income_per_month distribution\n",
    "income_counts = df['avg_income_per_month'].value_counts(bins=10).reset_index()"
   ]
  },
  {
   "cell_type": "code",
   "execution_count": 69,
   "id": "37c37f3b",
   "metadata": {},
   "outputs": [
    {
     "data": {
      "application/vnd.plotly.v1+json": {
       "config": {
        "plotlyServerURL": "https://plot.ly"
       },
       "data": [
        {
         "hovertemplate": "Day of the Week=%{x}<br>Number of Providers=%{marker.color}<extra></extra>",
         "legendgroup": "",
         "marker": {
          "color": {
           "bdata": "yAeCBSsF4wJnAl4CPgI=",
           "dtype": "i2"
          },
          "coloraxis": "coloraxis",
          "pattern": {
           "shape": ""
          }
         },
         "name": "",
         "orientation": "v",
         "showlegend": false,
         "text": {
          "bdata": "AAAAAAAgn0AAAAAAAAiWQAAAAAAArJRAAAAAAAAYh0AAAAAAADiDQAAAAAAA8IJAAAAAAADwgUA=",
          "dtype": "f8"
         },
         "textposition": "outside",
         "type": "bar",
         "x": [
          "Saturday",
          "Sunday",
          "Friday",
          "Monday",
          "Thursday",
          "Wednesday",
          "Tuesday"
         ],
         "xaxis": "x",
         "y": {
          "bdata": "yAeCBSsF4wJnAl4CPgI=",
          "dtype": "i2"
         },
         "yaxis": "y"
        }
       ],
       "layout": {
        "barmode": "relative",
        "coloraxis": {
         "colorbar": {
          "title": {
           "text": "Number of Providers"
          }
         },
         "colorscale": [
          [
           0,
           "#0d0887"
          ],
          [
           0.1111111111111111,
           "#46039f"
          ],
          [
           0.2222222222222222,
           "#7201a8"
          ],
          [
           0.3333333333333333,
           "#9c179e"
          ],
          [
           0.4444444444444444,
           "#bd3786"
          ],
          [
           0.5555555555555556,
           "#d8576b"
          ],
          [
           0.6666666666666666,
           "#ed7953"
          ],
          [
           0.7777777777777778,
           "#fb9f3a"
          ],
          [
           0.8888888888888888,
           "#fdca26"
          ],
          [
           1,
           "#f0f921"
          ]
         ]
        },
        "font": {
         "color": "white"
        },
        "legend": {
         "tracegroupgap": 0
        },
        "paper_bgcolor": "#10041c",
        "plot_bgcolor": "#10041c",
        "template": {
         "data": {
          "bar": [
           {
            "error_x": {
             "color": "#2a3f5f"
            },
            "error_y": {
             "color": "#2a3f5f"
            },
            "marker": {
             "line": {
              "color": "#E5ECF6",
              "width": 0.5
             },
             "pattern": {
              "fillmode": "overlay",
              "size": 10,
              "solidity": 0.2
             }
            },
            "type": "bar"
           }
          ],
          "barpolar": [
           {
            "marker": {
             "line": {
              "color": "#E5ECF6",
              "width": 0.5
             },
             "pattern": {
              "fillmode": "overlay",
              "size": 10,
              "solidity": 0.2
             }
            },
            "type": "barpolar"
           }
          ],
          "carpet": [
           {
            "aaxis": {
             "endlinecolor": "#2a3f5f",
             "gridcolor": "white",
             "linecolor": "white",
             "minorgridcolor": "white",
             "startlinecolor": "#2a3f5f"
            },
            "baxis": {
             "endlinecolor": "#2a3f5f",
             "gridcolor": "white",
             "linecolor": "white",
             "minorgridcolor": "white",
             "startlinecolor": "#2a3f5f"
            },
            "type": "carpet"
           }
          ],
          "choropleth": [
           {
            "colorbar": {
             "outlinewidth": 0,
             "ticks": ""
            },
            "type": "choropleth"
           }
          ],
          "contour": [
           {
            "colorbar": {
             "outlinewidth": 0,
             "ticks": ""
            },
            "colorscale": [
             [
              0,
              "#0d0887"
             ],
             [
              0.1111111111111111,
              "#46039f"
             ],
             [
              0.2222222222222222,
              "#7201a8"
             ],
             [
              0.3333333333333333,
              "#9c179e"
             ],
             [
              0.4444444444444444,
              "#bd3786"
             ],
             [
              0.5555555555555556,
              "#d8576b"
             ],
             [
              0.6666666666666666,
              "#ed7953"
             ],
             [
              0.7777777777777778,
              "#fb9f3a"
             ],
             [
              0.8888888888888888,
              "#fdca26"
             ],
             [
              1,
              "#f0f921"
             ]
            ],
            "type": "contour"
           }
          ],
          "contourcarpet": [
           {
            "colorbar": {
             "outlinewidth": 0,
             "ticks": ""
            },
            "type": "contourcarpet"
           }
          ],
          "heatmap": [
           {
            "colorbar": {
             "outlinewidth": 0,
             "ticks": ""
            },
            "colorscale": [
             [
              0,
              "#0d0887"
             ],
             [
              0.1111111111111111,
              "#46039f"
             ],
             [
              0.2222222222222222,
              "#7201a8"
             ],
             [
              0.3333333333333333,
              "#9c179e"
             ],
             [
              0.4444444444444444,
              "#bd3786"
             ],
             [
              0.5555555555555556,
              "#d8576b"
             ],
             [
              0.6666666666666666,
              "#ed7953"
             ],
             [
              0.7777777777777778,
              "#fb9f3a"
             ],
             [
              0.8888888888888888,
              "#fdca26"
             ],
             [
              1,
              "#f0f921"
             ]
            ],
            "type": "heatmap"
           }
          ],
          "histogram": [
           {
            "marker": {
             "pattern": {
              "fillmode": "overlay",
              "size": 10,
              "solidity": 0.2
             }
            },
            "type": "histogram"
           }
          ],
          "histogram2d": [
           {
            "colorbar": {
             "outlinewidth": 0,
             "ticks": ""
            },
            "colorscale": [
             [
              0,
              "#0d0887"
             ],
             [
              0.1111111111111111,
              "#46039f"
             ],
             [
              0.2222222222222222,
              "#7201a8"
             ],
             [
              0.3333333333333333,
              "#9c179e"
             ],
             [
              0.4444444444444444,
              "#bd3786"
             ],
             [
              0.5555555555555556,
              "#d8576b"
             ],
             [
              0.6666666666666666,
              "#ed7953"
             ],
             [
              0.7777777777777778,
              "#fb9f3a"
             ],
             [
              0.8888888888888888,
              "#fdca26"
             ],
             [
              1,
              "#f0f921"
             ]
            ],
            "type": "histogram2d"
           }
          ],
          "histogram2dcontour": [
           {
            "colorbar": {
             "outlinewidth": 0,
             "ticks": ""
            },
            "colorscale": [
             [
              0,
              "#0d0887"
             ],
             [
              0.1111111111111111,
              "#46039f"
             ],
             [
              0.2222222222222222,
              "#7201a8"
             ],
             [
              0.3333333333333333,
              "#9c179e"
             ],
             [
              0.4444444444444444,
              "#bd3786"
             ],
             [
              0.5555555555555556,
              "#d8576b"
             ],
             [
              0.6666666666666666,
              "#ed7953"
             ],
             [
              0.7777777777777778,
              "#fb9f3a"
             ],
             [
              0.8888888888888888,
              "#fdca26"
             ],
             [
              1,
              "#f0f921"
             ]
            ],
            "type": "histogram2dcontour"
           }
          ],
          "mesh3d": [
           {
            "colorbar": {
             "outlinewidth": 0,
             "ticks": ""
            },
            "type": "mesh3d"
           }
          ],
          "parcoords": [
           {
            "line": {
             "colorbar": {
              "outlinewidth": 0,
              "ticks": ""
             }
            },
            "type": "parcoords"
           }
          ],
          "pie": [
           {
            "automargin": true,
            "type": "pie"
           }
          ],
          "scatter": [
           {
            "fillpattern": {
             "fillmode": "overlay",
             "size": 10,
             "solidity": 0.2
            },
            "type": "scatter"
           }
          ],
          "scatter3d": [
           {
            "line": {
             "colorbar": {
              "outlinewidth": 0,
              "ticks": ""
             }
            },
            "marker": {
             "colorbar": {
              "outlinewidth": 0,
              "ticks": ""
             }
            },
            "type": "scatter3d"
           }
          ],
          "scattercarpet": [
           {
            "marker": {
             "colorbar": {
              "outlinewidth": 0,
              "ticks": ""
             }
            },
            "type": "scattercarpet"
           }
          ],
          "scattergeo": [
           {
            "marker": {
             "colorbar": {
              "outlinewidth": 0,
              "ticks": ""
             }
            },
            "type": "scattergeo"
           }
          ],
          "scattergl": [
           {
            "marker": {
             "colorbar": {
              "outlinewidth": 0,
              "ticks": ""
             }
            },
            "type": "scattergl"
           }
          ],
          "scattermap": [
           {
            "marker": {
             "colorbar": {
              "outlinewidth": 0,
              "ticks": ""
             }
            },
            "type": "scattermap"
           }
          ],
          "scattermapbox": [
           {
            "marker": {
             "colorbar": {
              "outlinewidth": 0,
              "ticks": ""
             }
            },
            "type": "scattermapbox"
           }
          ],
          "scatterpolar": [
           {
            "marker": {
             "colorbar": {
              "outlinewidth": 0,
              "ticks": ""
             }
            },
            "type": "scatterpolar"
           }
          ],
          "scatterpolargl": [
           {
            "marker": {
             "colorbar": {
              "outlinewidth": 0,
              "ticks": ""
             }
            },
            "type": "scatterpolargl"
           }
          ],
          "scatterternary": [
           {
            "marker": {
             "colorbar": {
              "outlinewidth": 0,
              "ticks": ""
             }
            },
            "type": "scatterternary"
           }
          ],
          "surface": [
           {
            "colorbar": {
             "outlinewidth": 0,
             "ticks": ""
            },
            "colorscale": [
             [
              0,
              "#0d0887"
             ],
             [
              0.1111111111111111,
              "#46039f"
             ],
             [
              0.2222222222222222,
              "#7201a8"
             ],
             [
              0.3333333333333333,
              "#9c179e"
             ],
             [
              0.4444444444444444,
              "#bd3786"
             ],
             [
              0.5555555555555556,
              "#d8576b"
             ],
             [
              0.6666666666666666,
              "#ed7953"
             ],
             [
              0.7777777777777778,
              "#fb9f3a"
             ],
             [
              0.8888888888888888,
              "#fdca26"
             ],
             [
              1,
              "#f0f921"
             ]
            ],
            "type": "surface"
           }
          ],
          "table": [
           {
            "cells": {
             "fill": {
              "color": "#EBF0F8"
             },
             "line": {
              "color": "white"
             }
            },
            "header": {
             "fill": {
              "color": "#C8D4E3"
             },
             "line": {
              "color": "white"
             }
            },
            "type": "table"
           }
          ]
         },
         "layout": {
          "annotationdefaults": {
           "arrowcolor": "#2a3f5f",
           "arrowhead": 0,
           "arrowwidth": 1
          },
          "autotypenumbers": "strict",
          "coloraxis": {
           "colorbar": {
            "outlinewidth": 0,
            "ticks": ""
           }
          },
          "colorscale": {
           "diverging": [
            [
             0,
             "#8e0152"
            ],
            [
             0.1,
             "#c51b7d"
            ],
            [
             0.2,
             "#de77ae"
            ],
            [
             0.3,
             "#f1b6da"
            ],
            [
             0.4,
             "#fde0ef"
            ],
            [
             0.5,
             "#f7f7f7"
            ],
            [
             0.6,
             "#e6f5d0"
            ],
            [
             0.7,
             "#b8e186"
            ],
            [
             0.8,
             "#7fbc41"
            ],
            [
             0.9,
             "#4d9221"
            ],
            [
             1,
             "#276419"
            ]
           ],
           "sequential": [
            [
             0,
             "#0d0887"
            ],
            [
             0.1111111111111111,
             "#46039f"
            ],
            [
             0.2222222222222222,
             "#7201a8"
            ],
            [
             0.3333333333333333,
             "#9c179e"
            ],
            [
             0.4444444444444444,
             "#bd3786"
            ],
            [
             0.5555555555555556,
             "#d8576b"
            ],
            [
             0.6666666666666666,
             "#ed7953"
            ],
            [
             0.7777777777777778,
             "#fb9f3a"
            ],
            [
             0.8888888888888888,
             "#fdca26"
            ],
            [
             1,
             "#f0f921"
            ]
           ],
           "sequentialminus": [
            [
             0,
             "#0d0887"
            ],
            [
             0.1111111111111111,
             "#46039f"
            ],
            [
             0.2222222222222222,
             "#7201a8"
            ],
            [
             0.3333333333333333,
             "#9c179e"
            ],
            [
             0.4444444444444444,
             "#bd3786"
            ],
            [
             0.5555555555555556,
             "#d8576b"
            ],
            [
             0.6666666666666666,
             "#ed7953"
            ],
            [
             0.7777777777777778,
             "#fb9f3a"
            ],
            [
             0.8888888888888888,
             "#fdca26"
            ],
            [
             1,
             "#f0f921"
            ]
           ]
          },
          "colorway": [
           "#636efa",
           "#EF553B",
           "#00cc96",
           "#ab63fa",
           "#FFA15A",
           "#19d3f3",
           "#FF6692",
           "#B6E880",
           "#FF97FF",
           "#FECB52"
          ],
          "font": {
           "color": "#2a3f5f"
          },
          "geo": {
           "bgcolor": "white",
           "lakecolor": "white",
           "landcolor": "#E5ECF6",
           "showlakes": true,
           "showland": true,
           "subunitcolor": "white"
          },
          "hoverlabel": {
           "align": "left"
          },
          "hovermode": "closest",
          "mapbox": {
           "style": "light"
          },
          "paper_bgcolor": "white",
          "plot_bgcolor": "#E5ECF6",
          "polar": {
           "angularaxis": {
            "gridcolor": "white",
            "linecolor": "white",
            "ticks": ""
           },
           "bgcolor": "#E5ECF6",
           "radialaxis": {
            "gridcolor": "white",
            "linecolor": "white",
            "ticks": ""
           }
          },
          "scene": {
           "xaxis": {
            "backgroundcolor": "#E5ECF6",
            "gridcolor": "white",
            "gridwidth": 2,
            "linecolor": "white",
            "showbackground": true,
            "ticks": "",
            "zerolinecolor": "white"
           },
           "yaxis": {
            "backgroundcolor": "#E5ECF6",
            "gridcolor": "white",
            "gridwidth": 2,
            "linecolor": "white",
            "showbackground": true,
            "ticks": "",
            "zerolinecolor": "white"
           },
           "zaxis": {
            "backgroundcolor": "#E5ECF6",
            "gridcolor": "white",
            "gridwidth": 2,
            "linecolor": "white",
            "showbackground": true,
            "ticks": "",
            "zerolinecolor": "white"
           }
          },
          "shapedefaults": {
           "line": {
            "color": "#2a3f5f"
           }
          },
          "ternary": {
           "aaxis": {
            "gridcolor": "white",
            "linecolor": "white",
            "ticks": ""
           },
           "baxis": {
            "gridcolor": "white",
            "linecolor": "white",
            "ticks": ""
           },
           "bgcolor": "#E5ECF6",
           "caxis": {
            "gridcolor": "white",
            "linecolor": "white",
            "ticks": ""
           }
          },
          "title": {
           "x": 0.05
          },
          "xaxis": {
           "automargin": true,
           "gridcolor": "white",
           "linecolor": "white",
           "ticks": "",
           "title": {
            "standoff": 15
           },
           "zerolinecolor": "white",
           "zerolinewidth": 2
          },
          "yaxis": {
           "automargin": true,
           "gridcolor": "white",
           "linecolor": "white",
           "ticks": "",
           "title": {
            "standoff": 15
           },
           "zerolinecolor": "white",
           "zerolinewidth": 2
          }
         }
        },
        "title": {
         "subtitle": {
          "text": "From 7,259 Providers"
         },
         "text": "Favorite Cleaning Day Distribution"
        },
        "xaxis": {
         "anchor": "y",
         "categoryorder": "total descending",
         "domain": [
          0,
          1
         ],
         "title": {
          "text": "Favorite Cleaning Day"
         }
        },
        "yaxis": {
         "anchor": "x",
         "domain": [
          0,
          1
         ],
         "title": {
          "text": "Number of Providers"
         }
        }
       }
      },
      "text/html": [
       "<div>            <script src=\"https://cdnjs.cloudflare.com/ajax/libs/mathjax/2.7.5/MathJax.js?config=TeX-AMS-MML_SVG\"></script><script type=\"text/javascript\">if (window.MathJax && window.MathJax.Hub && window.MathJax.Hub.Config) {window.MathJax.Hub.Config({SVG: {font: \"STIX-Web\"}});}</script>                <script type=\"text/javascript\">window.PlotlyConfig = {MathJaxConfig: 'local'};</script>\n",
       "        <script charset=\"utf-8\" src=\"https://cdn.plot.ly/plotly-3.0.1.min.js\"></script>                <div id=\"db24c7a4-91fe-4ad6-b047-66ca790ba1ea\" class=\"plotly-graph-div\" style=\"height:525px; width:100%;\"></div>            <script type=\"text/javascript\">                window.PLOTLYENV=window.PLOTLYENV || {};                                if (document.getElementById(\"db24c7a4-91fe-4ad6-b047-66ca790ba1ea\")) {                    Plotly.newPlot(                        \"db24c7a4-91fe-4ad6-b047-66ca790ba1ea\",                        [{\"hovertemplate\":\"Day of the Week=%{x}\\u003cbr\\u003eNumber of Providers=%{marker.color}\\u003cextra\\u003e\\u003c\\u002fextra\\u003e\",\"legendgroup\":\"\",\"marker\":{\"color\":{\"dtype\":\"i2\",\"bdata\":\"yAeCBSsF4wJnAl4CPgI=\"},\"coloraxis\":\"coloraxis\",\"pattern\":{\"shape\":\"\"}},\"name\":\"\",\"orientation\":\"v\",\"showlegend\":false,\"text\":{\"dtype\":\"f8\",\"bdata\":\"AAAAAAAgn0AAAAAAAAiWQAAAAAAArJRAAAAAAAAYh0AAAAAAADiDQAAAAAAA8IJAAAAAAADwgUA=\"},\"textposition\":\"outside\",\"x\":[\"Saturday\",\"Sunday\",\"Friday\",\"Monday\",\"Thursday\",\"Wednesday\",\"Tuesday\"],\"xaxis\":\"x\",\"y\":{\"dtype\":\"i2\",\"bdata\":\"yAeCBSsF4wJnAl4CPgI=\"},\"yaxis\":\"y\",\"type\":\"bar\"}],                        {\"template\":{\"data\":{\"histogram2dcontour\":[{\"type\":\"histogram2dcontour\",\"colorbar\":{\"outlinewidth\":0,\"ticks\":\"\"},\"colorscale\":[[0.0,\"#0d0887\"],[0.1111111111111111,\"#46039f\"],[0.2222222222222222,\"#7201a8\"],[0.3333333333333333,\"#9c179e\"],[0.4444444444444444,\"#bd3786\"],[0.5555555555555556,\"#d8576b\"],[0.6666666666666666,\"#ed7953\"],[0.7777777777777778,\"#fb9f3a\"],[0.8888888888888888,\"#fdca26\"],[1.0,\"#f0f921\"]]}],\"choropleth\":[{\"type\":\"choropleth\",\"colorbar\":{\"outlinewidth\":0,\"ticks\":\"\"}}],\"histogram2d\":[{\"type\":\"histogram2d\",\"colorbar\":{\"outlinewidth\":0,\"ticks\":\"\"},\"colorscale\":[[0.0,\"#0d0887\"],[0.1111111111111111,\"#46039f\"],[0.2222222222222222,\"#7201a8\"],[0.3333333333333333,\"#9c179e\"],[0.4444444444444444,\"#bd3786\"],[0.5555555555555556,\"#d8576b\"],[0.6666666666666666,\"#ed7953\"],[0.7777777777777778,\"#fb9f3a\"],[0.8888888888888888,\"#fdca26\"],[1.0,\"#f0f921\"]]}],\"heatmap\":[{\"type\":\"heatmap\",\"colorbar\":{\"outlinewidth\":0,\"ticks\":\"\"},\"colorscale\":[[0.0,\"#0d0887\"],[0.1111111111111111,\"#46039f\"],[0.2222222222222222,\"#7201a8\"],[0.3333333333333333,\"#9c179e\"],[0.4444444444444444,\"#bd3786\"],[0.5555555555555556,\"#d8576b\"],[0.6666666666666666,\"#ed7953\"],[0.7777777777777778,\"#fb9f3a\"],[0.8888888888888888,\"#fdca26\"],[1.0,\"#f0f921\"]]}],\"contourcarpet\":[{\"type\":\"contourcarpet\",\"colorbar\":{\"outlinewidth\":0,\"ticks\":\"\"}}],\"contour\":[{\"type\":\"contour\",\"colorbar\":{\"outlinewidth\":0,\"ticks\":\"\"},\"colorscale\":[[0.0,\"#0d0887\"],[0.1111111111111111,\"#46039f\"],[0.2222222222222222,\"#7201a8\"],[0.3333333333333333,\"#9c179e\"],[0.4444444444444444,\"#bd3786\"],[0.5555555555555556,\"#d8576b\"],[0.6666666666666666,\"#ed7953\"],[0.7777777777777778,\"#fb9f3a\"],[0.8888888888888888,\"#fdca26\"],[1.0,\"#f0f921\"]]}],\"surface\":[{\"type\":\"surface\",\"colorbar\":{\"outlinewidth\":0,\"ticks\":\"\"},\"colorscale\":[[0.0,\"#0d0887\"],[0.1111111111111111,\"#46039f\"],[0.2222222222222222,\"#7201a8\"],[0.3333333333333333,\"#9c179e\"],[0.4444444444444444,\"#bd3786\"],[0.5555555555555556,\"#d8576b\"],[0.6666666666666666,\"#ed7953\"],[0.7777777777777778,\"#fb9f3a\"],[0.8888888888888888,\"#fdca26\"],[1.0,\"#f0f921\"]]}],\"mesh3d\":[{\"type\":\"mesh3d\",\"colorbar\":{\"outlinewidth\":0,\"ticks\":\"\"}}],\"scatter\":[{\"fillpattern\":{\"fillmode\":\"overlay\",\"size\":10,\"solidity\":0.2},\"type\":\"scatter\"}],\"parcoords\":[{\"type\":\"parcoords\",\"line\":{\"colorbar\":{\"outlinewidth\":0,\"ticks\":\"\"}}}],\"scatterpolargl\":[{\"type\":\"scatterpolargl\",\"marker\":{\"colorbar\":{\"outlinewidth\":0,\"ticks\":\"\"}}}],\"bar\":[{\"error_x\":{\"color\":\"#2a3f5f\"},\"error_y\":{\"color\":\"#2a3f5f\"},\"marker\":{\"line\":{\"color\":\"#E5ECF6\",\"width\":0.5},\"pattern\":{\"fillmode\":\"overlay\",\"size\":10,\"solidity\":0.2}},\"type\":\"bar\"}],\"scattergeo\":[{\"type\":\"scattergeo\",\"marker\":{\"colorbar\":{\"outlinewidth\":0,\"ticks\":\"\"}}}],\"scatterpolar\":[{\"type\":\"scatterpolar\",\"marker\":{\"colorbar\":{\"outlinewidth\":0,\"ticks\":\"\"}}}],\"histogram\":[{\"marker\":{\"pattern\":{\"fillmode\":\"overlay\",\"size\":10,\"solidity\":0.2}},\"type\":\"histogram\"}],\"scattergl\":[{\"type\":\"scattergl\",\"marker\":{\"colorbar\":{\"outlinewidth\":0,\"ticks\":\"\"}}}],\"scatter3d\":[{\"type\":\"scatter3d\",\"line\":{\"colorbar\":{\"outlinewidth\":0,\"ticks\":\"\"}},\"marker\":{\"colorbar\":{\"outlinewidth\":0,\"ticks\":\"\"}}}],\"scattermap\":[{\"type\":\"scattermap\",\"marker\":{\"colorbar\":{\"outlinewidth\":0,\"ticks\":\"\"}}}],\"scattermapbox\":[{\"type\":\"scattermapbox\",\"marker\":{\"colorbar\":{\"outlinewidth\":0,\"ticks\":\"\"}}}],\"scatterternary\":[{\"type\":\"scatterternary\",\"marker\":{\"colorbar\":{\"outlinewidth\":0,\"ticks\":\"\"}}}],\"scattercarpet\":[{\"type\":\"scattercarpet\",\"marker\":{\"colorbar\":{\"outlinewidth\":0,\"ticks\":\"\"}}}],\"carpet\":[{\"aaxis\":{\"endlinecolor\":\"#2a3f5f\",\"gridcolor\":\"white\",\"linecolor\":\"white\",\"minorgridcolor\":\"white\",\"startlinecolor\":\"#2a3f5f\"},\"baxis\":{\"endlinecolor\":\"#2a3f5f\",\"gridcolor\":\"white\",\"linecolor\":\"white\",\"minorgridcolor\":\"white\",\"startlinecolor\":\"#2a3f5f\"},\"type\":\"carpet\"}],\"table\":[{\"cells\":{\"fill\":{\"color\":\"#EBF0F8\"},\"line\":{\"color\":\"white\"}},\"header\":{\"fill\":{\"color\":\"#C8D4E3\"},\"line\":{\"color\":\"white\"}},\"type\":\"table\"}],\"barpolar\":[{\"marker\":{\"line\":{\"color\":\"#E5ECF6\",\"width\":0.5},\"pattern\":{\"fillmode\":\"overlay\",\"size\":10,\"solidity\":0.2}},\"type\":\"barpolar\"}],\"pie\":[{\"automargin\":true,\"type\":\"pie\"}]},\"layout\":{\"autotypenumbers\":\"strict\",\"colorway\":[\"#636efa\",\"#EF553B\",\"#00cc96\",\"#ab63fa\",\"#FFA15A\",\"#19d3f3\",\"#FF6692\",\"#B6E880\",\"#FF97FF\",\"#FECB52\"],\"font\":{\"color\":\"#2a3f5f\"},\"hovermode\":\"closest\",\"hoverlabel\":{\"align\":\"left\"},\"paper_bgcolor\":\"white\",\"plot_bgcolor\":\"#E5ECF6\",\"polar\":{\"bgcolor\":\"#E5ECF6\",\"angularaxis\":{\"gridcolor\":\"white\",\"linecolor\":\"white\",\"ticks\":\"\"},\"radialaxis\":{\"gridcolor\":\"white\",\"linecolor\":\"white\",\"ticks\":\"\"}},\"ternary\":{\"bgcolor\":\"#E5ECF6\",\"aaxis\":{\"gridcolor\":\"white\",\"linecolor\":\"white\",\"ticks\":\"\"},\"baxis\":{\"gridcolor\":\"white\",\"linecolor\":\"white\",\"ticks\":\"\"},\"caxis\":{\"gridcolor\":\"white\",\"linecolor\":\"white\",\"ticks\":\"\"}},\"coloraxis\":{\"colorbar\":{\"outlinewidth\":0,\"ticks\":\"\"}},\"colorscale\":{\"sequential\":[[0.0,\"#0d0887\"],[0.1111111111111111,\"#46039f\"],[0.2222222222222222,\"#7201a8\"],[0.3333333333333333,\"#9c179e\"],[0.4444444444444444,\"#bd3786\"],[0.5555555555555556,\"#d8576b\"],[0.6666666666666666,\"#ed7953\"],[0.7777777777777778,\"#fb9f3a\"],[0.8888888888888888,\"#fdca26\"],[1.0,\"#f0f921\"]],\"sequentialminus\":[[0.0,\"#0d0887\"],[0.1111111111111111,\"#46039f\"],[0.2222222222222222,\"#7201a8\"],[0.3333333333333333,\"#9c179e\"],[0.4444444444444444,\"#bd3786\"],[0.5555555555555556,\"#d8576b\"],[0.6666666666666666,\"#ed7953\"],[0.7777777777777778,\"#fb9f3a\"],[0.8888888888888888,\"#fdca26\"],[1.0,\"#f0f921\"]],\"diverging\":[[0,\"#8e0152\"],[0.1,\"#c51b7d\"],[0.2,\"#de77ae\"],[0.3,\"#f1b6da\"],[0.4,\"#fde0ef\"],[0.5,\"#f7f7f7\"],[0.6,\"#e6f5d0\"],[0.7,\"#b8e186\"],[0.8,\"#7fbc41\"],[0.9,\"#4d9221\"],[1,\"#276419\"]]},\"xaxis\":{\"gridcolor\":\"white\",\"linecolor\":\"white\",\"ticks\":\"\",\"title\":{\"standoff\":15},\"zerolinecolor\":\"white\",\"automargin\":true,\"zerolinewidth\":2},\"yaxis\":{\"gridcolor\":\"white\",\"linecolor\":\"white\",\"ticks\":\"\",\"title\":{\"standoff\":15},\"zerolinecolor\":\"white\",\"automargin\":true,\"zerolinewidth\":2},\"scene\":{\"xaxis\":{\"backgroundcolor\":\"#E5ECF6\",\"gridcolor\":\"white\",\"linecolor\":\"white\",\"showbackground\":true,\"ticks\":\"\",\"zerolinecolor\":\"white\",\"gridwidth\":2},\"yaxis\":{\"backgroundcolor\":\"#E5ECF6\",\"gridcolor\":\"white\",\"linecolor\":\"white\",\"showbackground\":true,\"ticks\":\"\",\"zerolinecolor\":\"white\",\"gridwidth\":2},\"zaxis\":{\"backgroundcolor\":\"#E5ECF6\",\"gridcolor\":\"white\",\"linecolor\":\"white\",\"showbackground\":true,\"ticks\":\"\",\"zerolinecolor\":\"white\",\"gridwidth\":2}},\"shapedefaults\":{\"line\":{\"color\":\"#2a3f5f\"}},\"annotationdefaults\":{\"arrowcolor\":\"#2a3f5f\",\"arrowhead\":0,\"arrowwidth\":1},\"geo\":{\"bgcolor\":\"white\",\"landcolor\":\"#E5ECF6\",\"subunitcolor\":\"white\",\"showland\":true,\"showlakes\":true,\"lakecolor\":\"white\"},\"title\":{\"x\":0.05},\"mapbox\":{\"style\":\"light\"}}},\"xaxis\":{\"anchor\":\"y\",\"domain\":[0.0,1.0],\"title\":{\"text\":\"Favorite Cleaning Day\"},\"categoryorder\":\"total descending\"},\"yaxis\":{\"anchor\":\"x\",\"domain\":[0.0,1.0],\"title\":{\"text\":\"Number of Providers\"}},\"coloraxis\":{\"colorbar\":{\"title\":{\"text\":\"Number of Providers\"}},\"colorscale\":[[0.0,\"#0d0887\"],[0.1111111111111111,\"#46039f\"],[0.2222222222222222,\"#7201a8\"],[0.3333333333333333,\"#9c179e\"],[0.4444444444444444,\"#bd3786\"],[0.5555555555555556,\"#d8576b\"],[0.6666666666666666,\"#ed7953\"],[0.7777777777777778,\"#fb9f3a\"],[0.8888888888888888,\"#fdca26\"],[1.0,\"#f0f921\"]]},\"legend\":{\"tracegroupgap\":0},\"title\":{\"subtitle\":{\"text\":\"From 7,259 Providers\"},\"text\":\"Favorite Cleaning Day Distribution\"},\"barmode\":\"relative\",\"font\":{\"color\":\"white\"},\"plot_bgcolor\":\"#10041c\",\"paper_bgcolor\":\"#10041c\"},                        {\"responsive\": true}                    ).then(function(){\n",
       "                            \n",
       "var gd = document.getElementById('db24c7a4-91fe-4ad6-b047-66ca790ba1ea');\n",
       "var x = new MutationObserver(function (mutations, observer) {{\n",
       "        var display = window.getComputedStyle(gd).display;\n",
       "        if (!display || display === 'none') {{\n",
       "            console.log([gd, 'removed!']);\n",
       "            Plotly.purge(gd);\n",
       "            observer.disconnect();\n",
       "        }}\n",
       "}});\n",
       "\n",
       "// Listen for the removal of the full notebook cells\n",
       "var notebookContainer = gd.closest('#notebook-container');\n",
       "if (notebookContainer) {{\n",
       "    x.observe(notebookContainer, {childList: true});\n",
       "}}\n",
       "\n",
       "// Listen for the clearing of the current output cell\n",
       "var outputEl = gd.closest('.output');\n",
       "if (outputEl) {{\n",
       "    x.observe(outputEl, {childList: true});\n",
       "}}\n",
       "\n",
       "                        })                };            </script>        </div>"
      ]
     },
     "metadata": {},
     "output_type": "display_data"
    }
   ],
   "source": [
    "# Plotly day_counts for use in Executive presentation\n",
    "fig = px.bar(\n",
    "    day_counts,\n",
    "    x='favorite_cleaning_day',\n",
    "    y='count',\n",
    "    text='count',\n",
    "    title='Favorite Cleaning Day Distribution',\n",
    "    subtitle='From 7,259 Providers',\n",
    "    labels={'favorite_cleaning_day': 'Day of the Week', 'count': 'Number of Providers'},\n",
    "    color='count',\n",
    "    color_discrete_sequence=px.colors.qualitative.Pastel\n",
    ")\n",
    "\n",
    "fig.update_traces(textposition='outside')\n",
    "fig.update_layout(\n",
    "    xaxis={'categoryorder':'total descending'},\n",
    "    yaxis_title='Number of Providers',\n",
    "    xaxis_title='Favorite Cleaning Day'\n",
    ")\n",
    "\n",
    "# Apply the dark theme\n",
    "fig = apply_dark_theme(fig)\n",
    "fig.show()"
   ]
  },
  {
   "cell_type": "code",
   "execution_count": 70,
   "id": "a2a16f76",
   "metadata": {},
   "outputs": [
    {
     "data": {
      "application/vnd.plotly.v1+json": {
       "config": {
        "plotlyServerURL": "https://plot.ly"
       },
       "data": [
        {
         "hovertemplate": "Hour of the Day (24h format)=%{x}<br>Number of Providers=%{marker.color}<extra></extra>",
         "legendgroup": "",
         "marker": {
          "color": {
           "bdata": "AQACACEANgFKBfgLjQFZAXsDZAHGAH4ARQBAADEA",
           "dtype": "i2"
          },
          "coloraxis": "coloraxis",
          "pattern": {
           "shape": ""
          }
         },
         "name": "",
         "orientation": "v",
         "showlegend": false,
         "text": {
          "bdata": "AAAAAAAA8D8AAAAAAAAAQAAAAAAAgEBAAAAAAABgc0AAAAAAACiVQAAAAAAA8KdAAAAAAADQeEAAAAAAAJB1QAAAAAAA2ItAAAAAAABAdkAAAAAAAMBoQAAAAAAAgF9AAAAAAABAUUAAAAAAAABQQAAAAAAAgEhA",
          "dtype": "f8"
         },
         "textposition": "outside",
         "type": "bar",
         "x": {
          "bdata": "BQYHCAkKCwwNDg8QERIT",
          "dtype": "i1"
         },
         "xaxis": "x",
         "y": {
          "bdata": "AQACACEANgFKBfgLjQFZAXsDZAHGAH4ARQBAADEA",
          "dtype": "i2"
         },
         "yaxis": "y"
        }
       ],
       "layout": {
        "barmode": "relative",
        "coloraxis": {
         "colorbar": {
          "title": {
           "text": "Number of Providers"
          }
         },
         "colorscale": [
          [
           0,
           "#440154"
          ],
          [
           0.1111111111111111,
           "#482878"
          ],
          [
           0.2222222222222222,
           "#3e4989"
          ],
          [
           0.3333333333333333,
           "#31688e"
          ],
          [
           0.4444444444444444,
           "#26828e"
          ],
          [
           0.5555555555555556,
           "#1f9e89"
          ],
          [
           0.6666666666666666,
           "#35b779"
          ],
          [
           0.7777777777777778,
           "#6ece58"
          ],
          [
           0.8888888888888888,
           "#b5de2b"
          ],
          [
           1,
           "#fde725"
          ]
         ]
        },
        "font": {
         "color": "white"
        },
        "legend": {
         "tracegroupgap": 0
        },
        "paper_bgcolor": "#10041c",
        "plot_bgcolor": "#10041c",
        "template": {
         "data": {
          "bar": [
           {
            "error_x": {
             "color": "#2a3f5f"
            },
            "error_y": {
             "color": "#2a3f5f"
            },
            "marker": {
             "line": {
              "color": "#E5ECF6",
              "width": 0.5
             },
             "pattern": {
              "fillmode": "overlay",
              "size": 10,
              "solidity": 0.2
             }
            },
            "type": "bar"
           }
          ],
          "barpolar": [
           {
            "marker": {
             "line": {
              "color": "#E5ECF6",
              "width": 0.5
             },
             "pattern": {
              "fillmode": "overlay",
              "size": 10,
              "solidity": 0.2
             }
            },
            "type": "barpolar"
           }
          ],
          "carpet": [
           {
            "aaxis": {
             "endlinecolor": "#2a3f5f",
             "gridcolor": "white",
             "linecolor": "white",
             "minorgridcolor": "white",
             "startlinecolor": "#2a3f5f"
            },
            "baxis": {
             "endlinecolor": "#2a3f5f",
             "gridcolor": "white",
             "linecolor": "white",
             "minorgridcolor": "white",
             "startlinecolor": "#2a3f5f"
            },
            "type": "carpet"
           }
          ],
          "choropleth": [
           {
            "colorbar": {
             "outlinewidth": 0,
             "ticks": ""
            },
            "type": "choropleth"
           }
          ],
          "contour": [
           {
            "colorbar": {
             "outlinewidth": 0,
             "ticks": ""
            },
            "colorscale": [
             [
              0,
              "#0d0887"
             ],
             [
              0.1111111111111111,
              "#46039f"
             ],
             [
              0.2222222222222222,
              "#7201a8"
             ],
             [
              0.3333333333333333,
              "#9c179e"
             ],
             [
              0.4444444444444444,
              "#bd3786"
             ],
             [
              0.5555555555555556,
              "#d8576b"
             ],
             [
              0.6666666666666666,
              "#ed7953"
             ],
             [
              0.7777777777777778,
              "#fb9f3a"
             ],
             [
              0.8888888888888888,
              "#fdca26"
             ],
             [
              1,
              "#f0f921"
             ]
            ],
            "type": "contour"
           }
          ],
          "contourcarpet": [
           {
            "colorbar": {
             "outlinewidth": 0,
             "ticks": ""
            },
            "type": "contourcarpet"
           }
          ],
          "heatmap": [
           {
            "colorbar": {
             "outlinewidth": 0,
             "ticks": ""
            },
            "colorscale": [
             [
              0,
              "#0d0887"
             ],
             [
              0.1111111111111111,
              "#46039f"
             ],
             [
              0.2222222222222222,
              "#7201a8"
             ],
             [
              0.3333333333333333,
              "#9c179e"
             ],
             [
              0.4444444444444444,
              "#bd3786"
             ],
             [
              0.5555555555555556,
              "#d8576b"
             ],
             [
              0.6666666666666666,
              "#ed7953"
             ],
             [
              0.7777777777777778,
              "#fb9f3a"
             ],
             [
              0.8888888888888888,
              "#fdca26"
             ],
             [
              1,
              "#f0f921"
             ]
            ],
            "type": "heatmap"
           }
          ],
          "histogram": [
           {
            "marker": {
             "pattern": {
              "fillmode": "overlay",
              "size": 10,
              "solidity": 0.2
             }
            },
            "type": "histogram"
           }
          ],
          "histogram2d": [
           {
            "colorbar": {
             "outlinewidth": 0,
             "ticks": ""
            },
            "colorscale": [
             [
              0,
              "#0d0887"
             ],
             [
              0.1111111111111111,
              "#46039f"
             ],
             [
              0.2222222222222222,
              "#7201a8"
             ],
             [
              0.3333333333333333,
              "#9c179e"
             ],
             [
              0.4444444444444444,
              "#bd3786"
             ],
             [
              0.5555555555555556,
              "#d8576b"
             ],
             [
              0.6666666666666666,
              "#ed7953"
             ],
             [
              0.7777777777777778,
              "#fb9f3a"
             ],
             [
              0.8888888888888888,
              "#fdca26"
             ],
             [
              1,
              "#f0f921"
             ]
            ],
            "type": "histogram2d"
           }
          ],
          "histogram2dcontour": [
           {
            "colorbar": {
             "outlinewidth": 0,
             "ticks": ""
            },
            "colorscale": [
             [
              0,
              "#0d0887"
             ],
             [
              0.1111111111111111,
              "#46039f"
             ],
             [
              0.2222222222222222,
              "#7201a8"
             ],
             [
              0.3333333333333333,
              "#9c179e"
             ],
             [
              0.4444444444444444,
              "#bd3786"
             ],
             [
              0.5555555555555556,
              "#d8576b"
             ],
             [
              0.6666666666666666,
              "#ed7953"
             ],
             [
              0.7777777777777778,
              "#fb9f3a"
             ],
             [
              0.8888888888888888,
              "#fdca26"
             ],
             [
              1,
              "#f0f921"
             ]
            ],
            "type": "histogram2dcontour"
           }
          ],
          "mesh3d": [
           {
            "colorbar": {
             "outlinewidth": 0,
             "ticks": ""
            },
            "type": "mesh3d"
           }
          ],
          "parcoords": [
           {
            "line": {
             "colorbar": {
              "outlinewidth": 0,
              "ticks": ""
             }
            },
            "type": "parcoords"
           }
          ],
          "pie": [
           {
            "automargin": true,
            "type": "pie"
           }
          ],
          "scatter": [
           {
            "fillpattern": {
             "fillmode": "overlay",
             "size": 10,
             "solidity": 0.2
            },
            "type": "scatter"
           }
          ],
          "scatter3d": [
           {
            "line": {
             "colorbar": {
              "outlinewidth": 0,
              "ticks": ""
             }
            },
            "marker": {
             "colorbar": {
              "outlinewidth": 0,
              "ticks": ""
             }
            },
            "type": "scatter3d"
           }
          ],
          "scattercarpet": [
           {
            "marker": {
             "colorbar": {
              "outlinewidth": 0,
              "ticks": ""
             }
            },
            "type": "scattercarpet"
           }
          ],
          "scattergeo": [
           {
            "marker": {
             "colorbar": {
              "outlinewidth": 0,
              "ticks": ""
             }
            },
            "type": "scattergeo"
           }
          ],
          "scattergl": [
           {
            "marker": {
             "colorbar": {
              "outlinewidth": 0,
              "ticks": ""
             }
            },
            "type": "scattergl"
           }
          ],
          "scattermap": [
           {
            "marker": {
             "colorbar": {
              "outlinewidth": 0,
              "ticks": ""
             }
            },
            "type": "scattermap"
           }
          ],
          "scattermapbox": [
           {
            "marker": {
             "colorbar": {
              "outlinewidth": 0,
              "ticks": ""
             }
            },
            "type": "scattermapbox"
           }
          ],
          "scatterpolar": [
           {
            "marker": {
             "colorbar": {
              "outlinewidth": 0,
              "ticks": ""
             }
            },
            "type": "scatterpolar"
           }
          ],
          "scatterpolargl": [
           {
            "marker": {
             "colorbar": {
              "outlinewidth": 0,
              "ticks": ""
             }
            },
            "type": "scatterpolargl"
           }
          ],
          "scatterternary": [
           {
            "marker": {
             "colorbar": {
              "outlinewidth": 0,
              "ticks": ""
             }
            },
            "type": "scatterternary"
           }
          ],
          "surface": [
           {
            "colorbar": {
             "outlinewidth": 0,
             "ticks": ""
            },
            "colorscale": [
             [
              0,
              "#0d0887"
             ],
             [
              0.1111111111111111,
              "#46039f"
             ],
             [
              0.2222222222222222,
              "#7201a8"
             ],
             [
              0.3333333333333333,
              "#9c179e"
             ],
             [
              0.4444444444444444,
              "#bd3786"
             ],
             [
              0.5555555555555556,
              "#d8576b"
             ],
             [
              0.6666666666666666,
              "#ed7953"
             ],
             [
              0.7777777777777778,
              "#fb9f3a"
             ],
             [
              0.8888888888888888,
              "#fdca26"
             ],
             [
              1,
              "#f0f921"
             ]
            ],
            "type": "surface"
           }
          ],
          "table": [
           {
            "cells": {
             "fill": {
              "color": "#EBF0F8"
             },
             "line": {
              "color": "white"
             }
            },
            "header": {
             "fill": {
              "color": "#C8D4E3"
             },
             "line": {
              "color": "white"
             }
            },
            "type": "table"
           }
          ]
         },
         "layout": {
          "annotationdefaults": {
           "arrowcolor": "#2a3f5f",
           "arrowhead": 0,
           "arrowwidth": 1
          },
          "autotypenumbers": "strict",
          "coloraxis": {
           "colorbar": {
            "outlinewidth": 0,
            "ticks": ""
           }
          },
          "colorscale": {
           "diverging": [
            [
             0,
             "#8e0152"
            ],
            [
             0.1,
             "#c51b7d"
            ],
            [
             0.2,
             "#de77ae"
            ],
            [
             0.3,
             "#f1b6da"
            ],
            [
             0.4,
             "#fde0ef"
            ],
            [
             0.5,
             "#f7f7f7"
            ],
            [
             0.6,
             "#e6f5d0"
            ],
            [
             0.7,
             "#b8e186"
            ],
            [
             0.8,
             "#7fbc41"
            ],
            [
             0.9,
             "#4d9221"
            ],
            [
             1,
             "#276419"
            ]
           ],
           "sequential": [
            [
             0,
             "#0d0887"
            ],
            [
             0.1111111111111111,
             "#46039f"
            ],
            [
             0.2222222222222222,
             "#7201a8"
            ],
            [
             0.3333333333333333,
             "#9c179e"
            ],
            [
             0.4444444444444444,
             "#bd3786"
            ],
            [
             0.5555555555555556,
             "#d8576b"
            ],
            [
             0.6666666666666666,
             "#ed7953"
            ],
            [
             0.7777777777777778,
             "#fb9f3a"
            ],
            [
             0.8888888888888888,
             "#fdca26"
            ],
            [
             1,
             "#f0f921"
            ]
           ],
           "sequentialminus": [
            [
             0,
             "#0d0887"
            ],
            [
             0.1111111111111111,
             "#46039f"
            ],
            [
             0.2222222222222222,
             "#7201a8"
            ],
            [
             0.3333333333333333,
             "#9c179e"
            ],
            [
             0.4444444444444444,
             "#bd3786"
            ],
            [
             0.5555555555555556,
             "#d8576b"
            ],
            [
             0.6666666666666666,
             "#ed7953"
            ],
            [
             0.7777777777777778,
             "#fb9f3a"
            ],
            [
             0.8888888888888888,
             "#fdca26"
            ],
            [
             1,
             "#f0f921"
            ]
           ]
          },
          "colorway": [
           "#636efa",
           "#EF553B",
           "#00cc96",
           "#ab63fa",
           "#FFA15A",
           "#19d3f3",
           "#FF6692",
           "#B6E880",
           "#FF97FF",
           "#FECB52"
          ],
          "font": {
           "color": "#2a3f5f"
          },
          "geo": {
           "bgcolor": "white",
           "lakecolor": "white",
           "landcolor": "#E5ECF6",
           "showlakes": true,
           "showland": true,
           "subunitcolor": "white"
          },
          "hoverlabel": {
           "align": "left"
          },
          "hovermode": "closest",
          "mapbox": {
           "style": "light"
          },
          "paper_bgcolor": "white",
          "plot_bgcolor": "#E5ECF6",
          "polar": {
           "angularaxis": {
            "gridcolor": "white",
            "linecolor": "white",
            "ticks": ""
           },
           "bgcolor": "#E5ECF6",
           "radialaxis": {
            "gridcolor": "white",
            "linecolor": "white",
            "ticks": ""
           }
          },
          "scene": {
           "xaxis": {
            "backgroundcolor": "#E5ECF6",
            "gridcolor": "white",
            "gridwidth": 2,
            "linecolor": "white",
            "showbackground": true,
            "ticks": "",
            "zerolinecolor": "white"
           },
           "yaxis": {
            "backgroundcolor": "#E5ECF6",
            "gridcolor": "white",
            "gridwidth": 2,
            "linecolor": "white",
            "showbackground": true,
            "ticks": "",
            "zerolinecolor": "white"
           },
           "zaxis": {
            "backgroundcolor": "#E5ECF6",
            "gridcolor": "white",
            "gridwidth": 2,
            "linecolor": "white",
            "showbackground": true,
            "ticks": "",
            "zerolinecolor": "white"
           }
          },
          "shapedefaults": {
           "line": {
            "color": "#2a3f5f"
           }
          },
          "ternary": {
           "aaxis": {
            "gridcolor": "white",
            "linecolor": "white",
            "ticks": ""
           },
           "baxis": {
            "gridcolor": "white",
            "linecolor": "white",
            "ticks": ""
           },
           "bgcolor": "#E5ECF6",
           "caxis": {
            "gridcolor": "white",
            "linecolor": "white",
            "ticks": ""
           }
          },
          "title": {
           "x": 0.05
          },
          "xaxis": {
           "automargin": true,
           "gridcolor": "white",
           "linecolor": "white",
           "ticks": "",
           "title": {
            "standoff": 15
           },
           "zerolinecolor": "white",
           "zerolinewidth": 2
          },
          "yaxis": {
           "automargin": true,
           "gridcolor": "white",
           "linecolor": "white",
           "ticks": "",
           "title": {
            "standoff": 15
           },
           "zerolinecolor": "white",
           "zerolinewidth": 2
          }
         }
        },
        "title": {
         "subtitle": {
          "text": "From 7,259 Providers"
         },
         "text": "Favorite Cleaning Hour Distribution"
        },
        "xaxis": {
         "anchor": "y",
         "domain": [
          0,
          1
         ],
         "dtick": 1,
         "tickmode": "linear",
         "title": {
          "text": "Hour of the Day"
         }
        },
        "yaxis": {
         "anchor": "x",
         "domain": [
          0,
          1
         ],
         "title": {
          "text": "Number of Providers"
         }
        }
       }
      },
      "text/html": [
       "<div>            <script src=\"https://cdnjs.cloudflare.com/ajax/libs/mathjax/2.7.5/MathJax.js?config=TeX-AMS-MML_SVG\"></script><script type=\"text/javascript\">if (window.MathJax && window.MathJax.Hub && window.MathJax.Hub.Config) {window.MathJax.Hub.Config({SVG: {font: \"STIX-Web\"}});}</script>                <script type=\"text/javascript\">window.PlotlyConfig = {MathJaxConfig: 'local'};</script>\n",
       "        <script charset=\"utf-8\" src=\"https://cdn.plot.ly/plotly-3.0.1.min.js\"></script>                <div id=\"db2f31b4-da75-443d-b082-7bcace2fb3ef\" class=\"plotly-graph-div\" style=\"height:525px; width:100%;\"></div>            <script type=\"text/javascript\">                window.PLOTLYENV=window.PLOTLYENV || {};                                if (document.getElementById(\"db2f31b4-da75-443d-b082-7bcace2fb3ef\")) {                    Plotly.newPlot(                        \"db2f31b4-da75-443d-b082-7bcace2fb3ef\",                        [{\"hovertemplate\":\"Hour of the Day (24h format)=%{x}\\u003cbr\\u003eNumber of Providers=%{marker.color}\\u003cextra\\u003e\\u003c\\u002fextra\\u003e\",\"legendgroup\":\"\",\"marker\":{\"color\":{\"dtype\":\"i2\",\"bdata\":\"AQACACEANgFKBfgLjQFZAXsDZAHGAH4ARQBAADEA\"},\"coloraxis\":\"coloraxis\",\"pattern\":{\"shape\":\"\"}},\"name\":\"\",\"orientation\":\"v\",\"showlegend\":false,\"text\":{\"dtype\":\"f8\",\"bdata\":\"AAAAAAAA8D8AAAAAAAAAQAAAAAAAgEBAAAAAAABgc0AAAAAAACiVQAAAAAAA8KdAAAAAAADQeEAAAAAAAJB1QAAAAAAA2ItAAAAAAABAdkAAAAAAAMBoQAAAAAAAgF9AAAAAAABAUUAAAAAAAABQQAAAAAAAgEhA\"},\"textposition\":\"outside\",\"x\":{\"dtype\":\"i1\",\"bdata\":\"BQYHCAkKCwwNDg8QERIT\"},\"xaxis\":\"x\",\"y\":{\"dtype\":\"i2\",\"bdata\":\"AQACACEANgFKBfgLjQFZAXsDZAHGAH4ARQBAADEA\"},\"yaxis\":\"y\",\"type\":\"bar\"}],                        {\"template\":{\"data\":{\"histogram2dcontour\":[{\"type\":\"histogram2dcontour\",\"colorbar\":{\"outlinewidth\":0,\"ticks\":\"\"},\"colorscale\":[[0.0,\"#0d0887\"],[0.1111111111111111,\"#46039f\"],[0.2222222222222222,\"#7201a8\"],[0.3333333333333333,\"#9c179e\"],[0.4444444444444444,\"#bd3786\"],[0.5555555555555556,\"#d8576b\"],[0.6666666666666666,\"#ed7953\"],[0.7777777777777778,\"#fb9f3a\"],[0.8888888888888888,\"#fdca26\"],[1.0,\"#f0f921\"]]}],\"choropleth\":[{\"type\":\"choropleth\",\"colorbar\":{\"outlinewidth\":0,\"ticks\":\"\"}}],\"histogram2d\":[{\"type\":\"histogram2d\",\"colorbar\":{\"outlinewidth\":0,\"ticks\":\"\"},\"colorscale\":[[0.0,\"#0d0887\"],[0.1111111111111111,\"#46039f\"],[0.2222222222222222,\"#7201a8\"],[0.3333333333333333,\"#9c179e\"],[0.4444444444444444,\"#bd3786\"],[0.5555555555555556,\"#d8576b\"],[0.6666666666666666,\"#ed7953\"],[0.7777777777777778,\"#fb9f3a\"],[0.8888888888888888,\"#fdca26\"],[1.0,\"#f0f921\"]]}],\"heatmap\":[{\"type\":\"heatmap\",\"colorbar\":{\"outlinewidth\":0,\"ticks\":\"\"},\"colorscale\":[[0.0,\"#0d0887\"],[0.1111111111111111,\"#46039f\"],[0.2222222222222222,\"#7201a8\"],[0.3333333333333333,\"#9c179e\"],[0.4444444444444444,\"#bd3786\"],[0.5555555555555556,\"#d8576b\"],[0.6666666666666666,\"#ed7953\"],[0.7777777777777778,\"#fb9f3a\"],[0.8888888888888888,\"#fdca26\"],[1.0,\"#f0f921\"]]}],\"contourcarpet\":[{\"type\":\"contourcarpet\",\"colorbar\":{\"outlinewidth\":0,\"ticks\":\"\"}}],\"contour\":[{\"type\":\"contour\",\"colorbar\":{\"outlinewidth\":0,\"ticks\":\"\"},\"colorscale\":[[0.0,\"#0d0887\"],[0.1111111111111111,\"#46039f\"],[0.2222222222222222,\"#7201a8\"],[0.3333333333333333,\"#9c179e\"],[0.4444444444444444,\"#bd3786\"],[0.5555555555555556,\"#d8576b\"],[0.6666666666666666,\"#ed7953\"],[0.7777777777777778,\"#fb9f3a\"],[0.8888888888888888,\"#fdca26\"],[1.0,\"#f0f921\"]]}],\"surface\":[{\"type\":\"surface\",\"colorbar\":{\"outlinewidth\":0,\"ticks\":\"\"},\"colorscale\":[[0.0,\"#0d0887\"],[0.1111111111111111,\"#46039f\"],[0.2222222222222222,\"#7201a8\"],[0.3333333333333333,\"#9c179e\"],[0.4444444444444444,\"#bd3786\"],[0.5555555555555556,\"#d8576b\"],[0.6666666666666666,\"#ed7953\"],[0.7777777777777778,\"#fb9f3a\"],[0.8888888888888888,\"#fdca26\"],[1.0,\"#f0f921\"]]}],\"mesh3d\":[{\"type\":\"mesh3d\",\"colorbar\":{\"outlinewidth\":0,\"ticks\":\"\"}}],\"scatter\":[{\"fillpattern\":{\"fillmode\":\"overlay\",\"size\":10,\"solidity\":0.2},\"type\":\"scatter\"}],\"parcoords\":[{\"type\":\"parcoords\",\"line\":{\"colorbar\":{\"outlinewidth\":0,\"ticks\":\"\"}}}],\"scatterpolargl\":[{\"type\":\"scatterpolargl\",\"marker\":{\"colorbar\":{\"outlinewidth\":0,\"ticks\":\"\"}}}],\"bar\":[{\"error_x\":{\"color\":\"#2a3f5f\"},\"error_y\":{\"color\":\"#2a3f5f\"},\"marker\":{\"line\":{\"color\":\"#E5ECF6\",\"width\":0.5},\"pattern\":{\"fillmode\":\"overlay\",\"size\":10,\"solidity\":0.2}},\"type\":\"bar\"}],\"scattergeo\":[{\"type\":\"scattergeo\",\"marker\":{\"colorbar\":{\"outlinewidth\":0,\"ticks\":\"\"}}}],\"scatterpolar\":[{\"type\":\"scatterpolar\",\"marker\":{\"colorbar\":{\"outlinewidth\":0,\"ticks\":\"\"}}}],\"histogram\":[{\"marker\":{\"pattern\":{\"fillmode\":\"overlay\",\"size\":10,\"solidity\":0.2}},\"type\":\"histogram\"}],\"scattergl\":[{\"type\":\"scattergl\",\"marker\":{\"colorbar\":{\"outlinewidth\":0,\"ticks\":\"\"}}}],\"scatter3d\":[{\"type\":\"scatter3d\",\"line\":{\"colorbar\":{\"outlinewidth\":0,\"ticks\":\"\"}},\"marker\":{\"colorbar\":{\"outlinewidth\":0,\"ticks\":\"\"}}}],\"scattermap\":[{\"type\":\"scattermap\",\"marker\":{\"colorbar\":{\"outlinewidth\":0,\"ticks\":\"\"}}}],\"scattermapbox\":[{\"type\":\"scattermapbox\",\"marker\":{\"colorbar\":{\"outlinewidth\":0,\"ticks\":\"\"}}}],\"scatterternary\":[{\"type\":\"scatterternary\",\"marker\":{\"colorbar\":{\"outlinewidth\":0,\"ticks\":\"\"}}}],\"scattercarpet\":[{\"type\":\"scattercarpet\",\"marker\":{\"colorbar\":{\"outlinewidth\":0,\"ticks\":\"\"}}}],\"carpet\":[{\"aaxis\":{\"endlinecolor\":\"#2a3f5f\",\"gridcolor\":\"white\",\"linecolor\":\"white\",\"minorgridcolor\":\"white\",\"startlinecolor\":\"#2a3f5f\"},\"baxis\":{\"endlinecolor\":\"#2a3f5f\",\"gridcolor\":\"white\",\"linecolor\":\"white\",\"minorgridcolor\":\"white\",\"startlinecolor\":\"#2a3f5f\"},\"type\":\"carpet\"}],\"table\":[{\"cells\":{\"fill\":{\"color\":\"#EBF0F8\"},\"line\":{\"color\":\"white\"}},\"header\":{\"fill\":{\"color\":\"#C8D4E3\"},\"line\":{\"color\":\"white\"}},\"type\":\"table\"}],\"barpolar\":[{\"marker\":{\"line\":{\"color\":\"#E5ECF6\",\"width\":0.5},\"pattern\":{\"fillmode\":\"overlay\",\"size\":10,\"solidity\":0.2}},\"type\":\"barpolar\"}],\"pie\":[{\"automargin\":true,\"type\":\"pie\"}]},\"layout\":{\"autotypenumbers\":\"strict\",\"colorway\":[\"#636efa\",\"#EF553B\",\"#00cc96\",\"#ab63fa\",\"#FFA15A\",\"#19d3f3\",\"#FF6692\",\"#B6E880\",\"#FF97FF\",\"#FECB52\"],\"font\":{\"color\":\"#2a3f5f\"},\"hovermode\":\"closest\",\"hoverlabel\":{\"align\":\"left\"},\"paper_bgcolor\":\"white\",\"plot_bgcolor\":\"#E5ECF6\",\"polar\":{\"bgcolor\":\"#E5ECF6\",\"angularaxis\":{\"gridcolor\":\"white\",\"linecolor\":\"white\",\"ticks\":\"\"},\"radialaxis\":{\"gridcolor\":\"white\",\"linecolor\":\"white\",\"ticks\":\"\"}},\"ternary\":{\"bgcolor\":\"#E5ECF6\",\"aaxis\":{\"gridcolor\":\"white\",\"linecolor\":\"white\",\"ticks\":\"\"},\"baxis\":{\"gridcolor\":\"white\",\"linecolor\":\"white\",\"ticks\":\"\"},\"caxis\":{\"gridcolor\":\"white\",\"linecolor\":\"white\",\"ticks\":\"\"}},\"coloraxis\":{\"colorbar\":{\"outlinewidth\":0,\"ticks\":\"\"}},\"colorscale\":{\"sequential\":[[0.0,\"#0d0887\"],[0.1111111111111111,\"#46039f\"],[0.2222222222222222,\"#7201a8\"],[0.3333333333333333,\"#9c179e\"],[0.4444444444444444,\"#bd3786\"],[0.5555555555555556,\"#d8576b\"],[0.6666666666666666,\"#ed7953\"],[0.7777777777777778,\"#fb9f3a\"],[0.8888888888888888,\"#fdca26\"],[1.0,\"#f0f921\"]],\"sequentialminus\":[[0.0,\"#0d0887\"],[0.1111111111111111,\"#46039f\"],[0.2222222222222222,\"#7201a8\"],[0.3333333333333333,\"#9c179e\"],[0.4444444444444444,\"#bd3786\"],[0.5555555555555556,\"#d8576b\"],[0.6666666666666666,\"#ed7953\"],[0.7777777777777778,\"#fb9f3a\"],[0.8888888888888888,\"#fdca26\"],[1.0,\"#f0f921\"]],\"diverging\":[[0,\"#8e0152\"],[0.1,\"#c51b7d\"],[0.2,\"#de77ae\"],[0.3,\"#f1b6da\"],[0.4,\"#fde0ef\"],[0.5,\"#f7f7f7\"],[0.6,\"#e6f5d0\"],[0.7,\"#b8e186\"],[0.8,\"#7fbc41\"],[0.9,\"#4d9221\"],[1,\"#276419\"]]},\"xaxis\":{\"gridcolor\":\"white\",\"linecolor\":\"white\",\"ticks\":\"\",\"title\":{\"standoff\":15},\"zerolinecolor\":\"white\",\"automargin\":true,\"zerolinewidth\":2},\"yaxis\":{\"gridcolor\":\"white\",\"linecolor\":\"white\",\"ticks\":\"\",\"title\":{\"standoff\":15},\"zerolinecolor\":\"white\",\"automargin\":true,\"zerolinewidth\":2},\"scene\":{\"xaxis\":{\"backgroundcolor\":\"#E5ECF6\",\"gridcolor\":\"white\",\"linecolor\":\"white\",\"showbackground\":true,\"ticks\":\"\",\"zerolinecolor\":\"white\",\"gridwidth\":2},\"yaxis\":{\"backgroundcolor\":\"#E5ECF6\",\"gridcolor\":\"white\",\"linecolor\":\"white\",\"showbackground\":true,\"ticks\":\"\",\"zerolinecolor\":\"white\",\"gridwidth\":2},\"zaxis\":{\"backgroundcolor\":\"#E5ECF6\",\"gridcolor\":\"white\",\"linecolor\":\"white\",\"showbackground\":true,\"ticks\":\"\",\"zerolinecolor\":\"white\",\"gridwidth\":2}},\"shapedefaults\":{\"line\":{\"color\":\"#2a3f5f\"}},\"annotationdefaults\":{\"arrowcolor\":\"#2a3f5f\",\"arrowhead\":0,\"arrowwidth\":1},\"geo\":{\"bgcolor\":\"white\",\"landcolor\":\"#E5ECF6\",\"subunitcolor\":\"white\",\"showland\":true,\"showlakes\":true,\"lakecolor\":\"white\"},\"title\":{\"x\":0.05},\"mapbox\":{\"style\":\"light\"}}},\"xaxis\":{\"anchor\":\"y\",\"domain\":[0.0,1.0],\"title\":{\"text\":\"Hour of the Day\"},\"tickmode\":\"linear\",\"dtick\":1},\"yaxis\":{\"anchor\":\"x\",\"domain\":[0.0,1.0],\"title\":{\"text\":\"Number of Providers\"}},\"coloraxis\":{\"colorbar\":{\"title\":{\"text\":\"Number of Providers\"}},\"colorscale\":[[0.0,\"#440154\"],[0.1111111111111111,\"#482878\"],[0.2222222222222222,\"#3e4989\"],[0.3333333333333333,\"#31688e\"],[0.4444444444444444,\"#26828e\"],[0.5555555555555556,\"#1f9e89\"],[0.6666666666666666,\"#35b779\"],[0.7777777777777778,\"#6ece58\"],[0.8888888888888888,\"#b5de2b\"],[1.0,\"#fde725\"]]},\"legend\":{\"tracegroupgap\":0},\"title\":{\"subtitle\":{\"text\":\"From 7,259 Providers\"},\"text\":\"Favorite Cleaning Hour Distribution\"},\"barmode\":\"relative\",\"font\":{\"color\":\"white\"},\"plot_bgcolor\":\"#10041c\",\"paper_bgcolor\":\"#10041c\"},                        {\"responsive\": true}                    ).then(function(){\n",
       "                            \n",
       "var gd = document.getElementById('db2f31b4-da75-443d-b082-7bcace2fb3ef');\n",
       "var x = new MutationObserver(function (mutations, observer) {{\n",
       "        var display = window.getComputedStyle(gd).display;\n",
       "        if (!display || display === 'none') {{\n",
       "            console.log([gd, 'removed!']);\n",
       "            Plotly.purge(gd);\n",
       "            observer.disconnect();\n",
       "        }}\n",
       "}});\n",
       "\n",
       "// Listen for the removal of the full notebook cells\n",
       "var notebookContainer = gd.closest('#notebook-container');\n",
       "if (notebookContainer) {{\n",
       "    x.observe(notebookContainer, {childList: true});\n",
       "}}\n",
       "\n",
       "// Listen for the clearing of the current output cell\n",
       "var outputEl = gd.closest('.output');\n",
       "if (outputEl) {{\n",
       "    x.observe(outputEl, {childList: true});\n",
       "}}\n",
       "\n",
       "                        })                };            </script>        </div>"
      ]
     },
     "metadata": {},
     "output_type": "display_data"
    }
   ],
   "source": [
    "# Sort by hour for a logical time-of-day progression\n",
    "hour_counts = hour_counts.sort_values('favorite_cleaning_hour')\n",
    "\n",
    "# Plotly hour_counts for use in Executive presentation\n",
    "fig = px.bar(\n",
    "    hour_counts,\n",
    "    x='favorite_cleaning_hour',\n",
    "    y='count',\n",
    "    text='count',\n",
    "    title='Favorite Cleaning Hour Distribution',\n",
    "    subtitle='From 7,259 Providers',\n",
    "    labels={'favorite_cleaning_hour': 'Hour of the Day (24h format)', 'count': 'Number of Providers'},\n",
    "    color='count',\n",
    "    color_continuous_scale=px.colors.sequential.Viridis\n",
    ")\n",
    "\n",
    "fig.update_traces(textposition='outside')\n",
    "fig.update_layout(\n",
    "    xaxis_title='Hour of the Day',\n",
    "    yaxis_title='Number of Providers',\n",
    "    xaxis = dict(\n",
    "        tickmode = 'linear',\n",
    "        dtick = 1\n",
    "    )\n",
    ")\n",
    "\n",
    "# Apply the dark theme\n",
    "fig = apply_dark_theme(fig)\n",
    "fig.show()"
   ]
  },
  {
   "cell_type": "code",
   "execution_count": 71,
   "id": "104c454e",
   "metadata": {},
   "outputs": [],
   "source": [
    "# avg_income_per_month distribution\n",
    "income_counts = df['avg_income_per_month'].value_counts(bins=10).reset_index()\n",
    "income_counts.columns = ['income_range', 'count']"
   ]
  },
  {
   "cell_type": "code",
   "execution_count": 72,
   "id": "7ae3c9a7",
   "metadata": {},
   "outputs": [
    {
     "data": {
      "text/html": [
       "<div>\n",
       "<style scoped>\n",
       "    .dataframe tbody tr th:only-of-type {\n",
       "        vertical-align: middle;\n",
       "    }\n",
       "\n",
       "    .dataframe tbody tr th {\n",
       "        vertical-align: top;\n",
       "    }\n",
       "\n",
       "    .dataframe thead th {\n",
       "        text-align: right;\n",
       "    }\n",
       "</style>\n",
       "<table border=\"1\" class=\"dataframe\">\n",
       "  <thead>\n",
       "    <tr style=\"text-align: right;\">\n",
       "      <th></th>\n",
       "      <th>income_range</th>\n",
       "      <th>count</th>\n",
       "    </tr>\n",
       "  </thead>\n",
       "  <tbody>\n",
       "    <tr>\n",
       "      <th>0</th>\n",
       "      <td>(-45.076, 4507.5]</td>\n",
       "      <td>3633</td>\n",
       "    </tr>\n",
       "    <tr>\n",
       "      <th>1</th>\n",
       "      <td>(4507.5, 9015.0]</td>\n",
       "      <td>1591</td>\n",
       "    </tr>\n",
       "    <tr>\n",
       "      <th>2</th>\n",
       "      <td>(9015.0, 13522.5]</td>\n",
       "      <td>1033</td>\n",
       "    </tr>\n",
       "    <tr>\n",
       "      <th>3</th>\n",
       "      <td>(13522.5, 18030.0]</td>\n",
       "      <td>563</td>\n",
       "    </tr>\n",
       "    <tr>\n",
       "      <th>4</th>\n",
       "      <td>(18030.0, 22537.5]</td>\n",
       "      <td>268</td>\n",
       "    </tr>\n",
       "    <tr>\n",
       "      <th>5</th>\n",
       "      <td>(22537.5, 27045.0]</td>\n",
       "      <td>105</td>\n",
       "    </tr>\n",
       "    <tr>\n",
       "      <th>6</th>\n",
       "      <td>(27045.0, 31552.5]</td>\n",
       "      <td>43</td>\n",
       "    </tr>\n",
       "    <tr>\n",
       "      <th>7</th>\n",
       "      <td>(31552.5, 36060.0]</td>\n",
       "      <td>15</td>\n",
       "    </tr>\n",
       "    <tr>\n",
       "      <th>8</th>\n",
       "      <td>(36060.0, 40567.5]</td>\n",
       "      <td>7</td>\n",
       "    </tr>\n",
       "    <tr>\n",
       "      <th>9</th>\n",
       "      <td>(40567.5, 45075.0]</td>\n",
       "      <td>1</td>\n",
       "    </tr>\n",
       "  </tbody>\n",
       "</table>\n",
       "</div>"
      ],
      "text/plain": [
       "         income_range  count\n",
       "0   (-45.076, 4507.5]   3633\n",
       "1    (4507.5, 9015.0]   1591\n",
       "2   (9015.0, 13522.5]   1033\n",
       "3  (13522.5, 18030.0]    563\n",
       "4  (18030.0, 22537.5]    268\n",
       "5  (22537.5, 27045.0]    105\n",
       "6  (27045.0, 31552.5]     43\n",
       "7  (31552.5, 36060.0]     15\n",
       "8  (36060.0, 40567.5]      7\n",
       "9  (40567.5, 45075.0]      1"
      ]
     },
     "execution_count": 72,
     "metadata": {},
     "output_type": "execute_result"
    }
   ],
   "source": [
    "income_counts"
   ]
  },
  {
   "cell_type": "code",
   "execution_count": 73,
   "id": "b77e4a17",
   "metadata": {},
   "outputs": [
    {
     "data": {
      "text/plain": [
       "count     7259.000000\n",
       "mean      6551.654365\n",
       "std       6166.400300\n",
       "min          0.000000\n",
       "25%       1690.807407\n",
       "50%       4500.000000\n",
       "75%       9801.267857\n",
       "max      45075.000000\n",
       "Name: avg_income_per_month, dtype: float64"
      ]
     },
     "execution_count": 73,
     "metadata": {},
     "output_type": "execute_result"
    }
   ],
   "source": [
    "df.avg_income_per_month.describe()"
   ]
  },
  {
   "cell_type": "code",
   "execution_count": 74,
   "id": "4dbcea92",
   "metadata": {},
   "outputs": [
    {
     "data": {
      "application/vnd.plotly.v1+json": {
       "config": {
        "plotlyServerURL": "https://plot.ly"
       },
       "data": [
        {
         "hovertemplate": "Average Monthly Income Range (THB)=%{x}<br>Number of Providers=%{marker.color}<extra></extra>",
         "legendgroup": "",
         "marker": {
          "color": {
           "bdata": "CQ98BtUD4gG/AEAAFAALAAAAAQA=",
           "dtype": "i2"
          },
          "coloraxis": "coloraxis",
          "pattern": {
           "shape": ""
          }
         },
         "name": "",
         "orientation": "v",
         "showlegend": false,
         "text": {
          "bdata": "AAAAAAASrkAAAAAAAPCZQAAAAAAAqI5AAAAAAAAgfkAAAAAAAOBnQAAAAAAAAFBAAAAAAAAANEAAAAAAAAAmQAAAAAAAAAAAAAAAAAAA8D8=",
          "dtype": "f8"
         },
         "textposition": "outside",
         "type": "bar",
         "x": [
          "0 - 5,000",
          "5,000 - 10,000",
          "10,000 - 15,000",
          "15,000 - 20,000",
          "20,000 - 25,000",
          "25,000 - 30,000",
          "30,000 - 35,000",
          "35,000 - 40,000",
          "40,000 - 45,000",
          "45,000 - 50,000"
         ],
         "xaxis": "x",
         "y": {
          "bdata": "CQ98BtUD4gG/AEAAFAALAAAAAQA=",
          "dtype": "i2"
         },
         "yaxis": "y"
        }
       ],
       "layout": {
        "barmode": "relative",
        "coloraxis": {
         "colorbar": {
          "title": {
           "text": "Number of Providers"
          }
         },
         "colorscale": [
          [
           0,
           "#0d0887"
          ],
          [
           0.1111111111111111,
           "#46039f"
          ],
          [
           0.2222222222222222,
           "#7201a8"
          ],
          [
           0.3333333333333333,
           "#9c179e"
          ],
          [
           0.4444444444444444,
           "#bd3786"
          ],
          [
           0.5555555555555556,
           "#d8576b"
          ],
          [
           0.6666666666666666,
           "#ed7953"
          ],
          [
           0.7777777777777778,
           "#fb9f3a"
          ],
          [
           0.8888888888888888,
           "#fdca26"
          ],
          [
           1,
           "#f0f921"
          ]
         ]
        },
        "font": {
         "color": "white"
        },
        "legend": {
         "tracegroupgap": 0
        },
        "paper_bgcolor": "#10041c",
        "plot_bgcolor": "#10041c",
        "template": {
         "data": {
          "bar": [
           {
            "error_x": {
             "color": "#2a3f5f"
            },
            "error_y": {
             "color": "#2a3f5f"
            },
            "marker": {
             "line": {
              "color": "#E5ECF6",
              "width": 0.5
             },
             "pattern": {
              "fillmode": "overlay",
              "size": 10,
              "solidity": 0.2
             }
            },
            "type": "bar"
           }
          ],
          "barpolar": [
           {
            "marker": {
             "line": {
              "color": "#E5ECF6",
              "width": 0.5
             },
             "pattern": {
              "fillmode": "overlay",
              "size": 10,
              "solidity": 0.2
             }
            },
            "type": "barpolar"
           }
          ],
          "carpet": [
           {
            "aaxis": {
             "endlinecolor": "#2a3f5f",
             "gridcolor": "white",
             "linecolor": "white",
             "minorgridcolor": "white",
             "startlinecolor": "#2a3f5f"
            },
            "baxis": {
             "endlinecolor": "#2a3f5f",
             "gridcolor": "white",
             "linecolor": "white",
             "minorgridcolor": "white",
             "startlinecolor": "#2a3f5f"
            },
            "type": "carpet"
           }
          ],
          "choropleth": [
           {
            "colorbar": {
             "outlinewidth": 0,
             "ticks": ""
            },
            "type": "choropleth"
           }
          ],
          "contour": [
           {
            "colorbar": {
             "outlinewidth": 0,
             "ticks": ""
            },
            "colorscale": [
             [
              0,
              "#0d0887"
             ],
             [
              0.1111111111111111,
              "#46039f"
             ],
             [
              0.2222222222222222,
              "#7201a8"
             ],
             [
              0.3333333333333333,
              "#9c179e"
             ],
             [
              0.4444444444444444,
              "#bd3786"
             ],
             [
              0.5555555555555556,
              "#d8576b"
             ],
             [
              0.6666666666666666,
              "#ed7953"
             ],
             [
              0.7777777777777778,
              "#fb9f3a"
             ],
             [
              0.8888888888888888,
              "#fdca26"
             ],
             [
              1,
              "#f0f921"
             ]
            ],
            "type": "contour"
           }
          ],
          "contourcarpet": [
           {
            "colorbar": {
             "outlinewidth": 0,
             "ticks": ""
            },
            "type": "contourcarpet"
           }
          ],
          "heatmap": [
           {
            "colorbar": {
             "outlinewidth": 0,
             "ticks": ""
            },
            "colorscale": [
             [
              0,
              "#0d0887"
             ],
             [
              0.1111111111111111,
              "#46039f"
             ],
             [
              0.2222222222222222,
              "#7201a8"
             ],
             [
              0.3333333333333333,
              "#9c179e"
             ],
             [
              0.4444444444444444,
              "#bd3786"
             ],
             [
              0.5555555555555556,
              "#d8576b"
             ],
             [
              0.6666666666666666,
              "#ed7953"
             ],
             [
              0.7777777777777778,
              "#fb9f3a"
             ],
             [
              0.8888888888888888,
              "#fdca26"
             ],
             [
              1,
              "#f0f921"
             ]
            ],
            "type": "heatmap"
           }
          ],
          "histogram": [
           {
            "marker": {
             "pattern": {
              "fillmode": "overlay",
              "size": 10,
              "solidity": 0.2
             }
            },
            "type": "histogram"
           }
          ],
          "histogram2d": [
           {
            "colorbar": {
             "outlinewidth": 0,
             "ticks": ""
            },
            "colorscale": [
             [
              0,
              "#0d0887"
             ],
             [
              0.1111111111111111,
              "#46039f"
             ],
             [
              0.2222222222222222,
              "#7201a8"
             ],
             [
              0.3333333333333333,
              "#9c179e"
             ],
             [
              0.4444444444444444,
              "#bd3786"
             ],
             [
              0.5555555555555556,
              "#d8576b"
             ],
             [
              0.6666666666666666,
              "#ed7953"
             ],
             [
              0.7777777777777778,
              "#fb9f3a"
             ],
             [
              0.8888888888888888,
              "#fdca26"
             ],
             [
              1,
              "#f0f921"
             ]
            ],
            "type": "histogram2d"
           }
          ],
          "histogram2dcontour": [
           {
            "colorbar": {
             "outlinewidth": 0,
             "ticks": ""
            },
            "colorscale": [
             [
              0,
              "#0d0887"
             ],
             [
              0.1111111111111111,
              "#46039f"
             ],
             [
              0.2222222222222222,
              "#7201a8"
             ],
             [
              0.3333333333333333,
              "#9c179e"
             ],
             [
              0.4444444444444444,
              "#bd3786"
             ],
             [
              0.5555555555555556,
              "#d8576b"
             ],
             [
              0.6666666666666666,
              "#ed7953"
             ],
             [
              0.7777777777777778,
              "#fb9f3a"
             ],
             [
              0.8888888888888888,
              "#fdca26"
             ],
             [
              1,
              "#f0f921"
             ]
            ],
            "type": "histogram2dcontour"
           }
          ],
          "mesh3d": [
           {
            "colorbar": {
             "outlinewidth": 0,
             "ticks": ""
            },
            "type": "mesh3d"
           }
          ],
          "parcoords": [
           {
            "line": {
             "colorbar": {
              "outlinewidth": 0,
              "ticks": ""
             }
            },
            "type": "parcoords"
           }
          ],
          "pie": [
           {
            "automargin": true,
            "type": "pie"
           }
          ],
          "scatter": [
           {
            "fillpattern": {
             "fillmode": "overlay",
             "size": 10,
             "solidity": 0.2
            },
            "type": "scatter"
           }
          ],
          "scatter3d": [
           {
            "line": {
             "colorbar": {
              "outlinewidth": 0,
              "ticks": ""
             }
            },
            "marker": {
             "colorbar": {
              "outlinewidth": 0,
              "ticks": ""
             }
            },
            "type": "scatter3d"
           }
          ],
          "scattercarpet": [
           {
            "marker": {
             "colorbar": {
              "outlinewidth": 0,
              "ticks": ""
             }
            },
            "type": "scattercarpet"
           }
          ],
          "scattergeo": [
           {
            "marker": {
             "colorbar": {
              "outlinewidth": 0,
              "ticks": ""
             }
            },
            "type": "scattergeo"
           }
          ],
          "scattergl": [
           {
            "marker": {
             "colorbar": {
              "outlinewidth": 0,
              "ticks": ""
             }
            },
            "type": "scattergl"
           }
          ],
          "scattermap": [
           {
            "marker": {
             "colorbar": {
              "outlinewidth": 0,
              "ticks": ""
             }
            },
            "type": "scattermap"
           }
          ],
          "scattermapbox": [
           {
            "marker": {
             "colorbar": {
              "outlinewidth": 0,
              "ticks": ""
             }
            },
            "type": "scattermapbox"
           }
          ],
          "scatterpolar": [
           {
            "marker": {
             "colorbar": {
              "outlinewidth": 0,
              "ticks": ""
             }
            },
            "type": "scatterpolar"
           }
          ],
          "scatterpolargl": [
           {
            "marker": {
             "colorbar": {
              "outlinewidth": 0,
              "ticks": ""
             }
            },
            "type": "scatterpolargl"
           }
          ],
          "scatterternary": [
           {
            "marker": {
             "colorbar": {
              "outlinewidth": 0,
              "ticks": ""
             }
            },
            "type": "scatterternary"
           }
          ],
          "surface": [
           {
            "colorbar": {
             "outlinewidth": 0,
             "ticks": ""
            },
            "colorscale": [
             [
              0,
              "#0d0887"
             ],
             [
              0.1111111111111111,
              "#46039f"
             ],
             [
              0.2222222222222222,
              "#7201a8"
             ],
             [
              0.3333333333333333,
              "#9c179e"
             ],
             [
              0.4444444444444444,
              "#bd3786"
             ],
             [
              0.5555555555555556,
              "#d8576b"
             ],
             [
              0.6666666666666666,
              "#ed7953"
             ],
             [
              0.7777777777777778,
              "#fb9f3a"
             ],
             [
              0.8888888888888888,
              "#fdca26"
             ],
             [
              1,
              "#f0f921"
             ]
            ],
            "type": "surface"
           }
          ],
          "table": [
           {
            "cells": {
             "fill": {
              "color": "#EBF0F8"
             },
             "line": {
              "color": "white"
             }
            },
            "header": {
             "fill": {
              "color": "#C8D4E3"
             },
             "line": {
              "color": "white"
             }
            },
            "type": "table"
           }
          ]
         },
         "layout": {
          "annotationdefaults": {
           "arrowcolor": "#2a3f5f",
           "arrowhead": 0,
           "arrowwidth": 1
          },
          "autotypenumbers": "strict",
          "coloraxis": {
           "colorbar": {
            "outlinewidth": 0,
            "ticks": ""
           }
          },
          "colorscale": {
           "diverging": [
            [
             0,
             "#8e0152"
            ],
            [
             0.1,
             "#c51b7d"
            ],
            [
             0.2,
             "#de77ae"
            ],
            [
             0.3,
             "#f1b6da"
            ],
            [
             0.4,
             "#fde0ef"
            ],
            [
             0.5,
             "#f7f7f7"
            ],
            [
             0.6,
             "#e6f5d0"
            ],
            [
             0.7,
             "#b8e186"
            ],
            [
             0.8,
             "#7fbc41"
            ],
            [
             0.9,
             "#4d9221"
            ],
            [
             1,
             "#276419"
            ]
           ],
           "sequential": [
            [
             0,
             "#0d0887"
            ],
            [
             0.1111111111111111,
             "#46039f"
            ],
            [
             0.2222222222222222,
             "#7201a8"
            ],
            [
             0.3333333333333333,
             "#9c179e"
            ],
            [
             0.4444444444444444,
             "#bd3786"
            ],
            [
             0.5555555555555556,
             "#d8576b"
            ],
            [
             0.6666666666666666,
             "#ed7953"
            ],
            [
             0.7777777777777778,
             "#fb9f3a"
            ],
            [
             0.8888888888888888,
             "#fdca26"
            ],
            [
             1,
             "#f0f921"
            ]
           ],
           "sequentialminus": [
            [
             0,
             "#0d0887"
            ],
            [
             0.1111111111111111,
             "#46039f"
            ],
            [
             0.2222222222222222,
             "#7201a8"
            ],
            [
             0.3333333333333333,
             "#9c179e"
            ],
            [
             0.4444444444444444,
             "#bd3786"
            ],
            [
             0.5555555555555556,
             "#d8576b"
            ],
            [
             0.6666666666666666,
             "#ed7953"
            ],
            [
             0.7777777777777778,
             "#fb9f3a"
            ],
            [
             0.8888888888888888,
             "#fdca26"
            ],
            [
             1,
             "#f0f921"
            ]
           ]
          },
          "colorway": [
           "#636efa",
           "#EF553B",
           "#00cc96",
           "#ab63fa",
           "#FFA15A",
           "#19d3f3",
           "#FF6692",
           "#B6E880",
           "#FF97FF",
           "#FECB52"
          ],
          "font": {
           "color": "#2a3f5f"
          },
          "geo": {
           "bgcolor": "white",
           "lakecolor": "white",
           "landcolor": "#E5ECF6",
           "showlakes": true,
           "showland": true,
           "subunitcolor": "white"
          },
          "hoverlabel": {
           "align": "left"
          },
          "hovermode": "closest",
          "mapbox": {
           "style": "light"
          },
          "paper_bgcolor": "white",
          "plot_bgcolor": "#E5ECF6",
          "polar": {
           "angularaxis": {
            "gridcolor": "white",
            "linecolor": "white",
            "ticks": ""
           },
           "bgcolor": "#E5ECF6",
           "radialaxis": {
            "gridcolor": "white",
            "linecolor": "white",
            "ticks": ""
           }
          },
          "scene": {
           "xaxis": {
            "backgroundcolor": "#E5ECF6",
            "gridcolor": "white",
            "gridwidth": 2,
            "linecolor": "white",
            "showbackground": true,
            "ticks": "",
            "zerolinecolor": "white"
           },
           "yaxis": {
            "backgroundcolor": "#E5ECF6",
            "gridcolor": "white",
            "gridwidth": 2,
            "linecolor": "white",
            "showbackground": true,
            "ticks": "",
            "zerolinecolor": "white"
           },
           "zaxis": {
            "backgroundcolor": "#E5ECF6",
            "gridcolor": "white",
            "gridwidth": 2,
            "linecolor": "white",
            "showbackground": true,
            "ticks": "",
            "zerolinecolor": "white"
           }
          },
          "shapedefaults": {
           "line": {
            "color": "#2a3f5f"
           }
          },
          "ternary": {
           "aaxis": {
            "gridcolor": "white",
            "linecolor": "white",
            "ticks": ""
           },
           "baxis": {
            "gridcolor": "white",
            "linecolor": "white",
            "ticks": ""
           },
           "bgcolor": "#E5ECF6",
           "caxis": {
            "gridcolor": "white",
            "linecolor": "white",
            "ticks": ""
           }
          },
          "title": {
           "x": 0.05
          },
          "xaxis": {
           "automargin": true,
           "gridcolor": "white",
           "linecolor": "white",
           "ticks": "",
           "title": {
            "standoff": 15
           },
           "zerolinecolor": "white",
           "zerolinewidth": 2
          },
          "yaxis": {
           "automargin": true,
           "gridcolor": "white",
           "linecolor": "white",
           "ticks": "",
           "title": {
            "standoff": 15
           },
           "zerolinecolor": "white",
           "zerolinewidth": 2
          }
         }
        },
        "title": {
         "subtitle": {
          "text": "From 7,259 Providers, Data from May 8, 2025"
         },
         "text": "Average Monthly Income Distribution"
        },
        "xaxis": {
         "anchor": "y",
         "domain": [
          0,
          1
         ],
         "tickangle": -45,
         "title": {
          "text": "Average Monthly Income Bins"
         }
        },
        "yaxis": {
         "anchor": "x",
         "domain": [
          0,
          1
         ],
         "title": {
          "text": "Number of Providers"
         }
        }
       }
      },
      "text/html": [
       "<div>            <script src=\"https://cdnjs.cloudflare.com/ajax/libs/mathjax/2.7.5/MathJax.js?config=TeX-AMS-MML_SVG\"></script><script type=\"text/javascript\">if (window.MathJax && window.MathJax.Hub && window.MathJax.Hub.Config) {window.MathJax.Hub.Config({SVG: {font: \"STIX-Web\"}});}</script>                <script type=\"text/javascript\">window.PlotlyConfig = {MathJaxConfig: 'local'};</script>\n",
       "        <script charset=\"utf-8\" src=\"https://cdn.plot.ly/plotly-3.0.1.min.js\"></script>                <div id=\"4e78aece-5112-4cab-9fec-f0aae06b26fc\" class=\"plotly-graph-div\" style=\"height:525px; width:100%;\"></div>            <script type=\"text/javascript\">                window.PLOTLYENV=window.PLOTLYENV || {};                                if (document.getElementById(\"4e78aece-5112-4cab-9fec-f0aae06b26fc\")) {                    Plotly.newPlot(                        \"4e78aece-5112-4cab-9fec-f0aae06b26fc\",                        [{\"hovertemplate\":\"Average Monthly Income Range (THB)=%{x}\\u003cbr\\u003eNumber of Providers=%{marker.color}\\u003cextra\\u003e\\u003c\\u002fextra\\u003e\",\"legendgroup\":\"\",\"marker\":{\"color\":{\"dtype\":\"i2\",\"bdata\":\"CQ98BtUD4gG\\u002fAEAAFAALAAAAAQA=\"},\"coloraxis\":\"coloraxis\",\"pattern\":{\"shape\":\"\"}},\"name\":\"\",\"orientation\":\"v\",\"showlegend\":false,\"text\":{\"dtype\":\"f8\",\"bdata\":\"AAAAAAASrkAAAAAAAPCZQAAAAAAAqI5AAAAAAAAgfkAAAAAAAOBnQAAAAAAAAFBAAAAAAAAANEAAAAAAAAAmQAAAAAAAAAAAAAAAAAAA8D8=\"},\"textposition\":\"outside\",\"x\":[\"0 - 5,000\",\"5,000 - 10,000\",\"10,000 - 15,000\",\"15,000 - 20,000\",\"20,000 - 25,000\",\"25,000 - 30,000\",\"30,000 - 35,000\",\"35,000 - 40,000\",\"40,000 - 45,000\",\"45,000 - 50,000\"],\"xaxis\":\"x\",\"y\":{\"dtype\":\"i2\",\"bdata\":\"CQ98BtUD4gG\\u002fAEAAFAALAAAAAQA=\"},\"yaxis\":\"y\",\"type\":\"bar\"}],                        {\"template\":{\"data\":{\"histogram2dcontour\":[{\"type\":\"histogram2dcontour\",\"colorbar\":{\"outlinewidth\":0,\"ticks\":\"\"},\"colorscale\":[[0.0,\"#0d0887\"],[0.1111111111111111,\"#46039f\"],[0.2222222222222222,\"#7201a8\"],[0.3333333333333333,\"#9c179e\"],[0.4444444444444444,\"#bd3786\"],[0.5555555555555556,\"#d8576b\"],[0.6666666666666666,\"#ed7953\"],[0.7777777777777778,\"#fb9f3a\"],[0.8888888888888888,\"#fdca26\"],[1.0,\"#f0f921\"]]}],\"choropleth\":[{\"type\":\"choropleth\",\"colorbar\":{\"outlinewidth\":0,\"ticks\":\"\"}}],\"histogram2d\":[{\"type\":\"histogram2d\",\"colorbar\":{\"outlinewidth\":0,\"ticks\":\"\"},\"colorscale\":[[0.0,\"#0d0887\"],[0.1111111111111111,\"#46039f\"],[0.2222222222222222,\"#7201a8\"],[0.3333333333333333,\"#9c179e\"],[0.4444444444444444,\"#bd3786\"],[0.5555555555555556,\"#d8576b\"],[0.6666666666666666,\"#ed7953\"],[0.7777777777777778,\"#fb9f3a\"],[0.8888888888888888,\"#fdca26\"],[1.0,\"#f0f921\"]]}],\"heatmap\":[{\"type\":\"heatmap\",\"colorbar\":{\"outlinewidth\":0,\"ticks\":\"\"},\"colorscale\":[[0.0,\"#0d0887\"],[0.1111111111111111,\"#46039f\"],[0.2222222222222222,\"#7201a8\"],[0.3333333333333333,\"#9c179e\"],[0.4444444444444444,\"#bd3786\"],[0.5555555555555556,\"#d8576b\"],[0.6666666666666666,\"#ed7953\"],[0.7777777777777778,\"#fb9f3a\"],[0.8888888888888888,\"#fdca26\"],[1.0,\"#f0f921\"]]}],\"contourcarpet\":[{\"type\":\"contourcarpet\",\"colorbar\":{\"outlinewidth\":0,\"ticks\":\"\"}}],\"contour\":[{\"type\":\"contour\",\"colorbar\":{\"outlinewidth\":0,\"ticks\":\"\"},\"colorscale\":[[0.0,\"#0d0887\"],[0.1111111111111111,\"#46039f\"],[0.2222222222222222,\"#7201a8\"],[0.3333333333333333,\"#9c179e\"],[0.4444444444444444,\"#bd3786\"],[0.5555555555555556,\"#d8576b\"],[0.6666666666666666,\"#ed7953\"],[0.7777777777777778,\"#fb9f3a\"],[0.8888888888888888,\"#fdca26\"],[1.0,\"#f0f921\"]]}],\"surface\":[{\"type\":\"surface\",\"colorbar\":{\"outlinewidth\":0,\"ticks\":\"\"},\"colorscale\":[[0.0,\"#0d0887\"],[0.1111111111111111,\"#46039f\"],[0.2222222222222222,\"#7201a8\"],[0.3333333333333333,\"#9c179e\"],[0.4444444444444444,\"#bd3786\"],[0.5555555555555556,\"#d8576b\"],[0.6666666666666666,\"#ed7953\"],[0.7777777777777778,\"#fb9f3a\"],[0.8888888888888888,\"#fdca26\"],[1.0,\"#f0f921\"]]}],\"mesh3d\":[{\"type\":\"mesh3d\",\"colorbar\":{\"outlinewidth\":0,\"ticks\":\"\"}}],\"scatter\":[{\"fillpattern\":{\"fillmode\":\"overlay\",\"size\":10,\"solidity\":0.2},\"type\":\"scatter\"}],\"parcoords\":[{\"type\":\"parcoords\",\"line\":{\"colorbar\":{\"outlinewidth\":0,\"ticks\":\"\"}}}],\"scatterpolargl\":[{\"type\":\"scatterpolargl\",\"marker\":{\"colorbar\":{\"outlinewidth\":0,\"ticks\":\"\"}}}],\"bar\":[{\"error_x\":{\"color\":\"#2a3f5f\"},\"error_y\":{\"color\":\"#2a3f5f\"},\"marker\":{\"line\":{\"color\":\"#E5ECF6\",\"width\":0.5},\"pattern\":{\"fillmode\":\"overlay\",\"size\":10,\"solidity\":0.2}},\"type\":\"bar\"}],\"scattergeo\":[{\"type\":\"scattergeo\",\"marker\":{\"colorbar\":{\"outlinewidth\":0,\"ticks\":\"\"}}}],\"scatterpolar\":[{\"type\":\"scatterpolar\",\"marker\":{\"colorbar\":{\"outlinewidth\":0,\"ticks\":\"\"}}}],\"histogram\":[{\"marker\":{\"pattern\":{\"fillmode\":\"overlay\",\"size\":10,\"solidity\":0.2}},\"type\":\"histogram\"}],\"scattergl\":[{\"type\":\"scattergl\",\"marker\":{\"colorbar\":{\"outlinewidth\":0,\"ticks\":\"\"}}}],\"scatter3d\":[{\"type\":\"scatter3d\",\"line\":{\"colorbar\":{\"outlinewidth\":0,\"ticks\":\"\"}},\"marker\":{\"colorbar\":{\"outlinewidth\":0,\"ticks\":\"\"}}}],\"scattermap\":[{\"type\":\"scattermap\",\"marker\":{\"colorbar\":{\"outlinewidth\":0,\"ticks\":\"\"}}}],\"scattermapbox\":[{\"type\":\"scattermapbox\",\"marker\":{\"colorbar\":{\"outlinewidth\":0,\"ticks\":\"\"}}}],\"scatterternary\":[{\"type\":\"scatterternary\",\"marker\":{\"colorbar\":{\"outlinewidth\":0,\"ticks\":\"\"}}}],\"scattercarpet\":[{\"type\":\"scattercarpet\",\"marker\":{\"colorbar\":{\"outlinewidth\":0,\"ticks\":\"\"}}}],\"carpet\":[{\"aaxis\":{\"endlinecolor\":\"#2a3f5f\",\"gridcolor\":\"white\",\"linecolor\":\"white\",\"minorgridcolor\":\"white\",\"startlinecolor\":\"#2a3f5f\"},\"baxis\":{\"endlinecolor\":\"#2a3f5f\",\"gridcolor\":\"white\",\"linecolor\":\"white\",\"minorgridcolor\":\"white\",\"startlinecolor\":\"#2a3f5f\"},\"type\":\"carpet\"}],\"table\":[{\"cells\":{\"fill\":{\"color\":\"#EBF0F8\"},\"line\":{\"color\":\"white\"}},\"header\":{\"fill\":{\"color\":\"#C8D4E3\"},\"line\":{\"color\":\"white\"}},\"type\":\"table\"}],\"barpolar\":[{\"marker\":{\"line\":{\"color\":\"#E5ECF6\",\"width\":0.5},\"pattern\":{\"fillmode\":\"overlay\",\"size\":10,\"solidity\":0.2}},\"type\":\"barpolar\"}],\"pie\":[{\"automargin\":true,\"type\":\"pie\"}]},\"layout\":{\"autotypenumbers\":\"strict\",\"colorway\":[\"#636efa\",\"#EF553B\",\"#00cc96\",\"#ab63fa\",\"#FFA15A\",\"#19d3f3\",\"#FF6692\",\"#B6E880\",\"#FF97FF\",\"#FECB52\"],\"font\":{\"color\":\"#2a3f5f\"},\"hovermode\":\"closest\",\"hoverlabel\":{\"align\":\"left\"},\"paper_bgcolor\":\"white\",\"plot_bgcolor\":\"#E5ECF6\",\"polar\":{\"bgcolor\":\"#E5ECF6\",\"angularaxis\":{\"gridcolor\":\"white\",\"linecolor\":\"white\",\"ticks\":\"\"},\"radialaxis\":{\"gridcolor\":\"white\",\"linecolor\":\"white\",\"ticks\":\"\"}},\"ternary\":{\"bgcolor\":\"#E5ECF6\",\"aaxis\":{\"gridcolor\":\"white\",\"linecolor\":\"white\",\"ticks\":\"\"},\"baxis\":{\"gridcolor\":\"white\",\"linecolor\":\"white\",\"ticks\":\"\"},\"caxis\":{\"gridcolor\":\"white\",\"linecolor\":\"white\",\"ticks\":\"\"}},\"coloraxis\":{\"colorbar\":{\"outlinewidth\":0,\"ticks\":\"\"}},\"colorscale\":{\"sequential\":[[0.0,\"#0d0887\"],[0.1111111111111111,\"#46039f\"],[0.2222222222222222,\"#7201a8\"],[0.3333333333333333,\"#9c179e\"],[0.4444444444444444,\"#bd3786\"],[0.5555555555555556,\"#d8576b\"],[0.6666666666666666,\"#ed7953\"],[0.7777777777777778,\"#fb9f3a\"],[0.8888888888888888,\"#fdca26\"],[1.0,\"#f0f921\"]],\"sequentialminus\":[[0.0,\"#0d0887\"],[0.1111111111111111,\"#46039f\"],[0.2222222222222222,\"#7201a8\"],[0.3333333333333333,\"#9c179e\"],[0.4444444444444444,\"#bd3786\"],[0.5555555555555556,\"#d8576b\"],[0.6666666666666666,\"#ed7953\"],[0.7777777777777778,\"#fb9f3a\"],[0.8888888888888888,\"#fdca26\"],[1.0,\"#f0f921\"]],\"diverging\":[[0,\"#8e0152\"],[0.1,\"#c51b7d\"],[0.2,\"#de77ae\"],[0.3,\"#f1b6da\"],[0.4,\"#fde0ef\"],[0.5,\"#f7f7f7\"],[0.6,\"#e6f5d0\"],[0.7,\"#b8e186\"],[0.8,\"#7fbc41\"],[0.9,\"#4d9221\"],[1,\"#276419\"]]},\"xaxis\":{\"gridcolor\":\"white\",\"linecolor\":\"white\",\"ticks\":\"\",\"title\":{\"standoff\":15},\"zerolinecolor\":\"white\",\"automargin\":true,\"zerolinewidth\":2},\"yaxis\":{\"gridcolor\":\"white\",\"linecolor\":\"white\",\"ticks\":\"\",\"title\":{\"standoff\":15},\"zerolinecolor\":\"white\",\"automargin\":true,\"zerolinewidth\":2},\"scene\":{\"xaxis\":{\"backgroundcolor\":\"#E5ECF6\",\"gridcolor\":\"white\",\"linecolor\":\"white\",\"showbackground\":true,\"ticks\":\"\",\"zerolinecolor\":\"white\",\"gridwidth\":2},\"yaxis\":{\"backgroundcolor\":\"#E5ECF6\",\"gridcolor\":\"white\",\"linecolor\":\"white\",\"showbackground\":true,\"ticks\":\"\",\"zerolinecolor\":\"white\",\"gridwidth\":2},\"zaxis\":{\"backgroundcolor\":\"#E5ECF6\",\"gridcolor\":\"white\",\"linecolor\":\"white\",\"showbackground\":true,\"ticks\":\"\",\"zerolinecolor\":\"white\",\"gridwidth\":2}},\"shapedefaults\":{\"line\":{\"color\":\"#2a3f5f\"}},\"annotationdefaults\":{\"arrowcolor\":\"#2a3f5f\",\"arrowhead\":0,\"arrowwidth\":1},\"geo\":{\"bgcolor\":\"white\",\"landcolor\":\"#E5ECF6\",\"subunitcolor\":\"white\",\"showland\":true,\"showlakes\":true,\"lakecolor\":\"white\"},\"title\":{\"x\":0.05},\"mapbox\":{\"style\":\"light\"}}},\"xaxis\":{\"anchor\":\"y\",\"domain\":[0.0,1.0],\"title\":{\"text\":\"Average Monthly Income Bins\"},\"tickangle\":-45},\"yaxis\":{\"anchor\":\"x\",\"domain\":[0.0,1.0],\"title\":{\"text\":\"Number of Providers\"}},\"coloraxis\":{\"colorbar\":{\"title\":{\"text\":\"Number of Providers\"}},\"colorscale\":[[0.0,\"#0d0887\"],[0.1111111111111111,\"#46039f\"],[0.2222222222222222,\"#7201a8\"],[0.3333333333333333,\"#9c179e\"],[0.4444444444444444,\"#bd3786\"],[0.5555555555555556,\"#d8576b\"],[0.6666666666666666,\"#ed7953\"],[0.7777777777777778,\"#fb9f3a\"],[0.8888888888888888,\"#fdca26\"],[1.0,\"#f0f921\"]]},\"legend\":{\"tracegroupgap\":0},\"title\":{\"subtitle\":{\"text\":\"From 7,259 Providers, Data from May 8, 2025\"},\"text\":\"Average Monthly Income Distribution\"},\"barmode\":\"relative\",\"font\":{\"color\":\"white\"},\"plot_bgcolor\":\"#10041c\",\"paper_bgcolor\":\"#10041c\"},                        {\"responsive\": true}                    ).then(function(){\n",
       "                            \n",
       "var gd = document.getElementById('4e78aece-5112-4cab-9fec-f0aae06b26fc');\n",
       "var x = new MutationObserver(function (mutations, observer) {{\n",
       "        var display = window.getComputedStyle(gd).display;\n",
       "        if (!display || display === 'none') {{\n",
       "            console.log([gd, 'removed!']);\n",
       "            Plotly.purge(gd);\n",
       "            observer.disconnect();\n",
       "        }}\n",
       "}});\n",
       "\n",
       "// Listen for the removal of the full notebook cells\n",
       "var notebookContainer = gd.closest('#notebook-container');\n",
       "if (notebookContainer) {{\n",
       "    x.observe(notebookContainer, {childList: true});\n",
       "}}\n",
       "\n",
       "// Listen for the clearing of the current output cell\n",
       "var outputEl = gd.closest('.output');\n",
       "if (outputEl) {{\n",
       "    x.observe(outputEl, {childList: true});\n",
       "}}\n",
       "\n",
       "                        })                };            </script>        </div>"
      ]
     },
     "metadata": {},
     "output_type": "display_data"
    }
   ],
   "source": [
    "# Define clear, round bins for income\n",
    "bins = [0, 5000, 10000, 15000, 20000, 25000, 30000, 35000, 40000, 45000, 50000]\n",
    "labels = [f'{bins[i]:,} - {bins[i+1]:,}' for i in range(len(bins)-1)]\n",
    "\n",
    "# Use pd.cut to create custom bins\n",
    "df['income_bin'] = pd.cut(df['avg_income_per_month'], bins=bins, labels=labels, right=False, include_lowest=True)\n",
    "\n",
    "# Get the counts for the new bins\n",
    "income_counts = df['income_bin'].value_counts().reset_index()\n",
    "income_counts.columns = ['income_range', 'count']\n",
    "\n",
    "# Sort the ranges for plotting\n",
    "income_counts = income_counts.sort_values('income_range').reset_index(drop=True)\n",
    "\n",
    "# Plotly income_counts for use in Executive presentation\n",
    "fig = px.bar(\n",
    "    income_counts,\n",
    "    x='income_range',\n",
    "    y='count',\n",
    "    text='count',\n",
    "    title='Average Monthly Income Distribution',\n",
    "    subtitle='From 7,259 Providers, Data from May 8, 2025',\n",
    "    labels={'income_range': 'Average Monthly Income Range (THB)', 'count': 'Number of Providers'},\n",
    "    color='count',\n",
    "    color_continuous_scale=px.colors.sequential.Plasma\n",
    ")\n",
    "\n",
    "fig.update_traces(textposition='outside')\n",
    "fig.update_layout(\n",
    "    xaxis_title='Average Monthly Income Bins',\n",
    "    yaxis_title='Number of Providers',\n",
    "    xaxis_tickangle=-45\n",
    ")\n",
    "\n",
    "# Apply the dark\n",
    "fig = apply_dark_theme(fig)\n",
    "fig.show()"
   ]
  }
 ],
 "metadata": {
  "kernelspec": {
   "display_name": "venv",
   "language": "python",
   "name": "python3"
  },
  "language_info": {
   "codemirror_mode": {
    "name": "ipython",
    "version": 3
   },
   "file_extension": ".py",
   "mimetype": "text/x-python",
   "name": "python",
   "nbconvert_exporter": "python",
   "pygments_lexer": "ipython3",
   "version": "3.13.3"
  }
 },
 "nbformat": 4,
 "nbformat_minor": 5
}
